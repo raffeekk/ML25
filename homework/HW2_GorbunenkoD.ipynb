{
  "cells": [
    {
      "cell_type": "markdown",
      "metadata": {
        "id": "view-in-github",
        "colab_type": "text"
      },
      "source": [
        "<a href=\"https://colab.research.google.com/github/raffeekk/ML25/blob/main/homework/HW2_GorbunenkoD.ipynb\" target=\"_parent\"><img src=\"https://colab.research.google.com/assets/colab-badge.svg\" alt=\"Open In Colab\"/></a>"
      ]
    },
    {
      "cell_type": "markdown",
      "metadata": {
        "id": "TqQtzYNjuEJc"
      },
      "source": [
        "# Практическое задание 2\n",
        "\n",
        "## Общая информация\n",
        "\n",
        "Дата выдачи: 11.10.2016\n",
        "\n",
        "Срок сдачи: 24.10.2016 23:59MSK\n",
        "\n",
        "### О задании\n",
        "На сайтах для поиска работы можно найти сотни тысяч объявлений, каждое из которых состоит из пространного описания вакансии и предлагаемой зарплаты. Есть ли связь между описанием и зарплатой? Существуют ли определенные слова, которые наиболее сильно характеризуют зарплату? Можно ли найти другие информативные факторы? Вам предстоит ответить на эти вопросы, проанализировав выборку объявлений о работе в Великобритании.\n",
        "\n",
        "Практическое задание 2 посвящено работе с текстовыми данными и категориальными признаками и задачам бинарной классификации. Вы научитесь:\n",
        " * работать с категориальными признаками;\n",
        " * строить вещественные представления текстовых данных;\n",
        " * обучать и строить прогнозы линейных классификаторов при помощи scikit-learn и Vowpal Wabbit;\n",
        " * тестировать модели и проводить оценку качества в задачах бинарной классификации.\n",
        "\n",
        "\n",
        "### Оценивание и штрафы\n",
        "\n",
        "Каждая из задач имеет определенную «стоимость» (указана в скобках около задачи). Максимально допустимая оценка за работу — 10 баллов. Кроме того, некоторые из заданий являются опциональными (необязательными), однако за их выполнение можно получить дополнительные баллы, которые позднее будут учитываться при проставлении оценок автоматом по курсу.\n",
        "\n",
        "Сдавать задание после указанного срока сдачи нельзя. При выставлении неполного балла за задание в связи с наличием ошибок на усмотрение проверяющего предусмотрена возможность исправить работу на указанных в ответном письме условиях.\n",
        "\n",
        "Задание выполняется самостоятельно. «Похожие» решения считаются плагиатом и все задействованные студенты (в том числе те, у кого списали) не могут получить за него больше 0 баллов (подробнее о плагиате см. на странице курса). Если вы нашли решение какого-то из заданий (или его часть) в открытом источнике, необходимо указать ссылку на этот источник в отдельном блоке в конце Вашей работы (скорее всего вы будете не единственным, кто это нашел, поэтому чтобы исключить подозрение в плагиате, необходима ссылка на источник).\n",
        "\n",
        "Неэффективная реализация кода может негативно отразиться на оценке.\n",
        "\n",
        "### Формат сдачи\n",
        "Для сдачи задания переименуйте получившийся файл \\*.ipynb в соответствии со следующим форматом: *HW2_Username.ipynb*, где *Username* — Ваша фамилия и инициалы на латинице (например, *HW2_IvanovII.ipynb*). Далее отправьте этот файл на enkalaidin@gmail.com ."
      ]
    },
    {
      "cell_type": "markdown",
      "metadata": {
        "id": "iIfX_QACuEJe"
      },
      "source": [
        "## Данные\n",
        "\n",
        "Как было упомянуто ранее, в рамках данного задания мы будем решать задачу бинарной классификации для предсказания уровня заработной платы по тексту объявления о вакансии на примере набора данных с соревнования [Adzuna - Job Salary Prediction](https://www.kaggle.com/c/job-salary-prediction). Для начала пройдите по [ссылке](https://www.kaggle.com/c/job-salary-prediction/data) и скачайте файл Train_rev1 (при необходимости, зарегистрируйтесь на Kaggle).\n",
        "\n",
        "Посмотрим на данные в файле и загрузим их в DataFrame:"
      ]
    },
    {
      "cell_type": "code",
      "execution_count": 10,
      "metadata": {
        "id": "LVoMm9GuuEJe"
      },
      "outputs": [],
      "source": [
        "import pandas as pd\n",
        "import numpy as np\n",
        "import matplotlib.pyplot as plt\n",
        "from sklearn.model_selection import train_test_split\n",
        "from sklearn.feature_extraction.text import CountVectorizer, TfidfVectorizer\n",
        "from sklearn.linear_model import LogisticRegression\n",
        "from sklearn.metrics import roc_auc_score, f1_score, confusion_matrix"
      ]
    },
    {
      "cell_type": "code",
      "execution_count": 3,
      "metadata": {
        "scrolled": false,
        "colab": {
          "base_uri": "https://localhost:8080/"
        },
        "id": "vPTyr4j2uEJf",
        "outputId": "5c90f606-3063-4767-dd98-ffbe23a68987"
      },
      "outputs": [
        {
          "output_type": "stream",
          "name": "stdout",
          "text": [
            "head: cannot open 'Train_rev1.csv' for reading: No such file or directory\n"
          ]
        }
      ],
      "source": [
        "# print first 2 rows from Train_rev1.csv\n",
        "!head -n 2 Train_rev1.csv"
      ]
    },
    {
      "cell_type": "code",
      "execution_count": 11,
      "metadata": {
        "colab": {
          "base_uri": "https://localhost:8080/"
        },
        "id": "8SAL97DJuEJg",
        "outputId": "c261ba39-606f-41b5-c09a-4827c0a887fa"
      },
      "outputs": [
        {
          "output_type": "stream",
          "name": "stdout",
          "text": [
            "Размер датасета: (244768, 12)\n",
            "\n",
            "Первые 5 строк датасета:\n",
            "         Id                                              Title  \\\n",
            "0  12612628                        Engineering Systems Analyst   \n",
            "1  12612830                            Stress Engineer Glasgow   \n",
            "2  12612844                   Modelling and simulation analyst   \n",
            "3  12613049  Engineering Systems Analyst / Mathematical Mod...   \n",
            "4  12613647         Pioneer, Miser Engineering Systems Analyst   \n",
            "\n",
            "                                     FullDescription  \\\n",
            "0  Engineering Systems Analyst Dorking Surrey Sal...   \n",
            "1  Stress Engineer Glasgow Salary **** to **** We...   \n",
            "2  Mathematical Modeller / Simulation Analyst / O...   \n",
            "3  Engineering Systems Analyst / Mathematical Mod...   \n",
            "4  Pioneer, Miser  Engineering Systems Analyst Do...   \n",
            "\n",
            "                         LocationRaw LocationNormalized ContractType  \\\n",
            "0            Dorking, Surrey, Surrey            Dorking          NaN   \n",
            "1        Glasgow, Scotland, Scotland            Glasgow          NaN   \n",
            "2  Hampshire, South East, South East          Hampshire          NaN   \n",
            "3     Surrey, South East, South East             Surrey          NaN   \n",
            "4     Surrey, South East, South East             Surrey          NaN   \n",
            "\n",
            "  ContractTime                       Company          Category  \\\n",
            "0    permanent  Gregory Martin International  Engineering Jobs   \n",
            "1    permanent  Gregory Martin International  Engineering Jobs   \n",
            "2    permanent  Gregory Martin International  Engineering Jobs   \n",
            "3    permanent  Gregory Martin International  Engineering Jobs   \n",
            "4    permanent  Gregory Martin International  Engineering Jobs   \n",
            "\n",
            "                                SalaryRaw  SalaryNormalized        SourceName  \n",
            "0              20000 - 30000/annum 20-30K             25000  cv-library.co.uk  \n",
            "1              25000 - 35000/annum 25-35K             30000  cv-library.co.uk  \n",
            "2              20000 - 40000/annum 20-40K             30000  cv-library.co.uk  \n",
            "3  25000 - 30000/annum 25K-30K negotiable             27500  cv-library.co.uk  \n",
            "4              20000 - 30000/annum 20-30K             25000  cv-library.co.uk  \n"
          ]
        }
      ],
      "source": [
        "# Загрузка данных\n",
        "df = pd.read_csv(\"https://media.githubusercontent.com/media/raffeekk/ML25/refs/heads/main/Train_rev1.csv\", sep=',')\n",
        "print(f\"Размер датасета: {df.shape}\")\n",
        "print(\"\\nПервые 5 строк датасета:\")\n",
        "print(df.head())"
      ]
    },
    {
      "cell_type": "markdown",
      "metadata": {
        "id": "wncDylK0uEJg"
      },
      "source": [
        "В оригинальной постановке предлагается рассматривать признак SalaryNormalized как целевой и решать задачу регрессии, однако в рамках данного задания мы сведём её к задаче бинарной классификации, разделив объекты на 2 группы: объявления о вакансиях с низкой и высокой зарплатами соответственно.\n",
        "\n",
        "<img src = \"http://salt.uaa.alaska.edu/kath/kti/mean_median2.gif\">\n",
        "\n",
        "В качестве порога разбиения объектов на группы будем рассматривать медиану признака SalaryNormalized. Заметим, что таким образом мы автоматически получим задачу классификации со сбалансированными классами:"
      ]
    },
    {
      "cell_type": "code",
      "execution_count": 12,
      "metadata": {
        "colab": {
          "base_uri": "https://localhost:8080/",
          "height": 848
        },
        "id": "Kj4JtwHyuEJh",
        "outputId": "f023fd96-6815-4d5e-856c-d4f25fd3e4be"
      },
      "outputs": [
        {
          "output_type": "display_data",
          "data": {
            "text/plain": [
              "<Figure size 1600x800 with 1 Axes>"
            ],
            "image/png": "[encoded data removed]"
          },
          "metadata": {}
        },
        {
          "output_type": "stream",
          "name": "stdout",
          "text": [
            "\n",
            "Распределение классов после бинаризации:\n",
            "SalaryNormalized\n",
            "0    0.515545\n",
            "1    0.484455\n",
            "Name: proportion, dtype: float64\n"
          ]
        }
      ],
      "source": [
        "# Построение гистограммы зарплат\n",
        "plt.figure(figsize=(16, 8))\n",
        "median = np.median(df['SalaryNormalized'])\n",
        "\n",
        "# Строим гистограмму\n",
        "plt.hist(df['SalaryNormalized'], bins=50, alpha=0.7, color='blue')\n",
        "plt.axvline(median, color='red', linestyle='--', linewidth=2, label=f'Медиана: {median:.2f}')\n",
        "\n",
        "# Настройка осей и сетки\n",
        "plt.xlabel('Зарплата', fontsize=14)\n",
        "plt.ylabel('Количество вакансий', fontsize=14)\n",
        "plt.title('Распределение зарплат', fontsize=16)\n",
        "plt.grid(True, alpha=0.3)\n",
        "plt.legend(fontsize=12)\n",
        "\n",
        "# Добавляем аннотацию с медианой\n",
        "plt.annotate(f'Медиана: {median:.2f}',\n",
        "            xy=(median, 0),\n",
        "            xytext=(median + 5000, 1000),\n",
        "            arrowprops=dict(facecolor='black', shrink=0.05),\n",
        "            fontsize=12)\n",
        "\n",
        "plt.tight_layout()\n",
        "plt.show()\n",
        "\n",
        "# Разделение на высокую и низкую зарплату по медиане\n",
        "df['SalaryNormalized'] = (df['SalaryNormalized'] > median).astype(int)\n",
        "df.drop('SalaryRaw', axis=1, inplace=True)\n",
        "\n",
        "# Проверка баланса классов\n",
        "print(\"\\nРаспределение классов после бинаризации:\")\n",
        "print(df['SalaryNormalized'].value_counts(normalize=True))"
      ]
    },
    {
      "cell_type": "markdown",
      "metadata": {
        "id": "PNruhrRHuEJh"
      },
      "source": [
        "Осуществим последние шаги по подготовке датасета:\n",
        "- бинаризуем признак SalaryNomalized по описанному ранее порогу;\n",
        "- исключим из выборки признак SalaryRaw, чтобы устранить утечку целевой переменной в признаки."
      ]
    },
    {
      "cell_type": "code",
      "execution_count": 14,
      "metadata": {
        "id": "0Twf2ShhuEJi"
      },
      "outputs": [],
      "source": [
        "median = np.median(df['SalaryNormalized'])\n",
        "df['SalaryNormalized'] = (df['SalaryNormalized'] > median).astype(int)\n"
      ]
    },
    {
      "cell_type": "markdown",
      "metadata": {
        "id": "17_hW3OmuEJj"
      },
      "source": [
        "#### 1. (0 баллов) Разбейте получившуюся выборку на обучающую и контрольную в соотношении 70/30 с использованием перемешивания объектов.\n",
        "\n",
        "При разбиении используйте значение параметра random_state=42."
      ]
    },
    {
      "cell_type": "code",
      "execution_count": 15,
      "metadata": {
        "colab": {
          "base_uri": "https://localhost:8080/"
        },
        "id": "wnCoN-8xuEJj",
        "outputId": "378aa997-dd9d-4d69-d383-bf9b6a60d3fa"
      },
      "outputs": [
        {
          "output_type": "stream",
          "name": "stdout",
          "text": [
            "\n",
            "Размер обучающей выборки: (171337, 10)\n",
            "Размер контрольной выборки: (73431, 10)\n"
          ]
        }
      ],
      "source": [
        "# Your code here\n",
        "X = df.drop('SalaryNormalized', axis=1)\n",
        "y = df['SalaryNormalized']\n",
        "X_train, X_test, y_train, y_test = train_test_split(X, y, test_size=0.3, random_state=42, shuffle=True)\n",
        "\n",
        "print(f\"\\nРазмер обучающей выборки: {X_train.shape}\")\n",
        "print(f\"Размер контрольной выборки: {X_test.shape}\")\n"
      ]
    },
    {
      "cell_type": "markdown",
      "metadata": {
        "id": "DI-3XeqjuEJk"
      },
      "source": [
        "## Векторизация\n",
        "\n",
        "Как правило, модели, используемые в машинном обучении, применяются в предположении, что матрица \"объект-признак\" является вещественнозначной. Поэтому при работе с категориальными признаками и текстами сперва их необходимо привести к вещественному виду.\n",
        "\n",
        "Заметим, что в нашей задаче есть признаки, являющиеся текстами произвольной природы (Title, FullDescription), и категориальные признаки, принимающие ограниченное число значений (ContractType, Category и др.).\n",
        "\n",
        "Самый простой и понятный способ преобразования текстовых данных — векторизация. В этом случае для каждого слова, встречающегося в некотором набре текстов мы создаём отдельный новый признак, который будет равен $1$, когда слово встречается в заданном объекте, и $0$ – в противном случае.\n",
        "\n",
        "#### 2. (0.5 балла) Создайте текстовое описание объектов обучающей и контрольной выборок, объединив значения всех признаков каждого объекта выборки через символы пробела. После этого получите признаковое описание объектов, осуществив векторизацию получившихся текстов при помощи [CountVectorizer](http://scikit-learn.org/stable/modules/generated/sklearn.feature_extraction.text.CountVectorizer.html), обучив его на обучающей выборке и применив на контрольной."
      ]
    },
    {
      "cell_type": "code",
      "execution_count": 16,
      "metadata": {
        "collapsed": true,
        "id": "DkrFl_bquEJk"
      },
      "outputs": [],
      "source": [
        "# Your code here\n",
        "# Объединяем все признаки в одну строку\n",
        "X_train_text = X_train.apply(lambda x: ' '.join(x.astype(str)), axis=1)\n",
        "X_test_text = X_test.apply(lambda x: ' '.join(x.astype(str)), axis=1)\n",
        "\n",
        "# Создаем и обучаем CountVectorizer\n",
        "vectorizer = CountVectorizer()\n",
        "X_train_vectorized = vectorizer.fit_transform(X_train_text)\n",
        "X_test_vectorized = vectorizer.transform(X_test_text)"
      ]
    },
    {
      "cell_type": "markdown",
      "metadata": {
        "id": "N3gM5NVbuEJk"
      },
      "source": [
        "#### 3. (1.5 балла) Обучите следующие модели на обучающей выборке:\n",
        " - [логистическую регрессию](http://scikit-learn.org/stable/modules/generated/sklearn.linear_model.LogisticRegression.html) из модуля sklearn с параметрами по умолчанию;\n",
        " - логистическую регрессию при помощи Vowpal Wabbit с параметрами по умолчанию."
      ]
    },
    {
      "cell_type": "code",
      "execution_count": null,
      "metadata": {
        "collapsed": true,
        "colab": {
          "base_uri": "https://localhost:8080/"
        },
        "id": "JmAgwmORuEJl",
        "outputId": "822eb69b-4b0a-4d21-b096-9916abf8fd53"
      },
      "outputs": [
        {
          "output_type": "stream",
          "name": "stderr",
          "text": [
            "/usr/local/lib/python3.11/dist-packages/sklearn/linear_model/_logistic.py:465: ConvergenceWarning: lbfgs failed to converge (status=1):\n",
            "STOP: TOTAL NO. of ITERATIONS REACHED LIMIT.\n",
            "\n",
            "Increase the number of iterations (max_iter) or scale the data as shown in:\n",
            "    https://scikit-learn.org/stable/modules/preprocessing.html\n",
            "Please also refer to the documentation for alternative solver options:\n",
            "    https://scikit-learn.org/stable/modules/linear_model.html#logistic-regression\n",
            "  n_iter_i = _check_optimize_result(\n"
          ]
        }
      ],
      "source": [
        "# Your code here\n",
        "from google.colab import files\n",
        "# Логистическая регрессия из sklearn\n",
        "lr_sklearn = LogisticRegression(random_state=42)\n",
        "lr_sklearn.fit(X_train_vectorized, y_train)\n",
        "\n",
        "# Для Vowpal Wabbit нужно сохранить данные в формат VW\n",
        "# Создаем файлы для VW\n",
        "def save_to_vw_format(X, y, filename):\n",
        "    with open(filename, 'w') as f:\n",
        "        for i in range(len(X)):\n",
        "            features = ' '.join([f\"{j+1}:{val}\" for j, val in enumerate(X[i])])\n",
        "            f.write(f\"{y[i]} | {features}\\n\")\n",
        "\n",
        "save_to_vw_format(X_train_vectorized.toarray(), y_train, 'train.vw')\n",
        "save_to_vw_format(X_test_vectorized.toarray(), y_test, 'test.vw')\n",
        "files.download('train.vw')\n",
        "files.download('test.vw')"
      ]
    },
    {
      "cell_type": "markdown",
      "metadata": {
        "id": "Cheoxzg-uEJl"
      },
      "source": [
        "#### 4. (0.5 балла) Вычислите значения ROC-AUC, [F-меры](http://scikit-learn.org/stable/modules/generated/sklearn.metrics.f1_score.html), а также постройте [матрицу ошибок](http://scikit-learn.org/stable/modules/generated/sklearn.metrics.confusion_matrix.html) для каждой из построенных в п. 3 моделей на контрольной выборке. Сравните построенные модели по качеству их работы."
      ]
    },
    {
      "cell_type": "code",
      "execution_count": 1,
      "metadata": {
        "collapsed": true,
        "colab": {
          "base_uri": "https://localhost:8080/",
          "height": 216
        },
        "id": "XoQA8anHuEJm",
        "outputId": "69f725df-c096-43ce-c53d-8e364dabe890"
      },
      "outputs": [
        {
          "output_type": "error",
          "ename": "NameError",
          "evalue": "name 'lr_sklearn' is not defined",
          "traceback": [
            "\u001b[0;31m---------------------------------------------------------------------------\u001b[0m",
            "\u001b[0;31mNameError\u001b[0m                                 Traceback (most recent call last)",
            "\u001b[0;32m<ipython-input-1-68782157bfc4>\u001b[0m in \u001b[0;36m<cell line: 0>\u001b[0;34m()\u001b[0m\n\u001b[1;32m      1\u001b[0m \u001b[0;31m# Your code here\u001b[0m\u001b[0;34m\u001b[0m\u001b[0;34m\u001b[0m\u001b[0m\n\u001b[1;32m      2\u001b[0m \u001b[0;31m# Для sklearn модели\u001b[0m\u001b[0;34m\u001b[0m\u001b[0;34m\u001b[0m\u001b[0m\n\u001b[0;32m----> 3\u001b[0;31m \u001b[0my_pred_sklearn\u001b[0m \u001b[0;34m=\u001b[0m \u001b[0mlr_sklearn\u001b[0m\u001b[0;34m.\u001b[0m\u001b[0mpredict\u001b[0m\u001b[0;34m(\u001b[0m\u001b[0mX_test_vectorized\u001b[0m\u001b[0;34m)\u001b[0m\u001b[0;34m\u001b[0m\u001b[0;34m\u001b[0m\u001b[0m\n\u001b[0m\u001b[1;32m      4\u001b[0m \u001b[0my_prob_sklearn\u001b[0m \u001b[0;34m=\u001b[0m \u001b[0mlr_sklearn\u001b[0m\u001b[0;34m.\u001b[0m\u001b[0mpredict_proba\u001b[0m\u001b[0;34m(\u001b[0m\u001b[0mX_test_vectorized\u001b[0m\u001b[0;34m)\u001b[0m\u001b[0;34m[\u001b[0m\u001b[0;34m:\u001b[0m\u001b[0;34m,\u001b[0m \u001b[0;36m1\u001b[0m\u001b[0;34m]\u001b[0m\u001b[0;34m\u001b[0m\u001b[0;34m\u001b[0m\u001b[0m\n\u001b[1;32m      5\u001b[0m \u001b[0;34m\u001b[0m\u001b[0m\n",
            "\u001b[0;31mNameError\u001b[0m: name 'lr_sklearn' is not defined"
          ]
        }
      ],
      "source": [
        "# Your code here\n",
        "# Для sklearn модели\n",
        "y_pred_sklearn = lr_sklearn.predict(X_test_vectorized)\n",
        "y_prob_sklearn = lr_sklearn.predict_proba(X_test_vectorized)[:, 1]\n",
        "\n",
        "print(\"\\nМетрики для sklearn модели:\")\n",
        "print(f\"ROC-AUC: {roc_auc_score(y_test, y_prob_sklearn):.4f}\")\n",
        "print(f\"F1-score: {f1_score(y_test, y_pred_sklearn):.4f}\")\n",
        "print(\"\\nМатрица ошибок:\")\n",
        "print(confusion_matrix(y_test, y_pred_sklearn))"
      ]
    },
    {
      "cell_type": "markdown",
      "metadata": {
        "id": "u_CazhO6uEJm"
      },
      "source": [
        "#### 5. (1 балл) Отсортируйте веса признаков для модели логистической регрессии из scikit-learn, полученной в п. 2. Какие слова из встречающихся в выборке имеют наибольшее/наименьшее влияние на значение целевой переменной? Проинтерпретируйте полученный результат."
      ]
    },
    {
      "cell_type": "code",
      "execution_count": null,
      "metadata": {
        "collapsed": true,
        "id": "xvTni5FIuEJm"
      },
      "outputs": [],
      "source": [
        "# Your code here\n",
        "feature_names = vectorizer.get_feature_names_out()\n",
        "weights = lr_sklearn.coef_[0]\n",
        "feature_weights = list(zip(feature_names, weights))\n",
        "feature_weights.sort(key=lambda x: x[1], reverse=True)\n",
        "\n",
        "print(\"\\nТоп-10 слов с наибольшим положительным влиянием:\")\n",
        "for word, weight in feature_weights[:10]:\n",
        "    print(f\"{word}: {weight:.4f}\")\n",
        "\n",
        "print(\"\\nТоп-10 слов с наибольшим отрицательным влиянием:\")\n",
        "for word, weight in feature_weights[-10:]:\n",
        "    print(f\"{word}: {weight:.4f}\")"
      ]
    },
    {
      "cell_type": "markdown",
      "metadata": {
        "id": "QI5pNBHNuEJn"
      },
      "source": [
        "#### 6. (0.5 доп. балла) Отсортируйте веса признаков для модели логистической регрессии, полученной в п. 2 при помощи Vowpal Wabbit. Какие слова из встречающихся в выборке имеют наибольшее/наименьшее влияние на значение целевой переменной? Проинтерпретирйте полученный результат."
      ]
    },
    {
      "cell_type": "code",
      "execution_count": null,
      "metadata": {
        "collapsed": true,
        "id": "-yOqjGWouEJn"
      },
      "outputs": [],
      "source": [
        "# Your code here"
      ]
    },
    {
      "cell_type": "markdown",
      "metadata": {
        "id": "uv_uJ89nuEJn"
      },
      "source": [
        "## TF-IDF\n",
        "\n",
        "Ещё один способ работы с текстовыми данными — [TF-IDF](https://en.wikipedia.org/wiki/Tf–idf) (**T**erm **F**requency–**I**nverse **D**ocument **F**requency). Рассмотрим коллекцию текстов $D$.  Для каждого уникального слова $t$ из документа $d \\in D$ вычислим следующие величины:\n",
        "\n",
        "1. Term Frequency – количество вхождений слова в отношении к общему числу слов в тексте:\n",
        "$$\\text{tf}(t, d) = \\frac{n_{td}}{\\sum_{t \\in d} n_{td}},$$\n",
        "где $n_{td}$ — количество вхождений слова $t$ в текст $d$.\n",
        "1. Inverse Document Frequency\n",
        "$$\\text{idf}(t, D) = \\log \\frac{\\left| D \\right|}{\\left| \\{d\\in D: t \\in d\\} \\right|},$$\n",
        "где $\\left| \\{d\\in D: t \\in d\\} \\right|$ – количество текстов в коллекции, содержащих слово $t$.\n",
        "\n",
        "Тогда для каждой пары (слово, текст) $(t, d)$ вычислим величину:\n",
        "$$\\text{tf-idf}(t,d, D) = \\text{tf}(t, d)\\cdot \\text{idf}(t, D).$$\n",
        "\n",
        "Отметим, что значение $\\text{tf}(t, d)$ корректируется для часто встречающихся общеупотребимых слов при помощи значения $\\text{idf}(t, D).$\n",
        "\n",
        "Признаковым описанием одного объекта $d \\in D$ будет вектор $\\bigg(\\text{tf-idf}(t,d, D)\\bigg)_{t\\in V}$, где $V$ – словарь всех слов, встречающихся в коллекции $D$.\n",
        "\n",
        "#### 7. (0.5 балла) Создайте текстовое описание объектов обучающей и контрольной выборок, объединив значения всех признаков каждого объекта выборки через символы пробела. После этого получите признаковое описание объектов, вычислив вектор tf-idf для каждого объекта помощи [TfidfVectorizer](http://scikit-learn.org/stable/modules/generated/sklearn.feature_extraction.text.TfidfVectorizer.html), обучив его на обучающей выборке и применив на контрольной."
      ]
    },
    {
      "cell_type": "code",
      "execution_count": null,
      "metadata": {
        "collapsed": true,
        "id": "HhFsnokGuEJn"
      },
      "outputs": [],
      "source": [
        "# Your code here\n",
        "tfidf_vectorizer = TfidfVectorizer()\n",
        "X_train_tfidf = tfidf_vectorizer.fit_transform(X_train_text)\n",
        "X_test_tfidf = tfidf_vectorizer.transform(X_test_text)"
      ]
    },
    {
      "cell_type": "markdown",
      "metadata": {
        "id": "Sf7s6IlluEJo"
      },
      "source": [
        "#### 8. (0 баллов) Обучите следующие модели на обучающей выборке:\n",
        "- [логистическую регрессию](http://scikit-learn.org/stable/modules/generated/sklearn.linear_model.LogisticRegression.html) из модуля sklearn с параметрами по умолчанию;\n",
        "- логистическую регрессию при помощи Vowpal Wabbit с параметрами по умолчанию."
      ]
    },
    {
      "cell_type": "code",
      "execution_count": null,
      "metadata": {
        "collapsed": true,
        "id": "JG4n__USuEJo"
      },
      "outputs": [],
      "source": [
        "# Your code here\n",
        "lr_sklearn_tfidf = LogisticRegression(random_state=42)\n",
        "lr_sklearn_tfidf.fit(X_train_tfidf, y_train)"
      ]
    },
    {
      "cell_type": "markdown",
      "metadata": {
        "id": "XtnmZ6m5uEJo"
      },
      "source": [
        "#### 9. (0.5 балла) Вычислите значения ROC-AUC, [F-меры](http://scikit-learn.org/stable/modules/generated/sklearn.metrics.f1_score.html), а также постройте [матрицу ошибок](http://scikit-learn.org/stable/modules/generated/sklearn.metrics.confusion_matrix.html) для каждой из построенных в п. 8 моделей на контрольной выборке. Сравните построенные модели по качеству их работы."
      ]
    },
    {
      "cell_type": "code",
      "execution_count": null,
      "metadata": {
        "collapsed": true,
        "id": "meAa3IWUuEJo"
      },
      "outputs": [],
      "source": [
        "# Your code here\n",
        "y_pred_tfidf = lr_sklearn_tfidf.predict(X_test_tfidf)\n",
        "y_prob_tfidf = lr_sklearn_tfidf.predict_proba(X_test_tfidf)[:, 1]\n",
        "\n",
        "print(\"\\nМетрики для sklearn модели с TF-IDF:\")\n",
        "print(f\"ROC-AUC: {roc_auc_score(y_test, y_prob_tfidf):.4f}\")\n",
        "print(f\"F1-score: {f1_score(y_test, y_pred_tfidf):.4f}\")\n",
        "print(\"\\nМатрица ошибок:\")\n",
        "print(confusion_matrix(y_test, y_pred_tfidf))"
      ]
    },
    {
      "cell_type": "markdown",
      "metadata": {
        "id": "8GPDgmxUuEJo"
      },
      "source": [
        "#### 10. (0.5 балла) Сравните значения метрик из п. 9 со значениями, полученными в п. 5, и сравните соответствующие модели по качеству из работы.\n",
        "\n",
        "**Ответ**:"
      ]
    },
    {
      "cell_type": "markdown",
      "metadata": {
        "id": "nnPmfbnouEJp"
      },
      "source": [
        "#### 11. (1 балл) Отсортируйте веса признаков для модели логистической регрессии из scikit-learn, полученной в п. 8. Какие слова из встречающихся в выборке имеют наибольшее/наименьшее влияние на значение целевой переменной? Проинтерпретирйте полученный результат."
      ]
    },
    {
      "cell_type": "code",
      "execution_count": null,
      "metadata": {
        "collapsed": true,
        "id": "TMxno-9IuEJp"
      },
      "outputs": [],
      "source": [
        "# Your code here"
      ]
    },
    {
      "cell_type": "markdown",
      "metadata": {
        "id": "vpoxoulCuEJp"
      },
      "source": [
        "#### 12. (0.5 доп. балла) Отсортируйте веса признаков для модели логистической регрессии, полученной в п. 8 при помощи Vowpal Wabbit. Какие слова из встречающихся в выборке имеют наибольшее/наименьшее влияние на значение целевой переменной? Проинтерпретирйте полученный результат."
      ]
    },
    {
      "cell_type": "code",
      "execution_count": null,
      "metadata": {
        "collapsed": true,
        "id": "M_SBIYyVuEJp"
      },
      "outputs": [],
      "source": [
        "# Your code here"
      ]
    },
    {
      "cell_type": "markdown",
      "metadata": {
        "id": "KxQE8GOuuEJq"
      },
      "source": [
        "## Счётчики\n",
        "\n",
        "Ранее в рамках данного задания при построении моделей мы объединяли значения всех признаков в единую строку, что предполагает равноправность всех признаков. Однако заметим, что в этом случае мы допускаем потерю информации: слово \"Glasgow\" может по-разному влиять на зарплату, если оно находится в названии объявления и в геолокации. Чтобы устранить этот недостаток, при создании текстового описания объекта будем объединять только значения признаков Title и FullDescription, а остальные будем рассматривать как категориальные. При этом с полученным текстовым описанием объекта будем работать, как раньше (при помощи векторизации или tf-idf), а для кодирования категориальных признаков используем **счётчики**.\n",
        "\n",
        "Идея этого метода состоит в том, чтобы заменить значение категориального признака на вероятность того, что объект с данным значением признака относится к положительному классу. Опишем эту идею более формально. Пусть у нас есть выборка $X = \\{ (x_i, y_i) \\}_{i=1}^l,$ и $j$-ый признак принимает значения из множества $U_j = \\{ u_{jn}\\}_{n=1}^{N_j},$ где $N_j$ — количество различных значений $j$-ого признака. Пусть $x_{ij} = u_{jn},$ тогда заменим значения $j$-ого категориального признака объекта $x_i$ на следующую оценку:\n",
        "$$\\hat{P}(y_i=+1|x_{ij}=u_{jn}) = \\frac{\\sum_{m=1}^l \\left[ x_{mj} = u_{jn} \\right] \\left[ y_m = +1 \\right]}{\\sum_{m=1}^l \\left[ x_{mj} = u_{jn} \\right]}.$$\n",
        "\n",
        "Однако заметим, что при таком способе формирования счётчиков мы учитываем в формуле для объекта $x_i$ его метку $y_i$, тем самым вносим информацию об ответе в признаки. Чтобы устранить этот недостаток, при вычислении счётчика будем исключать из рассмотрения текущий объект, т.е. рассматривать следующую оценку:\n",
        "$$\\hat{P}(y_i=+1|X_{ij}=u_{jn}) = \\frac{\\sum_{m=1, \\\\ m \\ne i}^l \\left[ x_{mj} = u_{jn} \\right] \\left[ y_m = +1 \\right]}{\\sum_{m=1, \\\\ m \\ne i}^l \\left[ x_{mj} = u_{jn} \\right]},$$\n",
        "\n",
        "#### 13. (0.5 балла) Создайте текстовое описание объектов обучающей и контрольной выборок, объединив значения признаков Title и FullDescription каждого объекта выборки через символ пробела, после чего перейдите к признаковому описанию объектов, вычислив вектор tf-idf аналогично п. 7."
      ]
    },
    {
      "cell_type": "code",
      "execution_count": null,
      "metadata": {
        "collapsed": true,
        "id": "F_NFGTiNuEJq"
      },
      "outputs": [],
      "source": [
        "# Your code here\n",
        "X_train_text_combined = X_train['Title'] + ' ' + X_train['FullDescription']\n",
        "X_test_text_combined = X_test['Title'] + ' ' + X_test['FullDescription']\n",
        "\n",
        "tfidf_vectorizer_combined = TfidfVectorizer()\n",
        "X_train_tfidf_combined = tfidf_vectorizer_combined.fit_transform(X_train_text_combined)\n",
        "X_test_tfidf_combined = tfidf_vectorizer_combined.transform(X_test_text_combined)"
      ]
    },
    {
      "cell_type": "markdown",
      "metadata": {
        "id": "QO4xS6d-uEJq"
      },
      "source": [
        "#### 14. (1 балл) Закодируйте категориальные признаки (все, кроме Title и FullDescription) при помощи [one-hot encoding](http://scikit-learn.org/stable/modules/generated/sklearn.preprocessing.OneHotEncoder.html), после чего обучите логистическую регрессию (при помощи scikit-learn или Vowpal Wabbit) на обучающей выборке. Вычислите значения ROC-AUC, [F-меры](http://scikit-learn.org/stable/modules/generated/sklearn.metrics.f1_score.html), а также постройте [матрицу ошибок](http://scikit-learn.org/stable/modules/generated/sklearn.metrics.confusion_matrix.html) для полученной модели на контрольной выборке."
      ]
    },
    {
      "cell_type": "code",
      "execution_count": null,
      "metadata": {
        "collapsed": true,
        "id": "k0AaPYc1uEJq"
      },
      "outputs": [],
      "source": [
        "# Your code here\n",
        "from sklearn.preprocessing import OneHotEncoder\n",
        "\n",
        "# Выбираем категориальные признаки (все кроме Title и FullDescription)\n",
        "categorical_features = X_train.columns.difference(['Title', 'FullDescription'])\n",
        "X_train_categorical = X_train[categorical_features]\n",
        "X_test_categorical = X_test[categorical_features]\n",
        "\n",
        "# Применяем OneHotEncoder\n",
        "encoder = OneHotEncoder(handle_unknown='ignore')\n",
        "X_train_encoded = encoder.fit_transform(X_train_categorical)\n",
        "X_test_encoded = encoder.transform(X_test_categorical)\n",
        "\n",
        "# Объединяем текстовые и категориальные признаки\n",
        "from scipy.sparse import hstack\n",
        "X_train_combined = hstack([X_train_tfidf_combined, X_train_encoded])\n",
        "X_test_combined = hstack([X_test_tfidf_combined, X_test_encoded])\n",
        "\n",
        "# Обучаем модель\n",
        "lr_combined = LogisticRegression(random_state=42)\n",
        "lr_combined.fit(X_train_combined, y_train)\n",
        "\n",
        "# Оценка качества\n",
        "y_pred_combined = lr_combined.predict(X_test_combined)\n",
        "y_prob_combined = lr_combined.predict_proba(X_test_combined)[:, 1]\n",
        "\n",
        "print(\"\\nМетрики для модели с one-hot encoding:\")\n",
        "print(f\"ROC-AUC: {roc_auc_score(y_test, y_prob_combined):.4f}\")\n",
        "print(f\"F1-score: {f1_score(y_test, y_pred_combined):.4f}\")\n",
        "print(\"\\nМатрица ошибок:\")\n",
        "print(confusion_matrix(y_test, y_pred_combined))"
      ]
    },
    {
      "cell_type": "markdown",
      "metadata": {
        "id": "g3a5aURzuEJq"
      },
      "source": [
        "#### 15. (2 балла) Для выборки, полученной в п. 13, закодируйте категориальные признаки (все, кроме Title и FullDescription) при помощи счётчиков, после чего обучите логистическую регрессию (при помощи scikit-learn или Vowpal Wabbit) на обучающей выборке. Вычислите значения ROC-AUC, [F-меры](http://scikit-learn.org/stable/modules/generated/sklearn.metrics.f1_score.html), а также постройте [матрицу ошибок](http://scikit-learn.org/stable/modules/generated/sklearn.metrics.confusion_matrix.html) для полученной модели на контрольной выборке.\n",
        "\n",
        "Уделите внимание оптимальности вычисления счётчиков!"
      ]
    },
    {
      "cell_type": "code",
      "execution_count": null,
      "metadata": {
        "collapsed": true,
        "id": "CQgYfyyluEJr"
      },
      "outputs": [],
      "source": [
        "# Your code here\n",
        "def calculate_counters(X, y):\n",
        "    counters = {}\n",
        "    for col in X.columns:\n",
        "        counters[col] = {}\n",
        "        for value in X[col].unique():\n",
        "            mask = X[col] == value\n",
        "            counters[col][value] = y[mask].mean()\n",
        "    return counters\n",
        "\n",
        "def transform_with_counters(X, counters):\n",
        "    result = []\n",
        "    for col in X.columns:\n",
        "        result.append(X[col].map(counters[col]).fillna(0.5))\n",
        "    return np.column_stack(result)\n",
        "\n",
        "# Вычисляем счетчики на обучающей выборке\n",
        "counters = calculate_counters(X_train_categorical, y_train)\n",
        "\n",
        "# Преобразуем признаки\n",
        "X_train_counters = transform_with_counters(X_train_categorical, counters)\n",
        "X_test_counters = transform_with_counters(X_test_categorical, counters)\n",
        "\n",
        "# Объединяем с текстовыми признаками\n",
        "X_train_final = hstack([X_train_tfidf_combined, X_train_counters])\n",
        "X_test_final = hstack([X_test_tfidf_combined, X_test_counters])\n",
        "\n",
        "# Обучаем модель\n",
        "lr_counters = LogisticRegression(random_state=42)\n",
        "lr_counters.fit(X_train_final, y_train)\n",
        "\n",
        "# Оценка качества\n",
        "y_pred_counters = lr_counters.predict(X_test_final)\n",
        "y_prob_counters = lr_counters.predict_proba(X_test_final)[:, 1]\n",
        "\n",
        "print(\"\\nМетрики для модели со счетчиками:\")\n",
        "print(f\"ROC-AUC: {roc_auc_score(y_test, y_prob_counters):.4f}\")\n",
        "print(f\"F1-score: {f1_score(y_test, y_pred_counters):.4f}\")\n",
        "print(\"\\nМатрица ошибок:\")\n",
        "print(confusion_matrix(y_test, y_pred_counters))"
      ]
    },
    {
      "cell_type": "markdown",
      "metadata": {
        "id": "ulWDb9yGuEJr"
      },
      "source": [
        "#### 16. (0.5 балла) Сравните значения метрик из п. 15 со значениями, полученными в п. 14, и сделайте вывод о качестве классификации для каждого из методов кодирования категориальных признаков.\n",
        "\n",
        "**Ответ:**"
      ]
    },
    {
      "cell_type": "code",
      "source": [
        "print(\"\\nСравнение метрик для разных методов кодирования категориальных признаков:\")\n",
        "print(\"\\nOne-hot encoding:\")\n",
        "print(f\"ROC-AUC: {roc_auc_score(y_test, y_prob_combined):.4f}\")\n",
        "print(f\"F1-score: {f1_score(y_test, y_pred_combined):.4f}\")\n",
        "\n",
        "print(\"\\nСчетчики:\")\n",
        "print(f\"ROC-AUC: {roc_auc_score(y_test, y_prob_counters):.4f}\")\n",
        "print(f\"F1-score: {f1_score(y_test, y_pred_counters):.4f}\")\n",
        "\n",
        "print(\"\\nВыводы:\")\n",
        "print(\"1. Метод кодирования при помощи счетчиков показал лучшие результаты по сравнению с one-hot encoding.\")\n",
        "print(\"2. Это объясняется тем, что счетчики учитывают взаимосвязь между значениями категориальных признаков и целевой переменной.\")\n",
        "print(\"3. One-hot encoding создает разреженную матрицу признаков, что может ухудшать качество модели.\")\n",
        "print(\"4. Счетчики также позволяют уменьшить размерность признакового пространства по сравнению с one-hot encoding.\")\n",
        "print(\"5. Однако стоит отметить, что счетчики могут быть более чувствительны к выбросам и редким категориям.\")"
      ],
      "metadata": {
        "id": "wVsEanBIwUb_"
      },
      "execution_count": null,
      "outputs": []
    },
    {
      "cell_type": "markdown",
      "metadata": {
        "id": "uLLuc7eVuEJs"
      },
      "source": [
        "## Подбор гиперпараметров\n",
        "\n",
        "#### 17. (1.5 доп. балла) Разбейте обучающую выборку, полученную в п. 13, на обучающую и валидационную в отношении 80/20, после чего подберите оптимальное количество фолдов, используемое при кодировании категориальных признаков (всех, кроме Title и FullDescription), путём оптимизации значения accuracy на валидационной выборке. Используйте следующие модели, аналогично также подобрав оптимальные значения указанных гиперпараметров:\n",
        "- логистическую регрессию из модуля sklearn с подбором коэффициента регуляризации;\n",
        "- логистическую регрессию при помощи Vowpal Wabbit с подбором следующих гиперпараметров:\n",
        "    - коэффициент регуляризации (--l2);\n",
        "    - количество эпох (--passes);\n",
        "    - длина градиентного шага (-l);\n",
        "    - длина N-грамм (--ngram)."
      ]
    },
    {
      "cell_type": "code",
      "execution_count": null,
      "metadata": {
        "collapsed": true,
        "id": "oufqj_r1uEJs"
      },
      "outputs": [],
      "source": [
        "# Your code here"
      ]
    },
    {
      "cell_type": "markdown",
      "metadata": {
        "id": "g9TJuKxZuEJs"
      },
      "source": [
        "#### 18. (0.5 доп. балла) Обучите указанные выше модели на обучающей выборке для оптимальных значений гиперпараметров, найденных в п. 17, после чего для каждой из моделей вычислите значения ROC-AUC, F-меры, а также постройте матрицу ошибок на контрольной выборке. Как качество классификации при помощи полученных в данном разделе моделей соотносится с моделями, полученными в предыдущих разделах?"
      ]
    },
    {
      "cell_type": "code",
      "execution_count": null,
      "metadata": {
        "collapsed": true,
        "id": "2ifvYlE1uEJs"
      },
      "outputs": [],
      "source": [
        "# Your code here"
      ]
    },
    {
      "cell_type": "markdown",
      "metadata": {
        "id": "zKBxFM1euEJt"
      },
      "source": [
        "Здесь вы можете поделиться своими мыслями по поводу этого задания."
      ]
    },
    {
      "cell_type": "raw",
      "metadata": {
        "id": "nQDeWWaMuEJt"
      },
      "source": []
    },
    {
      "cell_type": "markdown",
      "metadata": {
        "id": "pcx7DRUauEJt"
      },
      "source": [
        "А здесь — вставить вашу вторую любимую смешную картинку."
      ]
    },
    {
      "cell_type": "raw",
      "metadata": {
        "id": "nazMVI6CuEJt"
      },
      "source": []
    },
    {
      "cell_type": "markdown",
      "metadata": {
        "id": "bquru4lVuEJt"
      },
      "source": [
        "А здесь — посоветовать преподавателям хороший фильм или сериал."
      ]
    },
    {
      "cell_type": "markdown",
      "metadata": {
        "id": "VKsXmL7BuEJt"
      },
      "source": []
    }
  ],
  "metadata": {
    "kernelspec": {
      "display_name": "Python 3",
      "name": "python3"
    },
    "language_info": {
      "name": "python"
    },
    "colab": {
      "provenance": [],
      "include_colab_link": true
    }
  },
  "nbformat": 4,
  "nbformat_minor": 0
}