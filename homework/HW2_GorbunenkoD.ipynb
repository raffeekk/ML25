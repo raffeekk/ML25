{
  "cells": [
    {
      "cell_type": "markdown",
      "metadata": {
        "id": "view-in-github",
        "colab_type": "text"
      },
      "source": [
        "<a href=\"https://colab.research.google.com/github/raffeekk/ML25/blob/main/homework/HW2_GorbunenkoD.ipynb\" target=\"_parent\"><img src=\"https://colab.research.google.com/assets/colab-badge.svg\" alt=\"Open In Colab\"/></a>"
      ]
    },
    {
      "cell_type": "markdown",
      "metadata": {
        "id": "Zv9uOhK1-fao"
      },
      "source": [
        "# Машинное обучение, ФКН ВШЭ\n",
        "\n",
        "# Практическое задание 2\n",
        "\n",
        "## Общая информация\n",
        "\n",
        "Дата выдачи: 11.10.2016\n",
        "\n",
        "Срок сдачи: 24.10.2016 23:59MSK\n",
        "\n",
        "### О задании\n",
        "На сайтах для поиска работы можно найти сотни тысяч объявлений, каждое из которых состоит из пространного описания вакансии и предлагаемой зарплаты. Есть ли связь между описанием и зарплатой? Существуют ли определенные слова, которые наиболее сильно характеризуют зарплату? Можно ли найти другие информативные факторы? Вам предстоит ответить на эти вопросы, проанализировав выборку объявлений о работе в Великобритании.\n",
        "\n",
        "Практическое задание 2 посвящено работе с текстовыми данными и категориальными признаками и задачам бинарной классификации. Вы научитесь:\n",
        " * работать с категориальными признаками;\n",
        " * строить вещественные представления текстовых данных;\n",
        " * обучать и строить прогнозы линейных классификаторов при помощи scikit-learn и Vowpal Wabbit;\n",
        " * тестировать модели и проводить оценку качества в задачах бинарной классификации.\n",
        "\n",
        "\n",
        "### Оценивание и штрафы\n",
        "\n",
        "Каждая из задач имеет определенную «стоимость» (указана в скобках около задачи). Максимально допустимая оценка за работу — 10 баллов. Кроме того, некоторые из заданий являются опциональными (необязательными), однако за их выполнение можно получить дополнительные баллы, которые позднее будут учитываться при проставлении оценок автоматом по курсу.\n",
        "\n",
        "Сдавать задание после указанного срока сдачи нельзя. При выставлении неполного балла за задание в связи с наличием ошибок на усмотрение проверяющего предусмотрена возможность исправить работу на указанных в ответном письме условиях.\n",
        "\n",
        "Задание выполняется самостоятельно. «Похожие» решения считаются плагиатом и все задействованные студенты (в том числе те, у кого списали) не могут получить за него больше 0 баллов (подробнее о плагиате см. на странице курса). Если вы нашли решение какого-то из заданий (или его часть) в открытом источнике, необходимо указать ссылку на этот источник в отдельном блоке в конце Вашей работы (скорее всего вы будете не единственным, кто это нашел, поэтому чтобы исключить подозрение в плагиате, необходима ссылка на источник).\n",
        "\n",
        "Неэффективная реализация кода может негативно отразиться на оценке.\n",
        "\n",
        "### Формат сдачи\n",
        "Для сдачи задания переименуйте получившийся файл \\*.ipynb в соответствии со следующим форматом: *HW2_Username.ipynb*, где *Username* — Ваша фамилия и инициалы на латинице (например, *HW2_IvanovII.ipynb*). Далее отправьте этот файл на hse.cs.ml+<номер группы>@gmail.com (например, hse.cs.ml+141@gmail.com для студентов группы БПМИ-141)."
      ]
    },
    {
      "cell_type": "markdown",
      "metadata": {
        "id": "lLRLJxOk-faw"
      },
      "source": [
        "## Данные\n",
        "\n",
        "Как было упомянуто ранее, в рамках данного задания мы будем решать задачу бинарной классификации для предсказания уровня заработной платы по тексту объявления о вакансии на примере набора данных с соревнования [Adzuna - Job Salary Prediction](https://www.kaggle.com/c/job-salary-prediction). Для начала пройдите по [ссылке](https://www.kaggle.com/c/job-salary-prediction/data) и скачайте файл Train_rev1 (при необходимости, зарегистрируйтесь на Kaggle).\n",
        "\n",
        "Посмотрим на данные в файле и загрузим их в DataFrame:"
      ]
    },
    {
      "cell_type": "code",
      "execution_count": 40,
      "metadata": {
        "scrolled": true,
        "id": "2EYUTy3v-faw",
        "outputId": "c895cd73-467d-41b9-c20b-47cf39ba7801",
        "colab": {
          "base_uri": "https://localhost:8080/"
        }
      },
      "outputs": [
        {
          "output_type": "stream",
          "name": "stdout",
          "text": [
            "Populating the interactive namespace from numpy and matplotlib\n"
          ]
        },
        {
          "output_type": "stream",
          "name": "stderr",
          "text": [
            "/usr/local/lib/python3.11/dist-packages/IPython/core/magics/pylab.py:159: UserWarning: pylab import has clobbered these variables: ['hstack']\n",
            "`%matplotlib` prevents importing * from pylab and numpy\n",
            "  warn(\"pylab import has clobbered these variables: %s\"  % clobbered +\n"
          ]
        },
        {
          "output_type": "stream",
          "name": "stdout",
          "text": [
            "\r0% [Working]\r            \rHit:1 https://cloud.r-project.org/bin/linux/ubuntu jammy-cran40/ InRelease\n",
            "Hit:2 https://developer.download.nvidia.com/compute/cuda/repos/ubuntu2204/x86_64  InRelease\n",
            "Hit:3 http://security.ubuntu.com/ubuntu jammy-security InRelease\n",
            "Hit:4 https://r2u.stat.illinois.edu/ubuntu jammy InRelease\n",
            "Hit:5 http://archive.ubuntu.com/ubuntu jammy InRelease\n",
            "Hit:6 http://archive.ubuntu.com/ubuntu jammy-updates InRelease\n",
            "Hit:7 http://archive.ubuntu.com/ubuntu jammy-backports InRelease\n",
            "Hit:8 https://ppa.launchpadcontent.net/deadsnakes/ppa/ubuntu jammy InRelease\n",
            "Hit:9 https://ppa.launchpadcontent.net/graphics-drivers/ppa/ubuntu jammy InRelease\n",
            "Hit:10 https://ppa.launchpadcontent.net/ubuntugis/ppa/ubuntu jammy InRelease\n",
            "Reading package lists... Done\n",
            "W: Skipping acquire of configured file 'main/source/Sources' as repository 'https://r2u.stat.illinois.edu/ubuntu jammy InRelease' does not seem to provide it (sources.list entry misspelt?)\n",
            "Reading package lists... Done\n",
            "Building dependency tree... Done\n",
            "Reading state information... Done\n",
            "vowpal-wabbit is already the newest version (8.6.1.dfsg1-1build3).\n",
            "0 upgraded, 0 newly installed, 0 to remove and 29 not upgraded.\n"
          ]
        }
      ],
      "source": [
        "%pylab inline\n",
        "!sudo apt-get update\n",
        "!sudo apt-get install -y vowpal-wabbit\n",
        "import numpy as np\n",
        "import pandas as pd\n",
        "%matplotlib inline\n",
        "import math\n",
        "from sklearn import preprocessing, feature_extraction, linear_model, metrics, feature_extraction, model_selection\n",
        "import matplotlib\n",
        "from scipy.sparse import hstack, csr"
      ]
    },
    {
      "cell_type": "code",
      "execution_count": 41,
      "metadata": {
        "id": "IJiyarZm-fa0",
        "outputId": "2fe70fc5-da5d-4190-d27e-41f7bd4f685a",
        "colab": {
          "base_uri": "https://localhost:8080/",
          "height": 311
        }
      },
      "outputs": [
        {
          "output_type": "stream",
          "name": "stdout",
          "text": [
            "(244768, 12)\n"
          ]
        },
        {
          "output_type": "execute_result",
          "data": {
            "text/plain": [
              "         Id                                              Title  \\\n",
              "0  12612628                        Engineering Systems Analyst   \n",
              "1  12612830                            Stress Engineer Glasgow   \n",
              "2  12612844                   Modelling and simulation analyst   \n",
              "3  12613049  Engineering Systems Analyst / Mathematical Mod...   \n",
              "4  12613647         Pioneer, Miser Engineering Systems Analyst   \n",
              "\n",
              "                                     FullDescription  \\\n",
              "0  Engineering Systems Analyst Dorking Surrey Sal...   \n",
              "1  Stress Engineer Glasgow Salary **** to **** We...   \n",
              "2  Mathematical Modeller / Simulation Analyst / O...   \n",
              "3  Engineering Systems Analyst / Mathematical Mod...   \n",
              "4  Pioneer, Miser  Engineering Systems Analyst Do...   \n",
              "\n",
              "                         LocationRaw LocationNormalized ContractType  \\\n",
              "0            Dorking, Surrey, Surrey            Dorking          NaN   \n",
              "1        Glasgow, Scotland, Scotland            Glasgow          NaN   \n",
              "2  Hampshire, South East, South East          Hampshire          NaN   \n",
              "3     Surrey, South East, South East             Surrey          NaN   \n",
              "4     Surrey, South East, South East             Surrey          NaN   \n",
              "\n",
              "  ContractTime                       Company          Category  \\\n",
              "0    permanent  Gregory Martin International  Engineering Jobs   \n",
              "1    permanent  Gregory Martin International  Engineering Jobs   \n",
              "2    permanent  Gregory Martin International  Engineering Jobs   \n",
              "3    permanent  Gregory Martin International  Engineering Jobs   \n",
              "4    permanent  Gregory Martin International  Engineering Jobs   \n",
              "\n",
              "                                SalaryRaw  SalaryNormalized        SourceName  \n",
              "0              20000 - 30000/annum 20-30K             25000  cv-library.co.uk  \n",
              "1              25000 - 35000/annum 25-35K             30000  cv-library.co.uk  \n",
              "2              20000 - 40000/annum 20-40K             30000  cv-library.co.uk  \n",
              "3  25000 - 30000/annum 25K-30K negotiable             27500  cv-library.co.uk  \n",
              "4              20000 - 30000/annum 20-30K             25000  cv-library.co.uk  "
            ],
            "text/html": [
              "\n",
              "  <div id=\"df-5d3f058c-e80d-408e-8eb0-ce14b78f7c24\" class=\"colab-df-container\">\n",
              "    <div>\n",
              "<style scoped>\n",
              "    .dataframe tbody tr th:only-of-type {\n",
              "        vertical-align: middle;\n",
              "    }\n",
              "\n",
              "    .dataframe tbody tr th {\n",
              "        vertical-align: top;\n",
              "    }\n",
              "\n",
              "    .dataframe thead th {\n",
              "        text-align: right;\n",
              "    }\n",
              "</style>\n",
              "<table border=\"1\" class=\"dataframe\">\n",
              "  <thead>\n",
              "    <tr style=\"text-align: right;\">\n",
              "      <th></th>\n",
              "      <th>Id</th>\n",
              "      <th>Title</th>\n",
              "      <th>FullDescription</th>\n",
              "      <th>LocationRaw</th>\n",
              "      <th>LocationNormalized</th>\n",
              "      <th>ContractType</th>\n",
              "      <th>ContractTime</th>\n",
              "      <th>Company</th>\n",
              "      <th>Category</th>\n",
              "      <th>SalaryRaw</th>\n",
              "      <th>SalaryNormalized</th>\n",
              "      <th>SourceName</th>\n",
              "    </tr>\n",
              "  </thead>\n",
              "  <tbody>\n",
              "    <tr>\n",
              "      <th>0</th>\n",
              "      <td>12612628</td>\n",
              "      <td>Engineering Systems Analyst</td>\n",
              "      <td>Engineering Systems Analyst Dorking Surrey Sal...</td>\n",
              "      <td>Dorking, Surrey, Surrey</td>\n",
              "      <td>Dorking</td>\n",
              "      <td>NaN</td>\n",
              "      <td>permanent</td>\n",
              "      <td>Gregory Martin International</td>\n",
              "      <td>Engineering Jobs</td>\n",
              "      <td>20000 - 30000/annum 20-30K</td>\n",
              "      <td>25000</td>\n",
              "      <td>cv-library.co.uk</td>\n",
              "    </tr>\n",
              "    <tr>\n",
              "      <th>1</th>\n",
              "      <td>12612830</td>\n",
              "      <td>Stress Engineer Glasgow</td>\n",
              "      <td>Stress Engineer Glasgow Salary **** to **** We...</td>\n",
              "      <td>Glasgow, Scotland, Scotland</td>\n",
              "      <td>Glasgow</td>\n",
              "      <td>NaN</td>\n",
              "      <td>permanent</td>\n",
              "      <td>Gregory Martin International</td>\n",
              "      <td>Engineering Jobs</td>\n",
              "      <td>25000 - 35000/annum 25-35K</td>\n",
              "      <td>30000</td>\n",
              "      <td>cv-library.co.uk</td>\n",
              "    </tr>\n",
              "    <tr>\n",
              "      <th>2</th>\n",
              "      <td>12612844</td>\n",
              "      <td>Modelling and simulation analyst</td>\n",
              "      <td>Mathematical Modeller / Simulation Analyst / O...</td>\n",
              "      <td>Hampshire, South East, South East</td>\n",
              "      <td>Hampshire</td>\n",
              "      <td>NaN</td>\n",
              "      <td>permanent</td>\n",
              "      <td>Gregory Martin International</td>\n",
              "      <td>Engineering Jobs</td>\n",
              "      <td>20000 - 40000/annum 20-40K</td>\n",
              "      <td>30000</td>\n",
              "      <td>cv-library.co.uk</td>\n",
              "    </tr>\n",
              "    <tr>\n",
              "      <th>3</th>\n",
              "      <td>12613049</td>\n",
              "      <td>Engineering Systems Analyst / Mathematical Mod...</td>\n",
              "      <td>Engineering Systems Analyst / Mathematical Mod...</td>\n",
              "      <td>Surrey, South East, South East</td>\n",
              "      <td>Surrey</td>\n",
              "      <td>NaN</td>\n",
              "      <td>permanent</td>\n",
              "      <td>Gregory Martin International</td>\n",
              "      <td>Engineering Jobs</td>\n",
              "      <td>25000 - 30000/annum 25K-30K negotiable</td>\n",
              "      <td>27500</td>\n",
              "      <td>cv-library.co.uk</td>\n",
              "    </tr>\n",
              "    <tr>\n",
              "      <th>4</th>\n",
              "      <td>12613647</td>\n",
              "      <td>Pioneer, Miser Engineering Systems Analyst</td>\n",
              "      <td>Pioneer, Miser  Engineering Systems Analyst Do...</td>\n",
              "      <td>Surrey, South East, South East</td>\n",
              "      <td>Surrey</td>\n",
              "      <td>NaN</td>\n",
              "      <td>permanent</td>\n",
              "      <td>Gregory Martin International</td>\n",
              "      <td>Engineering Jobs</td>\n",
              "      <td>20000 - 30000/annum 20-30K</td>\n",
              "      <td>25000</td>\n",
              "      <td>cv-library.co.uk</td>\n",
              "    </tr>\n",
              "  </tbody>\n",
              "</table>\n",
              "</div>\n",
              "    <div class=\"colab-df-buttons\">\n",
              "\n",
              "  <div class=\"colab-df-container\">\n",
              "    <button class=\"colab-df-convert\" onclick=\"convertToInteractive('df-5d3f058c-e80d-408e-8eb0-ce14b78f7c24')\"\n",
              "            title=\"Convert this dataframe to an interactive table.\"\n",
              "            style=\"display:none;\">\n",
              "\n",
              "  <svg xmlns=\"http://www.w3.org/2000/svg\" height=\"24px\" viewBox=\"0 -960 960 960\">\n",
              "    <path d=\"M120-120v-720h720v720H120Zm60-500h600v-160H180v160Zm220 220h160v-160H400v160Zm0 220h160v-160H400v160ZM180-400h160v-160H180v160Zm440 0h160v-160H620v160ZM180-180h160v-160H180v160Zm440 0h160v-160H620v160Z\"/>\n",
              "  </svg>\n",
              "    </button>\n",
              "\n",
              "  <style>\n",
              "    .colab-df-container {\n",
              "      display:flex;\n",
              "      gap: 12px;\n",
              "    }\n",
              "\n",
              "    .colab-df-convert {\n",
              "      background-color: #E8F0FE;\n",
              "      border: none;\n",
              "      border-radius: 50%;\n",
              "      cursor: pointer;\n",
              "      display: none;\n",
              "      fill: #1967D2;\n",
              "      height: 32px;\n",
              "      padding: 0 0 0 0;\n",
              "      width: 32px;\n",
              "    }\n",
              "\n",
              "    .colab-df-convert:hover {\n",
              "      background-color: #E2EBFA;\n",
              "      box-shadow: 0px 1px 2px rgba(60, 64, 67, 0.3), 0px 1px 3px 1px rgba(60, 64, 67, 0.15);\n",
              "      fill: #174EA6;\n",
              "    }\n",
              "\n",
              "    .colab-df-buttons div {\n",
              "      margin-bottom: 4px;\n",
              "    }\n",
              "\n",
              "    [theme=dark] .colab-df-convert {\n",
              "      background-color: #3B4455;\n",
              "      fill: #D2E3FC;\n",
              "    }\n",
              "\n",
              "    [theme=dark] .colab-df-convert:hover {\n",
              "      background-color: #434B5C;\n",
              "      box-shadow: 0px 1px 3px 1px rgba(0, 0, 0, 0.15);\n",
              "      filter: drop-shadow(0px 1px 2px rgba(0, 0, 0, 0.3));\n",
              "      fill: #FFFFFF;\n",
              "    }\n",
              "  </style>\n",
              "\n",
              "    <script>\n",
              "      const buttonEl =\n",
              "        document.querySelector('#df-5d3f058c-e80d-408e-8eb0-ce14b78f7c24 button.colab-df-convert');\n",
              "      buttonEl.style.display =\n",
              "        google.colab.kernel.accessAllowed ? 'block' : 'none';\n",
              "\n",
              "      async function convertToInteractive(key) {\n",
              "        const element = document.querySelector('#df-5d3f058c-e80d-408e-8eb0-ce14b78f7c24');\n",
              "        const dataTable =\n",
              "          await google.colab.kernel.invokeFunction('convertToInteractive',\n",
              "                                                    [key], {});\n",
              "        if (!dataTable) return;\n",
              "\n",
              "        const docLinkHtml = 'Like what you see? Visit the ' +\n",
              "          '<a target=\"_blank\" href=https://colab.research.google.com/notebooks/data_table.ipynb>data table notebook</a>'\n",
              "          + ' to learn more about interactive tables.';\n",
              "        element.innerHTML = '';\n",
              "        dataTable['output_type'] = 'display_data';\n",
              "        await google.colab.output.renderOutput(dataTable, element);\n",
              "        const docLink = document.createElement('div');\n",
              "        docLink.innerHTML = docLinkHtml;\n",
              "        element.appendChild(docLink);\n",
              "      }\n",
              "    </script>\n",
              "  </div>\n",
              "\n",
              "\n",
              "<div id=\"df-1e16166c-8b2b-4cd6-a7f8-6772b033887b\">\n",
              "  <button class=\"colab-df-quickchart\" onclick=\"quickchart('df-1e16166c-8b2b-4cd6-a7f8-6772b033887b')\"\n",
              "            title=\"Suggest charts\"\n",
              "            style=\"display:none;\">\n",
              "\n",
              "<svg xmlns=\"http://www.w3.org/2000/svg\" height=\"24px\"viewBox=\"0 0 24 24\"\n",
              "     width=\"24px\">\n",
              "    <g>\n",
              "        <path d=\"M19 3H5c-1.1 0-2 .9-2 2v14c0 1.1.9 2 2 2h14c1.1 0 2-.9 2-2V5c0-1.1-.9-2-2-2zM9 17H7v-7h2v7zm4 0h-2V7h2v10zm4 0h-2v-4h2v4z\"/>\n",
              "    </g>\n",
              "</svg>\n",
              "  </button>\n",
              "\n",
              "<style>\n",
              "  .colab-df-quickchart {\n",
              "      --bg-color: #E8F0FE;\n",
              "      --fill-color: #1967D2;\n",
              "      --hover-bg-color: #E2EBFA;\n",
              "      --hover-fill-color: #174EA6;\n",
              "      --disabled-fill-color: #AAA;\n",
              "      --disabled-bg-color: #DDD;\n",
              "  }\n",
              "\n",
              "  [theme=dark] .colab-df-quickchart {\n",
              "      --bg-color: #3B4455;\n",
              "      --fill-color: #D2E3FC;\n",
              "      --hover-bg-color: #434B5C;\n",
              "      --hover-fill-color: #FFFFFF;\n",
              "      --disabled-bg-color: #3B4455;\n",
              "      --disabled-fill-color: #666;\n",
              "  }\n",
              "\n",
              "  .colab-df-quickchart {\n",
              "    background-color: var(--bg-color);\n",
              "    border: none;\n",
              "    border-radius: 50%;\n",
              "    cursor: pointer;\n",
              "    display: none;\n",
              "    fill: var(--fill-color);\n",
              "    height: 32px;\n",
              "    padding: 0;\n",
              "    width: 32px;\n",
              "  }\n",
              "\n",
              "  .colab-df-quickchart:hover {\n",
              "    background-color: var(--hover-bg-color);\n",
              "    box-shadow: 0 1px 2px rgba(60, 64, 67, 0.3), 0 1px 3px 1px rgba(60, 64, 67, 0.15);\n",
              "    fill: var(--button-hover-fill-color);\n",
              "  }\n",
              "\n",
              "  .colab-df-quickchart-complete:disabled,\n",
              "  .colab-df-quickchart-complete:disabled:hover {\n",
              "    background-color: var(--disabled-bg-color);\n",
              "    fill: var(--disabled-fill-color);\n",
              "    box-shadow: none;\n",
              "  }\n",
              "\n",
              "  .colab-df-spinner {\n",
              "    border: 2px solid var(--fill-color);\n",
              "    border-color: transparent;\n",
              "    border-bottom-color: var(--fill-color);\n",
              "    animation:\n",
              "      spin 1s steps(1) infinite;\n",
              "  }\n",
              "\n",
              "  @keyframes spin {\n",
              "    0% {\n",
              "      border-color: transparent;\n",
              "      border-bottom-color: var(--fill-color);\n",
              "      border-left-color: var(--fill-color);\n",
              "    }\n",
              "    20% {\n",
              "      border-color: transparent;\n",
              "      border-left-color: var(--fill-color);\n",
              "      border-top-color: var(--fill-color);\n",
              "    }\n",
              "    30% {\n",
              "      border-color: transparent;\n",
              "      border-left-color: var(--fill-color);\n",
              "      border-top-color: var(--fill-color);\n",
              "      border-right-color: var(--fill-color);\n",
              "    }\n",
              "    40% {\n",
              "      border-color: transparent;\n",
              "      border-right-color: var(--fill-color);\n",
              "      border-top-color: var(--fill-color);\n",
              "    }\n",
              "    60% {\n",
              "      border-color: transparent;\n",
              "      border-right-color: var(--fill-color);\n",
              "    }\n",
              "    80% {\n",
              "      border-color: transparent;\n",
              "      border-right-color: var(--fill-color);\n",
              "      border-bottom-color: var(--fill-color);\n",
              "    }\n",
              "    90% {\n",
              "      border-color: transparent;\n",
              "      border-bottom-color: var(--fill-color);\n",
              "    }\n",
              "  }\n",
              "</style>\n",
              "\n",
              "  <script>\n",
              "    async function quickchart(key) {\n",
              "      const quickchartButtonEl =\n",
              "        document.querySelector('#' + key + ' button');\n",
              "      quickchartButtonEl.disabled = true;  // To prevent multiple clicks.\n",
              "      quickchartButtonEl.classList.add('colab-df-spinner');\n",
              "      try {\n",
              "        const charts = await google.colab.kernel.invokeFunction(\n",
              "            'suggestCharts', [key], {});\n",
              "      } catch (error) {\n",
              "        console.error('Error during call to suggestCharts:', error);\n",
              "      }\n",
              "      quickchartButtonEl.classList.remove('colab-df-spinner');\n",
              "      quickchartButtonEl.classList.add('colab-df-quickchart-complete');\n",
              "    }\n",
              "    (() => {\n",
              "      let quickchartButtonEl =\n",
              "        document.querySelector('#df-1e16166c-8b2b-4cd6-a7f8-6772b033887b button');\n",
              "      quickchartButtonEl.style.display =\n",
              "        google.colab.kernel.accessAllowed ? 'block' : 'none';\n",
              "    })();\n",
              "  </script>\n",
              "</div>\n",
              "    </div>\n",
              "  </div>\n"
            ],
            "application/vnd.google.colaboratory.intrinsic+json": {
              "type": "dataframe",
              "variable_name": "df"
            }
          },
          "metadata": {},
          "execution_count": 41
        }
      ],
      "source": [
        "df = pd.read_csv('https://media.githubusercontent.com/media/raffeekk/ML25/refs/heads/main/Train_rev1.csv', sep=',')\n",
        "print(df.shape)\n",
        "df.head()"
      ]
    },
    {
      "cell_type": "markdown",
      "metadata": {
        "id": "NPHL1Mij-fa1"
      },
      "source": [
        "В оригинальной постановке предлагается рассматривать признак SalaryNormalized как целевой и решать задачу регрессии, однако в рамках данного задания мы сведём её к задаче бинарной классификации, разделив объекты на 2 группы: объявления о вакансиях с низкой и высокой зарплатами соответственно.\n",
        "\n",
        "<img src = \"http://salt.uaa.alaska.edu/kath/kti/mean_median2.gif\">\n",
        "\n",
        "В качестве порога разбиения объектов на группы будем рассматривать медиану признака SalaryNormalized. Заметим, что таким образом мы автоматически получим задачу классификации со сбалансированными классами:"
      ]
    },
    {
      "cell_type": "code",
      "execution_count": 42,
      "metadata": {
        "id": "8frG2WE--fa3",
        "outputId": "6c55da6a-91c7-4b55-cac8-c09d2e130176",
        "colab": {
          "base_uri": "https://localhost:8080/",
          "height": 710
        }
      },
      "outputs": [
        {
          "output_type": "display_data",
          "data": {
            "text/plain": [
              "<Figure size 1600x800 with 1 Axes>"
            ],
            "image/png": "[encoded data removed]"
          },
          "metadata": {}
        }
      ],
      "source": [
        "# salary histogramm\n",
        "median = np.median(df['SalaryNormalized'])\n",
        "\n",
        "figsize(16,8)\n",
        "plt.hist(df['SalaryNormalized'], bins=50)\n",
        "plt.axvline(median, c='r')\n",
        "plt.xlabel('salary', fontsize=20)\n",
        "plt.ylabel('count', fontsize=20)\n",
        "plt.grid()"
      ]
    },
    {
      "cell_type": "markdown",
      "metadata": {
        "id": "9FgehIFg-fa3"
      },
      "source": [
        "Осуществим последние шаги по подготовке датасета:\n",
        "- бинаризуем признак SalaryNomalized по описанному ранее порогу;\n",
        "- исключим из выборки признак SalaryRaw, чтобы устранить утечку целевой переменной в признаки."
      ]
    },
    {
      "cell_type": "code",
      "execution_count": 43,
      "metadata": {
        "id": "o_eH3Nii-fa3",
        "outputId": "66223cff-45c4-46ad-e713-f677cf725865",
        "colab": {
          "base_uri": "https://localhost:8080/",
          "height": 293
        }
      },
      "outputs": [
        {
          "output_type": "execute_result",
          "data": {
            "text/plain": [
              "         Id                                              Title  \\\n",
              "0  12612628                        Engineering Systems Analyst   \n",
              "1  12612830                            Stress Engineer Glasgow   \n",
              "2  12612844                   Modelling and simulation analyst   \n",
              "3  12613049  Engineering Systems Analyst / Mathematical Mod...   \n",
              "4  12613647         Pioneer, Miser Engineering Systems Analyst   \n",
              "\n",
              "                                     FullDescription  \\\n",
              "0  Engineering Systems Analyst Dorking Surrey Sal...   \n",
              "1  Stress Engineer Glasgow Salary **** to **** We...   \n",
              "2  Mathematical Modeller / Simulation Analyst / O...   \n",
              "3  Engineering Systems Analyst / Mathematical Mod...   \n",
              "4  Pioneer, Miser  Engineering Systems Analyst Do...   \n",
              "\n",
              "                         LocationRaw LocationNormalized ContractType  \\\n",
              "0            Dorking, Surrey, Surrey            Dorking          NaN   \n",
              "1        Glasgow, Scotland, Scotland            Glasgow          NaN   \n",
              "2  Hampshire, South East, South East          Hampshire          NaN   \n",
              "3     Surrey, South East, South East             Surrey          NaN   \n",
              "4     Surrey, South East, South East             Surrey          NaN   \n",
              "\n",
              "  ContractTime                       Company          Category  \\\n",
              "0    permanent  Gregory Martin International  Engineering Jobs   \n",
              "1    permanent  Gregory Martin International  Engineering Jobs   \n",
              "2    permanent  Gregory Martin International  Engineering Jobs   \n",
              "3    permanent  Gregory Martin International  Engineering Jobs   \n",
              "4    permanent  Gregory Martin International  Engineering Jobs   \n",
              "\n",
              "   SalaryNormalized        SourceName  \n",
              "0                 0  cv-library.co.uk  \n",
              "1                 0  cv-library.co.uk  \n",
              "2                 0  cv-library.co.uk  \n",
              "3                 0  cv-library.co.uk  \n",
              "4                 0  cv-library.co.uk  "
            ],
            "text/html": [
              "\n",
              "  <div id=\"df-dea5f019-d964-4e12-afb2-6f239a369725\" class=\"colab-df-container\">\n",
              "    <div>\n",
              "<style scoped>\n",
              "    .dataframe tbody tr th:only-of-type {\n",
              "        vertical-align: middle;\n",
              "    }\n",
              "\n",
              "    .dataframe tbody tr th {\n",
              "        vertical-align: top;\n",
              "    }\n",
              "\n",
              "    .dataframe thead th {\n",
              "        text-align: right;\n",
              "    }\n",
              "</style>\n",
              "<table border=\"1\" class=\"dataframe\">\n",
              "  <thead>\n",
              "    <tr style=\"text-align: right;\">\n",
              "      <th></th>\n",
              "      <th>Id</th>\n",
              "      <th>Title</th>\n",
              "      <th>FullDescription</th>\n",
              "      <th>LocationRaw</th>\n",
              "      <th>LocationNormalized</th>\n",
              "      <th>ContractType</th>\n",
              "      <th>ContractTime</th>\n",
              "      <th>Company</th>\n",
              "      <th>Category</th>\n",
              "      <th>SalaryNormalized</th>\n",
              "      <th>SourceName</th>\n",
              "    </tr>\n",
              "  </thead>\n",
              "  <tbody>\n",
              "    <tr>\n",
              "      <th>0</th>\n",
              "      <td>12612628</td>\n",
              "      <td>Engineering Systems Analyst</td>\n",
              "      <td>Engineering Systems Analyst Dorking Surrey Sal...</td>\n",
              "      <td>Dorking, Surrey, Surrey</td>\n",
              "      <td>Dorking</td>\n",
              "      <td>NaN</td>\n",
              "      <td>permanent</td>\n",
              "      <td>Gregory Martin International</td>\n",
              "      <td>Engineering Jobs</td>\n",
              "      <td>0</td>\n",
              "      <td>cv-library.co.uk</td>\n",
              "    </tr>\n",
              "    <tr>\n",
              "      <th>1</th>\n",
              "      <td>12612830</td>\n",
              "      <td>Stress Engineer Glasgow</td>\n",
              "      <td>Stress Engineer Glasgow Salary **** to **** We...</td>\n",
              "      <td>Glasgow, Scotland, Scotland</td>\n",
              "      <td>Glasgow</td>\n",
              "      <td>NaN</td>\n",
              "      <td>permanent</td>\n",
              "      <td>Gregory Martin International</td>\n",
              "      <td>Engineering Jobs</td>\n",
              "      <td>0</td>\n",
              "      <td>cv-library.co.uk</td>\n",
              "    </tr>\n",
              "    <tr>\n",
              "      <th>2</th>\n",
              "      <td>12612844</td>\n",
              "      <td>Modelling and simulation analyst</td>\n",
              "      <td>Mathematical Modeller / Simulation Analyst / O...</td>\n",
              "      <td>Hampshire, South East, South East</td>\n",
              "      <td>Hampshire</td>\n",
              "      <td>NaN</td>\n",
              "      <td>permanent</td>\n",
              "      <td>Gregory Martin International</td>\n",
              "      <td>Engineering Jobs</td>\n",
              "      <td>0</td>\n",
              "      <td>cv-library.co.uk</td>\n",
              "    </tr>\n",
              "    <tr>\n",
              "      <th>3</th>\n",
              "      <td>12613049</td>\n",
              "      <td>Engineering Systems Analyst / Mathematical Mod...</td>\n",
              "      <td>Engineering Systems Analyst / Mathematical Mod...</td>\n",
              "      <td>Surrey, South East, South East</td>\n",
              "      <td>Surrey</td>\n",
              "      <td>NaN</td>\n",
              "      <td>permanent</td>\n",
              "      <td>Gregory Martin International</td>\n",
              "      <td>Engineering Jobs</td>\n",
              "      <td>0</td>\n",
              "      <td>cv-library.co.uk</td>\n",
              "    </tr>\n",
              "    <tr>\n",
              "      <th>4</th>\n",
              "      <td>12613647</td>\n",
              "      <td>Pioneer, Miser Engineering Systems Analyst</td>\n",
              "      <td>Pioneer, Miser  Engineering Systems Analyst Do...</td>\n",
              "      <td>Surrey, South East, South East</td>\n",
              "      <td>Surrey</td>\n",
              "      <td>NaN</td>\n",
              "      <td>permanent</td>\n",
              "      <td>Gregory Martin International</td>\n",
              "      <td>Engineering Jobs</td>\n",
              "      <td>0</td>\n",
              "      <td>cv-library.co.uk</td>\n",
              "    </tr>\n",
              "  </tbody>\n",
              "</table>\n",
              "</div>\n",
              "    <div class=\"colab-df-buttons\">\n",
              "\n",
              "  <div class=\"colab-df-container\">\n",
              "    <button class=\"colab-df-convert\" onclick=\"convertToInteractive('df-dea5f019-d964-4e12-afb2-6f239a369725')\"\n",
              "            title=\"Convert this dataframe to an interactive table.\"\n",
              "            style=\"display:none;\">\n",
              "\n",
              "  <svg xmlns=\"http://www.w3.org/2000/svg\" height=\"24px\" viewBox=\"0 -960 960 960\">\n",
              "    <path d=\"M120-120v-720h720v720H120Zm60-500h600v-160H180v160Zm220 220h160v-160H400v160Zm0 220h160v-160H400v160ZM180-400h160v-160H180v160Zm440 0h160v-160H620v160ZM180-180h160v-160H180v160Zm440 0h160v-160H620v160Z\"/>\n",
              "  </svg>\n",
              "    </button>\n",
              "\n",
              "  <style>\n",
              "    .colab-df-container {\n",
              "      display:flex;\n",
              "      gap: 12px;\n",
              "    }\n",
              "\n",
              "    .colab-df-convert {\n",
              "      background-color: #E8F0FE;\n",
              "      border: none;\n",
              "      border-radius: 50%;\n",
              "      cursor: pointer;\n",
              "      display: none;\n",
              "      fill: #1967D2;\n",
              "      height: 32px;\n",
              "      padding: 0 0 0 0;\n",
              "      width: 32px;\n",
              "    }\n",
              "\n",
              "    .colab-df-convert:hover {\n",
              "      background-color: #E2EBFA;\n",
              "      box-shadow: 0px 1px 2px rgba(60, 64, 67, 0.3), 0px 1px 3px 1px rgba(60, 64, 67, 0.15);\n",
              "      fill: #174EA6;\n",
              "    }\n",
              "\n",
              "    .colab-df-buttons div {\n",
              "      margin-bottom: 4px;\n",
              "    }\n",
              "\n",
              "    [theme=dark] .colab-df-convert {\n",
              "      background-color: #3B4455;\n",
              "      fill: #D2E3FC;\n",
              "    }\n",
              "\n",
              "    [theme=dark] .colab-df-convert:hover {\n",
              "      background-color: #434B5C;\n",
              "      box-shadow: 0px 1px 3px 1px rgba(0, 0, 0, 0.15);\n",
              "      filter: drop-shadow(0px 1px 2px rgba(0, 0, 0, 0.3));\n",
              "      fill: #FFFFFF;\n",
              "    }\n",
              "  </style>\n",
              "\n",
              "    <script>\n",
              "      const buttonEl =\n",
              "        document.querySelector('#df-dea5f019-d964-4e12-afb2-6f239a369725 button.colab-df-convert');\n",
              "      buttonEl.style.display =\n",
              "        google.colab.kernel.accessAllowed ? 'block' : 'none';\n",
              "\n",
              "      async function convertToInteractive(key) {\n",
              "        const element = document.querySelector('#df-dea5f019-d964-4e12-afb2-6f239a369725');\n",
              "        const dataTable =\n",
              "          await google.colab.kernel.invokeFunction('convertToInteractive',\n",
              "                                                    [key], {});\n",
              "        if (!dataTable) return;\n",
              "\n",
              "        const docLinkHtml = 'Like what you see? Visit the ' +\n",
              "          '<a target=\"_blank\" href=https://colab.research.google.com/notebooks/data_table.ipynb>data table notebook</a>'\n",
              "          + ' to learn more about interactive tables.';\n",
              "        element.innerHTML = '';\n",
              "        dataTable['output_type'] = 'display_data';\n",
              "        await google.colab.output.renderOutput(dataTable, element);\n",
              "        const docLink = document.createElement('div');\n",
              "        docLink.innerHTML = docLinkHtml;\n",
              "        element.appendChild(docLink);\n",
              "      }\n",
              "    </script>\n",
              "  </div>\n",
              "\n",
              "\n",
              "<div id=\"df-32c9043d-0651-49dc-b72b-2a3044b7702b\">\n",
              "  <button class=\"colab-df-quickchart\" onclick=\"quickchart('df-32c9043d-0651-49dc-b72b-2a3044b7702b')\"\n",
              "            title=\"Suggest charts\"\n",
              "            style=\"display:none;\">\n",
              "\n",
              "<svg xmlns=\"http://www.w3.org/2000/svg\" height=\"24px\"viewBox=\"0 0 24 24\"\n",
              "     width=\"24px\">\n",
              "    <g>\n",
              "        <path d=\"M19 3H5c-1.1 0-2 .9-2 2v14c0 1.1.9 2 2 2h14c1.1 0 2-.9 2-2V5c0-1.1-.9-2-2-2zM9 17H7v-7h2v7zm4 0h-2V7h2v10zm4 0h-2v-4h2v4z\"/>\n",
              "    </g>\n",
              "</svg>\n",
              "  </button>\n",
              "\n",
              "<style>\n",
              "  .colab-df-quickchart {\n",
              "      --bg-color: #E8F0FE;\n",
              "      --fill-color: #1967D2;\n",
              "      --hover-bg-color: #E2EBFA;\n",
              "      --hover-fill-color: #174EA6;\n",
              "      --disabled-fill-color: #AAA;\n",
              "      --disabled-bg-color: #DDD;\n",
              "  }\n",
              "\n",
              "  [theme=dark] .colab-df-quickchart {\n",
              "      --bg-color: #3B4455;\n",
              "      --fill-color: #D2E3FC;\n",
              "      --hover-bg-color: #434B5C;\n",
              "      --hover-fill-color: #FFFFFF;\n",
              "      --disabled-bg-color: #3B4455;\n",
              "      --disabled-fill-color: #666;\n",
              "  }\n",
              "\n",
              "  .colab-df-quickchart {\n",
              "    background-color: var(--bg-color);\n",
              "    border: none;\n",
              "    border-radius: 50%;\n",
              "    cursor: pointer;\n",
              "    display: none;\n",
              "    fill: var(--fill-color);\n",
              "    height: 32px;\n",
              "    padding: 0;\n",
              "    width: 32px;\n",
              "  }\n",
              "\n",
              "  .colab-df-quickchart:hover {\n",
              "    background-color: var(--hover-bg-color);\n",
              "    box-shadow: 0 1px 2px rgba(60, 64, 67, 0.3), 0 1px 3px 1px rgba(60, 64, 67, 0.15);\n",
              "    fill: var(--button-hover-fill-color);\n",
              "  }\n",
              "\n",
              "  .colab-df-quickchart-complete:disabled,\n",
              "  .colab-df-quickchart-complete:disabled:hover {\n",
              "    background-color: var(--disabled-bg-color);\n",
              "    fill: var(--disabled-fill-color);\n",
              "    box-shadow: none;\n",
              "  }\n",
              "\n",
              "  .colab-df-spinner {\n",
              "    border: 2px solid var(--fill-color);\n",
              "    border-color: transparent;\n",
              "    border-bottom-color: var(--fill-color);\n",
              "    animation:\n",
              "      spin 1s steps(1) infinite;\n",
              "  }\n",
              "\n",
              "  @keyframes spin {\n",
              "    0% {\n",
              "      border-color: transparent;\n",
              "      border-bottom-color: var(--fill-color);\n",
              "      border-left-color: var(--fill-color);\n",
              "    }\n",
              "    20% {\n",
              "      border-color: transparent;\n",
              "      border-left-color: var(--fill-color);\n",
              "      border-top-color: var(--fill-color);\n",
              "    }\n",
              "    30% {\n",
              "      border-color: transparent;\n",
              "      border-left-color: var(--fill-color);\n",
              "      border-top-color: var(--fill-color);\n",
              "      border-right-color: var(--fill-color);\n",
              "    }\n",
              "    40% {\n",
              "      border-color: transparent;\n",
              "      border-right-color: var(--fill-color);\n",
              "      border-top-color: var(--fill-color);\n",
              "    }\n",
              "    60% {\n",
              "      border-color: transparent;\n",
              "      border-right-color: var(--fill-color);\n",
              "    }\n",
              "    80% {\n",
              "      border-color: transparent;\n",
              "      border-right-color: var(--fill-color);\n",
              "      border-bottom-color: var(--fill-color);\n",
              "    }\n",
              "    90% {\n",
              "      border-color: transparent;\n",
              "      border-bottom-color: var(--fill-color);\n",
              "    }\n",
              "  }\n",
              "</style>\n",
              "\n",
              "  <script>\n",
              "    async function quickchart(key) {\n",
              "      const quickchartButtonEl =\n",
              "        document.querySelector('#' + key + ' button');\n",
              "      quickchartButtonEl.disabled = true;  // To prevent multiple clicks.\n",
              "      quickchartButtonEl.classList.add('colab-df-spinner');\n",
              "      try {\n",
              "        const charts = await google.colab.kernel.invokeFunction(\n",
              "            'suggestCharts', [key], {});\n",
              "      } catch (error) {\n",
              "        console.error('Error during call to suggestCharts:', error);\n",
              "      }\n",
              "      quickchartButtonEl.classList.remove('colab-df-spinner');\n",
              "      quickchartButtonEl.classList.add('colab-df-quickchart-complete');\n",
              "    }\n",
              "    (() => {\n",
              "      let quickchartButtonEl =\n",
              "        document.querySelector('#df-32c9043d-0651-49dc-b72b-2a3044b7702b button');\n",
              "      quickchartButtonEl.style.display =\n",
              "        google.colab.kernel.accessAllowed ? 'block' : 'none';\n",
              "    })();\n",
              "  </script>\n",
              "</div>\n",
              "    </div>\n",
              "  </div>\n"
            ],
            "application/vnd.google.colaboratory.intrinsic+json": {
              "type": "dataframe",
              "variable_name": "df"
            }
          },
          "metadata": {},
          "execution_count": 43
        }
      ],
      "source": [
        "df['SalaryNormalized'] = (df['SalaryNormalized'] > median).astype(int)\n",
        "df.drop('SalaryRaw', axis=1, inplace=True)\n",
        "df.head()"
      ]
    },
    {
      "cell_type": "markdown",
      "metadata": {
        "id": "-DauQJID-fa5"
      },
      "source": [
        "#### 1. (0 баллов) Разбейте получившуюся выборку на обучающую и контрольную в соотношении 70/30 с использованием перемешивания объектов.\n",
        "\n",
        "При разбиении используйте значение параметра random_state=42."
      ]
    },
    {
      "cell_type": "code",
      "execution_count": 44,
      "metadata": {
        "collapsed": true,
        "id": "uFbl5Xjp-fa5"
      },
      "outputs": [],
      "source": [
        "df = df.reindex(np.random.permutation(df.index))"
      ]
    },
    {
      "cell_type": "code",
      "execution_count": 45,
      "metadata": {
        "id": "Xx6xBs8p-fa6"
      },
      "outputs": [],
      "source": [
        "y = df[\"SalaryNormalized\"]\n",
        "# y.head()"
      ]
    },
    {
      "cell_type": "code",
      "execution_count": 46,
      "metadata": {
        "id": "Ta8VmsaC-fa6"
      },
      "outputs": [],
      "source": [
        "df.drop(\"SalaryNormalized\", axis=1, inplace=True)\n",
        "X_train, X_test, y_train, y_test = model_selection.train_test_split(df, y, test_size=0.3, random_state=42)"
      ]
    },
    {
      "cell_type": "code",
      "execution_count": 47,
      "metadata": {
        "scrolled": true,
        "id": "_SKMlvl0-fa6"
      },
      "outputs": [],
      "source": [
        "# print X_train.shape, y_test.shape\n",
        "y_train = y_train.reset_index()\n",
        "y_test = y_test.reset_index()"
      ]
    },
    {
      "cell_type": "markdown",
      "metadata": {
        "id": "XhvFgrvr-fa7"
      },
      "source": [
        "## Векторизация\n",
        "\n",
        "Как правило, модели, используемые в машинном обучении, применяются в предположении, что матрица \"объект-признак\" является вещественнозначной. Поэтому при работе с категориальными признаками и текстами сперва их необходимо привести к вещественному виду.\n",
        "\n",
        "Заметим, что в нашей задаче есть признаки, являющиеся текстами произвольной природы (Title, FullDescription), и категориальные признаки, принимающие ограниченное число значений (ContractType, Category и др.).\n",
        "\n",
        "Самый простой и понятный способ преобразования текстовых данных — векторизация. В этом случае для каждого слова, встречающегося в некотором набре текстов мы создаём отдельный новый признак, который будет равен $1$, когда слово встречается в заданном объекте, и $0$ – в противном случае.\n",
        "\n",
        "#### 2. (0.5 балла) Создайте текстовое описание объектов обучающей и контрольной выборок, объединив значения всех признаков каждого объекта выборки через символы пробела. После этого получите признаковое описание объектов, осуществив векторизацию получившихся текстов при помощи [CountVectorizer](http://scikit-learn.org/stable/modules/generated/sklearn.feature_extraction.text.CountVectorizer.html), обучив его на обучающей выборке и применив на контрольной."
      ]
    },
    {
      "cell_type": "code",
      "execution_count": 48,
      "metadata": {
        "scrolled": true,
        "id": "nl82gGSa-fa7"
      },
      "outputs": [],
      "source": [
        "X_train = X_train.replace(np.nan, ' ', regex=True)\n",
        "X_test = X_test.replace(np.nan, ' ', regex=True)\n",
        "\n",
        "X_train[\"Desc\"] = X_train[\"Title\"] + \" \" + X_train[\"FullDescription\"] + \" \" + X_train[\"LocationRaw\"] + \" \" + X_train[\"LocationNormalized\"] + \" \" + X_train[\"ContractType\"] + \" \" + X_train[\"ContractTime\"] + \" \" + X_train[\"Company\"] + \" \" + X_train[\"Category\"]\n",
        "X_test[\"Desc\"] = X_test[\"Title\"] + \" \" + X_test[\"FullDescription\"] + \" \" + X_test[\"LocationRaw\"] + \" \" + X_test[\"LocationNormalized\"] + \" \" + X_test[\"ContractType\"] + \" \" + X_test[\"ContractTime\"] + \" \" + X_test[\"Company\"] + \" \" + X_test[\"Category\"]"
      ]
    },
    {
      "cell_type": "code",
      "execution_count": 49,
      "metadata": {
        "scrolled": true,
        "id": "_3tqkUwB-fa7",
        "outputId": "6786059e-0dd2-47f0-cfde-027a46611c1c",
        "colab": {
          "base_uri": "https://localhost:8080/"
        }
      },
      "outputs": [
        {
          "output_type": "stream",
          "name": "stdout",
          "text": [
            "CPU times: user 38.6 s, sys: 532 ms, total: 39.1 s\n",
            "Wall time: 41.5 s\n"
          ]
        }
      ],
      "source": [
        "%%time\n",
        "vectorizer = feature_extraction.text.CountVectorizer(binary=True)\n",
        "X_train_bag = vectorizer.fit_transform(X_train[\"Desc\"])\n"
      ]
    },
    {
      "cell_type": "code",
      "execution_count": 50,
      "metadata": {
        "id": "0g29E1c6-fa8",
        "outputId": "f005cf84-744d-4a0f-f108-cdb2a1dd6e7f",
        "colab": {
          "base_uri": "https://localhost:8080/"
        }
      },
      "outputs": [
        {
          "output_type": "execute_result",
          "data": {
            "text/plain": [
              "<Compressed Sparse Row sparse matrix of dtype 'int64'\n",
              "\twith 25241717 stored elements and shape (171337, 168755)>"
            ]
          },
          "metadata": {},
          "execution_count": 50
        }
      ],
      "source": [
        "X_train_bag"
      ]
    },
    {
      "cell_type": "code",
      "execution_count": 51,
      "metadata": {
        "id": "wWVibAUC-fa8",
        "outputId": "9c2b4e12-74fb-4670-a548-0b5cea320a76",
        "colab": {
          "base_uri": "https://localhost:8080/"
        }
      },
      "outputs": [
        {
          "output_type": "stream",
          "name": "stdout",
          "text": [
            "CPU times: user 17 s, sys: 45 ms, total: 17.1 s\n",
            "Wall time: 17.2 s\n"
          ]
        }
      ],
      "source": [
        "%%time\n",
        "X_test_bag = vectorizer.transform(X_test[\"Desc\"])\n",
        "# X_test_bag\n",
        "# df[7:10]"
      ]
    },
    {
      "cell_type": "markdown",
      "metadata": {
        "id": "0YH4gHgJ-fa8"
      },
      "source": [
        "#### 3. (1.5 балла) Обучите следующие модели на обучающей выборке:\n",
        " - [логистическую регрессию](http://scikit-learn.org/stable/modules/generated/sklearn.linear_model.LogisticRegression.html) из модуля sklearn с параметрами по умолчанию;\n",
        " - логистическую регрессию при помощи Vowpal Wabbit с параметрами по умолчанию."
      ]
    },
    {
      "cell_type": "code",
      "execution_count": 52,
      "metadata": {
        "id": "XQuDX3Jd-fa8",
        "outputId": "2b843aa6-21e9-4889-f30c-e88e6e8b300d",
        "colab": {
          "base_uri": "https://localhost:8080/"
        }
      },
      "outputs": [
        {
          "output_type": "stream",
          "name": "stdout",
          "text": [
            "CPU times: user 1.58 s, sys: 2.12 s, total: 3.71 s\n",
            "Wall time: 30.2 s\n"
          ]
        }
      ],
      "source": [
        "%%time\n",
        "lr = linear_model.LogisticRegression(n_jobs=16)\n",
        "lr = lr.fit(X_train_bag, y_train[\"SalaryNormalized\"])"
      ]
    },
    {
      "cell_type": "code",
      "execution_count": 53,
      "metadata": {
        "id": "_M3PP0lF-fa9"
      },
      "outputs": [],
      "source": [
        "prob_pred_lr = lr.predict_proba(X_test_bag)\n",
        "class_pred_lr = lr.predict(X_test_bag)"
      ]
    },
    {
      "cell_type": "code",
      "execution_count": 54,
      "metadata": {
        "id": "NrXJ67mA-fa9"
      },
      "outputs": [],
      "source": [
        "def build_vw_data(filename, X_vect, y):\n",
        "    f = open(filename, \"w\")\n",
        "    for i in range(X_vect.shape[0]):\n",
        "        vw_raw = str(1 if y.loc[i][\"SalaryNormalized\"] else -1) + \" |features\"\n",
        "        for feature in range(X_vect.indptr[i], X_vect.indptr[i+1]):\n",
        "            vw_raw += \" \" + str(X_vect.indices[feature]) + \":\" + str(float(X_vect.data[feature]))\n",
        "        vw_raw += \"\\n\"\n",
        "        f.write(vw_raw)\n",
        "    f.close()"
      ]
    },
    {
      "cell_type": "code",
      "execution_count": 55,
      "metadata": {
        "id": "B3PbfuxD-fa-",
        "outputId": "67c8798c-6e5b-48ea-bd12-8ea970554904",
        "colab": {
          "base_uri": "https://localhost:8080/"
        }
      },
      "outputs": [
        {
          "output_type": "stream",
          "name": "stdout",
          "text": [
            "CPU times: user 49.2 s, sys: 1.21 s, total: 50.4 s\n",
            "Wall time: 50.9 s\n"
          ]
        }
      ],
      "source": [
        "%%time\n",
        "build_vw_data(\"train.vw\", X_train_bag, y_train)\n",
        "build_vw_data(\"test.vw\", X_test_bag, y_test)\n"
      ]
    },
    {
      "cell_type": "code",
      "execution_count": 56,
      "metadata": {
        "scrolled": true,
        "id": "C3ISBeDh-fa-",
        "outputId": "156709f4-101a-453e-e0c1-ee38d24074d2",
        "colab": {
          "base_uri": "https://localhost:8080/"
        }
      },
      "outputs": [
        {
          "output_type": "stream",
          "name": "stdout",
          "text": [
            "final_regressor = solution.vw\n",
            "Num weight bits = 18\n",
            "learning rate = 0.5\n",
            "initial_t = 0\n",
            "power_t = 0.5\n",
            "using no cache\n",
            "Reading datafile = train.vw\n",
            "num sources = 1\n",
            "average  since         example        example  current  current  current\n",
            "loss     last          counter         weight    label  predict features\n",
            "0.693147 0.693147            1            1.0  -1.0000   0.0000      178\n",
            "0.560864 0.428581            2            2.0  -1.0000  -0.6253      188\n",
            "0.732836 0.904807            4            4.0  -1.0000  -0.1999       71\n",
            "0.498703 0.264571            8            8.0  -1.0000  -1.5009      130\n",
            "0.678478 0.858252           16           16.0   1.0000  -0.5613      149\n",
            "0.674039 0.669601           32           32.0  -1.0000  -1.0182      100\n",
            "0.661873 0.649706           64           64.0  -1.0000  -0.5970      154\n",
            "0.650891 0.639909          128          128.0  -1.0000  -0.6825      209\n",
            "0.614522 0.578153          256          256.0  -1.0000   1.1357      129\n",
            "0.599961 0.585400          512          512.0   1.0000   0.7117      163\n",
            "0.547369 0.494778         1024         1024.0   1.0000   2.1462      208\n",
            "0.509841 0.472312         2048         2048.0  -1.0000   0.7253      134\n",
            "0.467759 0.425677         4096         4096.0  -1.0000  -1.1562      144\n",
            "0.440441 0.413123         8192         8192.0   1.0000   1.7917      189\n",
            "0.412508 0.384576        16384        16384.0  -1.0000  -2.1350      108\n",
            "0.391437 0.370366        32768        32768.0  -1.0000  -1.7230      115\n",
            "0.372545 0.353653        65536        65536.0  -1.0000  -1.2187       99\n",
            "0.356614 0.340683       131072       131072.0   1.0000   2.2024      133\n",
            "\n",
            "finished run\n",
            "number of examples = 171337\n",
            "weighted example sum = 171337.000000\n",
            "weighted label sum = -5129.000000\n",
            "average loss = 0.351197\n",
            "best constant = -0.059888\n",
            "best constant's loss = 0.692699\n",
            "total feature number = 25413054\n",
            "CPU times: user 40.3 ms, sys: 4.09 ms, total: 44.3 ms\n",
            "Wall time: 4.12 s\n"
          ]
        }
      ],
      "source": [
        "%%time\n",
        "!vw -d train.vw --loss_function=logistic --readable_model solution.txt -f solution.vw"
      ]
    },
    {
      "cell_type": "code",
      "execution_count": 57,
      "metadata": {
        "scrolled": true,
        "id": "WOXxhM8a-fa-",
        "outputId": "1e04b08a-35b9-4519-ae0c-377157636bb2",
        "colab": {
          "base_uri": "https://localhost:8080/"
        }
      },
      "outputs": [
        {
          "output_type": "stream",
          "name": "stdout",
          "text": [
            "only testing\n",
            "predictions = probs.vw\n",
            "Error: option '--link' cannot be specified more than once\n",
            "\n",
            "finished run\n",
            "number of examples = 0\n",
            "weighted example sum = 0.000000\n",
            "weighted label sum = 0.000000\n",
            "average loss = n.a.\n",
            "total feature number = 0\n",
            "option '--link' cannot be specified more than once\n",
            "vw: option '--link' cannot be specified more than once\n"
          ]
        }
      ],
      "source": [
        "!vw -d test.vw -t -i solution.vw --link=logistic -p probs.vw"
      ]
    },
    {
      "cell_type": "code",
      "execution_count": 58,
      "metadata": {
        "scrolled": true,
        "id": "l3KWLN2j-fa_",
        "outputId": "3217945e-8bdf-4d40-ab2e-20e3bc23263e",
        "colab": {
          "base_uri": "https://localhost:8080/"
        }
      },
      "outputs": [
        {
          "output_type": "stream",
          "name": "stdout",
          "text": [
            "only testing\n",
            "predictions = pred.vw\n",
            "Num weight bits = 18\n",
            "learning rate = 0.5\n",
            "initial_t = 0\n",
            "power_t = 0.5\n",
            "using no cache\n",
            "Reading datafile = test.vw\n",
            "num sources = 1\n",
            "average  since         example        example  current  current  current\n",
            "loss     last          counter         weight    label  predict features\n",
            "0.000000 0.000000            1            1.0   1.0000   1.0000      210\n",
            "0.000000 0.000000            2            2.0  -1.0000  -1.0000      114\n",
            "0.000000 0.000000            4            4.0  -1.0000  -1.0000      164\n",
            "0.000000 0.000000            8            8.0  -1.0000  -1.0000      208\n",
            "0.062500 0.125000           16           16.0   1.0000   1.0000      136\n",
            "0.062500 0.062500           32           32.0  -1.0000  -1.0000      160\n",
            "0.093750 0.125000           64           64.0   1.0000   1.0000      176\n",
            "0.117188 0.140625          128          128.0  -1.0000  -1.0000      106\n",
            "0.136719 0.156250          256          256.0   1.0000   1.0000      269\n",
            "0.128906 0.121094          512          512.0   1.0000   1.0000      109\n",
            "0.125000 0.121094         1024         1024.0  -1.0000  -1.0000       78\n",
            "0.127930 0.130859         2048         2048.0   1.0000   1.0000      100\n",
            "0.134521 0.141113         4096         4096.0  -1.0000  -1.0000       57\n",
            "0.134155 0.133789         8192         8192.0   1.0000   1.0000      139\n",
            "0.137573 0.140991        16384        16384.0  -1.0000   1.0000      208\n",
            "0.138458 0.139343        32768        32768.0  -1.0000  -1.0000      197\n",
            "0.138931 0.139404        65536        65536.0  -1.0000   1.0000      157\n",
            "\n",
            "finished run\n",
            "number of examples = 73431\n",
            "weighted example sum = 73431.000000\n",
            "weighted label sum = -2481.000000\n",
            "average loss = 0.138702\n",
            "best constant = -0.033787\n",
            "best constant's loss = 0.998858\n",
            "total feature number = 10867612\n"
          ]
        }
      ],
      "source": [
        "!vw -d test.vw -t -i solution.vw --binary -p pred.vw"
      ]
    },
    {
      "cell_type": "markdown",
      "metadata": {
        "id": "DmgvIGv4-fa_"
      },
      "source": [
        "#### 4. (0.5 балла) Вычислите значения ROC-AUC, [F-меры](http://scikit-learn.org/stable/modules/generated/sklearn.metrics.f1_score.html), а также постройте [матрицу ошибок](http://scikit-learn.org/stable/modules/generated/sklearn.metrics.confusion_matrix.html) для каждой из построенных в п. 3 моделей на контрольной выборке. Сравните построенные модели по качеству их работы."
      ]
    },
    {
      "cell_type": "code",
      "execution_count": 59,
      "metadata": {
        "id": "BDsfiZzS-fa_",
        "outputId": "7dbd58c6-f7bb-47ef-ce8a-ab2618d071d6",
        "colab": {
          "base_uri": "https://localhost:8080/"
        }
      },
      "outputs": [
        {
          "output_type": "stream",
          "name": "stdout",
          "text": [
            "AUC-ROC: 0.9364188492131128\n",
            "F-measure: 0.8601489836286351\n",
            "[[32805  5151]\n",
            " [ 4818 30657]]\n"
          ]
        }
      ],
      "source": [
        "#sklearn\n",
        "print(\"AUC-ROC:\", metrics.roc_auc_score(y_test[\"SalaryNormalized\"], prob_pred_lr[:,1]))\n",
        "print(\"F-measure:\", metrics.f1_score(y_test[\"SalaryNormalized\"], class_pred_lr))\n",
        "print(metrics.confusion_matrix(y_test[\"SalaryNormalized\"], class_pred_lr))"
      ]
    },
    {
      "cell_type": "code",
      "execution_count": 66,
      "metadata": {
        "id": "8IMw-LAd-fa_",
        "outputId": "3d6b5756-2a6a-4ec8-898e-fe85b870fe18",
        "colab": {
          "base_uri": "https://localhost:8080/",
          "height": 216
        }
      },
      "outputs": [
        {
          "output_type": "error",
          "ename": "NameError",
          "evalue": "name 'predictions_vw' is not defined",
          "traceback": [
            "\u001b[0;31m---------------------------------------------------------------------------\u001b[0m",
            "\u001b[0;31mNameError\u001b[0m                                 Traceback (most recent call last)",
            "\u001b[0;32m<ipython-input-66-2ece202edf02>\u001b[0m in \u001b[0;36m<cell line: 0>\u001b[0;34m()\u001b[0m\n\u001b[1;32m      2\u001b[0m \u001b[0;34m\u001b[0m\u001b[0m\n\u001b[1;32m      3\u001b[0m \u001b[0;31m# Создаем временные потоки для предсказаний\u001b[0m\u001b[0;34m\u001b[0m\u001b[0;34m\u001b[0m\u001b[0m\n\u001b[0;32m----> 4\u001b[0;31m \u001b[0mprob_pred_vw\u001b[0m \u001b[0;34m=\u001b[0m \u001b[0mpd\u001b[0m\u001b[0;34m.\u001b[0m\u001b[0mDataFrame\u001b[0m\u001b[0;34m(\u001b[0m\u001b[0;34m[\u001b[0m\u001b[0mfloat\u001b[0m\u001b[0;34m(\u001b[0m\u001b[0mline\u001b[0m\u001b[0;34m.\u001b[0m\u001b[0mstrip\u001b[0m\u001b[0;34m(\u001b[0m\u001b[0;34m)\u001b[0m\u001b[0;34m)\u001b[0m \u001b[0;32mfor\u001b[0m \u001b[0mline\u001b[0m \u001b[0;32min\u001b[0m \u001b[0mpredictions_vw\u001b[0m\u001b[0;34m]\u001b[0m\u001b[0;34m,\u001b[0m \u001b[0mcolumns\u001b[0m\u001b[0;34m=\u001b[0m\u001b[0;34m[\u001b[0m\u001b[0;34m\"PROB\"\u001b[0m\u001b[0;34m]\u001b[0m\u001b[0;34m)\u001b[0m\u001b[0;34m\u001b[0m\u001b[0;34m\u001b[0m\u001b[0m\n\u001b[0m\u001b[1;32m      5\u001b[0m \u001b[0mclass_pred_vw\u001b[0m \u001b[0;34m=\u001b[0m \u001b[0mpd\u001b[0m\u001b[0;34m.\u001b[0m\u001b[0mDataFrame\u001b[0m\u001b[0;34m(\u001b[0m\u001b[0;34m[\u001b[0m\u001b[0;36m1\u001b[0m \u001b[0;32mif\u001b[0m \u001b[0mfloat\u001b[0m\u001b[0;34m(\u001b[0m\u001b[0mline\u001b[0m\u001b[0;34m.\u001b[0m\u001b[0mstrip\u001b[0m\u001b[0;34m(\u001b[0m\u001b[0;34m)\u001b[0m\u001b[0;34m)\u001b[0m \u001b[0;34m>\u001b[0m \u001b[0;36m0\u001b[0m \u001b[0;32melse\u001b[0m \u001b[0;36m0\u001b[0m \u001b[0;32mfor\u001b[0m \u001b[0mline\u001b[0m \u001b[0;32min\u001b[0m \u001b[0mpredictions_vw\u001b[0m\u001b[0;34m]\u001b[0m\u001b[0;34m,\u001b[0m \u001b[0mcolumns\u001b[0m\u001b[0;34m=\u001b[0m\u001b[0;34m[\u001b[0m\u001b[0;34m\"PRED\"\u001b[0m\u001b[0;34m]\u001b[0m\u001b[0;34m)\u001b[0m\u001b[0;34m\u001b[0m\u001b[0;34m\u001b[0m\u001b[0m\n\u001b[1;32m      6\u001b[0m \u001b[0;34m\u001b[0m\u001b[0m\n",
            "\u001b[0;31mNameError\u001b[0m: name 'predictions_vw' is not defined"
          ]
        }
      ],
      "source": [
        "#vw\n",
        "prob_pred_vw = pd.read_csv(\"probs.vw\", names=[\"PROB\"], header=None)\n",
        "class_pred_vw = pd.read_csv(\"pred.vw\", header=None, names=[\"PRED\"])\n",
        "class_pred_vw.ix[class_pred_vw.PRED == -1, \"PRED\"] = 0\n",
        "print(\"AUC-ROC:\", metrics.roc_auc_score(y_test[\"SalaryNormalized\"], prob_pred_vw))\n",
        "print(\"F-measure:\", metrics.f1_score(y_test[\"SalaryNormalized\"], class_pred_vw))\n",
        "print(metrics.confusion_matrix(y_test[\"SalaryNormalized\"], class_pred_vw))"
      ]
    },
    {
      "cell_type": "markdown",
      "metadata": {
        "id": "hxjx29ld-fbA"
      },
      "source": [
        "Оба результата очень хорошие. Метрика AUC-ROC оценивает приятнее F-меры, так что если уж показывать боссу результат, то использовать её. По всем показателям логистическая регрессия лучше обучилась у sklearn. В том числе и ошибок FP FN меньше дал на тестовой выборке sklearn. Вообще vw тоже норм, учитывая скорость обучения, результаты получились отличные."
      ]
    },
    {
      "cell_type": "markdown",
      "metadata": {
        "id": "SV6DibOE-fbA"
      },
      "source": [
        "#### 5. (1 балл) Отсортируйте веса признаков для модели логистической регрессии из scikit-learn, полученной в п. 2. Какие слова из встречающихся в выборке имеют наибольшее/наименьшее влияние на значение целевой переменной? Проинтерпретируйте полученный результат."
      ]
    },
    {
      "cell_type": "code",
      "execution_count": 67,
      "metadata": {
        "collapsed": true,
        "id": "SjUsU7e--fbA"
      },
      "outputs": [],
      "source": [
        "def get_sorted_words(coefs, word_names):\n",
        "    pos_weights = []\n",
        "    neg_weights = []\n",
        "    for i in range(coefs.shape[1]):\n",
        "        pos_weights.append([i, coefs[0][i]]) if coefs[0][i] > 0 else neg_weights.append([i, coefs[0][i]])\n",
        "\n",
        "    pos_weights = sorted(pos_weights, key=lambda x: x[1]) #по возрастанию веса\n",
        "    neg_weights = sorted(neg_weights, key=lambda x: -x[1]) #по убыванию веса\n",
        "\n",
        "\n",
        "    print(\"САМЫЕ весомые вверх:\\n\")\n",
        "    for i in range(20):\n",
        "        print(word_names[pos_weights[- i - 1][0]])\n",
        "\n",
        "    print(\"САМЫЕ весомые вниз:\\n\")\n",
        "    for i in range(20):\n",
        "        print(word_names[neg_weights[- i - 1][0]])\n",
        "\n",
        "    print(\"САМЫЕ не весомые вверх и вниз:\\n\")\n",
        "    for i in range(10):\n",
        "        print(word_names[pos_weights[i][0]], \">up\")\n",
        "        print(word_names[neg_weights[i][0]], \"<down\")"
      ]
    },
    {
      "cell_type": "code",
      "execution_count": 68,
      "metadata": {
        "id": "tePw16MR-fbA",
        "outputId": "1cd9e56c-3f6c-4b83-efe6-4f159fbd69ae",
        "colab": {
          "base_uri": "https://localhost:8080/",
          "height": 144
        }
      },
      "outputs": [
        {
          "output_type": "error",
          "ename": "AttributeError",
          "evalue": "'CountVectorizer' object has no attribute 'get_feature_names'",
          "traceback": [
            "\u001b[0;31m---------------------------------------------------------------------------\u001b[0m",
            "\u001b[0;31mAttributeError\u001b[0m                            Traceback (most recent call last)",
            "\u001b[0;32m<ipython-input-68-2ba1a07c176a>\u001b[0m in \u001b[0;36m<cell line: 0>\u001b[0;34m()\u001b[0m\n\u001b[0;32m----> 1\u001b[0;31m \u001b[0mget_sorted_words\u001b[0m\u001b[0;34m(\u001b[0m\u001b[0mlr\u001b[0m\u001b[0;34m.\u001b[0m\u001b[0mcoef_\u001b[0m\u001b[0;34m,\u001b[0m \u001b[0mvectorizer\u001b[0m\u001b[0;34m.\u001b[0m\u001b[0mget_feature_names\u001b[0m\u001b[0;34m(\u001b[0m\u001b[0;34m)\u001b[0m\u001b[0;34m)\u001b[0m\u001b[0;34m\u001b[0m\u001b[0;34m\u001b[0m\u001b[0m\n\u001b[0m",
            "\u001b[0;31mAttributeError\u001b[0m: 'CountVectorizer' object has no attribute 'get_feature_names'"
          ]
        }
      ],
      "source": [
        "get_sorted_words(lr.coef_, vectorizer.get_feature_names())"
      ]
    },
    {
      "cell_type": "markdown",
      "metadata": {
        "id": "hq37ttr0-fbB"
      },
      "source": [
        "Результаты получились логичные. Зарплату значительно повышают разные начальники, менеджеры, судьи, hcpс(Health and Care Professions Council), вообщем специалисты. Понижают слова вроде бистро, помошник, стажер, сторож, клерк и прочие. Незначительное влияние имеют \"битые\" слова и общеупотребимые, обычно не несущие никакой конкретики, а так же прилагательные(они обычно употребляются во всех объявлениях независимо от зарплаты)."
      ]
    },
    {
      "cell_type": "markdown",
      "metadata": {
        "id": "pDRwcQg2-fbB"
      },
      "source": [
        "#### 6. (0.5 доп. балла) Отсортируйте веса признаков для модели логистической регрессии, полученной в п. 2 при помощи Vowpal Wabbit. Какие слова из встречающихся в выборке имеют наибольшее/наименьшее влияние на значение целевой переменной? Проинтерпретирйте полученный результат."
      ]
    },
    {
      "cell_type": "code",
      "execution_count": null,
      "metadata": {
        "id": "POtxvvGh-fbC"
      },
      "outputs": [],
      "source": [
        "sol = pd.read_csv(\"solution.txt\", sep=\":\", skiprows=11, header=None, names=[\"id\", \"w\"])"
      ]
    },
    {
      "cell_type": "code",
      "execution_count": null,
      "metadata": {
        "id": "eZ8Gqgc8-fbC"
      },
      "outputs": [],
      "source": [
        "get_sorted_words(np.array([sol[\"w\"]]), vectorizer.get_feature_names())"
      ]
    },
    {
      "cell_type": "markdown",
      "metadata": {
        "id": "FevF3Dht-fbC"
      },
      "source": [
        "Тут поменьше мусора, но результат вцелом очень похож на предыдущий.\n",
        "manager\n",
        "lawyer\n",
        "solicitor\n",
        "director\n",
        "senior pomidor\n",
        "gmc\n",
        "lecturer\n",
        "тут и директор и мееджер и дженерал моторс, все эти слова имеют высокое влияние на классификацию 1.\n",
        "Разная прислуга, асистенты вроде assistant, планктон (clerk commis), выпускники получают, занятые частично (unloading, partie) имеют маленькую зарплату.\n",
        "Редкие слова имеют вес около нуля.\n",
        "Интерестно, в каком контексте употреблялось слово пиво? Погляжу на досуге..."
      ]
    },
    {
      "cell_type": "markdown",
      "metadata": {
        "id": "cF1UwjzF-fbD"
      },
      "source": [
        "## TF-IDF\n",
        "\n",
        "Ещё один способ работы с текстовыми данными — [TF-IDF](https://en.wikipedia.org/wiki/Tf–idf) (**T**erm **F**requency–**I**nverse **D**ocument **F**requency). Рассмотрим коллекцию текстов $D$.  Для каждого уникального слова $t$ из документа $d \\in D$ вычислим следующие величины:\n",
        "\n",
        "1. Term Frequency – количество вхождений слова в отношении к общему числу слов в тексте:\n",
        "$$\\text{tf}(t, d) = \\frac{n_{td}}{\\sum_{t \\in d} n_{td}},$$\n",
        "где $n_{td}$ — количество вхождений слова $t$ в текст $d$.\n",
        "1. Inverse Document Frequency\n",
        "$$\\text{idf}(t, D) = \\log \\frac{\\left| D \\right|}{\\left| \\{d\\in D: t \\in d\\} \\right|},$$\n",
        "где $\\left| \\{d\\in D: t \\in d\\} \\right|$ – количество текстов в коллекции, содержащих слово $t$.\n",
        "\n",
        "Тогда для каждой пары (слово, текст) $(t, d)$ вычислим величину:\n",
        "$$\\text{tf-idf}(t,d, D) = \\text{tf}(t, d)\\cdot \\text{idf}(t, D).$$\n",
        "\n",
        "Отметим, что значение $\\text{tf}(t, d)$ корректируется для часто встречающихся общеупотребимых слов при помощи значения $\\text{idf}(t, D).$\n",
        "\n",
        "Признаковым описанием одного объекта $d \\in D$ будет вектор $\\bigg(\\text{tf-idf}(t,d, D)\\bigg)_{t\\in V}$, где $V$ – словарь всех слов, встречающихся в коллекции $D$.\n",
        "\n",
        "#### 7. (0.5 балла) Создайте текстовое описание объектов обучающей и контрольной выборок, объединив значения всех признаков каждого объекта выборки через символы пробела. После этого получите признаковое описание объектов, вычислив вектор tf-idf для каждого объекта помощи [TfidfVectorizer](http://scikit-learn.org/stable/modules/generated/sklearn.feature_extraction.text.TfidfVectorizer.html), обучив его на обучающей выборке и применив на контрольной."
      ]
    },
    {
      "cell_type": "code",
      "execution_count": null,
      "metadata": {
        "id": "loLkwWEd-fbE"
      },
      "outputs": [],
      "source": [
        "%%time\n",
        "tfidf_vectorizer = feature_extraction.text.TfidfVectorizer()\n",
        "X_train_tfidf = tfidf_vectorizer.fit_transform(X_train[\"Desc\"])\n",
        "X_test_tfidf = tfidf_vectorizer.transform(X_test[\"Desc\"])"
      ]
    },
    {
      "cell_type": "markdown",
      "metadata": {
        "id": "kSJ1SF5f-fbF"
      },
      "source": [
        "#### 8. (0 баллов) Обучите следующие модели на обучающей выборке:\n",
        "- [логистическую регрессию](http://scikit-learn.org/stable/modules/generated/sklearn.linear_model.LogisticRegression.html) из модуля sklearn с параметрами по умолчанию;\n",
        "- логистическую регрессию при помощи Vowpal Wabbit с параметрами по умолчанию."
      ]
    },
    {
      "cell_type": "code",
      "execution_count": null,
      "metadata": {
        "scrolled": true,
        "id": "T-J-ce64-fbF"
      },
      "outputs": [],
      "source": [
        "%%time\n",
        "lr_tfidf = linear_model.LogisticRegression(n_jobs=16)\n",
        "lr_tfidf = lr_tfidf.fit(X_train_tfidf, y_train[\"SalaryNormalized\"])\n",
        "\n",
        "prob_pred_lr_tfidf = lr_tfidf.predict_proba(X_test_tfidf)\n",
        "class_pred_lr_tfidf = lr_tfidf.predict(X_test_tfidf)"
      ]
    },
    {
      "cell_type": "code",
      "execution_count": null,
      "metadata": {
        "id": "0l69jfZ0-fbF"
      },
      "outputs": [],
      "source": [
        "%%time\n",
        "build_vw_data(\"train_tfidf.vw\", X_train_tfidf, y_train)\n",
        "build_vw_data(\"test_tfidf.vw\", X_test_tfidf, y_test)"
      ]
    },
    {
      "cell_type": "code",
      "execution_count": null,
      "metadata": {
        "id": "QS7zpM2c-fbG"
      },
      "outputs": [],
      "source": [
        "%%time\n",
        "!vw -d train_tfidf.vw --loss_function=logistic --readable_model solution_tfidf.txt -f solution_tfidf.vw"
      ]
    },
    {
      "cell_type": "code",
      "execution_count": null,
      "metadata": {
        "id": "QylZWkqI-fbG"
      },
      "outputs": [],
      "source": [
        "!vw -d test_tfidf.vw -t -i solution_tfidf.vw --link=logistic -p probs_tfidf.vw"
      ]
    },
    {
      "cell_type": "code",
      "execution_count": null,
      "metadata": {
        "id": "z4PUcpeO-fbG"
      },
      "outputs": [],
      "source": [
        "!vw -d test_tfidf.vw -t -i solution_tfidf.vw --binary -p pred_tfidf.vw"
      ]
    },
    {
      "cell_type": "markdown",
      "metadata": {
        "id": "ibfRMMKy-fbG"
      },
      "source": [
        "#### 9. (0.5 балла) Вычислите значения ROC-AUC, [F-меры](http://scikit-learn.org/stable/modules/generated/sklearn.metrics.f1_score.html), а также постройте [матрицу ошибок](http://scikit-learn.org/stable/modules/generated/sklearn.metrics.confusion_matrix.html) для каждой из построенных в п. 8 моделей на контрольной выборке. Сравните построенные модели по качеству их работы."
      ]
    },
    {
      "cell_type": "code",
      "execution_count": null,
      "metadata": {
        "id": "OgT46ztu-fbH"
      },
      "outputs": [],
      "source": [
        "#sklearn\n",
        "print(\"AUC-ROC:\", metrics.roc_auc_score(y_test[\"SalaryNormalized\"], prob_pred_lr_tfidf[:,1]))\n",
        "print(\"F-measure:\", metrics.f1_score(y_test[\"SalaryNormalized\"], class_pred_lr_tfidf))\n",
        "print(metrics.confusion_matrix(y_test[\"SalaryNormalized\"], class_pred_lr_tfidf))"
      ]
    },
    {
      "cell_type": "code",
      "execution_count": null,
      "metadata": {
        "id": "03-h2F5m-fbH"
      },
      "outputs": [],
      "source": [
        "#vw\n",
        "prob_pred_vw_tfidf = pd.read_csv(\"probs_tfidf.vw\", names=[\"PROB\"], header=None)\n",
        "class_pred_vw_tfidf = pd.read_csv(\"pred_tfidf.vw\", header=None, names=[\"PRED\"])\n",
        "class_pred_vw_tfidf.ix[class_pred_vw_tfidf.PRED == -1, \"PRED\"] = 0\n",
        "print(\"AUC-ROC:\", metrics.roc_auc_score(y_test[\"SalaryNormalized\"], prob_pred_vw_tfidf))\n",
        "print(\"F-measure:\", metrics.f1_score(y_test[\"SalaryNormalized\"], class_pred_vw_tfidf))\n",
        "print(metrics.confusion_matrix(y_test[\"SalaryNormalized\"], class_pred_vw_tfidf))"
      ]
    },
    {
      "cell_type": "markdown",
      "metadata": {
        "id": "HUPRY-5z-fbH"
      },
      "source": [
        "vw модель показала лучший результат по всем метрикам. И площадь и гармоническое среднее pres и rec незначительно выше у модели vw. Ошибок FP FN так же меньше у vw."
      ]
    },
    {
      "cell_type": "markdown",
      "metadata": {
        "id": "kwy4iUrC-fbI"
      },
      "source": [
        "#### 10. (0.5 балла) Сравните значения метрик из п. 9 со значениями, полученными в п. 5, и сравните соответствующие модели по качеству из работы.\n",
        "\n",
        "**Ответ**:"
      ]
    },
    {
      "cell_type": "markdown",
      "metadata": {
        "id": "bGBfYPHf-fbI"
      },
      "source": [
        "В случае sklearn бинарная векторизация сработала чуть лучше чем tf-idf кодирование по всем метрикам.\n",
        "В случае vw ситуация обратная: показатели по всем метрикам при tf-idf кодировании здесь лучше.\n",
        "Разница вцелом соизмерима для всех случаев - auc-roc и f-мера отличаются на ~10-15 тысячных. Количество ошибок плавает от 200 до 600, что вцелом незначительно, учитывая количество правильных ответов и размер выборки вцелом.\n",
        "Таким образом, для бинарной векторизации лучше работает модель sklearn, vw же пригодится при tf-idf кодировании признаков."
      ]
    },
    {
      "cell_type": "markdown",
      "metadata": {
        "id": "pEnGNmf2-fbI"
      },
      "source": [
        "#### 11. (1 балл) Отсортируйте веса признаков для модели sclearn. Какие слова из встречающихся в выборке имеют наибольшее/наименьшее влияние на значение целевой переменной? Проинтерпретирйте полученный результат."
      ]
    },
    {
      "cell_type": "code",
      "execution_count": null,
      "metadata": {
        "id": "INT8Oogz-fbI"
      },
      "outputs": [],
      "source": [
        "get_sorted_words(lr_tfidf.coef_, tfidf_vectorizer.get_feature_names())"
      ]
    },
    {
      "cell_type": "markdown",
      "metadata": {
        "id": "pC-DQ3w1-fbI"
      },
      "source": [
        "Все из по той же схеме: лондон(дороговато там), синьер, главный, директор - имеют большой вес при определении положительного класса.\n",
        "Помошник, джуниор, стажировка, телефон, выпускник - увеличивают расстояние от положительного класса.\n",
        "Всякий мусор и слова, которые редко встречаются, имеют незначительное влияние, как и в прошлый раз."
      ]
    },
    {
      "cell_type": "markdown",
      "metadata": {
        "id": "YWx_JWx9-fbJ"
      },
      "source": [
        "#### 12. (0.5 доп. балла) Отсортируйте веса признаков для модели логистической регрессии, полученной в п. 8 при помощи Vowpal Wabbit. Какие слова из встречающихся в выборке имеют наибольшее/наименьшее влияние на значение целевой переменной? Проинтерпретирйте полученный результат."
      ]
    },
    {
      "cell_type": "code",
      "execution_count": null,
      "metadata": {
        "id": "V9CB5Xxz-fbJ"
      },
      "outputs": [],
      "source": [
        "sol_tf_idf = pd.read_csv(\"solution_tfidf.txt\", sep=\":\", skiprows=11, header=None, names=[\"id\", \"w\"])\n",
        "get_sorted_words(np.array([sol_tf_idf[\"w\"]]), tfidf_vectorizer.get_feature_names())"
      ]
    },
    {
      "cell_type": "markdown",
      "metadata": {
        "id": "nYM5BTSU-fbJ"
      },
      "source": [
        "Снова видим суперлегальных менеджеров и, правда, много новых слов, которые редко встречаются, однако, их объявления  имеют высокую вероятность большой зарплаты.\n",
        "Сильно понижают вероятность слова assistant и 45(видно слишком старый)\n",
        "Слабое влияние имеют слова общеупотребляемые, бесполезные для классификации.\n",
        "Вообще это самый <strike>неадекватный</strike> интересный вывод этого задания из всех четырех, возможно что-то съехало, пора сдаваться.\n",
        "\n"
      ]
    },
    {
      "cell_type": "markdown",
      "metadata": {
        "id": "IJ9nJJky-fbJ"
      },
      "source": [
        "## Счётчики\n",
        "\n",
        "Ранее в рамках данного задания при построении моделей мы объединяли значения всех признаков в единую строку, что предполагает равноправность всех признаков. Однако заметим, что в этом случае мы допускаем потерю информации: слово \"Glasgow\" может по-разному влиять на зарплату, если оно находится в названии объявления и в геолокации. Чтобы устранить этот недостаток, при создании текстового описания объекта будем объединять только значения признаков Title и FullDescription, а остальные будем рассматривать как категориальные. При этом с полученным текстовым описанием объекта будем работать, как раньше (при помощи векторизации или tf-idf), а для кодирования категориальных признаков используем **счётчики**.\n",
        "\n",
        "Идея этого метода состоит в том, чтобы заменить значение категориального признака на вероятность того, что объект с данным значением признака относится к положительному классу. Опишем эту идею более формально. Пусть у нас есть выборка $X = \\{ (x_i, y_i) \\}_{i=1}^l,$ и $j$-ый признак принимает значения из множества $U_j = \\{ u_{jn}\\}_{n=1}^{N_j},$ где $N_j$ — количество различных значений $j$-ого признака. Пусть $x_{ij} = u_{jn},$ тогда заменим значения $j$-ого категориального признака объекта $x_i$ на следующую оценку:\n",
        "$$\\hat{P}(y_i=+1|x_{ij}=u_{jn}) = \\frac{\\sum_{m=1}^l \\left[ x_{mj} = u_{jn} \\right] \\left[ y_m = +1 \\right]}{\\sum_{m=1}^l \\left[ x_{mj} = u_{jn} \\right]}.$$\n",
        "\n",
        "Однако заметим, что при таком способе формирования счётчиков мы учитываем в формуле для объекта $x_i$ его метку $y_i$, тем самым вносим информацию об ответе в признаки. Чтобы устранить этот недостаток, при вычислении счётчика будем исключать из рассмотрения текущий объект, т.е. рассматривать следующую оценку:\n",
        "$$\\hat{P}(y_i=+1|X_{ij}=u_{jn}) = \\frac{\\sum_{m=1, \\\\ m \\ne i}^l \\left[ x_{mj} = u_{jn} \\right] \\left[ y_m = +1 \\right]}{\\sum_{m=1, \\\\ m \\ne i}^l \\left[ x_{mj} = u_{jn} \\right]},$$\n",
        "\n",
        "#### 13. (0.5 балла) Создайте текстовое описание объектов обучающей и контрольной выборок, объединив значения признаков Title и FullDescription каждого объекта выборки через символ пробела, после чего перейдите к признаковому описанию объектов, вычислив вектор tf-idf аналогично п. 7."
      ]
    },
    {
      "cell_type": "code",
      "execution_count": null,
      "metadata": {
        "collapsed": true,
        "id": "gZD-euer-fbJ"
      },
      "outputs": [],
      "source": [
        "X_train = X_train.fillna('nan')\n",
        "X_test = X_test.fillna('nan')\n",
        "df = df.fillna('nan')"
      ]
    },
    {
      "cell_type": "code",
      "execution_count": null,
      "metadata": {
        "id": "VUp4KU2y-fbJ"
      },
      "outputs": [],
      "source": [
        "%%time\n",
        "X_train[\"Desc\"] = X_train[\"Title\"] + \" \" + X_train[\"FullDescription\"]\n",
        "X_test[\"Desc\"] = X_test[\"Title\"] + \" \" + X_test[\"FullDescription\"]\n",
        "num_tfidf_vectorizer = feature_extraction.text.TfidfVectorizer()\n",
        "X_train_num_tfidf = num_tfidf_vectorizer.fit_transform(X_train[\"Desc\"])\n",
        "X_test_num_tfidf = num_tfidf_vectorizer.transform(X_test[\"Desc\"])"
      ]
    },
    {
      "cell_type": "markdown",
      "metadata": {
        "id": "sFnfJzPh-fbK"
      },
      "source": [
        "#### 14. (1 балл) Закодируйте категориальные признаки (все, кроме Title и FullDescription) при помощи [one-hot encoding](http://scikit-learn.org/stable/modules/generated/sklearn.preprocessing.OneHotEncoder.html), после чего обучите логистическую регрессию (при помощи scikit-learn или Vowpal Wabbit) на обучающей выборке. Вычислите значения ROC-AUC, [F-меры](http://scikit-learn.org/stable/modules/generated/sklearn.metrics.f1_score.html), а также постройте [матрицу ошибок](http://scikit-learn.org/stable/modules/generated/sklearn.metrics.confusion_matrix.html) для полученной модели на контрольной выборке."
      ]
    },
    {
      "cell_type": "code",
      "execution_count": null,
      "metadata": {
        "id": "QFm5AC2f-fbK"
      },
      "outputs": [],
      "source": [
        "df[\"Desc\"] = 0"
      ]
    },
    {
      "cell_type": "code",
      "execution_count": null,
      "metadata": {
        "id": "qSIh2kwU-fbK"
      },
      "outputs": [],
      "source": [
        "X_test.head(1)"
      ]
    },
    {
      "cell_type": "code",
      "execution_count": null,
      "metadata": {
        "id": "wcPIjefx-fbK"
      },
      "outputs": [],
      "source": [
        "X_test.shape"
      ]
    },
    {
      "cell_type": "code",
      "execution_count": null,
      "metadata": {
        "id": "CyTkUwgB-fbL"
      },
      "outputs": [],
      "source": [
        "df.shape"
      ]
    },
    {
      "cell_type": "code",
      "execution_count": null,
      "metadata": {
        "scrolled": true,
        "id": "0Tp9G-5C-fbL"
      },
      "outputs": [],
      "source": [
        "%%time\n",
        "data_features_mask = [False, False, False, True, True, True, True, True, True, True, False]\n",
        "# X_train = X_train.fillna('nan')\n",
        "# X_test = X_test.fillna('nan')\n",
        "# df = df.fillna('nan')\n",
        "label_enc = preprocessing.LabelEncoder()\n",
        "for feature in df.columns[data_features_mask]:\n",
        "    df[feature] = label_enc.fit_transform(df[feature])\n",
        "    X_train[feature] = label_enc.transform(X_train[feature])\n",
        "    X_test[feature] = label_enc.transform(X_test[feature])"
      ]
    },
    {
      "cell_type": "code",
      "execution_count": null,
      "metadata": {
        "id": "yHMJ6qMs-fbL"
      },
      "outputs": [],
      "source": [
        "OneHot = preprocessing.OneHotEncoder()\n",
        "OneHot.fit(df[df.columns[data_features_mask]])\n",
        "X_train_onehot_s_mtx = OneHot.transform(X_train[X_train.columns[data_features_mask]])\n",
        "X_test_onehot_s_mtx = OneHot.transform(X_test[X_test.columns[data_features_mask]])"
      ]
    },
    {
      "cell_type": "code",
      "execution_count": null,
      "metadata": {
        "id": "wBe7pTuQ-fbL"
      },
      "outputs": [],
      "source": [
        "%%time\n",
        "\n",
        "\n",
        "lr_tfidf_mixed_onehot = linear_model.LogisticRegression(n_jobs=16)\n",
        "lr_tfidf_mixed_onehot.fit(hstack((X_train_num_tfidf, X_train_onehot_s_mtx)), y_train[\"SalaryNormalized\"])\n",
        "\n",
        "prob_pred_lr_tfidf_mixed_onehot = lr_tfidf_mixed_onehot.predict_proba(hstack((X_test_num_tfidf, X_test_onehot_s_mtx)))\n",
        "class_pred_lr_tfidf_mixed_onehot = lr_tfidf_mixed_onehot.predict(hstack((X_test_num_tfidf, X_test_onehot_s_mtx)))"
      ]
    },
    {
      "cell_type": "code",
      "execution_count": null,
      "metadata": {
        "id": "h1dQpD5e-fbM"
      },
      "outputs": [],
      "source": [
        "#sklearn\n",
        "print(\"AUC-ROC:\", metrics.roc_auc_score(y_test[\"SalaryNormalized\"], prob_pred_lr_tfidf_mixed_onehot[:,1]))\n",
        "print(\"F-measure:\", metrics.f1_score(y_test[\"SalaryNormalized\"], class_pred_lr_tfidf_mixed_onehot))\n",
        "print(metrics.confusion_matrix(y_test[\"SalaryNormalized\"], class_pred_lr_tfidf_mixed_onehot))"
      ]
    },
    {
      "cell_type": "markdown",
      "metadata": {
        "id": "rxY-C4NT-fbM"
      },
      "source": [
        "#### 15. (2 балла) Для выборки, полученной в п. 13, закодируйте категориальные признаки (все, кроме Title и FullDescription) при помощи счётчиков, после чего обучите логистическую регрессию (при помощи scikit-learn или Vowpal Wabbit) на обучающей выборке. Вычислите значения ROC-AUC, [F-меры](http://scikit-learn.org/stable/modules/generated/sklearn.metrics.f1_score.html), а также постройте [матрицу ошибок](http://scikit-learn.org/stable/modules/generated/sklearn.metrics.confusion_matrix.html) для полученной модели на контрольной выборке.\n",
        "\n",
        "Уделите внимание оптимальности вычисления счётчиков!"
      ]
    },
    {
      "cell_type": "code",
      "execution_count": null,
      "metadata": {
        "id": "La7Zp56l-fbM"
      },
      "outputs": [],
      "source": [
        "X_train = X_train.reset_index()"
      ]
    },
    {
      "cell_type": "code",
      "execution_count": null,
      "metadata": {
        "id": "mGK5deF5-fbM"
      },
      "outputs": [],
      "source": [
        "X_test = X_test.reset_index()"
      ]
    },
    {
      "cell_type": "code",
      "execution_count": null,
      "metadata": {
        "id": "4R8dOmHh-fbN"
      },
      "outputs": [],
      "source": [
        "X_train.head(1)"
      ]
    },
    {
      "cell_type": "code",
      "execution_count": null,
      "metadata": {
        "collapsed": true,
        "id": "YekCBNBS-fbO"
      },
      "outputs": [],
      "source": [
        "X_train[\"target\"] = y_train[\"SalaryNormalized\"]"
      ]
    },
    {
      "cell_type": "code",
      "execution_count": null,
      "metadata": {
        "collapsed": true,
        "id": "U9KaqSKb-fbO"
      },
      "outputs": [],
      "source": [
        "X_test[\"target\"] = y_test[\"SalaryNormalized\"]"
      ]
    },
    {
      "cell_type": "code",
      "execution_count": null,
      "metadata": {
        "id": "Fsogvl30-fbO"
      },
      "outputs": [],
      "source": [
        "def set_feature_probs(feature, X, feature_count):\n",
        "    adt_mtx = np.array([[(X[X[feature] == i].shape[0] - 1), (X[(X[feature] == i) & (X[\"target\"])].shape[0]), 0] for i in range(feature_count + 1)], dtype=float) # i|количество прин i - 1|колич +1\n",
        "    for i in adt_mtx:\n",
        "        if i[0] == 0:\n",
        "            i[2] = 0\n",
        "            i[0] = 9999999999999990\n",
        "        else:\n",
        "            i[2] = (i[1] / i[0])\n",
        "    X[feature] = X.apply(lambda x: adt_mtx[x[feature]][2] - ((1 / adt_mtx[x[feature]][0]) if x[\"target\"] else 0), axis = 1)\n",
        "    return X[feature]"
      ]
    },
    {
      "cell_type": "code",
      "execution_count": null,
      "metadata": {
        "collapsed": true,
        "id": "yA2n3dzq-fbO"
      },
      "outputs": [],
      "source": [
        "features_s = [\"LocationRaw\", \"LocationNormalized\", \"ContractType\", \"ContractTime\", \"Company\", \"Category\", \"SourceName\"]"
      ]
    },
    {
      "cell_type": "code",
      "execution_count": null,
      "metadata": {
        "id": "lI3iDgWy-fbO"
      },
      "outputs": [],
      "source": [
        "%%time\n",
        "for feature in features_s:\n",
        "    X_train[feature] = set_feature_probs(feature, X_train, df[feature].max())"
      ]
    },
    {
      "cell_type": "code",
      "execution_count": null,
      "metadata": {
        "id": "EeeAeSfe-fbP"
      },
      "outputs": [],
      "source": [
        "%%time\n",
        "for feature in features_s:\n",
        "    X_test[feature] = set_feature_probs(feature, X_test, df[feature].max())"
      ]
    },
    {
      "cell_type": "code",
      "execution_count": null,
      "metadata": {
        "id": "s-PEsVEg-fbP"
      },
      "outputs": [],
      "source": [
        "X_test.head(1)"
      ]
    },
    {
      "cell_type": "code",
      "execution_count": null,
      "metadata": {
        "id": "xO5g08U4-fbP"
      },
      "outputs": [],
      "source": [
        "X_train_num_num_s_mtx = X_train[features_s].to_sparse()"
      ]
    },
    {
      "cell_type": "code",
      "execution_count": null,
      "metadata": {
        "collapsed": true,
        "id": "5TaPByfW-fbP"
      },
      "outputs": [],
      "source": [
        "X_test_num_num_s_mtx = X_test[features_s].to_sparse()"
      ]
    },
    {
      "cell_type": "code",
      "execution_count": null,
      "metadata": {
        "id": "Rdi0ahTC-fbQ"
      },
      "outputs": [],
      "source": [
        "X_train_num_num_s_mtx = csr.csr_matrix(X_train_num_num_s_mtx)"
      ]
    },
    {
      "cell_type": "code",
      "execution_count": null,
      "metadata": {
        "collapsed": true,
        "id": "sCLCJEpO-fbQ"
      },
      "outputs": [],
      "source": [
        "X_test_num_num_s_mtx = csr.csr_matrix(X_test_num_num_s_mtx)"
      ]
    },
    {
      "cell_type": "code",
      "execution_count": null,
      "metadata": {
        "id": "LSPX_KaE-fbQ"
      },
      "outputs": [],
      "source": [
        "%%time\n",
        "lr_tfidf_mixed_num = linear_model.LogisticRegression(n_jobs=16)\n",
        "lr_tfidf_mixed_num.fit(hstack((X_train_num_tfidf, X_train_num_num_s_mtx)), y_train[\"SalaryNormalized\"])\n",
        "\n",
        "prob_pred_lr_tfidf_mixed_num = lr_tfidf_mixed_num.predict_proba(hstack((X_test_num_tfidf, X_test_num_num_s_mtx)))\n",
        "class_pred_lr_tfidf_mixed_num = lr_tfidf_mixed_num.predict(hstack((X_test_num_tfidf, X_test_num_num_s_mtx)))"
      ]
    },
    {
      "cell_type": "code",
      "execution_count": null,
      "metadata": {
        "id": "0AXc37NR-fbQ"
      },
      "outputs": [],
      "source": [
        "#sklearn\n",
        "print(\"AUC-ROC:\", metrics.roc_auc_score(y_test[\"SalaryNormalized\"], prob_pred_lr_tfidf_mixed_num[:,1]))\n",
        "print(\"F-measure:\", metrics.f1_score(y_test[\"SalaryNormalized\"], class_pred_lr_tfidf_mixed_num))\n",
        "print(metrics.confusion_matrix(y_test[\"SalaryNormalized\"], class_pred_lr_tfidf_mixed_num))"
      ]
    },
    {
      "cell_type": "markdown",
      "metadata": {
        "id": "C5bdW_HI-fbR"
      },
      "source": [
        "#### 16. (0.5 балла) Сравните значения метрик из п. 15 со значениями, полученными в п. 14, и сделайте вывод о качестве классификации для каждого из методов кодирования категориальных признаков.\n",
        "\n",
        "**Ответ:**"
      ]
    },
    {
      "cell_type": "markdown",
      "metadata": {
        "id": "CpXuTsvI-fbR"
      },
      "source": [
        "Кодирование с onehot показало лучшее качество по всем метрикам в сравнении с моей реалиацией счетчиков. Отличие AUC-ROC и f-мера ниже на 1-2 сотых, что может быть связано не только с самим методом, но и с тем что кодирование производилось согласно всей выборке. В то время как мои счетчики устанавливались независимо для обучения и теста. Так можно сделать благодаря размерам и высокой сбалансированности выборок, не без потерь, конечно.\n",
        "При использовании счетчиков, классификатор стал много ошибаться определяя положительные объекты как отрицательные.\n",
        "На основе полученных результатов можно сделать вывод о том, что tf-idf + onehot кодирование работает для нашей задачи классификации лучше чем tf-idf + счетчики."
      ]
    },
    {
      "cell_type": "markdown",
      "metadata": {
        "id": "qi1zzJjk-fbR"
      },
      "source": [
        "## Подбор гиперпараметров\n",
        "\n",
        "#### 17. (1.5 доп. балла) Разбейте обучающую выборку на обучающую и валидационную в отношении 80/20. Для выборки, полученной в п. 13, подберите оптимальное количество фолдов, используемое при кодировании категориальных признаков (всех, кроме Title и FullDescription), путём оптимизации значения accuracy на валидационной выборке. Используйте следующие модели, аналогично также подобрав оптимальные значения указанных гиперпараметров:\n",
        "- логистическую регрессию из модуля sklearn с подбором коэффициента регуляризации;\n",
        "- логистическую регрессию при помощи Vowpal Wabbit с подбором следующих гиперпараметров:\n",
        "    - коэффициент регуляризации (--l2);\n",
        "    - количество эпох (--passes);\n",
        "    - длина градиентного шага (-l);\n",
        "    - длина N-грамм (--ngram)."
      ]
    },
    {
      "cell_type": "code",
      "execution_count": null,
      "metadata": {
        "collapsed": true,
        "id": "ui_ImIix-fbR"
      },
      "outputs": [],
      "source": [
        "# Your code here"
      ]
    },
    {
      "cell_type": "markdown",
      "metadata": {
        "id": "Sb2EF8Z2-fbR"
      },
      "source": [
        "#### 18. (0.5 доп. балла) Обучите указанные выше модели на обучающей выборке для оптимальных значений гиперпараметров, найденных в п. 17, после чего для каждой из моделей вычислите значения ROC-AUC, F-меры, а также постройте матрицу ошибок на контрольной выборке. Как качество классификации при помощи полученных в данном разделе моделей соотносится с моделями, полученными в предыдущих разделах?"
      ]
    },
    {
      "cell_type": "code",
      "execution_count": null,
      "metadata": {
        "collapsed": true,
        "id": "Iid9kgVT-fbR"
      },
      "outputs": [],
      "source": [
        "# Your code here"
      ]
    },
    {
      "cell_type": "markdown",
      "metadata": {
        "id": "67mVJek--fbR"
      },
      "source": [
        "Здесь вы можете поделиться своими мыслями по поводу этого задания."
      ]
    },
    {
      "cell_type": "raw",
      "metadata": {
        "id": "Ur3NHr7L-fbS"
      },
      "source": []
    },
    {
      "cell_type": "markdown",
      "metadata": {
        "id": "gwRlY68x-fbS"
      },
      "source": [
        "А здесь — вставить вашу вторую любимую картинку."
      ]
    },
    {
      "cell_type": "raw",
      "metadata": {
        "id": "okFCnqmE-fbS"
      },
      "source": [
        "Каникулы беззз картинок, в след раз вставлю 2"
      ]
    }
  ],
  "metadata": {
    "anaconda-cloud": {},
    "kernelspec": {
      "display_name": "Python [Root]",
      "language": "python",
      "name": "Python [Root]"
    },
    "language_info": {
      "codemirror_mode": {
        "name": "ipython",
        "version": 3
      },
      "file_extension": ".py",
      "mimetype": "text/x-python",
      "name": "python",
      "nbconvert_exporter": "python",
      "pygments_lexer": "ipython3",
      "version": "3.5.2"
    },
    "colab": {
      "provenance": [],
      "include_colab_link": true
    }
  },
  "nbformat": 4,
  "nbformat_minor": 0
}