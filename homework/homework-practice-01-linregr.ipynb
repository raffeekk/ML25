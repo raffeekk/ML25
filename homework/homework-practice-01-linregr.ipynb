{
  "cells": [
    {
      "cell_type": "markdown",
      "metadata": {
        "id": "view-in-github",
        "colab_type": "text"
      },
      "source": [
        "<a href=\"https://colab.research.google.com/github/raffeekk/ML25/blob/main/homework/homework-practice-01-linregr.ipynb\" target=\"_parent\"><img src=\"https://colab.research.google.com/assets/colab-badge.svg\" alt=\"Open In Colab\"/></a>"
      ]
    },
    {
      "cell_type": "markdown",
      "metadata": {
        "id": "lxWlD92Xoc5N"
      },
      "source": [
        "# Машинное обучение, ФКН ВШЭ\n",
        "\n",
        "# Практическое задание 1\n",
        "\n",
        "## Общая информация\n",
        "\n",
        "Дата выдачи: 16.09.2016\n",
        "\n",
        "Срок сдачи: 30.09.2016 23:59MSK\n",
        "\n",
        "### О задании\n",
        "\n",
        "Практическое задание 1 посвящено изучению основных библиотек для анализа данных, а также линейных моделей и методов их обучения. Вы научитесь:\n",
        " * применять библиотеки NumPy и Pandas для осуществления желаемых преобразований;\n",
        " * подготавливать данные для обучения линейных моделей;\n",
        " * обучать линейную, Lasso и Ridge-регрессии при помощи модуля scikit-learn;\n",
        " * реализовывать обычный и стохастический градиентные спуски;\n",
        " * обучать линейную регрессию для произвольного функционала качества.\n",
        "\n",
        "\n",
        "### Оценивание и штрафы\n",
        "\n",
        "Каждая из задач имеет определенную «стоимость» (указана в скобках около задачи). Максимально допустимая оценка за работу — 10 баллов. Кроме того, некоторые из заданий являются опциональными (необязательными), однако за их выполнение можно получить дополнительные баллы, которые позднее будут учитываться при проставлении оценок автоматом по курсу.\n",
        "\n",
        "Сдавать задание после указанного срока сдачи нельзя. При выставлении неполного балла за задание в связи с наличием ошибок на усмотрение проверяющего предусмотрена возможность исправить работу на указанных в ответном письме условиях.\n",
        "\n",
        "Задание выполняется самостоятельно. «Похожие» решения считаются плагиатом и все задействованные студенты (в том числе те, у кого списали) не могут получить за него больше 0 баллов (подробнее о плагиате см. на странице курса). Если вы нашли решение какого-то из заданий (или его часть) в открытом источнике, необходимо указать ссылку на этот источник в отдельном блоке в конце Вашей работы (скорее всего вы будете не единственным, кто это нашел, поэтому чтобы исключить подозрение в плагиате, необходима ссылка на источник).\n",
        "\n",
        "Неэффективная реализация кода может негативно отразиться на оценке.\n",
        "\n",
        "\n",
        "### Формат сдачи\n",
        "Для сдачи задания переименуйте получившийся файл \\*.ipynb в соответствии со следующим форматом: *HW1_Username.ipynb*, где *Username* — Ваша фамилия и инициалы на латинице (например, *HW1_IvanovII.ipynb*). Далее отправьте этот файл на hse.cs.ml+<номер группы>@gmail.com (например, hse.cs.ml+141@gmail.com для студентов группы БПМИ-141)."
      ]
    },
    {
      "cell_type": "markdown",
      "metadata": {
        "id": "-AKBbVjLoc5Q"
      },
      "source": [
        "## Библиотеки для анализа данных\n",
        "\n",
        "### NumPy\n",
        "\n",
        "Во всех заданиях данного раздела запрещено использовать циклы  и list comprehensions. Под вектором и матрицей в данных заданиях понимается одномерный и двумерный numpy.array соответственно."
      ]
    },
    {
      "cell_type": "code",
      "execution_count": 12,
      "metadata": {
        "collapsed": true,
        "id": "XkBWnzRKoc5R"
      },
      "outputs": [],
      "source": [
        "import numpy as np"
      ]
    },
    {
      "cell_type": "markdown",
      "metadata": {
        "id": "LmMhJ4Tsoc5S"
      },
      "source": [
        "**1. (0.2 балла)** Реализуйте функцию, возвращающую максимальный элемент в векторе x среди элементов, перед которыми стоит нулевой. Для x = np.array([6, 2, 0, 3, 0, 0, 5, 7, 0]) ответом является 5. Если нулевых элементов нет, функция должна возвращать None.\n"
      ]
    },
    {
      "cell_type": "code",
      "execution_count": 13,
      "metadata": {
        "collapsed": true,
        "id": "EueggP2qoc5S"
      },
      "outputs": [],
      "source": [
        "def max_element(arr):\n",
        "    # Your code here\n",
        "    if 0 not in x:\n",
        "      return None\n",
        "    mask = np.where(x == 0)[0] + 1\n",
        "    mask = mask[mask < len(x)]\n",
        "    return np.max(x[mask])"
      ]
    },
    {
      "cell_type": "markdown",
      "metadata": {
        "id": "ev6af8LYoc5T"
      },
      "source": [
        "**2. (0.2 балла)** Реализуйте функцию, принимающую на вход матрицу и некоторое число и возвращающую ближайший к числу элемент матрицы. Например: для X = np.arange(0,10).reshape((2, 5)) и v = 3.6 ответом будет 4."
      ]
    },
    {
      "cell_type": "code",
      "execution_count": 14,
      "metadata": {
        "collapsed": true,
        "id": "xl21KAqLoc5T"
      },
      "outputs": [],
      "source": [
        "def nearest_value(X, v):\n",
        "    # Your code here\n",
        "    return X.flat[np.abs(X - v).argmin()]"
      ]
    },
    {
      "cell_type": "markdown",
      "metadata": {
        "id": "ZKi3omGcoc5U"
      },
      "source": [
        "**3. (0.2 балла)** Реализуйте функцию scale(X), которая принимает на вход матрицу и масштабирует каждый ее столбец (вычитает выборочное среднее и делит на стандартное отклонение). Убедитесь, что в функции не будет происходить деления на ноль. Протестируйте на случайной матрице (для её генерации можно использовать, например, функцию [numpy.random.randint](http://docs.scipy.org/doc/numpy/reference/generated/numpy.random.randint.html))."
      ]
    },
    {
      "cell_type": "code",
      "execution_count": 15,
      "metadata": {
        "collapsed": true,
        "id": "4Oqo_C6_oc5U",
        "outputId": "97428473-a622-4fbe-a64c-35a176a65060",
        "colab": {
          "base_uri": "https://localhost:8080/"
        }
      },
      "outputs": [
        {
          "output_type": "stream",
          "name": "stdout",
          "text": [
            "Исходная матрица:\n",
            " [[9 1 9 5]\n",
            " [0 1 4 9]\n",
            " [0 4 1 4]\n",
            " [5 0 3 4]\n",
            " [3 6 1 1]]\n",
            "Масштабированная матрица:\n",
            " [[ 1.65567471 -0.62360956  1.83711731  0.15523011]\n",
            " [-1.00523107 -0.62360956  0.13608276  1.70753116]\n",
            " [-1.00523107  0.71269665 -0.88453796 -0.23284516]\n",
            " [ 0.47304992 -1.06904497 -0.20412415 -0.23284516]\n",
            " [-0.11826248  1.60356745 -0.88453796 -1.39707095]]\n"
          ]
        }
      ],
      "source": [
        "def scale(X):\n",
        "    mean = X.mean(axis=0)\n",
        "    std = X.std(axis=0)\n",
        "    std[std == 0] = 1\n",
        "    return (X - mean) / std\n",
        "\n",
        "# Тестирование\n",
        "X = np.random.randint(0, 10, (5, 4))\n",
        "print(\"Исходная матрица:\\n\", X)\n",
        "print(\"Масштабированная матрица:\\n\", scale(X))"
      ]
    },
    {
      "cell_type": "markdown",
      "metadata": {
        "id": "9juJ9eKqoc5V"
      },
      "source": [
        "**4. (0.2 балла)** Реализуйте функцию, которая для заданной матрицы находит:\n",
        " - определитель\n",
        " - след\n",
        " - наименьший и наибольший элементы\n",
        " - норму Фробениуса\n",
        " - собственные числа\n",
        " - обратную матрицу\n",
        "\n",
        "Для тестирования сгенерируйте матрицу с элементами из нормального распределения $\\mathcal{N}$(10,1)"
      ]
    },
    {
      "cell_type": "code",
      "execution_count": 16,
      "metadata": {
        "id": "KxtCDvqvoc5W",
        "outputId": "336a05c1-2feb-4d29-96c8-476a596f2466",
        "colab": {
          "base_uri": "https://localhost:8080/"
        }
      },
      "outputs": [
        {
          "output_type": "stream",
          "name": "stdout",
          "text": [
            "Матрица:\n",
            " [[ 9.42244507 10.85397159  9.49087566 11.64904588  8.63972139]\n",
            " [ 9.11977021 11.36150302  9.28737531 12.67320262 10.81067526]\n",
            " [ 8.44300066  8.21292115  9.32625173 10.76438458  8.52636145]\n",
            " [ 9.32251643  9.47726215  8.31658046 11.10930065 11.25241486]\n",
            " [ 8.82985525  9.89376665  8.21370323 10.82818405 10.96670804]]\n",
            "Определитель: 44.22905616819852\n",
            "След: 52.18620852195893\n",
            "Наименьший элемент: 8.212921146641524\n",
            "Наибольший элемент: 12.673202620058955\n",
            "Норма Фробениуса: 49.739843091103396\n",
            "Собственные числа: [49.43582982+0.j          1.98623711+0.j          0.16990172+1.01618893j\n",
            "  0.16990172-1.01618893j  0.42433815+0.j        ]\n",
            "Обратная матрица:\n",
            " [[ 0.59006531 -0.49976067 -0.35803234  1.20874999 -0.93409005]\n",
            " [ 0.26079538 -0.11257628 -0.25108588 -0.76220097  0.88278786]\n",
            " [-0.18595113 -0.50690992  0.67856863 -1.52897758  1.68743191]\n",
            " [-0.22175571  0.9965815  -0.1276632   1.27259266 -2.01419143]\n",
            " [-0.35214587 -0.10038951  0.13261574 -0.39696036  0.77176792]]\n"
          ]
        }
      ],
      "source": [
        "def get_stats(X):\n",
        "    # Your code here\n",
        "    det = np.linalg.det(X)\n",
        "    trace = np.trace(X)\n",
        "    min_val = np.min(X)\n",
        "    max_val = np.max(X)\n",
        "    frobenius_norm = np.linalg.norm(X, 'fro')\n",
        "    eigenvalues = np.linalg.eigvals(X)\n",
        "    try:\n",
        "        inv_matrix = np.linalg.inv(X)\n",
        "    except np.linalg.LinAlgError:\n",
        "        inv_matrix = None\n",
        "    return det, trace, min_val, max_val, frobenius_norm, eigenvalues, inv_matrix\n",
        "\n",
        "# Тестирование\n",
        "X = np.random.normal(10, 1, (5, 5))\n",
        "properties = get_stats(X)\n",
        "\n",
        "print(\"Матрица:\\n\", X)\n",
        "print(\"Определитель:\", properties[0])\n",
        "print(\"След:\", properties[1])\n",
        "print(\"Наименьший элемент:\", properties[2])\n",
        "print(\"Наибольший элемент:\", properties[3])\n",
        "print(\"Норма Фробениуса:\", properties[4])\n",
        "print(\"Собственные числа:\", properties[5])\n",
        "print(\"Обратная матрица:\\n\", properties[6])"
      ]
    },
    {
      "cell_type": "markdown",
      "metadata": {
        "id": "hCX_Y0T3oc5X"
      },
      "source": [
        "**5. (0.2 балла)** Повторите 100 раз следующий эксперимент: сгенерируйте две матрицы размера 10×10 из стандартного нормального распределения, перемножьте их (как матрицы) и найдите максимальный элемент. Какое среднее значение по экспериментам у максимальных элементов? 95-процентная квантиль?"
      ]
    },
    {
      "cell_type": "code",
      "execution_count": 17,
      "metadata": {
        "collapsed": true,
        "id": "cDsSl-bRoc5X",
        "outputId": "2a5eb520-74dd-49dd-8ee1-c9236b24159b",
        "colab": {
          "base_uri": "https://localhost:8080/"
        }
      },
      "outputs": [
        {
          "output_type": "execute_result",
          "data": {
            "text/plain": [
              "(8.665001752433657, 12.356427723783433)"
            ]
          },
          "metadata": {},
          "execution_count": 17
        }
      ],
      "source": [
        "results = []\n",
        "for exp_num in range(100):\n",
        "    A = np.random.standard_normal((10, 10))\n",
        "    B = np.random.standard_normal((10, 10))\n",
        "    product = A @ B\n",
        "    max_element = np.max(product)\n",
        "    results.append(max_element)\n",
        "\n",
        "mean_value = np.mean(results)\n",
        "quantile_95 = np.quantile(results, 0.95)\n",
        "\n",
        "mean_value, quantile_95"
      ]
    },
    {
      "cell_type": "markdown",
      "metadata": {
        "id": "yxf7JO-Xoc5X"
      },
      "source": [
        "### Pandas\n",
        "\n",
        "![](https://metrouk2.files.wordpress.com/2015/10/panda.jpg)\n",
        "\n",
        "#### Ответьте на вопросы о данных по авиарейсам в США за январь-апрель 2008 года.\n",
        "\n",
        "[Данные](https://www.dropbox.com/s/dvfitn93obn0rql/2008.csv?dl=0) и их [описание](http://stat-computing.org/dataexpo/2009/the-data.html)"
      ]
    },
    {
      "cell_type": "code",
      "execution_count": 18,
      "metadata": {
        "collapsed": true,
        "id": "UHNABHjAoc5X"
      },
      "outputs": [],
      "source": [
        "import pandas as pd\n",
        "%matplotlib inline"
      ]
    },
    {
      "cell_type": "markdown",
      "metadata": {
        "id": "mEet2HyZoc5X"
      },
      "source": [
        "**6. (0.3 балла)** Какая из причин отмены рейса (`CancellationCode`) была самой частой? (расшифровки кодов можно найти в описании данных)"
      ]
    },
    {
      "cell_type": "code",
      "execution_count": 19,
      "metadata": {
        "collapsed": true,
        "id": "9lDPrxh_oc5Z",
        "outputId": "8e6977b5-94d3-4a02-facc-0c1c952316a3",
        "colab": {
          "base_uri": "https://localhost:8080/",
          "height": 125
        }
      },
      "outputs": [
        {
          "output_type": "stream",
          "name": "stdout",
          "text": [
            "CancellationCode\n",
            "A    563\n",
            "B    549\n",
            "C    299\n",
            "Name: count, dtype: int64\n"
          ]
        },
        {
          "output_type": "execute_result",
          "data": {
            "text/plain": [
              "'A'"
            ],
            "application/vnd.google.colaboratory.intrinsic+json": {
              "type": "string"
            }
          },
          "metadata": {},
          "execution_count": 19
        }
      ],
      "source": [
        "flights = pd.read_csv(\"https://raw.githubusercontent.com/raffeekk/ML25/refs/heads/main/2008.csv\")\n",
        "\n",
        "# Подсчет частоты каждой причины отмены\n",
        "cancellation_counts = flights['CancellationCode'].value_counts()\n",
        "\n",
        "# Находим наиболее частую причину\n",
        "most_frequent_cancellation = cancellation_counts.idxmax()\n",
        "# количество отмен по разным причинам\n",
        "print(cancellation_counts)\n",
        "most_frequent_cancellation"
      ]
    },
    {
      "cell_type": "markdown",
      "metadata": {
        "id": "l91J-8TMoc5Z"
      },
      "source": [
        "**7. (0.3 балла)** Найдите среднее, минимальное и максимальное расстояние, пройденное самолетом."
      ]
    },
    {
      "cell_type": "code",
      "execution_count": 27,
      "metadata": {
        "collapsed": true,
        "id": "FAa9nPsIoc5Z",
        "outputId": "f96c70cd-e4ab-4932-8074-dc61c7d96c08",
        "colab": {
          "base_uri": "https://localhost:8080/",
          "height": 178
        }
      },
      "outputs": [
        {
          "output_type": "execute_result",
          "data": {
            "text/plain": [
              "mean     724.508257\n",
              "min       31.000000\n",
              "max     4962.000000\n",
              "Name: Distance, dtype: float64"
            ],
            "text/html": [
              "<div>\n",
              "<style scoped>\n",
              "    .dataframe tbody tr th:only-of-type {\n",
              "        vertical-align: middle;\n",
              "    }\n",
              "\n",
              "    .dataframe tbody tr th {\n",
              "        vertical-align: top;\n",
              "    }\n",
              "\n",
              "    .dataframe thead th {\n",
              "        text-align: right;\n",
              "    }\n",
              "</style>\n",
              "<table border=\"1\" class=\"dataframe\">\n",
              "  <thead>\n",
              "    <tr style=\"text-align: right;\">\n",
              "      <th></th>\n",
              "      <th>Distance</th>\n",
              "    </tr>\n",
              "  </thead>\n",
              "  <tbody>\n",
              "    <tr>\n",
              "      <th>mean</th>\n",
              "      <td>724.508257</td>\n",
              "    </tr>\n",
              "    <tr>\n",
              "      <th>min</th>\n",
              "      <td>31.000000</td>\n",
              "    </tr>\n",
              "    <tr>\n",
              "      <th>max</th>\n",
              "      <td>4962.000000</td>\n",
              "    </tr>\n",
              "  </tbody>\n",
              "</table>\n",
              "</div><br><label><b>dtype:</b> float64</label>"
            ]
          },
          "metadata": {},
          "execution_count": 27
        }
      ],
      "source": [
        "flights = pd.read_csv(\"https://raw.githubusercontent.com/raffeekk/ML25/refs/heads/main/2008.csv\")\n",
        "\n",
        "# Вычисление среднего, минимального и максимального расстояния\n",
        "distance_stats = flights['Distance'].agg(['mean', 'min', 'max'])\n",
        "\n",
        "distance_stats"
      ]
    },
    {
      "cell_type": "markdown",
      "metadata": {
        "id": "MM8puyQ9oc5Z"
      },
      "source": [
        "**8. (0.3 балла)** Не выглядит ли подозрительным минимальное пройденное расстояние? В какие дни и на каких рейсах оно было? Какое расстояние было пройдено этими же рейсами в другие дни?"
      ]
    },
    {
      "cell_type": "code",
      "execution_count": 26,
      "metadata": {
        "collapsed": true,
        "id": "CDHw_HiVoc5Z",
        "outputId": "ce130d97-d1d7-4d71-aa81-c080f56f94b5",
        "colab": {
          "base_uri": "https://localhost:8080/"
        }
      },
      "outputs": [
        {
          "output_type": "execute_result",
          "data": {
            "text/plain": [
              "(       FlightNum  DayofMonth  Distance\n",
              " 1116          65          30        31\n",
              " 6958          65          26        31\n",
              " 17349         64          18        31\n",
              " 27534         64          11        31\n",
              " 46082         65           9        31\n",
              " 48112         64          28        31,\n",
              "        FlightNum  DayofMonth  Distance\n",
              " 501           64          20       533\n",
              " 1389          64          13       680\n",
              " 1517          65          10       680\n",
              " 2619          64          23      2381\n",
              " 3869          64           1        82\n",
              " ...          ...         ...       ...\n",
              " 66529         65          21        82\n",
              " 67172         64          22       533\n",
              " 68264         65           7       386\n",
              " 68338         65           3      2454\n",
              " 69305         65           5      1005\n",
              " \n",
              " [72 rows x 3 columns])"
            ]
          },
          "metadata": {},
          "execution_count": 26
        }
      ],
      "source": [
        "# Нахождение минимального расстояния\n",
        "min_distance = flights['Distance'].min()\n",
        "\n",
        "# Фильтрация данных для минимального расстояния\n",
        "min_distance_flights = flights[flights['Distance'] == min_distance][['FlightNum', 'DayofMonth', 'Distance']]\n",
        "\n",
        "# Поиск других дней для этих рейсов\n",
        "other_days_distances = flights[\n",
        "    flights['FlightNum'].isin(min_distance_flights['FlightNum']) &\n",
        "    (flights['Distance'] != min_distance)\n",
        "][['FlightNum', 'DayofMonth', 'Distance']]\n",
        "\n",
        "min_distance_flights, other_days_distances"
      ]
    },
    {
      "cell_type": "markdown",
      "metadata": {
        "id": "AtS9yoy3oc5Z"
      },
      "source": [
        "**9. (0.3 балла)** Из какого аэропорта было произведено больше всего вылетов? В каком городе он находится?"
      ]
    },
    {
      "cell_type": "code",
      "execution_count": 34,
      "metadata": {
        "collapsed": true,
        "id": "ihcxaYz0oc5a",
        "outputId": "6de400fb-4aa4-4269-9e9a-32db79f5aaf6",
        "colab": {
          "base_uri": "https://localhost:8080/"
        }
      },
      "outputs": [
        {
          "output_type": "execute_result",
          "data": {
            "text/plain": [
              "('ATL', 'Atlanta')"
            ]
          },
          "metadata": {},
          "execution_count": 34
        }
      ],
      "source": [
        "import pandas as pd\n",
        "\n",
        "# Подсчет количества вылетов по каждому аэропорту\n",
        "departure_counts = flights['Origin'].value_counts()\n",
        "\n",
        "# Находим аэропорт с максимальным количеством вылетов\n",
        "busiest_airport = departure_counts.idxmax()\n",
        "\n",
        "# Сопоставление аэропорта с городом (предполагается, что есть словарь или дополнительный датафрейс с информацией об аэропортах)\n",
        "airport_info = {\n",
        "    'ATL': 'Atlanta'\n",
        "}\n",
        "city = airport_info.get(busiest_airport, 'Unknown')\n",
        "\n",
        "busiest_airport, city"
      ]
    },
    {
      "cell_type": "markdown",
      "metadata": {
        "id": "3P22MB1ioc5a"
      },
      "source": [
        "**10. (0.3 балла)** Найдите для каждого аэропорта среднее время полета (`AirTime`) по всем вылетевшим из него рейсам. Какой аэропорт имеет наибольшее значение этого показателя?"
      ]
    },
    {
      "cell_type": "code",
      "execution_count": null,
      "metadata": {
        "collapsed": true,
        "id": "sqX9uycaoc5a"
      },
      "outputs": [],
      "source": [
        "# Группировка данных по аэропорту вылета и расчет среднего времени полета\n",
        "average_airtime = flights.groupby('Origin')['AirTime'].mean()\n",
        "\n",
        "# Находим аэропорт с максимальным средним временем полета\n",
        "airport_max_airtime = average_airtime.idxmax()\n",
        "\n",
        "airport_max_airtime, average_airtime[airport_max_airtime]"
      ]
    },
    {
      "cell_type": "markdown",
      "metadata": {
        "id": "7B96EWcQoc5a"
      },
      "source": [
        "**11. (0.5 балла)** Найдите аэропорт, у которого наибольшая доля задержанных (`DepDelay > 0`) рейсов. Исключите при этом из рассмотрения аэропорты, из которых было отправлено меньше 1000 рейсов (используйте функцию `filter` после `groupby`)."
      ]
    },
    {
      "cell_type": "code",
      "execution_count": null,
      "metadata": {
        "id": "lYEuK70Foc5b"
      },
      "outputs": [],
      "source": [
        "# Группировка по аэропорту вылета и подсчет общего количества рейсов\n",
        "total_flights = flights.groupby('Origin').size()\n",
        "\n",
        "# Фильтрация аэропортов с менее 1000 рейсами\n",
        "filtered_airports = total_flights[total_flights >= 1000].index\n",
        "\n",
        "# Отфильтрованные данные только для аэропортов с >= 1000 рейсами\n",
        "filtered_data = flights[flights['Origin'].isin(filtered_airports)]\n",
        "\n",
        "# Подсчет доли задержанных рейсов для каждого аэропорта\n",
        "delayed_ratio = (\n",
        "    filtered_data[filtered_data['DepDelay'] > 0]\n",
        "    .groupby('Origin')\n",
        "    .size() / filtered_data.groupby('Origin').size()\n",
        ")\n",
        "\n",
        "# Находим аэропорт с максимальной долей задержек\n",
        "airport_max_delay = delayed_ratio.idxmax()\n",
        "\n",
        "airport_max_delay, delayed_ratio[airport_max_delay]"
      ]
    },
    {
      "cell_type": "markdown",
      "metadata": {
        "id": "JYkbVtz2oc5b"
      },
      "source": [
        "## Линейная регрессия\n",
        "\n",
        "В этой части мы разберемся с линейной регрессией, способами её обучения и измерением качества ее прогнозов.\n",
        "\n",
        "Будем рассматривать датасет из предыдущей части задания для предсказания времени задержки отправления рейса в минутах (DepDelay). Отметим, что под задержкой подразумевается не только опоздание рейса относительно планируемого времени вылета, но и отправление до планируемого времени.\n",
        "\n",
        "### Подготовка данных\n",
        "\n",
        "**12. (0.5 балла)** Считайте выборку из файла при помощи функции pd.read_csv и ответьте на следующие вопросы:\n",
        "   - Имеются ли в данных пропущенные значения?\n",
        "   - Сколько всего пропущенных элементов в таблице \"объект-признак\"?\n",
        "   - Сколько объектов имеют хотя бы один пропуск?\n",
        "   - Сколько признаков имеют хотя бы одно пропущенное значение?"
      ]
    },
    {
      "cell_type": "code",
      "execution_count": null,
      "metadata": {
        "scrolled": true,
        "id": "ddnl-wuLoc5b"
      },
      "outputs": [],
      "source": [
        "# Проверка на наличие пропущенных значений\n",
        "has_missing_values = flights.isnull().values.any()\n",
        "\n",
        "# Подсчет общего количества пропущенных элементов\n",
        "total_missing_values = flights.isnull().sum().sum()\n",
        "\n",
        "# Подсчет объектов с хотя бы одним пропуском\n",
        "objects_with_missing = flights[flights.isnull().any(axis=1)].shape[0]\n",
        "\n",
        "# Подсчет признаков с хотя бы одним пропущенным значением\n",
        "features_with_missing = flights.columns[flights.isnull().any()].shape[0]\n",
        "\n",
        "has_missing_values, total_missing_values, objects_with_missing, features_with_missing"
      ]
    },
    {
      "cell_type": "markdown",
      "metadata": {
        "id": "yfpYsYgwoc5b"
      },
      "source": [
        "Как вы понимаете, также не имеет смысла рассматривать при решении поставленной задачи объекты с пропущенным значением целевой переменной. В связи с этим ответьте на следующие вопросы и выполните соответствующие действия:\n",
        "- Имеются ли пропущенные значения в целевой переменной?\n",
        "- Проанализируйте объекты с пропущенными значениями целевой переменной. Чем вызвано это явление? Что их объединяет? Можно ли в связи с этим, на ваш взгляд, исключить какие-то признаки из рассмотрения? Обоснуйте свою точку зрения.\n",
        "\n",
        "Исключите из выборки объекты **с пропущенным значением целевой переменной и со значением целевой переменной, равным 0**, а также при необходимости исключите признаки в соответствии с вашим ответом на последний вопрос из списка и выделите целевую переменную в отдельный вектор, исключив её из матрицы \"объект-признак\"."
      ]
    },
    {
      "cell_type": "code",
      "execution_count": null,
      "metadata": {
        "collapsed": true,
        "id": "PQJTcd4Soc5b"
      },
      "outputs": [],
      "source": [
        "# Проверяем наличие пропущенных значений в целевой переменной (DepDelay)\n",
        "has_missing_target = flights['DepDelay'].isnull().any()\n",
        "\n",
        "# Анализ объектов с пропущенными значениями целевой переменной\n",
        "missing_target_objects = flights[flights['DepDelay'].isnull()]\n",
        "\n",
        "# Исключаем объекты с пропущенным значением целевой переменной и со значением 0\n",
        "filtered_flights = flights.dropna(subset=['DepDelay'])\n",
        "filtered_flights = filtered_flights[filtered_flights['DepDelay'] != 0]\n",
        "\n",
        "# Исключаем признаки, которые могут быть неинформативными (например, Cancelled, если они связаны с отменой рейсов)\n",
        "# Если Cancelled = 1, то DepDelay может быть пропущен или равен 0, так как рейс не вылетел\n",
        "if 'Cancelled' in filtered_flights.columns:\n",
        "    filtered_flights = filtered_flights[filtered_flights['Cancelled'] == 0]\n",
        "    filtered_flights = filtered_flights.drop(columns=['Cancelled'])\n",
        "\n",
        "# Выделяем целевую переменную в отдельный вектор\n",
        "X = filtered_flights.drop(columns=['DepDelay'])  # Матрица признаков\n",
        "y = filtered_flights['DepDelay']  # Вектор целевой переменной\n",
        "\n",
        "has_missing_target, missing_target_objects.shape, X.shape, y.shape"
      ]
    },
    {
      "cell_type": "markdown",
      "metadata": {
        "id": "X9MaOSN1oc5b"
      },
      "source": [
        "**13. (0.5 балла)** Обратите внимание, что признаки DepTime, CRSDepTime, ArrTime, CRSArrTime приведены в формате hhmm, в связи с чем будет не вполне корректно рассматривать их как вещественные.\n",
        "\n",
        "Преобразуйте каждый признак FeatureName из указанных в пару новых признаков FeatureName\\_Hour, FeatureName\\_Minute, разделив каждое из значений на часы и минуты. Не забудьте при этом исключить исходный признак из выборки. В случае, если значение признака отсутствует, значения двух новых признаков, его заменяющих, также должны отсутствовать.\n",
        "\n",
        "Например, признак DepTime необходимо заменить на пару признаков DepTime_Hour, DepTime_Minute. При этом, например, значение 155 исходного признака будет преобразовано в значения 1 и 55 признаков DepTime_Hour, DepTime_Minute соответственно."
      ]
    },
    {
      "cell_type": "code",
      "execution_count": null,
      "metadata": {
        "collapsed": true,
        "id": "uRF1kmkxoc5b"
      },
      "outputs": [],
      "source": [
        "# Список признаков для преобразования\n",
        "time_features = ['DepTime', 'CRSDepTime', 'ArrTime', 'CRSArrTime']\n",
        "\n",
        "# Функция для преобразования времени из формата hhmm в часы и минуты\n",
        "def split_time(df, feature):\n",
        "    df[f\"{feature}_Hour\"] = np.where(df[feature].notnull(), df[feature] // 100, np.nan)\n",
        "    df[f\"{feature}_Minute\"] = np.where(df[feature].notnull(), df[feature] % 100, np.nan)\n",
        "\n",
        "# Применяем преобразование к каждому признаку\n",
        "for feature in time_features:\n",
        "    split_time(flights, feature)\n",
        "\n",
        "# Исключаем исходные признаки после преобразования\n",
        "flights = flights.drop(columns=time_features)\n",
        "\n",
        "# Проверяем результат\n",
        "flights.head()"
      ]
    },
    {
      "cell_type": "markdown",
      "metadata": {
        "id": "X1A-O0Uloc5b"
      },
      "source": [
        "**14. (0.5 балла)** Некоторые из признаков, отличных от целевой переменной, могут оказывать чересчур значимое влияние на прогноз, поскольку по своему смыслу содержат большую долю информации о значении целевой переменной. Изучите описание датасета и исключите признаки, сильно коррелирующие с ответами. Ваш выбор признаков для исключения из выборки обоснуйте. Кроме того, исключите признаки TailNum и Year."
      ]
    },
    {
      "cell_type": "code",
      "execution_count": null,
      "metadata": {
        "collapsed": true,
        "id": "M416-PyEoc5b"
      },
      "outputs": [],
      "source": [
        "flights = pd.read_csv(\"https://raw.githubusercontent.com/raffeekk/ML25/refs/heads/main/2008.csv\")\n",
        "# Исключаем признаки, которые сильно коррелируют с целевой переменной (DepDelay)\n",
        "# и признаки TailNum и Year\n",
        "columns_to_drop = ['ArrTime', 'CRSArrTime', 'ActualElapsedTime', 'CRSElapsedTime', 'AirTime', 'TailNum', 'Year']\n",
        "\n",
        "# Обоснование:\n",
        "# 1. ArrTime и CRSArrTime: Эти признаки содержат информацию о времени прибытия,\n",
        "#    которая может быть связана с задержкой отправления.\n",
        "# 2. ActualElapsedTime и CRSElapsedTime: Эти признаки содержат информацию о времени полета,\n",
        "#    что может быть сильно связано с задержками.\n",
        "# 3. AirTime: Время полета также может быть сильно коррелировано с задержками.\n",
        "# 4. TailNum: Уникальный номер самолета не имеет прямой связи с задержками.\n",
        "# 5. Year: Год не предоставляет полезной информации для предсказания задержек.\n",
        "\n",
        "# Исключаем выбранные признаки\n",
        "flights_cleaned = flights.drop(columns=columns_to_drop)\n",
        "\n",
        "# Разделяем данные на матрицу признаков X и вектор целевой переменной y\n",
        "X = flights_cleaned.drop(columns=['DepDelay'])\n",
        "y = flights_cleaned['DepDelay']\n",
        "\n",
        "X.shape, y.shape"
      ]
    },
    {
      "cell_type": "markdown",
      "metadata": {
        "id": "hdTQpJDooc5b"
      },
      "source": [
        "**15. (1 балл)** Приведем данные к виду, пригодному для обучения линейных моделей. Для этого вещественные признаки надо отмасштабировать, а категориальные — привести к числовому виду. Также надо устранить пропуски в данных."
      ]
    },
    {
      "cell_type": "markdown",
      "metadata": {
        "id": "14MO8SgQoc5c"
      },
      "source": [
        "В первую очередь поймем, зачем необходимо применять масштабирование. Следующие ячейки с кодом построят гистограммы для 3 вещественных признаков выборки."
      ]
    },
    {
      "cell_type": "code",
      "source": [
        "import pandas as pd\n",
        "import numpy as np\n",
        "from sklearn.preprocessing import StandardScaler, OneHotEncoder\n",
        "from sklearn.compose import ColumnTransformer\n",
        "from sklearn.pipeline import Pipeline\n",
        "from sklearn.impute import SimpleImputer\n",
        "\n",
        "flights = pd.read_csv(\"https://raw.githubusercontent.com/raffeekk/ML25/refs/heads/main/2008.csv\")\n",
        "\n",
        "# Предобработка данных (исключаем ненужные столбцы и пропуски)\n",
        "columns_to_drop = ['ArrTime', 'CRSArrTime', 'ActualElapsedTime', 'CRSElapsedTime', 'AirTime', 'TailNum', 'Year']\n",
        "flights_cleaned = flights.drop(columns=columns_to_drop).dropna(subset=['DepDelay'])\n",
        "X = flights_cleaned.drop(columns=['DepDelay'])\n",
        "y = flights_cleaned['DepDelay']\n",
        "\n",
        "# Разделяем признаки на числовые и категориальные\n",
        "numeric_features = X.select_dtypes(include=['float64', 'int64']).columns.tolist()\n",
        "categorical_features = X.select_dtypes(include=['object']).columns.tolist()\n",
        "\n",
        "# Создаем преобразователь для числовых признаков (масштабирование и обработка пропусков)\n",
        "numeric_transformer = Pipeline(steps=[\n",
        "    ('imputer', SimpleImputer(strategy='mean')),  # Заполнение пропусков средним значением\n",
        "    ('scaler', StandardScaler())  # Масштабирование\n",
        "])\n",
        "\n",
        "# Создаем преобразователь для категориальных признаков (One-Hot Encoding и обработка пропусков)\n",
        "categorical_transformer = Pipeline(steps=[\n",
        "    ('imputer', SimpleImputer(strategy='constant', fill_value='missing')),  # Заполнение пропусков специальным значением\n",
        "    ('onehot', OneHotEncoder(handle_unknown='ignore'))  # Кодирование в числа\n",
        "])\n",
        "\n",
        "# Объединяем преобразования для всех признаков\n",
        "preprocessor = ColumnTransformer(\n",
        "    transformers=[\n",
        "        ('num', numeric_transformer, numeric_features),\n",
        "        ('cat', categorical_transformer, categorical_features)\n",
        "    ]\n",
        ")\n",
        "\n",
        "# Применяем преобразования к данным\n",
        "X_preprocessed = preprocessor.fit_transform(X)\n",
        "\n",
        "X_preprocessed, y"
      ],
      "metadata": {
        "id": "shzZ8TgO0toH"
      },
      "execution_count": null,
      "outputs": []
    },
    {
      "cell_type": "code",
      "execution_count": null,
      "metadata": {
        "scrolled": true,
        "id": "j1ky9b24oc5c"
      },
      "outputs": [],
      "source": [
        "X['DepTime'].hist(bins=20)"
      ]
    },
    {
      "cell_type": "code",
      "execution_count": null,
      "metadata": {
        "id": "vkd3bNTUoc5c"
      },
      "outputs": [],
      "source": [
        "X['TaxiIn'].hist(bins=20)"
      ]
    },
    {
      "cell_type": "code",
      "execution_count": null,
      "metadata": {
        "id": "4WacABy9oc5c"
      },
      "outputs": [],
      "source": [
        "X['FlightNum'].hist(bins=20)"
      ]
    },
    {
      "cell_type": "markdown",
      "metadata": {
        "id": "A7m_Saedoc5d"
      },
      "source": [
        "Некоторые из признаков в нашем датасете являются категориальными. Типичным подходом к работе с ними является бинарное, или [one-hot-кодирование](https://en.wikipedia.org/wiki/One-hot).\n",
        "\n",
        "Реализуйте функцию transform_data, которая принимает на вход DataFrame с признаками и выполняет следующие шаги:\n",
        "1. Замена пропущенных значений на нули для вещественных признаков и на строки 'nan' для категориальных.\n",
        "2. Масштабирование вещественных признаков с помощью [StandardScaler](http://scikit-learn.org/stable/modules/generated/sklearn.preprocessing.StandardScaler.html).\n",
        "3. One-hot-кодирование категориальных признаков с помощью [DictVectorizer](http://scikit-learn.org/stable/modules/generated/sklearn.feature_extraction.DictVectorizer.html) или функции [pd.get_dummies](http://pandas.pydata.org/pandas-docs/stable/generated/pandas.get_dummies.html).\n",
        "\n",
        "Метод должен возвращать преобразованный DataFrame, который должна состоять из масштабированных вещественных признаков и закодированных категориальных (исходные признаки должны быть исключены из выборки)."
      ]
    },
    {
      "cell_type": "code",
      "execution_count": null,
      "metadata": {
        "collapsed": true,
        "id": "vUnccH2Xoc5d"
      },
      "outputs": [],
      "source": [
        "def transform_data(data):\n",
        "    # Разделяем признаки на числовые и категориальные\n",
        "    numeric_features = data.select_dtypes(include=['float64', 'int64']).columns.tolist()\n",
        "    categorical_features = data.select_dtypes(include=['object']).columns.tolist()\n",
        "\n",
        "    # Создаем преобразователь для числовых признаков (замена пропусков нулями и масштабирование)\n",
        "    numeric_transformer = Pipeline(steps=[\n",
        "        ('imputer', SimpleImputer(strategy='constant', fill_value=0)),  # Заполнение пропусков нулями\n",
        "        ('scaler', StandardScaler())  # Масштабирование\n",
        "    ])\n",
        "\n",
        "    # Создаем преобразователь для категориальных признаков (замена пропусков строкой 'nan' и one-hot-кодирование)\n",
        "    categorical_transformer = Pipeline(steps=[\n",
        "        ('imputer', SimpleImputer(strategy='constant', fill_value='nan')),  # Заполнение пропусков строкой 'nan'\n",
        "        ('onehot', OneHotEncoder(handle_unknown='ignore'))  # Кодирование в числа\n",
        "    ])\n",
        "\n",
        "    # Объединяем преобразования для всех признаков\n",
        "    preprocessor = ColumnTransformer(\n",
        "        transformers=[\n",
        "            ('num', numeric_transformer, numeric_features),\n",
        "            ('cat', categorical_transformer, categorical_features)\n",
        "        ]\n",
        "    )\n",
        "\n",
        "    # Применяем преобразования к данным\n",
        "    X_preprocessed = preprocessor.fit_transform(data)\n",
        "\n",
        "    return X_preprocessed"
      ]
    },
    {
      "cell_type": "markdown",
      "metadata": {
        "id": "-83piV95oc5d"
      },
      "source": [
        "Примените функцию transform_data к данным. Сколько признаков получилось после преобразования?"
      ]
    },
    {
      "cell_type": "code",
      "execution_count": null,
      "metadata": {
        "collapsed": true,
        "id": "ZgOJ_Gxooc5d"
      },
      "outputs": [],
      "source": [
        "# Предобработка данных (исключаем ненужные столбцы и пропуски)\n",
        "columns_to_drop = ['ArrTime', 'CRSArrTime', 'ActualElapsedTime', 'CRSElapsedTime', 'AirTime', 'TailNum', 'Year']\n",
        "flights_cleaned = flights.drop(columns=columns_to_drop).dropna(subset=['DepDelay'])\n",
        "X = flights_cleaned.drop(columns=['DepDelay'])\n",
        "\n",
        "# Применяем функцию transform_data к данным\n",
        "X_transformed = transform_data(X)\n",
        "\n",
        "# Определяем количество признаков после преобразования\n",
        "num_features_after_transformation = X_transformed.shape[1]\n",
        "\n",
        "num_features_after_transformation"
      ]
    },
    {
      "cell_type": "markdown",
      "metadata": {
        "id": "9hUy8cS4oc5d"
      },
      "source": [
        "**16. (0.5 балла)** Разбейте выборку и вектор целевой переменной на обучение и контроль в отношении 70/30 (для этого можно использовать, например, функцию [train_test_split](http://scikit-learn.org/stable/modules/generated/sklearn.cross_validation.train_test_split.html))."
      ]
    },
    {
      "cell_type": "code",
      "execution_count": null,
      "metadata": {
        "collapsed": true,
        "id": "KVx6OaIqoc5e"
      },
      "outputs": [],
      "source": [
        "from sklearn.model_selection import train_test_split\n",
        "\n",
        "# Разделение данных на обучающую и тестовую выборки в отношении 70/30\n",
        "X_train, X_test, y_train, y_test = train_test_split(X_transformed, y, test_size=0.3, random_state=42)\n",
        "\n",
        "X_train.shape, X_test.shape, y_train.shape, y_test.shape"
      ]
    },
    {
      "cell_type": "markdown",
      "metadata": {
        "id": "4TTN5ccJoc5f"
      },
      "source": [
        "### Scikit-learn\n",
        "\n",
        "<img src = \"https://pp.vk.me/c4534/u35727827/93547647/x_d31c4463.jpg\">\n",
        "Теперь, когда мы привели данные к пригодному виду, попробуем решить задачу при помощи метода наименьших квадратов. Напомним, что данный метод заключается в оптимизации функционала $MSE$:\n",
        "\n",
        "$$MSE(X, y) = \\frac{1}{l} \\sum_{i=1}^l (<w, x_i> - y_i)^2 \\to \\min_{w},$$\n",
        "\n",
        "где $\\{ (x_i, y_i ) \\}_{i=1}^l$ — обучающая выборка, состоящая из $l$ пар объект-ответ.\n",
        "\n",
        "Заметим, что решение данной задачи уже реализовано в модуле sklearn в виде класса [LinearRegression](http://scikit-learn.org/stable/modules/generated/sklearn.linear_model.LinearRegression.html#sklearn.linear_model.LinearRegression).\n",
        "\n",
        "**17. (0.5 балла)** Обучите линейную регрессию на 1000 объектах из обучающей выборки и выведите значения $MSE$ и $R^2$ на этой подвыборке и контрольной выборке (итого 4 различных числа). Проинтерпретируйте полученный результат — насколько качественные прогнозы строит полученная модель? Какие проблемы наблюдаются в модели?\n",
        "\n",
        "**Подсказка**: изучите значения полученных коэффициентов $w$, сохраненных в атрибуте coef_ объекта LinearRegression."
      ]
    },
    {
      "cell_type": "code",
      "execution_count": null,
      "metadata": {
        "collapsed": true,
        "id": "k-aN4ILooc5f"
      },
      "outputs": [],
      "source": [
        "from sklearn.linear_model import LinearRegression\n",
        "from sklearn.metrics import mean_squared_error, r2_score\n",
        "\n",
        "# Создаем объект линейной регрессии\n",
        "model = LinearRegression()\n",
        "\n",
        "# Обучаем модель на 1000 объектах из обучающей выборки\n",
        "model.fit(X_train[:1000], y_train[:1000])\n",
        "\n",
        "# Предсказания на подвыборке и контрольной выборке\n",
        "y_train_pred = model.predict(X_train[:1000])\n",
        "y_test_pred = model.predict(X_test)\n",
        "\n",
        "# Вычисляем MSE и R2 на подвыборке и контрольной выборке\n",
        "mse_train = mean_squared_error(y_train[:1000], y_train_pred)\n",
        "r2_train = r2_score(y_train[:1000], y_train_pred)\n",
        "\n",
        "mse_test = mean_squared_error(y_test, y_test_pred)\n",
        "r2_test = r2_score(y_test, y_test_pred)\n",
        "\n",
        "mse_train, r2_train, mse_test, r2_test"
      ]
    },
    {
      "cell_type": "markdown",
      "metadata": {
        "collapsed": true,
        "id": "foQxn51Coc5f"
      },
      "source": [
        "Для решения описанных вами в предыдущем пункте проблем используем L1- или L2-регуляризацию, тем самым получив Lasso и Ridge регрессии соответственно и изменив оптимизационную задачу одним из следующих образов:\n",
        "$$MSE_{L1}(X, y) = \\frac{1}{l} \\sum_{i=1}^l (<w, x_i> - y_i)^2 + \\alpha ||w||_1 \\to \\min_{w},$$\n",
        "$$MSE_{L2}(X, y) = \\frac{1}{l} \\sum_{i=1}^l (<w, x_i> - y_i)^2 + \\alpha ||w||_2^2 \\to \\min_{w},$$\n",
        "\n",
        "где $\\alpha$ — коэффициент регуляризации. Один из способов его подбора заключается в переборе некоторого количества значений и оценке качества на кросс-валидации для каждого из них, после чего выбирается значение, для которого было получено наилучшее качество.\n",
        "\n",
        "**18. (0.5 балла)** Обучите линейные регрессии с L1- и L2-регуляризатором, подобрав лучшее значение параметра регуляризации из списка alpha_grid при помощи кросс-валидации c 5 фолдами на тех же 1000 объектах, что и в п.17. Выведите значения $MSE$ и $R^2$ на обучающей и контрольной выборках. Удалось ли решить указанные вами ранее проблемы?\n",
        "\n",
        "Для выполнения данного задания вам могут понадобиться реализованные в библиотеке объекты [LassoCV](http://scikit-learn.org/stable/modules/generated/sklearn.linear_model.LassoCV.html), [RidgeCV](http://scikit-learn.org/stable/modules/generated/sklearn.linear_model.RidgeCV.html) и [KFold](http://scikit-learn.org/stable/modules/generated/sklearn.cross_validation.KFold.html).\n"
      ]
    },
    {
      "cell_type": "code",
      "execution_count": null,
      "metadata": {
        "id": "trpQwS67oc5f"
      },
      "outputs": [],
      "source": [
        "from sklearn.linear_model import LassoCV, RidgeCV\n",
        "from sklearn.model_selection import KFold\n",
        "\n",
        "# Создаем объекты для кросс-валидации с 5 фолдами\n",
        "kf = KFold(n_splits=5)\n",
        "\n",
        "# Задаем сетку значений параметра регуляризации\n",
        "alpha_grid = np.logspace(-4, 2, 100)\n",
        "\n",
        "# Обучаем линейную регрессию с L1-регуляризацией (Lasso)\n",
        "lasso_cv = LassoCV(alphas=alpha_grid, cv=kf)\n",
        "lasso_cv.fit(X_train[:1000], y_train[:1000])\n",
        "\n",
        "# Обучаем линейную регрессию с L2-регуляризацией (Ridge)\n",
        "ridge_cv = RidgeCV(alphas=alpha_grid, cv=kf)\n",
        "ridge_cv.fit(X_train[:1000], y_train[:1000])\n",
        "\n",
        "# Предсказания на обучающей и контрольной выборках для Lasso\n",
        "y_train_pred_lasso = lasso_cv.predict(X_train[:1000])\n",
        "y_test_pred_lasso = lasso_cv.predict(X_test)\n",
        "\n",
        "# Предсказания на обучающей и контрольной выборках для Ridge\n",
        "y_train_pred_ridge = ridge_cv.predict(X_train[:1000])\n",
        "y_test_pred_ridge = ridge_cv.predict(X_test)\n",
        "\n",
        "# Вычисляем MSE и R2 на обучающей и контрольной выборках для Lasso\n",
        "mse_train_lasso = mean_squared_error(y_train[:1000], y_train_pred_lasso)\n",
        "r2_train_lasso = r2_score(y_train[:1000], y_train_pred_lasso)\n",
        "\n",
        "mse_test_lasso = mean_squared_error(y_test, y_test_pred_lasso)\n",
        "r2_test_lasso = r2_score(y_test, y_test_pred_lasso)\n",
        "\n",
        "# Вычисляем MSE и R2 на обучающей и контрольной выборках для Ridge\n",
        "mse_train_ridge = mean_squared_error(y_train[:1000], y_train_pred_ridge)\n",
        "r2_train_ridge = r2_score(y_train[:1000], y_train_pred_ridge)\n",
        "\n",
        "mse_test_ridge = mean_squared_error(y_test, y_test_pred_ridge)\n",
        "r2_test_ridge = r2_score(y_test, y_test_pred_ridge)\n",
        "\n",
        "mse_train_lasso, r2_train_lasso, mse_test_lasso, r2_test_lasso, mse_train_ridge, r2_train_ridge, mse_test_ridge, r2_test_ridge"
      ]
    },
    {
      "cell_type": "markdown",
      "metadata": {
        "id": "SbOavom3oc5f"
      },
      "source": [
        "### Градиентный спуск\n",
        "\n",
        "В предыдущем разделе мы использовали существующие реализации методов обучения линейной регрессии с регуляризацией и без. Тем не менее, подобные реализации, как правило, имеются лишь для ограниченного набора стандартных методов. В частности, при выходе функционала качества за пределы стандартного множества необходимо самостоятельно реализовывать составляющие процесса решения оптимизационной задачи. Именно этому и посвящен данный раздел задания.\n",
        "\n",
        "Пусть необходимо минимизировать следующий функционал (Mean Square Percentage Error — модифицированный [RMSPE](https://www.kaggle.com/c/rossmann-store-sales/details/evaluation)):\n",
        "$$MSPE(\\{x_i, y_i\\}_{i=1}^l, \\, w) = \\frac{1}{l}\\sum_{i=1}^l \\left( \\frac{y_i - \\langle w, x_i \\rangle }{y_i} \\right)^2,$$\n",
        "\n",
        "где $\\{x_i, y_i\\}_{i=1}^l$ — обучающая выборка, $w$ — вектор весов линейной модели. Будем также рассматривать функционал $MSPE$ с L2-регуляризацией:\n",
        "\n",
        "$$MSPE(\\{x_i, y_i\\}_{i=1}^l, \\, w) = \\frac{1}{l}\\sum_{i=1}^l \\left( \\frac{y_i - \\langle w, x_i \\rangle }{y_i} \\right)^2 + ||w||_2^2.$$\n",
        "\n",
        "**19. (0 баллов)** Добавьте к объектам обеих выборок из п. 16 единичный признак."
      ]
    },
    {
      "cell_type": "code",
      "execution_count": null,
      "metadata": {
        "collapsed": true,
        "id": "SH3xCKD1oc5f"
      },
      "outputs": [],
      "source": [
        "import numpy as np\n",
        "# Добавляем единичный признак к обучающей выборке\n",
        "X_train_with_ones = np.hstack((np.ones((X_train.shape[0], 1)), X_train))\n",
        "\n",
        "# Добавляем единичный признак к тестовой выборке\n",
        "X_test_with_ones = np.hstack((np.ones((X_test.shape[0], 1)), X_test))"
      ]
    },
    {
      "cell_type": "markdown",
      "metadata": {
        "id": "GFpaCuFHoc5f"
      },
      "source": [
        "**20. (1 балл)** Реализуйте функции, которые вычисляют:\n",
        " * прогнозы линейной модели;\n",
        " * функционал $MSPE$ и его градиент;\n",
        " * регуляризованный $MSPE$ и его градиент."
      ]
    },
    {
      "cell_type": "code",
      "execution_count": null,
      "metadata": {
        "collapsed": true,
        "id": "lBuAEoAeoc5g"
      },
      "outputs": [],
      "source": [
        "# возвращает вектор прогнозов линейной модели с вектором весов w для выборки X\n",
        "def make_pred(X, w):\n",
        "    pass"
      ]
    },
    {
      "cell_type": "code",
      "execution_count": null,
      "metadata": {
        "collapsed": true,
        "id": "nA_sbVFsoc5g"
      },
      "outputs": [],
      "source": [
        "# возвращает значение функционала MSPE для выборки (X, y) и вектора весов w\n",
        "def get_func(w, X, y):\n",
        "    pass"
      ]
    },
    {
      "cell_type": "code",
      "execution_count": null,
      "metadata": {
        "collapsed": true,
        "id": "tECGJB93oc5g"
      },
      "outputs": [],
      "source": [
        "# возвращает градиент функционала MSPE для выборки (X, y) и вектора весов w\n",
        "def get_grad(w, X, y):\n",
        "    pass"
      ]
    },
    {
      "cell_type": "code",
      "execution_count": null,
      "metadata": {
        "collapsed": true,
        "id": "xoQUxA0qoc5g"
      },
      "outputs": [],
      "source": [
        "# возвращает значение регуляризованного функционала MSPE для выборки (X, y) и вектора весов w\n",
        "def get_reg_func(w, X, y):\n",
        "    pass"
      ]
    },
    {
      "cell_type": "code",
      "execution_count": null,
      "metadata": {
        "collapsed": true,
        "id": "YzsiWthAoc5g"
      },
      "outputs": [],
      "source": [
        "# возвращает градиент регуляризованного функционала MSPE для выборки (X, y) и вектора весов w\n",
        "def get_reg_grad(w, X, y):\n",
        "    pass"
      ]
    },
    {
      "cell_type": "markdown",
      "metadata": {
        "id": "S2NKBAmJoc5h"
      },
      "source": [
        "**21. (1 балл)** Реализуйте метод градиентного спуска для описанных функционалов ($MSPE$ и его регуляризованный вариант). Функция должна принимать следующие параметры:\n",
        " - X — матрица \"объект-признак\";\n",
        " - y — вектор целевой переменной;\n",
        " - w0 — начальное значение вектора весов;\n",
        " - step_size — значение темпа обучения;\n",
        " - max_iter — максимальное число итераций;\n",
        " - eps — значение, используемое в критерии останова;\n",
        " - is_reg — бинарный параметр, принимает значение True в случае наличия регуляризации функционала, False — в противном случае.\n",
        "\n",
        "Процесс должен быть остановлен, если выполнено хотя бы одно из следующих условий:\n",
        " - было выполнено заданное количество итераций max_iter;\n",
        " - евклидова норма разности векторов $w$ на соседних итерациях стала меньше, чем eps.\n",
        "\n",
        "Функция должна возвращать полученный в результате оптимизации вектор $w$ и список значений функционала на каждой итерации."
      ]
    },
    {
      "cell_type": "code",
      "execution_count": null,
      "metadata": {
        "collapsed": true,
        "id": "pCZFws74oc5h"
      },
      "outputs": [],
      "source": [
        "def grad_descent(X, y, step_size, max_iter, eps, is_reg):\n",
        "    # Your code here"
      ]
    },
    {
      "cell_type": "markdown",
      "metadata": {
        "id": "uvF5rTEOoc5h"
      },
      "source": [
        "Обучите линейную регрессию с функционалом $MSPE$ на обучающей выборке при помощи метода градиентного спуска и изобразите кривые зависимости значения функционала от номера итерации для различных:\n",
        " * значений размера шага из набора [0.001, 1, 10];\n",
        " * способов начальной инициализации вектора весов (нули, случайные веса).\n",
        "\n",
        "Проанализируйте полученные результаты — влияют ли данные параметры на скорость сходимости и итоговое качество? Если да, то как?"
      ]
    },
    {
      "cell_type": "code",
      "execution_count": null,
      "metadata": {
        "collapsed": true,
        "id": "CieAKylpoc5h"
      },
      "outputs": [],
      "source": [
        "# Your code here"
      ]
    },
    {
      "cell_type": "markdown",
      "metadata": {
        "id": "DNcXYhlhoc5i"
      },
      "source": [
        "**22. (0.5 балла)** Обучите линейную регрессию с функционалом MSPE и его регуляризованным вариантом на обучающей выборке при помощи метода градиентного спуска и изобразите кривые зависимости значения функционала от номера итерации. Исследуйте зависимость скорости сходимости от наличия регуляризации. Обоснуйте, почему так происходит."
      ]
    },
    {
      "cell_type": "code",
      "execution_count": null,
      "metadata": {
        "collapsed": true,
        "id": "_u2IB76ioc5i"
      },
      "outputs": [],
      "source": [
        "# Your code here"
      ]
    },
    {
      "cell_type": "markdown",
      "metadata": {
        "id": "pDcBXfu-oc5i"
      },
      "source": [
        "Метод градиентного спуска может быть весьма трудозатратен в случае большого размера обучающей выборки. Поэтому часто используют метод стохастического градиентного спуска, где на каждой итерации выбирается случайный объект из обучающей выборки и обновление весов происходит только по этому объекту.\n",
        "\n",
        "**23. (1 доп. балл)**  Реализуйте метод стохастического градиентного спуска (SGD) для описанных функционалов ($MSPE$ и его регуляризованный вариант). Функция должна иметь параметры и возвращаемое значение, аналогичные оным функции grad\\_descent из п.21. Кроме того, должен использоваться аналогичный критерий останова."
      ]
    },
    {
      "cell_type": "code",
      "execution_count": null,
      "metadata": {
        "collapsed": true,
        "id": "XwzZyO1noc5i"
      },
      "outputs": [],
      "source": [
        "def sgd(X, y, step_size, max_iter, eps, is_reg):\n",
        "    # Your code here"
      ]
    },
    {
      "cell_type": "markdown",
      "metadata": {
        "id": "co_aG13ooc5i"
      },
      "source": [
        "Обучите линейную регрессию с функционалом $MSPE$ и его регуляризованным вариантом на обучающей выборке при помощи метода стохастического градиентного спуска, подобрав при этом размер шага, при котором метод будет сходиться. Нарисуйте график сходимости. Выведите значения $MSPE, MSE, R^2$ на контрольной выборке."
      ]
    },
    {
      "cell_type": "code",
      "execution_count": null,
      "metadata": {
        "collapsed": true,
        "id": "qzY_igxzoc5j"
      },
      "outputs": [],
      "source": [
        "# Your code here"
      ]
    },
    {
      "cell_type": "markdown",
      "metadata": {
        "id": "Iwb3EamToc5j"
      },
      "source": [
        "**24. (0.5 доп. балла)** Аналогично п.22 исследуйте зависимость скорости сходимости метода SGD от наличия регуляризации. Обоснуйте, почему так происходит."
      ]
    },
    {
      "cell_type": "code",
      "execution_count": null,
      "metadata": {
        "collapsed": true,
        "id": "Ce0LlYggoc5j"
      },
      "outputs": [],
      "source": [
        "# Your code here"
      ]
    },
    {
      "cell_type": "markdown",
      "metadata": {
        "id": "uVDOM4fnoc5j"
      },
      "source": [
        "**25. (0.5 балла)** Обучите стандартную линейную регрессию с функционалом качества MSE на обучающей выборке и выведите значение MSPE полученного решения на контрольной выборке. Как оно соотносится с аналогичным результатом для решения, полученного в п.22? Почему?"
      ]
    },
    {
      "cell_type": "code",
      "execution_count": null,
      "metadata": {
        "collapsed": true,
        "id": "RbyLyPd0oc5j"
      },
      "outputs": [],
      "source": [
        "# Your code here"
      ]
    }
  ],
  "metadata": {
    "kernelspec": {
      "display_name": "Python 2",
      "language": "python",
      "name": "python2"
    },
    "language_info": {
      "codemirror_mode": {
        "name": "ipython",
        "version": 2
      },
      "file_extension": ".py",
      "mimetype": "text/x-python",
      "name": "python",
      "nbconvert_exporter": "python",
      "pygments_lexer": "ipython2",
      "version": "2.7.11"
    },
    "colab": {
      "provenance": [],
      "include_colab_link": true
    }
  },
  "nbformat": 4,
  "nbformat_minor": 0
}