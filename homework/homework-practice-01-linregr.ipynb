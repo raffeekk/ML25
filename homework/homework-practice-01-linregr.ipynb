{
  "cells": [
    {
      "cell_type": "markdown",
      "metadata": {
        "id": "view-in-github",
        "colab_type": "text"
      },
      "source": [
        "<a href=\"https://colab.research.google.com/github/raffeekk/ML25/blob/main/homework/homework-practice-01-linregr.ipynb\" target=\"_parent\"><img src=\"https://colab.research.google.com/assets/colab-badge.svg\" alt=\"Open In Colab\"/></a>"
      ]
    },
    {
      "cell_type": "markdown",
      "metadata": {
        "id": "lxWlD92Xoc5N"
      },
      "source": [
        "# Машинное обучение, ФКН ВШЭ\n",
        "\n",
        "# Практическое задание 1\n",
        "\n",
        "## Общая информация\n",
        "\n",
        "Дата выдачи: 16.09.2016\n",
        "\n",
        "Срок сдачи: 30.09.2016 23:59MSK\n",
        "\n",
        "### О задании\n",
        "\n",
        "Практическое задание 1 посвящено изучению основных библиотек для анализа данных, а также линейных моделей и методов их обучения. Вы научитесь:\n",
        " * применять библиотеки NumPy и Pandas для осуществления желаемых преобразований;\n",
        " * подготавливать данные для обучения линейных моделей;\n",
        " * обучать линейную, Lasso и Ridge-регрессии при помощи модуля scikit-learn;\n",
        " * реализовывать обычный и стохастический градиентные спуски;\n",
        " * обучать линейную регрессию для произвольного функционала качества.\n",
        "\n",
        "\n",
        "### Оценивание и штрафы\n",
        "\n",
        "Каждая из задач имеет определенную «стоимость» (указана в скобках около задачи). Максимально допустимая оценка за работу — 10 баллов. Кроме того, некоторые из заданий являются опциональными (необязательными), однако за их выполнение можно получить дополнительные баллы, которые позднее будут учитываться при проставлении оценок автоматом по курсу.\n",
        "\n",
        "Сдавать задание после указанного срока сдачи нельзя. При выставлении неполного балла за задание в связи с наличием ошибок на усмотрение проверяющего предусмотрена возможность исправить работу на указанных в ответном письме условиях.\n",
        "\n",
        "Задание выполняется самостоятельно. «Похожие» решения считаются плагиатом и все задействованные студенты (в том числе те, у кого списали) не могут получить за него больше 0 баллов (подробнее о плагиате см. на странице курса). Если вы нашли решение какого-то из заданий (или его часть) в открытом источнике, необходимо указать ссылку на этот источник в отдельном блоке в конце Вашей работы (скорее всего вы будете не единственным, кто это нашел, поэтому чтобы исключить подозрение в плагиате, необходима ссылка на источник).\n",
        "\n",
        "Неэффективная реализация кода может негативно отразиться на оценке.\n",
        "\n",
        "\n",
        "### Формат сдачи\n",
        "Для сдачи задания переименуйте получившийся файл \\*.ipynb в соответствии со следующим форматом: *HW1_Username.ipynb*, где *Username* — Ваша фамилия и инициалы на латинице (например, *HW1_IvanovII.ipynb*). Далее отправьте этот файл на hse.cs.ml+<номер группы>@gmail.com (например, hse.cs.ml+141@gmail.com для студентов группы БПМИ-141)."
      ]
    },
    {
      "cell_type": "markdown",
      "metadata": {
        "id": "-AKBbVjLoc5Q"
      },
      "source": [
        "## Библиотеки для анализа данных\n",
        "\n",
        "### NumPy\n",
        "\n",
        "Во всех заданиях данного раздела запрещено использовать циклы  и list comprehensions. Под вектором и матрицей в данных заданиях понимается одномерный и двумерный numpy.array соответственно."
      ]
    },
    {
      "cell_type": "code",
      "execution_count": 86,
      "metadata": {
        "collapsed": true,
        "id": "XkBWnzRKoc5R"
      },
      "outputs": [],
      "source": [
        "import numpy as np"
      ]
    },
    {
      "cell_type": "markdown",
      "metadata": {
        "id": "LmMhJ4Tsoc5S"
      },
      "source": [
        "**1. (0.2 балла)** Реализуйте функцию, возвращающую максимальный элемент в векторе x среди элементов, перед которыми стоит нулевой. Для x = np.array([6, 2, 0, 3, 0, 0, 5, 7, 0]) ответом является 5. Если нулевых элементов нет, функция должна возвращать None.\n"
      ]
    },
    {
      "cell_type": "code",
      "execution_count": 87,
      "metadata": {
        "collapsed": true,
        "id": "EueggP2qoc5S"
      },
      "outputs": [],
      "source": [
        "def max_element(arr):\n",
        "    # Your code here\n",
        "    if 0 not in x:\n",
        "      return None\n",
        "    mask = np.where(x == 0)[0] + 1\n",
        "    mask = mask[mask < len(x)]\n",
        "    return np.max(x[mask])"
      ]
    },
    {
      "cell_type": "markdown",
      "metadata": {
        "id": "ev6af8LYoc5T"
      },
      "source": [
        "**2. (0.2 балла)** Реализуйте функцию, принимающую на вход матрицу и некоторое число и возвращающую ближайший к числу элемент матрицы. Например: для X = np.arange(0,10).reshape((2, 5)) и v = 3.6 ответом будет 4."
      ]
    },
    {
      "cell_type": "code",
      "execution_count": 88,
      "metadata": {
        "collapsed": true,
        "id": "xl21KAqLoc5T"
      },
      "outputs": [],
      "source": [
        "def nearest_value(X, v):\n",
        "    # Your code here\n",
        "    return X.flat[np.abs(X - v).argmin()]"
      ]
    },
    {
      "cell_type": "markdown",
      "metadata": {
        "id": "ZKi3omGcoc5U"
      },
      "source": [
        "**3. (0.2 балла)** Реализуйте функцию scale(X), которая принимает на вход матрицу и масштабирует каждый ее столбец (вычитает выборочное среднее и делит на стандартное отклонение). Убедитесь, что в функции не будет происходить деления на ноль. Протестируйте на случайной матрице (для её генерации можно использовать, например, функцию [numpy.random.randint](http://docs.scipy.org/doc/numpy/reference/generated/numpy.random.randint.html))."
      ]
    },
    {
      "cell_type": "code",
      "execution_count": 89,
      "metadata": {
        "collapsed": true,
        "id": "4Oqo_C6_oc5U",
        "outputId": "bb391fbf-aa6f-4892-8d5a-d3782d5c69d1",
        "colab": {
          "base_uri": "https://localhost:8080/"
        }
      },
      "outputs": [
        {
          "output_type": "stream",
          "name": "stdout",
          "text": [
            "Исходная матрица:\n",
            " [[9 6 8 5]\n",
            " [2 0 7 8]\n",
            " [1 2 6 4]\n",
            " [2 3 5 9]\n",
            " [7 1 6 9]]\n",
            "Масштабированная матрица:\n",
            " [[ 1.50589393  1.74831455  1.56892908 -0.95346259]\n",
            " [-0.69020139 -1.16554303  0.58834841  0.47673129]\n",
            " [-1.00392929 -0.19425717 -0.39223227 -1.43019388]\n",
            " [-0.69020139  0.29138576 -1.37281295  0.95346259]\n",
            " [ 0.87843813 -0.6799001  -0.39223227  0.95346259]]\n"
          ]
        }
      ],
      "source": [
        "def scale(X):\n",
        "    mean = X.mean(axis=0)\n",
        "    std = X.std(axis=0)\n",
        "    std[std == 0] = 1\n",
        "    return (X - mean) / std\n",
        "\n",
        "# Тестирование\n",
        "X = np.random.randint(0, 10, (5, 4))\n",
        "print(\"Исходная матрица:\\n\", X)\n",
        "print(\"Масштабированная матрица:\\n\", scale(X))"
      ]
    },
    {
      "cell_type": "markdown",
      "metadata": {
        "id": "9juJ9eKqoc5V"
      },
      "source": [
        "**4. (0.2 балла)** Реализуйте функцию, которая для заданной матрицы находит:\n",
        " - определитель\n",
        " - след\n",
        " - наименьший и наибольший элементы\n",
        " - норму Фробениуса\n",
        " - собственные числа\n",
        " - обратную матрицу\n",
        "\n",
        "Для тестирования сгенерируйте матрицу с элементами из нормального распределения $\\mathcal{N}$(10,1)"
      ]
    },
    {
      "cell_type": "code",
      "execution_count": 90,
      "metadata": {
        "id": "KxtCDvqvoc5W",
        "outputId": "66a283d1-5a8c-4150-b69b-6e246aefe7a9",
        "colab": {
          "base_uri": "https://localhost:8080/"
        }
      },
      "outputs": [
        {
          "output_type": "stream",
          "name": "stdout",
          "text": [
            "Матрица:\n",
            " [[ 9.85478398 11.12850918  8.89172095  9.71212121 11.36071828]\n",
            " [ 8.2620356  11.28301023 10.534277    8.27647179  9.90194559]\n",
            " [11.98620142  8.87222634 10.55377627  8.58973915 10.74244767]\n",
            " [10.566186    9.86866091  8.99814797  8.7121286   9.41413358]\n",
            " [ 9.9662243  10.43556485 11.81247745  9.37017922  7.90035979]]\n",
            "Определитель: 402.097006275086\n",
            "След: 48.30405887177054\n",
            "Наименьший элемент: 7.900359794662087\n",
            "Наибольший элемент: 11.986201423501123\n",
            "Норма Фробениуса: 49.71879527093676\n",
            "Собственные числа: [49.43914031+0.j          0.90828048+1.63417911j  0.90828048-1.63417911j\n",
            " -1.47582119+0.38561223j -1.47582119-0.38561223j]\n",
            "Обратная матрица:\n",
            " [[-0.40871327 -0.00592625 -0.03528562  0.69481273 -0.18480782]\n",
            " [-0.44461709  0.35722162 -0.3811077   0.82173704 -0.26934625]\n",
            " [-0.05434272  0.11420504  0.2112555  -0.43553277  0.16673707]\n",
            " [ 0.79573189 -0.60686959 -0.01972247 -0.73667536  0.5210056 ]\n",
            " [ 0.24035999  0.08463984  0.25544289 -0.43699889 -0.15174971]]\n"
          ]
        }
      ],
      "source": [
        "def get_stats(X):\n",
        "    # Your code here\n",
        "    det = np.linalg.det(X)\n",
        "    trace = np.trace(X)\n",
        "    min_val = np.min(X)\n",
        "    max_val = np.max(X)\n",
        "    frobenius_norm = np.linalg.norm(X, 'fro')\n",
        "    eigenvalues = np.linalg.eigvals(X)\n",
        "    try:\n",
        "        inv_matrix = np.linalg.inv(X)\n",
        "    except np.linalg.LinAlgError:\n",
        "        inv_matrix = None\n",
        "    return det, trace, min_val, max_val, frobenius_norm, eigenvalues, inv_matrix\n",
        "\n",
        "# Тестирование\n",
        "X = np.random.normal(10, 1, (5, 5))\n",
        "properties = get_stats(X)\n",
        "\n",
        "print(\"Матрица:\\n\", X)\n",
        "print(\"Определитель:\", properties[0])\n",
        "print(\"След:\", properties[1])\n",
        "print(\"Наименьший элемент:\", properties[2])\n",
        "print(\"Наибольший элемент:\", properties[3])\n",
        "print(\"Норма Фробениуса:\", properties[4])\n",
        "print(\"Собственные числа:\", properties[5])\n",
        "print(\"Обратная матрица:\\n\", properties[6])"
      ]
    },
    {
      "cell_type": "markdown",
      "metadata": {
        "id": "hCX_Y0T3oc5X"
      },
      "source": [
        "**5. (0.2 балла)** Повторите 100 раз следующий эксперимент: сгенерируйте две матрицы размера 10×10 из стандартного нормального распределения, перемножьте их (как матрицы) и найдите максимальный элемент. Какое среднее значение по экспериментам у максимальных элементов? 95-процентная квантиль?"
      ]
    },
    {
      "cell_type": "code",
      "execution_count": 91,
      "metadata": {
        "collapsed": true,
        "id": "cDsSl-bRoc5X",
        "outputId": "d6bd8990-76c5-4768-8341-57f8e68783b9",
        "colab": {
          "base_uri": "https://localhost:8080/"
        }
      },
      "outputs": [
        {
          "output_type": "execute_result",
          "data": {
            "text/plain": [
              "(8.458541353290926, 10.985221845827942)"
            ]
          },
          "metadata": {},
          "execution_count": 91
        }
      ],
      "source": [
        "results = []\n",
        "for exp_num in range(100):\n",
        "    A = np.random.standard_normal((10, 10))\n",
        "    B = np.random.standard_normal((10, 10))\n",
        "    product = A @ B\n",
        "    max_element = np.max(product)\n",
        "    results.append(max_element)\n",
        "\n",
        "mean_value = np.mean(results)\n",
        "quantile_95 = np.quantile(results, 0.95)\n",
        "\n",
        "mean_value, quantile_95"
      ]
    },
    {
      "cell_type": "markdown",
      "metadata": {
        "id": "yxf7JO-Xoc5X"
      },
      "source": [
        "### Pandas\n",
        "\n",
        "![](https://metrouk2.files.wordpress.com/2015/10/panda.jpg)\n",
        "\n",
        "#### Ответьте на вопросы о данных по авиарейсам в США за январь-апрель 2008 года.\n",
        "\n",
        "[Данные](https://www.dropbox.com/s/dvfitn93obn0rql/2008.csv?dl=0) и их [описание](http://stat-computing.org/dataexpo/2009/the-data.html)"
      ]
    },
    {
      "cell_type": "code",
      "execution_count": 92,
      "metadata": {
        "collapsed": true,
        "id": "UHNABHjAoc5X"
      },
      "outputs": [],
      "source": [
        "import pandas as pd\n",
        "%matplotlib inline"
      ]
    },
    {
      "cell_type": "markdown",
      "metadata": {
        "id": "mEet2HyZoc5X"
      },
      "source": [
        "**6. (0.3 балла)** Какая из причин отмены рейса (`CancellationCode`) была самой частой? (расшифровки кодов можно найти в описании данных)"
      ]
    },
    {
      "cell_type": "code",
      "execution_count": 93,
      "metadata": {
        "collapsed": true,
        "id": "9lDPrxh_oc5Z",
        "outputId": "48565ec7-0611-4d87-dd99-97487b5bd1d7",
        "colab": {
          "base_uri": "https://localhost:8080/",
          "height": 125
        }
      },
      "outputs": [
        {
          "output_type": "stream",
          "name": "stdout",
          "text": [
            "CancellationCode\n",
            "A    563\n",
            "B    549\n",
            "C    299\n",
            "Name: count, dtype: int64\n"
          ]
        },
        {
          "output_type": "execute_result",
          "data": {
            "text/plain": [
              "'A'"
            ],
            "application/vnd.google.colaboratory.intrinsic+json": {
              "type": "string"
            }
          },
          "metadata": {},
          "execution_count": 93
        }
      ],
      "source": [
        "flights = pd.read_csv(\"https://raw.githubusercontent.com/raffeekk/ML25/refs/heads/main/2008.csv\")\n",
        "\n",
        "# Подсчет частоты каждой причины отмены\n",
        "cancellation_counts = flights['CancellationCode'].value_counts()\n",
        "\n",
        "# Находим наиболее частую причину\n",
        "most_frequent_cancellation = cancellation_counts.idxmax()\n",
        "# количество отмен по разным причинам\n",
        "print(cancellation_counts)\n",
        "most_frequent_cancellation"
      ]
    },
    {
      "cell_type": "markdown",
      "metadata": {
        "id": "l91J-8TMoc5Z"
      },
      "source": [
        "**7. (0.3 балла)** Найдите среднее, минимальное и максимальное расстояние, пройденное самолетом."
      ]
    },
    {
      "cell_type": "code",
      "execution_count": 104,
      "metadata": {
        "collapsed": true,
        "id": "FAa9nPsIoc5Z",
        "outputId": "50a207e8-87e9-4e0c-e07d-225f91b0ef9d",
        "colab": {
          "base_uri": "https://localhost:8080/",
          "height": 178
        }
      },
      "outputs": [
        {
          "output_type": "execute_result",
          "data": {
            "text/plain": [
              "mean     724.508257\n",
              "min       31.000000\n",
              "max     4962.000000\n",
              "Name: Distance, dtype: float64"
            ],
            "text/html": [
              "<div>\n",
              "<style scoped>\n",
              "    .dataframe tbody tr th:only-of-type {\n",
              "        vertical-align: middle;\n",
              "    }\n",
              "\n",
              "    .dataframe tbody tr th {\n",
              "        vertical-align: top;\n",
              "    }\n",
              "\n",
              "    .dataframe thead th {\n",
              "        text-align: right;\n",
              "    }\n",
              "</style>\n",
              "<table border=\"1\" class=\"dataframe\">\n",
              "  <thead>\n",
              "    <tr style=\"text-align: right;\">\n",
              "      <th></th>\n",
              "      <th>Distance</th>\n",
              "    </tr>\n",
              "  </thead>\n",
              "  <tbody>\n",
              "    <tr>\n",
              "      <th>mean</th>\n",
              "      <td>724.508257</td>\n",
              "    </tr>\n",
              "    <tr>\n",
              "      <th>min</th>\n",
              "      <td>31.000000</td>\n",
              "    </tr>\n",
              "    <tr>\n",
              "      <th>max</th>\n",
              "      <td>4962.000000</td>\n",
              "    </tr>\n",
              "  </tbody>\n",
              "</table>\n",
              "</div><br><label><b>dtype:</b> float64</label>"
            ]
          },
          "metadata": {},
          "execution_count": 104
        }
      ],
      "source": [
        "flights = pd.read_csv(\"https://raw.githubusercontent.com/raffeekk/ML25/refs/heads/main/2008.csv\")\n",
        "\n",
        "# Вычисление среднего, минимального и максимального расстояния\n",
        "distance_stats = flights['Distance'].agg(['mean', 'min', 'max'])\n",
        "\n",
        "distance_stats"
      ]
    },
    {
      "cell_type": "markdown",
      "metadata": {
        "id": "MM8puyQ9oc5Z"
      },
      "source": [
        "**8. (0.3 балла)** Не выглядит ли подозрительным минимальное пройденное расстояние? В какие дни и на каких рейсах оно было? Какое расстояние было пройдено этими же рейсами в другие дни?"
      ]
    },
    {
      "cell_type": "code",
      "execution_count": 95,
      "metadata": {
        "collapsed": true,
        "id": "CDHw_HiVoc5Z",
        "outputId": "42053e7b-9939-4471-c820-bcbcf3b1f917",
        "colab": {
          "base_uri": "https://localhost:8080/"
        }
      },
      "outputs": [
        {
          "output_type": "execute_result",
          "data": {
            "text/plain": [
              "(       FlightNum  DayofMonth  Distance\n",
              " 1116          65          30        31\n",
              " 6958          65          26        31\n",
              " 17349         64          18        31\n",
              " 27534         64          11        31\n",
              " 46082         65           9        31\n",
              " 48112         64          28        31,\n",
              "        FlightNum  DayofMonth  Distance\n",
              " 501           64          20       533\n",
              " 1389          64          13       680\n",
              " 1517          65          10       680\n",
              " 2619          64          23      2381\n",
              " 3869          64           1        82\n",
              " ...          ...         ...       ...\n",
              " 66529         65          21        82\n",
              " 67172         64          22       533\n",
              " 68264         65           7       386\n",
              " 68338         65           3      2454\n",
              " 69305         65           5      1005\n",
              " \n",
              " [72 rows x 3 columns])"
            ]
          },
          "metadata": {},
          "execution_count": 95
        }
      ],
      "source": [
        "# Нахождение минимального расстояния\n",
        "min_distance = flights['Distance'].min()\n",
        "\n",
        "# Фильтрация данных для минимального расстояния\n",
        "min_distance_flights = flights[flights['Distance'] == min_distance][['FlightNum', 'DayofMonth', 'Distance']]\n",
        "\n",
        "# Поиск других дней для этих рейсов\n",
        "other_days_distances = flights[\n",
        "    flights['FlightNum'].isin(min_distance_flights['FlightNum']) &\n",
        "    (flights['Distance'] != min_distance)\n",
        "][['FlightNum', 'DayofMonth', 'Distance']]\n",
        "\n",
        "min_distance_flights, other_days_distances"
      ]
    },
    {
      "cell_type": "markdown",
      "metadata": {
        "id": "AtS9yoy3oc5Z"
      },
      "source": [
        "**9. (0.3 балла)** Из какого аэропорта было произведено больше всего вылетов? В каком городе он находится?"
      ]
    },
    {
      "cell_type": "code",
      "execution_count": 96,
      "metadata": {
        "collapsed": true,
        "id": "ihcxaYz0oc5a",
        "outputId": "fdbde071-d63a-4467-9df2-56589a1b59c3",
        "colab": {
          "base_uri": "https://localhost:8080/"
        }
      },
      "outputs": [
        {
          "output_type": "execute_result",
          "data": {
            "text/plain": [
              "('ATL', 'Unknown', 'ATL', 'Unknown')"
            ]
          },
          "metadata": {},
          "execution_count": 96
        }
      ],
      "source": [
        "# Подсчет количества вылетов для каждого аэропорта\n",
        "departure_counts = flights['Origin'].value_counts()\n",
        "\n",
        "# Находим аэропорт с максимальным количеством вылетов\n",
        "busiest_departure_airport = departure_counts.idxmax()\n",
        "\n",
        "# Подсчет количества прилетов для каждого аэропорта\n",
        "arrival_counts = flights['Dest'].value_counts()\n",
        "\n",
        "# Находим аэропорт с максимальным количеством прилетов\n",
        "busiest_arrival_airport = arrival_counts.idxmax()\n",
        "\n",
        "# Получаем названия аэропортов\n",
        "departure_airport_name = airport_names.get(busiest_departure_airport, 'Unknown')\n",
        "arrival_airport_name = airport_names.get(busiest_arrival_airport, 'Unknown')\n",
        "\n",
        "busiest_departure_airport, departure_airport_name, busiest_arrival_airport, arrival_airport_name"
      ]
    },
    {
      "cell_type": "markdown",
      "metadata": {
        "id": "3P22MB1ioc5a"
      },
      "source": [
        "**10. (0.3 балла)** Найдите для каждого аэропорта среднее время полета (`AirTime`) по всем вылетевшим из него рейсам. Какой аэропорт имеет наибольшее значение этого показателя?"
      ]
    },
    {
      "cell_type": "code",
      "execution_count": 97,
      "metadata": {
        "collapsed": true,
        "id": "sqX9uycaoc5a",
        "outputId": "dfa21195-6973-489e-85b0-7ce03718aba2",
        "colab": {
          "base_uri": "https://localhost:8080/"
        }
      },
      "outputs": [
        {
          "output_type": "execute_result",
          "data": {
            "text/plain": [
              "('SJU', 205.2)"
            ]
          },
          "metadata": {},
          "execution_count": 97
        }
      ],
      "source": [
        "# Группировка данных по аэропорту вылета и расчет среднего времени полета\n",
        "average_airtime = flights.groupby('Origin')['AirTime'].mean()\n",
        "\n",
        "# Находим аэропорт с максимальным средним временем полета\n",
        "airport_max_airtime = average_airtime.idxmax()\n",
        "\n",
        "airport_max_airtime, average_airtime[airport_max_airtime]"
      ]
    },
    {
      "cell_type": "markdown",
      "metadata": {
        "id": "7B96EWcQoc5a"
      },
      "source": [
        "**11. (0.5 балла)** Найдите аэропорт, у которого наибольшая доля задержанных (`DepDelay > 0`) рейсов. Исключите при этом из рассмотрения аэропорты, из которых было отправлено меньше 1000 рейсов (используйте функцию `filter` после `groupby`)."
      ]
    },
    {
      "cell_type": "code",
      "execution_count": 98,
      "metadata": {
        "id": "lYEuK70Foc5b",
        "outputId": "eadb39b5-c55e-448c-a291-e85a9f64c67a",
        "colab": {
          "base_uri": "https://localhost:8080/"
        }
      },
      "outputs": [
        {
          "output_type": "execute_result",
          "data": {
            "text/plain": [
              "('EWR', 0.5111591072714183)"
            ]
          },
          "metadata": {},
          "execution_count": 98
        }
      ],
      "source": [
        "# Группировка по аэропорту вылета и подсчет общего количества рейсов\n",
        "total_flights = flights.groupby('Origin').size()\n",
        "\n",
        "# Фильтрация аэропортов с менее 1000 рейсами\n",
        "filtered_airports = total_flights[total_flights >= 1000].index\n",
        "\n",
        "# Отфильтрованные данные только для аэропортов с >= 1000 рейсами\n",
        "filtered_data = flights[flights['Origin'].isin(filtered_airports)]\n",
        "\n",
        "# Подсчет доли задержанных рейсов для каждого аэропорта\n",
        "delayed_ratio = (\n",
        "    filtered_data[filtered_data['DepDelay'] > 0]\n",
        "    .groupby('Origin')\n",
        "    .size() / filtered_data.groupby('Origin').size()\n",
        ")\n",
        "\n",
        "# Находим аэропорт с максимальной долей задержек\n",
        "airport_max_delay = delayed_ratio.idxmax()\n",
        "\n",
        "airport_max_delay, delayed_ratio[airport_max_delay]"
      ]
    },
    {
      "cell_type": "markdown",
      "metadata": {
        "id": "JYkbVtz2oc5b"
      },
      "source": [
        "## Линейная регрессия\n",
        "\n",
        "В этой части мы разберемся с линейной регрессией, способами её обучения и измерением качества ее прогнозов.\n",
        "\n",
        "Будем рассматривать датасет из предыдущей части задания для предсказания времени задержки отправления рейса в минутах (DepDelay). Отметим, что под задержкой подразумевается не только опоздание рейса относительно планируемого времени вылета, но и отправление до планируемого времени.\n",
        "\n",
        "### Подготовка данных\n",
        "\n",
        "**12. (0.5 балла)** Считайте выборку из файла при помощи функции pd.read_csv и ответьте на следующие вопросы:\n",
        "   - Имеются ли в данных пропущенные значения?\n",
        "   - Сколько всего пропущенных элементов в таблице \"объект-признак\"?\n",
        "   - Сколько объектов имеют хотя бы один пропуск?\n",
        "   - Сколько признаков имеют хотя бы одно пропущенное значение?"
      ]
    },
    {
      "cell_type": "code",
      "execution_count": 99,
      "metadata": {
        "scrolled": true,
        "id": "ddnl-wuLoc5b",
        "outputId": "611c5440-aa2a-4046-cc17-9c1c79be1fda",
        "colab": {
          "base_uri": "https://localhost:8080/"
        }
      },
      "outputs": [
        {
          "output_type": "execute_result",
          "data": {
            "text/plain": [
              "(True, 355215, 70000, 16)"
            ]
          },
          "metadata": {},
          "execution_count": 99
        }
      ],
      "source": [
        "# Проверка на наличие пропущенных значений\n",
        "has_missing_values = flights.isnull().values.any()\n",
        "\n",
        "# Подсчет общего количества пропущенных элементов\n",
        "total_missing_values = flights.isnull().sum().sum()\n",
        "\n",
        "# Подсчет объектов с хотя бы одним пропуском\n",
        "objects_with_missing = flights[flights.isnull().any(axis=1)].shape[0]\n",
        "\n",
        "# Подсчет признаков с хотя бы одним пропущенным значением\n",
        "features_with_missing = flights.columns[flights.isnull().any()].shape[0]\n",
        "\n",
        "has_missing_values, total_missing_values, objects_with_missing, features_with_missing"
      ]
    },
    {
      "cell_type": "markdown",
      "metadata": {
        "id": "yfpYsYgwoc5b"
      },
      "source": [
        "Как вы понимаете, также не имеет смысла рассматривать при решении поставленной задачи объекты с пропущенным значением целевой переменной. В связи с этим ответьте на следующие вопросы и выполните соответствующие действия:\n",
        "- Имеются ли пропущенные значения в целевой переменной?\n",
        "- Проанализируйте объекты с пропущенными значениями целевой переменной. Чем вызвано это явление? Что их объединяет? Можно ли в связи с этим, на ваш взгляд, исключить какие-то признаки из рассмотрения? Обоснуйте свою точку зрения.\n",
        "\n",
        "Исключите из выборки объекты **с пропущенным значением целевой переменной и со значением целевой переменной, равным 0**, а также при необходимости исключите признаки в соответствии с вашим ответом на последний вопрос из списка и выделите целевую переменную в отдельный вектор, исключив её из матрицы \"объект-признак\"."
      ]
    },
    {
      "cell_type": "code",
      "execution_count": 100,
      "metadata": {
        "collapsed": true,
        "id": "PQJTcd4Soc5b",
        "outputId": "ec1ea134-cd5e-49bd-c9b6-2bf70e872842",
        "colab": {
          "base_uri": "https://localhost:8080/"
        }
      },
      "outputs": [
        {
          "output_type": "execute_result",
          "data": {
            "text/plain": [
              "(True, (1399, 29), (63392, 27), (63392,))"
            ]
          },
          "metadata": {},
          "execution_count": 100
        }
      ],
      "source": [
        "# Проверяем наличие пропущенных значений в целевой переменной (DepDelay)\n",
        "has_missing_target = flights['DepDelay'].isnull().any()\n",
        "\n",
        "# Анализ объектов с пропущенными значениями целевой переменной\n",
        "missing_target_objects = flights[flights['DepDelay'].isnull()]\n",
        "\n",
        "# Исключаем объекты с пропущенным значением целевой переменной и со значением 0\n",
        "filtered_flights = flights.dropna(subset=['DepDelay'])\n",
        "filtered_flights = filtered_flights[filtered_flights['DepDelay'] != 0]\n",
        "\n",
        "# Исключаем признаки, которые могут быть неинформативными (например, Cancelled, если они связаны с отменой рейсов)\n",
        "# Если Cancelled = 1, то DepDelay может быть пропущен или равен 0, так как рейс не вылетел\n",
        "if 'Cancelled' in filtered_flights.columns:\n",
        "    filtered_flights = filtered_flights[filtered_flights['Cancelled'] == 0]\n",
        "    filtered_flights = filtered_flights.drop(columns=['Cancelled'])\n",
        "\n",
        "# Выделяем целевую переменную в отдельный вектор\n",
        "X = filtered_flights.drop(columns=['DepDelay'])  # Матрица признаков\n",
        "y = filtered_flights['DepDelay']  # Вектор целевой переменной\n",
        "\n",
        "has_missing_target, missing_target_objects.shape, X.shape, y.shape"
      ]
    },
    {
      "cell_type": "markdown",
      "metadata": {
        "id": "X9MaOSN1oc5b"
      },
      "source": [
        "**13. (0.5 балла)** Обратите внимание, что признаки DepTime, CRSDepTime, ArrTime, CRSArrTime приведены в формате hhmm, в связи с чем будет не вполне корректно рассматривать их как вещественные.\n",
        "\n",
        "Преобразуйте каждый признак FeatureName из указанных в пару новых признаков FeatureName\\_Hour, FeatureName\\_Minute, разделив каждое из значений на часы и минуты. Не забудьте при этом исключить исходный признак из выборки. В случае, если значение признака отсутствует, значения двух новых признаков, его заменяющих, также должны отсутствовать.\n",
        "\n",
        "Например, признак DepTime необходимо заменить на пару признаков DepTime_Hour, DepTime_Minute. При этом, например, значение 155 исходного признака будет преобразовано в значения 1 и 55 признаков DepTime_Hour, DepTime_Minute соответственно."
      ]
    },
    {
      "cell_type": "code",
      "execution_count": 101,
      "metadata": {
        "collapsed": true,
        "id": "uRF1kmkxoc5b",
        "outputId": "b505d113-eb8e-4bf5-8b7f-177d25995f66",
        "colab": {
          "base_uri": "https://localhost:8080/",
          "height": 256
        }
      },
      "outputs": [
        {
          "output_type": "execute_result",
          "data": {
            "text/plain": [
              "   Year  Month  DayofMonth  DayOfWeek UniqueCarrier  FlightNum TailNum  \\\n",
              "0  2008      6          18          3            WN        242  N699SW   \n",
              "1  2008      6           4          3            XE       2380  N15980   \n",
              "2  2008      8           3          7            WN       1769  N464WN   \n",
              "3  2008      1          23          3            OO       3802  N465SW   \n",
              "4  2008      5           4          7            WN        399  N489WN   \n",
              "\n",
              "   ActualElapsedTime  CRSElapsedTime  AirTime  ...  SecurityDelay  \\\n",
              "0               57.0            65.0     46.0  ...            NaN   \n",
              "1              124.0           138.0    108.0  ...            NaN   \n",
              "2              138.0           155.0    125.0  ...            NaN   \n",
              "3              102.0           111.0     79.0  ...            NaN   \n",
              "4              148.0           160.0    136.0  ...            NaN   \n",
              "\n",
              "   LateAircraftDelay DepTime_Hour DepTime_Minute  CRSDepTime_Hour  \\\n",
              "0                NaN         21.0           11.0             20.0   \n",
              "1                NaN         14.0           26.0             14.0   \n",
              "2                NaN         11.0           43.0             11.0   \n",
              "3                NaN         11.0           41.0             11.0   \n",
              "4                NaN          8.0           15.0              8.0   \n",
              "\n",
              "   CRSDepTime_Minute  ArrTime_Hour  ArrTime_Minute CRSArrTime_Hour  \\\n",
              "0               55.0          23.0             8.0            23.0   \n",
              "1               10.0          17.0            30.0            17.0   \n",
              "2               45.0          15.0             1.0            15.0   \n",
              "3               44.0          13.0            23.0            13.0   \n",
              "4               20.0          12.0            43.0            13.0   \n",
              "\n",
              "   CRSArrTime_Minute  \n",
              "0                0.0  \n",
              "1               28.0  \n",
              "2               20.0  \n",
              "3               35.0  \n",
              "4                0.0  \n",
              "\n",
              "[5 rows x 33 columns]"
            ],
            "text/html": [
              "\n",
              "  <div id=\"df-3f6a7883-77a6-4e87-b070-317615013964\" class=\"colab-df-container\">\n",
              "    <div>\n",
              "<style scoped>\n",
              "    .dataframe tbody tr th:only-of-type {\n",
              "        vertical-align: middle;\n",
              "    }\n",
              "\n",
              "    .dataframe tbody tr th {\n",
              "        vertical-align: top;\n",
              "    }\n",
              "\n",
              "    .dataframe thead th {\n",
              "        text-align: right;\n",
              "    }\n",
              "</style>\n",
              "<table border=\"1\" class=\"dataframe\">\n",
              "  <thead>\n",
              "    <tr style=\"text-align: right;\">\n",
              "      <th></th>\n",
              "      <th>Year</th>\n",
              "      <th>Month</th>\n",
              "      <th>DayofMonth</th>\n",
              "      <th>DayOfWeek</th>\n",
              "      <th>UniqueCarrier</th>\n",
              "      <th>FlightNum</th>\n",
              "      <th>TailNum</th>\n",
              "      <th>ActualElapsedTime</th>\n",
              "      <th>CRSElapsedTime</th>\n",
              "      <th>AirTime</th>\n",
              "      <th>...</th>\n",
              "      <th>SecurityDelay</th>\n",
              "      <th>LateAircraftDelay</th>\n",
              "      <th>DepTime_Hour</th>\n",
              "      <th>DepTime_Minute</th>\n",
              "      <th>CRSDepTime_Hour</th>\n",
              "      <th>CRSDepTime_Minute</th>\n",
              "      <th>ArrTime_Hour</th>\n",
              "      <th>ArrTime_Minute</th>\n",
              "      <th>CRSArrTime_Hour</th>\n",
              "      <th>CRSArrTime_Minute</th>\n",
              "    </tr>\n",
              "  </thead>\n",
              "  <tbody>\n",
              "    <tr>\n",
              "      <th>0</th>\n",
              "      <td>2008</td>\n",
              "      <td>6</td>\n",
              "      <td>18</td>\n",
              "      <td>3</td>\n",
              "      <td>WN</td>\n",
              "      <td>242</td>\n",
              "      <td>N699SW</td>\n",
              "      <td>57.0</td>\n",
              "      <td>65.0</td>\n",
              "      <td>46.0</td>\n",
              "      <td>...</td>\n",
              "      <td>NaN</td>\n",
              "      <td>NaN</td>\n",
              "      <td>21.0</td>\n",
              "      <td>11.0</td>\n",
              "      <td>20.0</td>\n",
              "      <td>55.0</td>\n",
              "      <td>23.0</td>\n",
              "      <td>8.0</td>\n",
              "      <td>23.0</td>\n",
              "      <td>0.0</td>\n",
              "    </tr>\n",
              "    <tr>\n",
              "      <th>1</th>\n",
              "      <td>2008</td>\n",
              "      <td>6</td>\n",
              "      <td>4</td>\n",
              "      <td>3</td>\n",
              "      <td>XE</td>\n",
              "      <td>2380</td>\n",
              "      <td>N15980</td>\n",
              "      <td>124.0</td>\n",
              "      <td>138.0</td>\n",
              "      <td>108.0</td>\n",
              "      <td>...</td>\n",
              "      <td>NaN</td>\n",
              "      <td>NaN</td>\n",
              "      <td>14.0</td>\n",
              "      <td>26.0</td>\n",
              "      <td>14.0</td>\n",
              "      <td>10.0</td>\n",
              "      <td>17.0</td>\n",
              "      <td>30.0</td>\n",
              "      <td>17.0</td>\n",
              "      <td>28.0</td>\n",
              "    </tr>\n",
              "    <tr>\n",
              "      <th>2</th>\n",
              "      <td>2008</td>\n",
              "      <td>8</td>\n",
              "      <td>3</td>\n",
              "      <td>7</td>\n",
              "      <td>WN</td>\n",
              "      <td>1769</td>\n",
              "      <td>N464WN</td>\n",
              "      <td>138.0</td>\n",
              "      <td>155.0</td>\n",
              "      <td>125.0</td>\n",
              "      <td>...</td>\n",
              "      <td>NaN</td>\n",
              "      <td>NaN</td>\n",
              "      <td>11.0</td>\n",
              "      <td>43.0</td>\n",
              "      <td>11.0</td>\n",
              "      <td>45.0</td>\n",
              "      <td>15.0</td>\n",
              "      <td>1.0</td>\n",
              "      <td>15.0</td>\n",
              "      <td>20.0</td>\n",
              "    </tr>\n",
              "    <tr>\n",
              "      <th>3</th>\n",
              "      <td>2008</td>\n",
              "      <td>1</td>\n",
              "      <td>23</td>\n",
              "      <td>3</td>\n",
              "      <td>OO</td>\n",
              "      <td>3802</td>\n",
              "      <td>N465SW</td>\n",
              "      <td>102.0</td>\n",
              "      <td>111.0</td>\n",
              "      <td>79.0</td>\n",
              "      <td>...</td>\n",
              "      <td>NaN</td>\n",
              "      <td>NaN</td>\n",
              "      <td>11.0</td>\n",
              "      <td>41.0</td>\n",
              "      <td>11.0</td>\n",
              "      <td>44.0</td>\n",
              "      <td>13.0</td>\n",
              "      <td>23.0</td>\n",
              "      <td>13.0</td>\n",
              "      <td>35.0</td>\n",
              "    </tr>\n",
              "    <tr>\n",
              "      <th>4</th>\n",
              "      <td>2008</td>\n",
              "      <td>5</td>\n",
              "      <td>4</td>\n",
              "      <td>7</td>\n",
              "      <td>WN</td>\n",
              "      <td>399</td>\n",
              "      <td>N489WN</td>\n",
              "      <td>148.0</td>\n",
              "      <td>160.0</td>\n",
              "      <td>136.0</td>\n",
              "      <td>...</td>\n",
              "      <td>NaN</td>\n",
              "      <td>NaN</td>\n",
              "      <td>8.0</td>\n",
              "      <td>15.0</td>\n",
              "      <td>8.0</td>\n",
              "      <td>20.0</td>\n",
              "      <td>12.0</td>\n",
              "      <td>43.0</td>\n",
              "      <td>13.0</td>\n",
              "      <td>0.0</td>\n",
              "    </tr>\n",
              "  </tbody>\n",
              "</table>\n",
              "<p>5 rows × 33 columns</p>\n",
              "</div>\n",
              "    <div class=\"colab-df-buttons\">\n",
              "\n",
              "  <div class=\"colab-df-container\">\n",
              "    <button class=\"colab-df-convert\" onclick=\"convertToInteractive('df-3f6a7883-77a6-4e87-b070-317615013964')\"\n",
              "            title=\"Convert this dataframe to an interactive table.\"\n",
              "            style=\"display:none;\">\n",
              "\n",
              "  <svg xmlns=\"http://www.w3.org/2000/svg\" height=\"24px\" viewBox=\"0 -960 960 960\">\n",
              "    <path d=\"M120-120v-720h720v720H120Zm60-500h600v-160H180v160Zm220 220h160v-160H400v160Zm0 220h160v-160H400v160ZM180-400h160v-160H180v160Zm440 0h160v-160H620v160ZM180-180h160v-160H180v160Zm440 0h160v-160H620v160Z\"/>\n",
              "  </svg>\n",
              "    </button>\n",
              "\n",
              "  <style>\n",
              "    .colab-df-container {\n",
              "      display:flex;\n",
              "      gap: 12px;\n",
              "    }\n",
              "\n",
              "    .colab-df-convert {\n",
              "      background-color: #E8F0FE;\n",
              "      border: none;\n",
              "      border-radius: 50%;\n",
              "      cursor: pointer;\n",
              "      display: none;\n",
              "      fill: #1967D2;\n",
              "      height: 32px;\n",
              "      padding: 0 0 0 0;\n",
              "      width: 32px;\n",
              "    }\n",
              "\n",
              "    .colab-df-convert:hover {\n",
              "      background-color: #E2EBFA;\n",
              "      box-shadow: 0px 1px 2px rgba(60, 64, 67, 0.3), 0px 1px 3px 1px rgba(60, 64, 67, 0.15);\n",
              "      fill: #174EA6;\n",
              "    }\n",
              "\n",
              "    .colab-df-buttons div {\n",
              "      margin-bottom: 4px;\n",
              "    }\n",
              "\n",
              "    [theme=dark] .colab-df-convert {\n",
              "      background-color: #3B4455;\n",
              "      fill: #D2E3FC;\n",
              "    }\n",
              "\n",
              "    [theme=dark] .colab-df-convert:hover {\n",
              "      background-color: #434B5C;\n",
              "      box-shadow: 0px 1px 3px 1px rgba(0, 0, 0, 0.15);\n",
              "      filter: drop-shadow(0px 1px 2px rgba(0, 0, 0, 0.3));\n",
              "      fill: #FFFFFF;\n",
              "    }\n",
              "  </style>\n",
              "\n",
              "    <script>\n",
              "      const buttonEl =\n",
              "        document.querySelector('#df-3f6a7883-77a6-4e87-b070-317615013964 button.colab-df-convert');\n",
              "      buttonEl.style.display =\n",
              "        google.colab.kernel.accessAllowed ? 'block' : 'none';\n",
              "\n",
              "      async function convertToInteractive(key) {\n",
              "        const element = document.querySelector('#df-3f6a7883-77a6-4e87-b070-317615013964');\n",
              "        const dataTable =\n",
              "          await google.colab.kernel.invokeFunction('convertToInteractive',\n",
              "                                                    [key], {});\n",
              "        if (!dataTable) return;\n",
              "\n",
              "        const docLinkHtml = 'Like what you see? Visit the ' +\n",
              "          '<a target=\"_blank\" href=https://colab.research.google.com/notebooks/data_table.ipynb>data table notebook</a>'\n",
              "          + ' to learn more about interactive tables.';\n",
              "        element.innerHTML = '';\n",
              "        dataTable['output_type'] = 'display_data';\n",
              "        await google.colab.output.renderOutput(dataTable, element);\n",
              "        const docLink = document.createElement('div');\n",
              "        docLink.innerHTML = docLinkHtml;\n",
              "        element.appendChild(docLink);\n",
              "      }\n",
              "    </script>\n",
              "  </div>\n",
              "\n",
              "\n",
              "<div id=\"df-e3f1008a-8452-4a92-905b-cfa7cd6547dc\">\n",
              "  <button class=\"colab-df-quickchart\" onclick=\"quickchart('df-e3f1008a-8452-4a92-905b-cfa7cd6547dc')\"\n",
              "            title=\"Suggest charts\"\n",
              "            style=\"display:none;\">\n",
              "\n",
              "<svg xmlns=\"http://www.w3.org/2000/svg\" height=\"24px\"viewBox=\"0 0 24 24\"\n",
              "     width=\"24px\">\n",
              "    <g>\n",
              "        <path d=\"M19 3H5c-1.1 0-2 .9-2 2v14c0 1.1.9 2 2 2h14c1.1 0 2-.9 2-2V5c0-1.1-.9-2-2-2zM9 17H7v-7h2v7zm4 0h-2V7h2v10zm4 0h-2v-4h2v4z\"/>\n",
              "    </g>\n",
              "</svg>\n",
              "  </button>\n",
              "\n",
              "<style>\n",
              "  .colab-df-quickchart {\n",
              "      --bg-color: #E8F0FE;\n",
              "      --fill-color: #1967D2;\n",
              "      --hover-bg-color: #E2EBFA;\n",
              "      --hover-fill-color: #174EA6;\n",
              "      --disabled-fill-color: #AAA;\n",
              "      --disabled-bg-color: #DDD;\n",
              "  }\n",
              "\n",
              "  [theme=dark] .colab-df-quickchart {\n",
              "      --bg-color: #3B4455;\n",
              "      --fill-color: #D2E3FC;\n",
              "      --hover-bg-color: #434B5C;\n",
              "      --hover-fill-color: #FFFFFF;\n",
              "      --disabled-bg-color: #3B4455;\n",
              "      --disabled-fill-color: #666;\n",
              "  }\n",
              "\n",
              "  .colab-df-quickchart {\n",
              "    background-color: var(--bg-color);\n",
              "    border: none;\n",
              "    border-radius: 50%;\n",
              "    cursor: pointer;\n",
              "    display: none;\n",
              "    fill: var(--fill-color);\n",
              "    height: 32px;\n",
              "    padding: 0;\n",
              "    width: 32px;\n",
              "  }\n",
              "\n",
              "  .colab-df-quickchart:hover {\n",
              "    background-color: var(--hover-bg-color);\n",
              "    box-shadow: 0 1px 2px rgba(60, 64, 67, 0.3), 0 1px 3px 1px rgba(60, 64, 67, 0.15);\n",
              "    fill: var(--button-hover-fill-color);\n",
              "  }\n",
              "\n",
              "  .colab-df-quickchart-complete:disabled,\n",
              "  .colab-df-quickchart-complete:disabled:hover {\n",
              "    background-color: var(--disabled-bg-color);\n",
              "    fill: var(--disabled-fill-color);\n",
              "    box-shadow: none;\n",
              "  }\n",
              "\n",
              "  .colab-df-spinner {\n",
              "    border: 2px solid var(--fill-color);\n",
              "    border-color: transparent;\n",
              "    border-bottom-color: var(--fill-color);\n",
              "    animation:\n",
              "      spin 1s steps(1) infinite;\n",
              "  }\n",
              "\n",
              "  @keyframes spin {\n",
              "    0% {\n",
              "      border-color: transparent;\n",
              "      border-bottom-color: var(--fill-color);\n",
              "      border-left-color: var(--fill-color);\n",
              "    }\n",
              "    20% {\n",
              "      border-color: transparent;\n",
              "      border-left-color: var(--fill-color);\n",
              "      border-top-color: var(--fill-color);\n",
              "    }\n",
              "    30% {\n",
              "      border-color: transparent;\n",
              "      border-left-color: var(--fill-color);\n",
              "      border-top-color: var(--fill-color);\n",
              "      border-right-color: var(--fill-color);\n",
              "    }\n",
              "    40% {\n",
              "      border-color: transparent;\n",
              "      border-right-color: var(--fill-color);\n",
              "      border-top-color: var(--fill-color);\n",
              "    }\n",
              "    60% {\n",
              "      border-color: transparent;\n",
              "      border-right-color: var(--fill-color);\n",
              "    }\n",
              "    80% {\n",
              "      border-color: transparent;\n",
              "      border-right-color: var(--fill-color);\n",
              "      border-bottom-color: var(--fill-color);\n",
              "    }\n",
              "    90% {\n",
              "      border-color: transparent;\n",
              "      border-bottom-color: var(--fill-color);\n",
              "    }\n",
              "  }\n",
              "</style>\n",
              "\n",
              "  <script>\n",
              "    async function quickchart(key) {\n",
              "      const quickchartButtonEl =\n",
              "        document.querySelector('#' + key + ' button');\n",
              "      quickchartButtonEl.disabled = true;  // To prevent multiple clicks.\n",
              "      quickchartButtonEl.classList.add('colab-df-spinner');\n",
              "      try {\n",
              "        const charts = await google.colab.kernel.invokeFunction(\n",
              "            'suggestCharts', [key], {});\n",
              "      } catch (error) {\n",
              "        console.error('Error during call to suggestCharts:', error);\n",
              "      }\n",
              "      quickchartButtonEl.classList.remove('colab-df-spinner');\n",
              "      quickchartButtonEl.classList.add('colab-df-quickchart-complete');\n",
              "    }\n",
              "    (() => {\n",
              "      let quickchartButtonEl =\n",
              "        document.querySelector('#df-e3f1008a-8452-4a92-905b-cfa7cd6547dc button');\n",
              "      quickchartButtonEl.style.display =\n",
              "        google.colab.kernel.accessAllowed ? 'block' : 'none';\n",
              "    })();\n",
              "  </script>\n",
              "</div>\n",
              "    </div>\n",
              "  </div>\n"
            ],
            "application/vnd.google.colaboratory.intrinsic+json": {
              "type": "dataframe",
              "variable_name": "flights"
            }
          },
          "metadata": {},
          "execution_count": 101
        }
      ],
      "source": [
        "# Список признаков для преобразования\n",
        "time_features = ['DepTime', 'CRSDepTime', 'ArrTime', 'CRSArrTime']\n",
        "\n",
        "# Функция для преобразования времени из формата hhmm в часы и минуты\n",
        "def split_time(df, feature):\n",
        "    df[f\"{feature}_Hour\"] = np.where(df[feature].notnull(), df[feature] // 100, np.nan)\n",
        "    df[f\"{feature}_Minute\"] = np.where(df[feature].notnull(), df[feature] % 100, np.nan)\n",
        "\n",
        "# Применяем преобразование к каждому признаку\n",
        "for feature in time_features:\n",
        "    split_time(flights, feature)\n",
        "\n",
        "# Исключаем исходные признаки после преобразования\n",
        "flights = flights.drop(columns=time_features)\n",
        "\n",
        "# Проверяем результат\n",
        "flights.head()"
      ]
    },
    {
      "cell_type": "markdown",
      "metadata": {
        "id": "X1A-O0Uloc5b"
      },
      "source": [
        "**14. (0.5 балла)** Некоторые из признаков, отличных от целевой переменной, могут оказывать чересчур значимое влияние на прогноз, поскольку по своему смыслу содержат большую долю информации о значении целевой переменной. Изучите описание датасета и исключите признаки, сильно коррелирующие с ответами. Ваш выбор признаков для исключения из выборки обоснуйте. Кроме того, исключите признаки TailNum и Year."
      ]
    },
    {
      "cell_type": "code",
      "execution_count": 106,
      "metadata": {
        "collapsed": true,
        "id": "M416-PyEoc5b",
        "outputId": "2e9cbc23-0a82-4987-eaaf-e9460d4e7544",
        "colab": {
          "base_uri": "https://localhost:8080/"
        }
      },
      "outputs": [
        {
          "output_type": "execute_result",
          "data": {
            "text/plain": [
              "((70000, 21), (70000,))"
            ]
          },
          "metadata": {},
          "execution_count": 106
        }
      ],
      "source": [
        "flights = pd.read_csv(\"https://raw.githubusercontent.com/raffeekk/ML25/refs/heads/main/2008.csv\")\n",
        "# Исключаем признаки, которые сильно коррелируют с целевой переменной (DepDelay)\n",
        "# и признаки TailNum и Year\n",
        "columns_to_drop = ['ArrTime', 'CRSArrTime', 'ActualElapsedTime', 'CRSElapsedTime', 'AirTime', 'TailNum', 'Year']\n",
        "\n",
        "# Обоснование:\n",
        "# 1. ArrTime и CRSArrTime: Эти признаки содержат информацию о времени прибытия,\n",
        "#    которая может быть связана с задержкой отправления.\n",
        "# 2. ActualElapsedTime и CRSElapsedTime: Эти признаки содержат информацию о времени полета,\n",
        "#    что может быть сильно связано с задержками.\n",
        "# 3. AirTime: Время полета также может быть сильно коррелировано с задержками.\n",
        "# 4. TailNum: Уникальный номер самолета не имеет прямой связи с задержками.\n",
        "# 5. Year: Год не предоставляет полезной информации для предсказания задержек.\n",
        "\n",
        "# Исключаем выбранные признаки\n",
        "flights_cleaned = flights.drop(columns=columns_to_drop)\n",
        "\n",
        "# Разделяем данные на матрицу признаков X и вектор целевой переменной y\n",
        "X = flights_cleaned.drop(columns=['DepDelay'])\n",
        "y = flights_cleaned['DepDelay']\n",
        "\n",
        "X.shape, y.shape"
      ]
    },
    {
      "cell_type": "markdown",
      "metadata": {
        "id": "hdTQpJDooc5b"
      },
      "source": [
        "**15. (1 балл)** Приведем данные к виду, пригодному для обучения линейных моделей. Для этого вещественные признаки надо отмасштабировать, а категориальные — привести к числовому виду. Также надо устранить пропуски в данных."
      ]
    },
    {
      "cell_type": "markdown",
      "metadata": {
        "id": "14MO8SgQoc5c"
      },
      "source": [
        "В первую очередь поймем, зачем необходимо применять масштабирование. Следующие ячейки с кодом построят гистограммы для 3 вещественных признаков выборки."
      ]
    },
    {
      "cell_type": "code",
      "source": [
        "import pandas as pd\n",
        "import numpy as np\n",
        "from sklearn.preprocessing import StandardScaler, OneHotEncoder\n",
        "from sklearn.compose import ColumnTransformer\n",
        "from sklearn.pipeline import Pipeline\n",
        "from sklearn.impute import SimpleImputer\n",
        "\n",
        "flights = pd.read_csv(\"https://raw.githubusercontent.com/raffeekk/ML25/refs/heads/main/2008.csv\")\n",
        "\n",
        "# Предобработка данных (исключаем ненужные столбцы и пропуски)\n",
        "columns_to_drop = ['ArrTime', 'CRSArrTime', 'ActualElapsedTime', 'CRSElapsedTime', 'AirTime', 'TailNum', 'Year']\n",
        "flights_cleaned = flights.drop(columns=columns_to_drop).dropna(subset=['DepDelay'])\n",
        "X = flights_cleaned.drop(columns=['DepDelay'])\n",
        "y = flights_cleaned['DepDelay']\n",
        "\n",
        "# Разделяем признаки на числовые и категориальные\n",
        "numeric_features = X.select_dtypes(include=['float64', 'int64']).columns.tolist()\n",
        "categorical_features = X.select_dtypes(include=['object']).columns.tolist()\n",
        "\n",
        "# Создаем преобразователь для числовых признаков (масштабирование и обработка пропусков)\n",
        "numeric_transformer = Pipeline(steps=[\n",
        "    ('imputer', SimpleImputer(strategy='mean')),  # Заполнение пропусков средним значением\n",
        "    ('scaler', StandardScaler())  # Масштабирование\n",
        "])\n",
        "\n",
        "# Создаем преобразователь для категориальных признаков (One-Hot Encoding и обработка пропусков)\n",
        "categorical_transformer = Pipeline(steps=[\n",
        "    ('imputer', SimpleImputer(strategy='constant', fill_value='missing')),  # Заполнение пропусков специальным значением\n",
        "    ('onehot', OneHotEncoder(handle_unknown='ignore'))  # Кодирование в числа\n",
        "])\n",
        "\n",
        "# Объединяем преобразования для всех признаков\n",
        "preprocessor = ColumnTransformer(\n",
        "    transformers=[\n",
        "        ('num', numeric_transformer, numeric_features),\n",
        "        ('cat', categorical_transformer, categorical_features)\n",
        "    ]\n",
        ")\n",
        "\n",
        "# Применяем преобразования к данным\n",
        "X_preprocessed = preprocessor.fit_transform(X)\n",
        "\n",
        "X_preprocessed, y"
      ],
      "metadata": {
        "id": "shzZ8TgO0toH",
        "outputId": "49173090-04e6-4340-fab3-092709aa62e2",
        "colab": {
          "base_uri": "https://localhost:8080/"
        }
      },
      "execution_count": 108,
      "outputs": [
        {
          "output_type": "execute_result",
          "data": {
            "text/plain": [
              "(<68601x634 sparse matrix of type '<class 'numpy.float64'>'\n",
              " \twith 1387273 stored elements in Compressed Sparse Row format>,\n",
              " 0        16.0\n",
              " 1        16.0\n",
              " 2        -2.0\n",
              " 3        -3.0\n",
              " 4        -5.0\n",
              "          ... \n",
              " 69995   -11.0\n",
              " 69996    24.0\n",
              " 69997     0.0\n",
              " 69998     6.0\n",
              " 69999    -1.0\n",
              " Name: DepDelay, Length: 68601, dtype: float64)"
            ]
          },
          "metadata": {},
          "execution_count": 108
        }
      ]
    },
    {
      "cell_type": "code",
      "execution_count": 109,
      "metadata": {
        "scrolled": true,
        "id": "j1ky9b24oc5c",
        "outputId": "39bb116f-1eee-4d36-9f82-db14e7b1c34e",
        "colab": {
          "base_uri": "https://localhost:8080/",
          "height": 448
        }
      },
      "outputs": [
        {
          "output_type": "execute_result",
          "data": {
            "text/plain": [
              "<Axes: >"
            ]
          },
          "metadata": {},
          "execution_count": 109
        },
        {
          "output_type": "display_data",
          "data": {
            "text/plain": [
              "<Figure size 640x480 with 1 Axes>"
            ],
            "image/png": "[encoded data removed]"
          },
          "metadata": {}
        }
      ],
      "source": [
        "X['DepTime'].hist(bins=20)"
      ]
    },
    {
      "cell_type": "code",
      "execution_count": 110,
      "metadata": {
        "id": "vkd3bNTUoc5c",
        "outputId": "b5dd2846-2319-493a-b89e-e357ede03a47",
        "colab": {
          "base_uri": "https://localhost:8080/",
          "height": 448
        }
      },
      "outputs": [
        {
          "output_type": "execute_result",
          "data": {
            "text/plain": [
              "<Axes: >"
            ]
          },
          "metadata": {},
          "execution_count": 110
        },
        {
          "output_type": "display_data",
          "data": {
            "text/plain": [
              "<Figure size 640x480 with 1 Axes>"
            ],
            "image/png": "[encoded data removed]"
          },
          "metadata": {}
        }
      ],
      "source": [
        "X['TaxiIn'].hist(bins=20)"
      ]
    },
    {
      "cell_type": "code",
      "execution_count": 111,
      "metadata": {
        "id": "4WacABy9oc5c",
        "outputId": "8b911469-b24c-49d7-bc57-ad1f4d538436",
        "colab": {
          "base_uri": "https://localhost:8080/",
          "height": 448
        }
      },
      "outputs": [
        {
          "output_type": "execute_result",
          "data": {
            "text/plain": [
              "<Axes: >"
            ]
          },
          "metadata": {},
          "execution_count": 111
        },
        {
          "output_type": "display_data",
          "data": {
            "text/plain": [
              "<Figure size 640x480 with 1 Axes>"
            ],
            "image/png": "[encoded data removed]"
          },
          "metadata": {}
        }
      ],
      "source": [
        "X['FlightNum'].hist(bins=20)"
      ]
    },
    {
      "cell_type": "markdown",
      "metadata": {
        "id": "A7m_Saedoc5d"
      },
      "source": [
        "Некоторые из признаков в нашем датасете являются категориальными. Типичным подходом к работе с ними является бинарное, или [one-hot-кодирование](https://en.wikipedia.org/wiki/One-hot).\n",
        "\n",
        "Реализуйте функцию transform_data, которая принимает на вход DataFrame с признаками и выполняет следующие шаги:\n",
        "1. Замена пропущенных значений на нули для вещественных признаков и на строки 'nan' для категориальных.\n",
        "2. Масштабирование вещественных признаков с помощью [StandardScaler](http://scikit-learn.org/stable/modules/generated/sklearn.preprocessing.StandardScaler.html).\n",
        "3. One-hot-кодирование категориальных признаков с помощью [DictVectorizer](http://scikit-learn.org/stable/modules/generated/sklearn.feature_extraction.DictVectorizer.html) или функции [pd.get_dummies](http://pandas.pydata.org/pandas-docs/stable/generated/pandas.get_dummies.html).\n",
        "\n",
        "Метод должен возвращать преобразованный DataFrame, который должна состоять из масштабированных вещественных признаков и закодированных категориальных (исходные признаки должны быть исключены из выборки)."
      ]
    },
    {
      "cell_type": "code",
      "execution_count": 112,
      "metadata": {
        "collapsed": true,
        "id": "vUnccH2Xoc5d"
      },
      "outputs": [],
      "source": [
        "def transform_data(data):\n",
        "    # Разделяем признаки на числовые и категориальные\n",
        "    numeric_features = data.select_dtypes(include=['float64', 'int64']).columns.tolist()\n",
        "    categorical_features = data.select_dtypes(include=['object']).columns.tolist()\n",
        "\n",
        "    # Создаем преобразователь для числовых признаков (замена пропусков нулями и масштабирование)\n",
        "    numeric_transformer = Pipeline(steps=[\n",
        "        ('imputer', SimpleImputer(strategy='constant', fill_value=0)),  # Заполнение пропусков нулями\n",
        "        ('scaler', StandardScaler())  # Масштабирование\n",
        "    ])\n",
        "\n",
        "    # Создаем преобразователь для категориальных признаков (замена пропусков строкой 'nan' и one-hot-кодирование)\n",
        "    categorical_transformer = Pipeline(steps=[\n",
        "        ('imputer', SimpleImputer(strategy='constant', fill_value='nan')),  # Заполнение пропусков строкой 'nan'\n",
        "        ('onehot', OneHotEncoder(handle_unknown='ignore'))  # Кодирование в числа\n",
        "    ])\n",
        "\n",
        "    # Объединяем преобразования для всех признаков\n",
        "    preprocessor = ColumnTransformer(\n",
        "        transformers=[\n",
        "            ('num', numeric_transformer, numeric_features),\n",
        "            ('cat', categorical_transformer, categorical_features)\n",
        "        ]\n",
        "    )\n",
        "\n",
        "    # Применяем преобразования к данным\n",
        "    X_preprocessed = preprocessor.fit_transform(data)\n",
        "\n",
        "    return X_preprocessed"
      ]
    },
    {
      "cell_type": "markdown",
      "metadata": {
        "id": "-83piV95oc5d"
      },
      "source": [
        "Примените функцию transform_data к данным. Сколько признаков получилось после преобразования?"
      ]
    },
    {
      "cell_type": "code",
      "execution_count": 113,
      "metadata": {
        "collapsed": true,
        "id": "ZgOJ_Gxooc5d",
        "outputId": "cedaaeea-259f-4f15-8243-27b58ccd108d",
        "colab": {
          "base_uri": "https://localhost:8080/"
        }
      },
      "outputs": [
        {
          "output_type": "execute_result",
          "data": {
            "text/plain": [
              "634"
            ]
          },
          "metadata": {},
          "execution_count": 113
        }
      ],
      "source": [
        "# Предобработка данных (исключаем ненужные столбцы и пропуски)\n",
        "columns_to_drop = ['ArrTime', 'CRSArrTime', 'ActualElapsedTime', 'CRSElapsedTime', 'AirTime', 'TailNum', 'Year']\n",
        "flights_cleaned = flights.drop(columns=columns_to_drop).dropna(subset=['DepDelay'])\n",
        "X = flights_cleaned.drop(columns=['DepDelay'])\n",
        "\n",
        "# Применяем функцию transform_data к данным\n",
        "X_transformed = transform_data(X)\n",
        "\n",
        "# Определяем количество признаков после преобразования\n",
        "num_features_after_transformation = X_transformed.shape[1]\n",
        "\n",
        "num_features_after_transformation"
      ]
    },
    {
      "cell_type": "markdown",
      "metadata": {
        "id": "9hUy8cS4oc5d"
      },
      "source": [
        "**16. (0.5 балла)** Разбейте выборку и вектор целевой переменной на обучение и контроль в отношении 70/30 (для этого можно использовать, например, функцию [train_test_split](http://scikit-learn.org/stable/modules/generated/sklearn.cross_validation.train_test_split.html))."
      ]
    },
    {
      "cell_type": "code",
      "execution_count": 114,
      "metadata": {
        "collapsed": true,
        "id": "KVx6OaIqoc5e",
        "outputId": "d5c93c4a-1d45-47a6-ee05-fab384628386",
        "colab": {
          "base_uri": "https://localhost:8080/"
        }
      },
      "outputs": [
        {
          "output_type": "execute_result",
          "data": {
            "text/plain": [
              "((48020, 634), (20581, 634), (48020,), (20581,))"
            ]
          },
          "metadata": {},
          "execution_count": 114
        }
      ],
      "source": [
        "from sklearn.model_selection import train_test_split\n",
        "\n",
        "# Разделение данных на обучающую и тестовую выборки в отношении 70/30\n",
        "X_train, X_test, y_train, y_test = train_test_split(X_transformed, y, test_size=0.3, random_state=42)\n",
        "\n",
        "X_train.shape, X_test.shape, y_train.shape, y_test.shape"
      ]
    },
    {
      "cell_type": "markdown",
      "metadata": {
        "id": "4TTN5ccJoc5f"
      },
      "source": [
        "### Scikit-learn\n",
        "\n",
        "<img src = \"https://pp.vk.me/c4534/u35727827/93547647/x_d31c4463.jpg\">\n",
        "Теперь, когда мы привели данные к пригодному виду, попробуем решить задачу при помощи метода наименьших квадратов. Напомним, что данный метод заключается в оптимизации функционала $MSE$:\n",
        "\n",
        "$$MSE(X, y) = \\frac{1}{l} \\sum_{i=1}^l (<w, x_i> - y_i)^2 \\to \\min_{w},$$\n",
        "\n",
        "где $\\{ (x_i, y_i ) \\}_{i=1}^l$ — обучающая выборка, состоящая из $l$ пар объект-ответ.\n",
        "\n",
        "Заметим, что решение данной задачи уже реализовано в модуле sklearn в виде класса [LinearRegression](http://scikit-learn.org/stable/modules/generated/sklearn.linear_model.LinearRegression.html#sklearn.linear_model.LinearRegression).\n",
        "\n",
        "**17. (0.5 балла)** Обучите линейную регрессию на 1000 объектах из обучающей выборки и выведите значения $MSE$ и $R^2$ на этой подвыборке и контрольной выборке (итого 4 различных числа). Проинтерпретируйте полученный результат — насколько качественные прогнозы строит полученная модель? Какие проблемы наблюдаются в модели?\n",
        "\n",
        "**Подсказка**: изучите значения полученных коэффициентов $w$, сохраненных в атрибуте coef_ объекта LinearRegression."
      ]
    },
    {
      "cell_type": "code",
      "execution_count": 115,
      "metadata": {
        "collapsed": true,
        "id": "k-aN4ILooc5f",
        "outputId": "1d4f7a12-6967-4135-b377-a3ab1b5b5481",
        "colab": {
          "base_uri": "https://localhost:8080/"
        }
      },
      "outputs": [
        {
          "output_type": "execute_result",
          "data": {
            "text/plain": [
              "(16.768193276054618,\n",
              " 0.9822958499009466,\n",
              " 1279.4884357803155,\n",
              " -0.05549447698530652)"
            ]
          },
          "metadata": {},
          "execution_count": 115
        }
      ],
      "source": [
        "from sklearn.linear_model import LinearRegression\n",
        "from sklearn.metrics import mean_squared_error, r2_score\n",
        "\n",
        "# Создаем объект линейной регрессии\n",
        "model = LinearRegression()\n",
        "\n",
        "# Обучаем модель на 1000 объектах из обучающей выборки\n",
        "model.fit(X_train[:1000], y_train[:1000])\n",
        "\n",
        "# Предсказания на подвыборке и контрольной выборке\n",
        "y_train_pred = model.predict(X_train[:1000])\n",
        "y_test_pred = model.predict(X_test)\n",
        "\n",
        "# Вычисляем MSE и R2 на подвыборке и контрольной выборке\n",
        "mse_train = mean_squared_error(y_train[:1000], y_train_pred)\n",
        "r2_train = r2_score(y_train[:1000], y_train_pred)\n",
        "\n",
        "mse_test = mean_squared_error(y_test, y_test_pred)\n",
        "r2_test = r2_score(y_test, y_test_pred)\n",
        "\n",
        "mse_train, r2_train, mse_test, r2_test"
      ]
    },
    {
      "cell_type": "markdown",
      "metadata": {
        "collapsed": true,
        "id": "foQxn51Coc5f"
      },
      "source": [
        "Для решения описанных вами в предыдущем пункте проблем используем L1- или L2-регуляризацию, тем самым получив Lasso и Ridge регрессии соответственно и изменив оптимизационную задачу одним из следующих образов:\n",
        "$$MSE_{L1}(X, y) = \\frac{1}{l} \\sum_{i=1}^l (<w, x_i> - y_i)^2 + \\alpha ||w||_1 \\to \\min_{w},$$\n",
        "$$MSE_{L2}(X, y) = \\frac{1}{l} \\sum_{i=1}^l (<w, x_i> - y_i)^2 + \\alpha ||w||_2^2 \\to \\min_{w},$$\n",
        "\n",
        "где $\\alpha$ — коэффициент регуляризации. Один из способов его подбора заключается в переборе некоторого количества значений и оценке качества на кросс-валидации для каждого из них, после чего выбирается значение, для которого было получено наилучшее качество.\n",
        "\n",
        "**18. (0.5 балла)** Обучите линейные регрессии с L1- и L2-регуляризатором, подобрав лучшее значение параметра регуляризации из списка alpha_grid при помощи кросс-валидации c 5 фолдами на тех же 1000 объектах, что и в п.17. Выведите значения $MSE$ и $R^2$ на обучающей и контрольной выборках. Удалось ли решить указанные вами ранее проблемы?\n",
        "\n",
        "Для выполнения данного задания вам могут понадобиться реализованные в библиотеке объекты [LassoCV](http://scikit-learn.org/stable/modules/generated/sklearn.linear_model.LassoCV.html), [RidgeCV](http://scikit-learn.org/stable/modules/generated/sklearn.linear_model.RidgeCV.html) и [KFold](http://scikit-learn.org/stable/modules/generated/sklearn.cross_validation.KFold.html).\n"
      ]
    },
    {
      "cell_type": "code",
      "execution_count": 116,
      "metadata": {
        "id": "trpQwS67oc5f",
        "outputId": "3223329a-8a53-4c49-9be6-5a31564b0836",
        "colab": {
          "base_uri": "https://localhost:8080/"
        }
      },
      "outputs": [
        {
          "output_type": "stream",
          "name": "stderr",
          "text": [
            "/usr/local/lib/python3.11/dist-packages/sklearn/linear_model/_coordinate_descent.py:656: ConvergenceWarning: Objective did not converge. You might want to increase the number of iterations. Duality gap: 299.7941845414389, tolerance: 60.315794875\n",
            "  model = cd_fast.sparse_enet_coordinate_descent(\n",
            "/usr/local/lib/python3.11/dist-packages/sklearn/linear_model/_coordinate_descent.py:656: ConvergenceWarning: Objective did not converge. You might want to increase the number of iterations. Duality gap: 503.5226025566444, tolerance: 60.315794875\n",
            "  model = cd_fast.sparse_enet_coordinate_descent(\n",
            "/usr/local/lib/python3.11/dist-packages/sklearn/linear_model/_coordinate_descent.py:656: ConvergenceWarning: Objective did not converge. You might want to increase the number of iterations. Duality gap: 545.4316733290143, tolerance: 60.315794875\n",
            "  model = cd_fast.sparse_enet_coordinate_descent(\n",
            "/usr/local/lib/python3.11/dist-packages/sklearn/linear_model/_coordinate_descent.py:656: ConvergenceWarning: Objective did not converge. You might want to increase the number of iterations. Duality gap: 533.5825108120989, tolerance: 60.315794875\n",
            "  model = cd_fast.sparse_enet_coordinate_descent(\n",
            "/usr/local/lib/python3.11/dist-packages/sklearn/linear_model/_coordinate_descent.py:656: ConvergenceWarning: Objective did not converge. You might want to increase the number of iterations. Duality gap: 505.72854571340577, tolerance: 60.315794875\n",
            "  model = cd_fast.sparse_enet_coordinate_descent(\n",
            "/usr/local/lib/python3.11/dist-packages/sklearn/linear_model/_coordinate_descent.py:656: ConvergenceWarning: Objective did not converge. You might want to increase the number of iterations. Duality gap: 475.2006907307441, tolerance: 60.315794875\n",
            "  model = cd_fast.sparse_enet_coordinate_descent(\n",
            "/usr/local/lib/python3.11/dist-packages/sklearn/linear_model/_coordinate_descent.py:656: ConvergenceWarning: Objective did not converge. You might want to increase the number of iterations. Duality gap: 448.02122210271773, tolerance: 60.315794875\n",
            "  model = cd_fast.sparse_enet_coordinate_descent(\n",
            "/usr/local/lib/python3.11/dist-packages/sklearn/linear_model/_coordinate_descent.py:656: ConvergenceWarning: Objective did not converge. You might want to increase the number of iterations. Duality gap: 418.01315205074934, tolerance: 60.315794875\n",
            "  model = cd_fast.sparse_enet_coordinate_descent(\n",
            "/usr/local/lib/python3.11/dist-packages/sklearn/linear_model/_coordinate_descent.py:656: ConvergenceWarning: Objective did not converge. You might want to increase the number of iterations. Duality gap: 381.63737089296046, tolerance: 60.315794875\n",
            "  model = cd_fast.sparse_enet_coordinate_descent(\n",
            "/usr/local/lib/python3.11/dist-packages/sklearn/linear_model/_coordinate_descent.py:656: ConvergenceWarning: Objective did not converge. You might want to increase the number of iterations. Duality gap: 353.0247438734623, tolerance: 60.315794875\n",
            "  model = cd_fast.sparse_enet_coordinate_descent(\n",
            "/usr/local/lib/python3.11/dist-packages/sklearn/linear_model/_coordinate_descent.py:656: ConvergenceWarning: Objective did not converge. You might want to increase the number of iterations. Duality gap: 326.7008928965479, tolerance: 60.315794875\n",
            "  model = cd_fast.sparse_enet_coordinate_descent(\n",
            "/usr/local/lib/python3.11/dist-packages/sklearn/linear_model/_coordinate_descent.py:656: ConvergenceWarning: Objective did not converge. You might want to increase the number of iterations. Duality gap: 298.5166736477986, tolerance: 60.315794875\n",
            "  model = cd_fast.sparse_enet_coordinate_descent(\n",
            "/usr/local/lib/python3.11/dist-packages/sklearn/linear_model/_coordinate_descent.py:656: ConvergenceWarning: Objective did not converge. You might want to increase the number of iterations. Duality gap: 276.1128245979271, tolerance: 60.315794875\n",
            "  model = cd_fast.sparse_enet_coordinate_descent(\n",
            "/usr/local/lib/python3.11/dist-packages/sklearn/linear_model/_coordinate_descent.py:656: ConvergenceWarning: Objective did not converge. You might want to increase the number of iterations. Duality gap: 256.1472569153084, tolerance: 60.315794875\n",
            "  model = cd_fast.sparse_enet_coordinate_descent(\n",
            "/usr/local/lib/python3.11/dist-packages/sklearn/linear_model/_coordinate_descent.py:656: ConvergenceWarning: Objective did not converge. You might want to increase the number of iterations. Duality gap: 230.22852253299789, tolerance: 60.315794875\n",
            "  model = cd_fast.sparse_enet_coordinate_descent(\n",
            "/usr/local/lib/python3.11/dist-packages/sklearn/linear_model/_coordinate_descent.py:656: ConvergenceWarning: Objective did not converge. You might want to increase the number of iterations. Duality gap: 229.44134007313187, tolerance: 60.315794875\n",
            "  model = cd_fast.sparse_enet_coordinate_descent(\n",
            "/usr/local/lib/python3.11/dist-packages/sklearn/linear_model/_coordinate_descent.py:656: ConvergenceWarning: Objective did not converge. You might want to increase the number of iterations. Duality gap: 228.85859926279227, tolerance: 60.315794875\n",
            "  model = cd_fast.sparse_enet_coordinate_descent(\n",
            "/usr/local/lib/python3.11/dist-packages/sklearn/linear_model/_coordinate_descent.py:656: ConvergenceWarning: Objective did not converge. You might want to increase the number of iterations. Duality gap: 259.6101882863568, tolerance: 60.315794875\n",
            "  model = cd_fast.sparse_enet_coordinate_descent(\n",
            "/usr/local/lib/python3.11/dist-packages/sklearn/linear_model/_coordinate_descent.py:656: ConvergenceWarning: Objective did not converge. You might want to increase the number of iterations. Duality gap: 320.42836161124615, tolerance: 60.315794875\n",
            "  model = cd_fast.sparse_enet_coordinate_descent(\n",
            "/usr/local/lib/python3.11/dist-packages/sklearn/linear_model/_coordinate_descent.py:656: ConvergenceWarning: Objective did not converge. You might want to increase the number of iterations. Duality gap: 360.0175193580053, tolerance: 60.315794875\n",
            "  model = cd_fast.sparse_enet_coordinate_descent(\n",
            "/usr/local/lib/python3.11/dist-packages/sklearn/linear_model/_coordinate_descent.py:656: ConvergenceWarning: Objective did not converge. You might want to increase the number of iterations. Duality gap: 432.2574349272709, tolerance: 60.315794875\n",
            "  model = cd_fast.sparse_enet_coordinate_descent(\n",
            "/usr/local/lib/python3.11/dist-packages/sklearn/linear_model/_coordinate_descent.py:656: ConvergenceWarning: Objective did not converge. You might want to increase the number of iterations. Duality gap: 518.6275749266133, tolerance: 60.315794875\n",
            "  model = cd_fast.sparse_enet_coordinate_descent(\n",
            "/usr/local/lib/python3.11/dist-packages/sklearn/linear_model/_coordinate_descent.py:656: ConvergenceWarning: Objective did not converge. You might want to increase the number of iterations. Duality gap: 579.5823193306369, tolerance: 60.315794875\n",
            "  model = cd_fast.sparse_enet_coordinate_descent(\n",
            "/usr/local/lib/python3.11/dist-packages/sklearn/linear_model/_coordinate_descent.py:656: ConvergenceWarning: Objective did not converge. You might want to increase the number of iterations. Duality gap: 614.5518657922512, tolerance: 60.315794875\n",
            "  model = cd_fast.sparse_enet_coordinate_descent(\n",
            "/usr/local/lib/python3.11/dist-packages/sklearn/linear_model/_coordinate_descent.py:656: ConvergenceWarning: Objective did not converge. You might want to increase the number of iterations. Duality gap: 642.0870200191675, tolerance: 60.315794875\n",
            "  model = cd_fast.sparse_enet_coordinate_descent(\n",
            "/usr/local/lib/python3.11/dist-packages/sklearn/linear_model/_coordinate_descent.py:656: ConvergenceWarning: Objective did not converge. You might want to increase the number of iterations. Duality gap: 634.1857466449255, tolerance: 60.315794875\n",
            "  model = cd_fast.sparse_enet_coordinate_descent(\n",
            "/usr/local/lib/python3.11/dist-packages/sklearn/linear_model/_coordinate_descent.py:656: ConvergenceWarning: Objective did not converge. You might want to increase the number of iterations. Duality gap: 609.9175775514213, tolerance: 60.315794875\n",
            "  model = cd_fast.sparse_enet_coordinate_descent(\n",
            "/usr/local/lib/python3.11/dist-packages/sklearn/linear_model/_coordinate_descent.py:656: ConvergenceWarning: Objective did not converge. You might want to increase the number of iterations. Duality gap: 595.926822622203, tolerance: 60.315794875\n",
            "  model = cd_fast.sparse_enet_coordinate_descent(\n",
            "/usr/local/lib/python3.11/dist-packages/sklearn/linear_model/_coordinate_descent.py:656: ConvergenceWarning: Objective did not converge. You might want to increase the number of iterations. Duality gap: 574.3205342962337, tolerance: 60.315794875\n",
            "  model = cd_fast.sparse_enet_coordinate_descent(\n",
            "/usr/local/lib/python3.11/dist-packages/sklearn/linear_model/_coordinate_descent.py:656: ConvergenceWarning: Objective did not converge. You might want to increase the number of iterations. Duality gap: 548.0539456796578, tolerance: 60.315794875\n",
            "  model = cd_fast.sparse_enet_coordinate_descent(\n",
            "/usr/local/lib/python3.11/dist-packages/sklearn/linear_model/_coordinate_descent.py:656: ConvergenceWarning: Objective did not converge. You might want to increase the number of iterations. Duality gap: 518.9545978689293, tolerance: 60.315794875\n",
            "  model = cd_fast.sparse_enet_coordinate_descent(\n",
            "/usr/local/lib/python3.11/dist-packages/sklearn/linear_model/_coordinate_descent.py:656: ConvergenceWarning: Objective did not converge. You might want to increase the number of iterations. Duality gap: 494.6908786442036, tolerance: 60.315794875\n",
            "  model = cd_fast.sparse_enet_coordinate_descent(\n",
            "/usr/local/lib/python3.11/dist-packages/sklearn/linear_model/_coordinate_descent.py:656: ConvergenceWarning: Objective did not converge. You might want to increase the number of iterations. Duality gap: 491.9232875440139, tolerance: 60.315794875\n",
            "  model = cd_fast.sparse_enet_coordinate_descent(\n",
            "/usr/local/lib/python3.11/dist-packages/sklearn/linear_model/_coordinate_descent.py:656: ConvergenceWarning: Objective did not converge. You might want to increase the number of iterations. Duality gap: 508.3492721424609, tolerance: 60.315794875\n",
            "  model = cd_fast.sparse_enet_coordinate_descent(\n",
            "/usr/local/lib/python3.11/dist-packages/sklearn/linear_model/_coordinate_descent.py:656: ConvergenceWarning: Objective did not converge. You might want to increase the number of iterations. Duality gap: 508.8223525311514, tolerance: 60.315794875\n",
            "  model = cd_fast.sparse_enet_coordinate_descent(\n",
            "/usr/local/lib/python3.11/dist-packages/sklearn/linear_model/_coordinate_descent.py:656: ConvergenceWarning: Objective did not converge. You might want to increase the number of iterations. Duality gap: 505.17889083024784, tolerance: 60.315794875\n",
            "  model = cd_fast.sparse_enet_coordinate_descent(\n",
            "/usr/local/lib/python3.11/dist-packages/sklearn/linear_model/_coordinate_descent.py:656: ConvergenceWarning: Objective did not converge. You might want to increase the number of iterations. Duality gap: 493.7075485862788, tolerance: 60.315794875\n",
            "  model = cd_fast.sparse_enet_coordinate_descent(\n",
            "/usr/local/lib/python3.11/dist-packages/sklearn/linear_model/_coordinate_descent.py:656: ConvergenceWarning: Objective did not converge. You might want to increase the number of iterations. Duality gap: 470.4807808646947, tolerance: 60.315794875\n",
            "  model = cd_fast.sparse_enet_coordinate_descent(\n",
            "/usr/local/lib/python3.11/dist-packages/sklearn/linear_model/_coordinate_descent.py:656: ConvergenceWarning: Objective did not converge. You might want to increase the number of iterations. Duality gap: 452.70762301732066, tolerance: 60.315794875\n",
            "  model = cd_fast.sparse_enet_coordinate_descent(\n",
            "/usr/local/lib/python3.11/dist-packages/sklearn/linear_model/_coordinate_descent.py:656: ConvergenceWarning: Objective did not converge. You might want to increase the number of iterations. Duality gap: 436.72828949646646, tolerance: 60.315794875\n",
            "  model = cd_fast.sparse_enet_coordinate_descent(\n",
            "/usr/local/lib/python3.11/dist-packages/sklearn/linear_model/_coordinate_descent.py:656: ConvergenceWarning: Objective did not converge. You might want to increase the number of iterations. Duality gap: 423.81743596470733, tolerance: 60.315794875\n",
            "  model = cd_fast.sparse_enet_coordinate_descent(\n",
            "/usr/local/lib/python3.11/dist-packages/sklearn/linear_model/_coordinate_descent.py:656: ConvergenceWarning: Objective did not converge. You might want to increase the number of iterations. Duality gap: 412.7598556104567, tolerance: 60.315794875\n",
            "  model = cd_fast.sparse_enet_coordinate_descent(\n",
            "/usr/local/lib/python3.11/dist-packages/sklearn/linear_model/_coordinate_descent.py:656: ConvergenceWarning: Objective did not converge. You might want to increase the number of iterations. Duality gap: 405.81221952151645, tolerance: 60.315794875\n",
            "  model = cd_fast.sparse_enet_coordinate_descent(\n",
            "/usr/local/lib/python3.11/dist-packages/sklearn/linear_model/_coordinate_descent.py:656: ConvergenceWarning: Objective did not converge. You might want to increase the number of iterations. Duality gap: 401.1653912767906, tolerance: 60.315794875\n",
            "  model = cd_fast.sparse_enet_coordinate_descent(\n",
            "/usr/local/lib/python3.11/dist-packages/sklearn/linear_model/_coordinate_descent.py:656: ConvergenceWarning: Objective did not converge. You might want to increase the number of iterations. Duality gap: 393.71416779764513, tolerance: 60.315794875\n",
            "  model = cd_fast.sparse_enet_coordinate_descent(\n",
            "/usr/local/lib/python3.11/dist-packages/sklearn/linear_model/_coordinate_descent.py:656: ConvergenceWarning: Objective did not converge. You might want to increase the number of iterations. Duality gap: 385.7031914424133, tolerance: 60.315794875\n",
            "  model = cd_fast.sparse_enet_coordinate_descent(\n",
            "/usr/local/lib/python3.11/dist-packages/sklearn/linear_model/_coordinate_descent.py:656: ConvergenceWarning: Objective did not converge. You might want to increase the number of iterations. Duality gap: 381.91991638134823, tolerance: 60.315794875\n",
            "  model = cd_fast.sparse_enet_coordinate_descent(\n",
            "/usr/local/lib/python3.11/dist-packages/sklearn/linear_model/_coordinate_descent.py:656: ConvergenceWarning: Objective did not converge. You might want to increase the number of iterations. Duality gap: 378.9934130972033, tolerance: 60.315794875\n",
            "  model = cd_fast.sparse_enet_coordinate_descent(\n",
            "/usr/local/lib/python3.11/dist-packages/sklearn/linear_model/_coordinate_descent.py:656: ConvergenceWarning: Objective did not converge. You might want to increase the number of iterations. Duality gap: 376.7099815627171, tolerance: 60.315794875\n",
            "  model = cd_fast.sparse_enet_coordinate_descent(\n",
            "/usr/local/lib/python3.11/dist-packages/sklearn/linear_model/_coordinate_descent.py:656: ConvergenceWarning: Objective did not converge. You might want to increase the number of iterations. Duality gap: 375.38354734892164, tolerance: 60.315794875\n",
            "  model = cd_fast.sparse_enet_coordinate_descent(\n",
            "/usr/local/lib/python3.11/dist-packages/sklearn/linear_model/_coordinate_descent.py:656: ConvergenceWarning: Objective did not converge. You might want to increase the number of iterations. Duality gap: 373.36818617965037, tolerance: 60.315794875\n",
            "  model = cd_fast.sparse_enet_coordinate_descent(\n",
            "/usr/local/lib/python3.11/dist-packages/sklearn/linear_model/_coordinate_descent.py:656: ConvergenceWarning: Objective did not converge. You might want to increase the number of iterations. Duality gap: 270.37170472560683, tolerance: 81.486792\n",
            "  model = cd_fast.sparse_enet_coordinate_descent(\n",
            "/usr/local/lib/python3.11/dist-packages/sklearn/linear_model/_coordinate_descent.py:656: ConvergenceWarning: Objective did not converge. You might want to increase the number of iterations. Duality gap: 480.2818402109333, tolerance: 81.486792\n",
            "  model = cd_fast.sparse_enet_coordinate_descent(\n",
            "/usr/local/lib/python3.11/dist-packages/sklearn/linear_model/_coordinate_descent.py:656: ConvergenceWarning: Objective did not converge. You might want to increase the number of iterations. Duality gap: 523.6670260228493, tolerance: 81.486792\n",
            "  model = cd_fast.sparse_enet_coordinate_descent(\n",
            "/usr/local/lib/python3.11/dist-packages/sklearn/linear_model/_coordinate_descent.py:656: ConvergenceWarning: Objective did not converge. You might want to increase the number of iterations. Duality gap: 515.0069643213246, tolerance: 81.486792\n",
            "  model = cd_fast.sparse_enet_coordinate_descent(\n",
            "/usr/local/lib/python3.11/dist-packages/sklearn/linear_model/_coordinate_descent.py:656: ConvergenceWarning: Objective did not converge. You might want to increase the number of iterations. Duality gap: 491.4950817016397, tolerance: 81.486792\n",
            "  model = cd_fast.sparse_enet_coordinate_descent(\n",
            "/usr/local/lib/python3.11/dist-packages/sklearn/linear_model/_coordinate_descent.py:656: ConvergenceWarning: Objective did not converge. You might want to increase the number of iterations. Duality gap: 457.6601172205483, tolerance: 81.486792\n",
            "  model = cd_fast.sparse_enet_coordinate_descent(\n",
            "/usr/local/lib/python3.11/dist-packages/sklearn/linear_model/_coordinate_descent.py:656: ConvergenceWarning: Objective did not converge. You might want to increase the number of iterations. Duality gap: 423.35325669778103, tolerance: 81.486792\n",
            "  model = cd_fast.sparse_enet_coordinate_descent(\n",
            "/usr/local/lib/python3.11/dist-packages/sklearn/linear_model/_coordinate_descent.py:656: ConvergenceWarning: Objective did not converge. You might want to increase the number of iterations. Duality gap: 390.118055737119, tolerance: 81.486792\n",
            "  model = cd_fast.sparse_enet_coordinate_descent(\n",
            "/usr/local/lib/python3.11/dist-packages/sklearn/linear_model/_coordinate_descent.py:656: ConvergenceWarning: Objective did not converge. You might want to increase the number of iterations. Duality gap: 363.46772343366683, tolerance: 81.486792\n",
            "  model = cd_fast.sparse_enet_coordinate_descent(\n",
            "/usr/local/lib/python3.11/dist-packages/sklearn/linear_model/_coordinate_descent.py:656: ConvergenceWarning: Objective did not converge. You might want to increase the number of iterations. Duality gap: 336.86048152290095, tolerance: 81.486792\n",
            "  model = cd_fast.sparse_enet_coordinate_descent(\n",
            "/usr/local/lib/python3.11/dist-packages/sklearn/linear_model/_coordinate_descent.py:656: ConvergenceWarning: Objective did not converge. You might want to increase the number of iterations. Duality gap: 312.6241631275734, tolerance: 81.486792\n",
            "  model = cd_fast.sparse_enet_coordinate_descent(\n",
            "/usr/local/lib/python3.11/dist-packages/sklearn/linear_model/_coordinate_descent.py:656: ConvergenceWarning: Objective did not converge. You might want to increase the number of iterations. Duality gap: 284.3654081644672, tolerance: 81.486792\n",
            "  model = cd_fast.sparse_enet_coordinate_descent(\n",
            "/usr/local/lib/python3.11/dist-packages/sklearn/linear_model/_coordinate_descent.py:656: ConvergenceWarning: Objective did not converge. You might want to increase the number of iterations. Duality gap: 259.56018205800865, tolerance: 81.486792\n",
            "  model = cd_fast.sparse_enet_coordinate_descent(\n",
            "/usr/local/lib/python3.11/dist-packages/sklearn/linear_model/_coordinate_descent.py:656: ConvergenceWarning: Objective did not converge. You might want to increase the number of iterations. Duality gap: 230.73850204150222, tolerance: 81.486792\n",
            "  model = cd_fast.sparse_enet_coordinate_descent(\n",
            "/usr/local/lib/python3.11/dist-packages/sklearn/linear_model/_coordinate_descent.py:656: ConvergenceWarning: Objective did not converge. You might want to increase the number of iterations. Duality gap: 206.9965191887277, tolerance: 81.486792\n",
            "  model = cd_fast.sparse_enet_coordinate_descent(\n",
            "/usr/local/lib/python3.11/dist-packages/sklearn/linear_model/_coordinate_descent.py:656: ConvergenceWarning: Objective did not converge. You might want to increase the number of iterations. Duality gap: 195.47825531594208, tolerance: 81.486792\n",
            "  model = cd_fast.sparse_enet_coordinate_descent(\n",
            "/usr/local/lib/python3.11/dist-packages/sklearn/linear_model/_coordinate_descent.py:656: ConvergenceWarning: Objective did not converge. You might want to increase the number of iterations. Duality gap: 192.88773246371784, tolerance: 81.486792\n",
            "  model = cd_fast.sparse_enet_coordinate_descent(\n",
            "/usr/local/lib/python3.11/dist-packages/sklearn/linear_model/_coordinate_descent.py:656: ConvergenceWarning: Objective did not converge. You might want to increase the number of iterations. Duality gap: 222.4904647665062, tolerance: 81.486792\n",
            "  model = cd_fast.sparse_enet_coordinate_descent(\n",
            "/usr/local/lib/python3.11/dist-packages/sklearn/linear_model/_coordinate_descent.py:656: ConvergenceWarning: Objective did not converge. You might want to increase the number of iterations. Duality gap: 247.26858958442426, tolerance: 81.486792\n",
            "  model = cd_fast.sparse_enet_coordinate_descent(\n",
            "/usr/local/lib/python3.11/dist-packages/sklearn/linear_model/_coordinate_descent.py:656: ConvergenceWarning: Objective did not converge. You might want to increase the number of iterations. Duality gap: 310.2781110303331, tolerance: 81.486792\n",
            "  model = cd_fast.sparse_enet_coordinate_descent(\n",
            "/usr/local/lib/python3.11/dist-packages/sklearn/linear_model/_coordinate_descent.py:656: ConvergenceWarning: Objective did not converge. You might want to increase the number of iterations. Duality gap: 391.6802360504407, tolerance: 81.486792\n",
            "  model = cd_fast.sparse_enet_coordinate_descent(\n",
            "/usr/local/lib/python3.11/dist-packages/sklearn/linear_model/_coordinate_descent.py:656: ConvergenceWarning: Objective did not converge. You might want to increase the number of iterations. Duality gap: 499.3884489656757, tolerance: 81.486792\n",
            "  model = cd_fast.sparse_enet_coordinate_descent(\n",
            "/usr/local/lib/python3.11/dist-packages/sklearn/linear_model/_coordinate_descent.py:656: ConvergenceWarning: Objective did not converge. You might want to increase the number of iterations. Duality gap: 549.87458343463, tolerance: 81.486792\n",
            "  model = cd_fast.sparse_enet_coordinate_descent(\n",
            "/usr/local/lib/python3.11/dist-packages/sklearn/linear_model/_coordinate_descent.py:656: ConvergenceWarning: Objective did not converge. You might want to increase the number of iterations. Duality gap: 587.5408576243353, tolerance: 81.486792\n",
            "  model = cd_fast.sparse_enet_coordinate_descent(\n",
            "/usr/local/lib/python3.11/dist-packages/sklearn/linear_model/_coordinate_descent.py:656: ConvergenceWarning: Objective did not converge. You might want to increase the number of iterations. Duality gap: 595.3663085860317, tolerance: 81.486792\n",
            "  model = cd_fast.sparse_enet_coordinate_descent(\n",
            "/usr/local/lib/python3.11/dist-packages/sklearn/linear_model/_coordinate_descent.py:656: ConvergenceWarning: Objective did not converge. You might want to increase the number of iterations. Duality gap: 560.4470345939299, tolerance: 81.486792\n",
            "  model = cd_fast.sparse_enet_coordinate_descent(\n",
            "/usr/local/lib/python3.11/dist-packages/sklearn/linear_model/_coordinate_descent.py:656: ConvergenceWarning: Objective did not converge. You might want to increase the number of iterations. Duality gap: 515.1153398975403, tolerance: 81.486792\n",
            "  model = cd_fast.sparse_enet_coordinate_descent(\n",
            "/usr/local/lib/python3.11/dist-packages/sklearn/linear_model/_coordinate_descent.py:656: ConvergenceWarning: Objective did not converge. You might want to increase the number of iterations. Duality gap: 481.2658840163094, tolerance: 81.486792\n",
            "  model = cd_fast.sparse_enet_coordinate_descent(\n",
            "/usr/local/lib/python3.11/dist-packages/sklearn/linear_model/_coordinate_descent.py:656: ConvergenceWarning: Objective did not converge. You might want to increase the number of iterations. Duality gap: 467.6751954829906, tolerance: 81.486792\n",
            "  model = cd_fast.sparse_enet_coordinate_descent(\n",
            "/usr/local/lib/python3.11/dist-packages/sklearn/linear_model/_coordinate_descent.py:656: ConvergenceWarning: Objective did not converge. You might want to increase the number of iterations. Duality gap: 453.5609190100695, tolerance: 81.486792\n",
            "  model = cd_fast.sparse_enet_coordinate_descent(\n",
            "/usr/local/lib/python3.11/dist-packages/sklearn/linear_model/_coordinate_descent.py:656: ConvergenceWarning: Objective did not converge. You might want to increase the number of iterations. Duality gap: 432.91216212097424, tolerance: 81.486792\n",
            "  model = cd_fast.sparse_enet_coordinate_descent(\n",
            "/usr/local/lib/python3.11/dist-packages/sklearn/linear_model/_coordinate_descent.py:656: ConvergenceWarning: Objective did not converge. You might want to increase the number of iterations. Duality gap: 436.6673423233624, tolerance: 81.486792\n",
            "  model = cd_fast.sparse_enet_coordinate_descent(\n",
            "/usr/local/lib/python3.11/dist-packages/sklearn/linear_model/_coordinate_descent.py:656: ConvergenceWarning: Objective did not converge. You might want to increase the number of iterations. Duality gap: 445.9240695237313, tolerance: 81.486792\n",
            "  model = cd_fast.sparse_enet_coordinate_descent(\n",
            "/usr/local/lib/python3.11/dist-packages/sklearn/linear_model/_coordinate_descent.py:656: ConvergenceWarning: Objective did not converge. You might want to increase the number of iterations. Duality gap: 447.44720561550093, tolerance: 81.486792\n",
            "  model = cd_fast.sparse_enet_coordinate_descent(\n",
            "/usr/local/lib/python3.11/dist-packages/sklearn/linear_model/_coordinate_descent.py:656: ConvergenceWarning: Objective did not converge. You might want to increase the number of iterations. Duality gap: 439.81780364553197, tolerance: 81.486792\n",
            "  model = cd_fast.sparse_enet_coordinate_descent(\n",
            "/usr/local/lib/python3.11/dist-packages/sklearn/linear_model/_coordinate_descent.py:656: ConvergenceWarning: Objective did not converge. You might want to increase the number of iterations. Duality gap: 430.2273496112575, tolerance: 81.486792\n",
            "  model = cd_fast.sparse_enet_coordinate_descent(\n",
            "/usr/local/lib/python3.11/dist-packages/sklearn/linear_model/_coordinate_descent.py:656: ConvergenceWarning: Objective did not converge. You might want to increase the number of iterations. Duality gap: 418.4055940614253, tolerance: 81.486792\n",
            "  model = cd_fast.sparse_enet_coordinate_descent(\n",
            "/usr/local/lib/python3.11/dist-packages/sklearn/linear_model/_coordinate_descent.py:656: ConvergenceWarning: Objective did not converge. You might want to increase the number of iterations. Duality gap: 401.2202282724156, tolerance: 81.486792\n",
            "  model = cd_fast.sparse_enet_coordinate_descent(\n",
            "/usr/local/lib/python3.11/dist-packages/sklearn/linear_model/_coordinate_descent.py:656: ConvergenceWarning: Objective did not converge. You might want to increase the number of iterations. Duality gap: 393.2071203268224, tolerance: 81.486792\n",
            "  model = cd_fast.sparse_enet_coordinate_descent(\n",
            "/usr/local/lib/python3.11/dist-packages/sklearn/linear_model/_coordinate_descent.py:656: ConvergenceWarning: Objective did not converge. You might want to increase the number of iterations. Duality gap: 387.9935036322968, tolerance: 81.486792\n",
            "  model = cd_fast.sparse_enet_coordinate_descent(\n",
            "/usr/local/lib/python3.11/dist-packages/sklearn/linear_model/_coordinate_descent.py:656: ConvergenceWarning: Objective did not converge. You might want to increase the number of iterations. Duality gap: 380.0702891478377, tolerance: 81.486792\n",
            "  model = cd_fast.sparse_enet_coordinate_descent(\n",
            "/usr/local/lib/python3.11/dist-packages/sklearn/linear_model/_coordinate_descent.py:656: ConvergenceWarning: Objective did not converge. You might want to increase the number of iterations. Duality gap: 373.4983514122541, tolerance: 81.486792\n",
            "  model = cd_fast.sparse_enet_coordinate_descent(\n",
            "/usr/local/lib/python3.11/dist-packages/sklearn/linear_model/_coordinate_descent.py:656: ConvergenceWarning: Objective did not converge. You might want to increase the number of iterations. Duality gap: 364.2313067163359, tolerance: 81.486792\n",
            "  model = cd_fast.sparse_enet_coordinate_descent(\n",
            "/usr/local/lib/python3.11/dist-packages/sklearn/linear_model/_coordinate_descent.py:656: ConvergenceWarning: Objective did not converge. You might want to increase the number of iterations. Duality gap: 360.8033997365037, tolerance: 81.486792\n",
            "  model = cd_fast.sparse_enet_coordinate_descent(\n",
            "/usr/local/lib/python3.11/dist-packages/sklearn/linear_model/_coordinate_descent.py:656: ConvergenceWarning: Objective did not converge. You might want to increase the number of iterations. Duality gap: 357.12445713596753, tolerance: 81.486792\n",
            "  model = cd_fast.sparse_enet_coordinate_descent(\n",
            "/usr/local/lib/python3.11/dist-packages/sklearn/linear_model/_coordinate_descent.py:656: ConvergenceWarning: Objective did not converge. You might want to increase the number of iterations. Duality gap: 352.7505806191839, tolerance: 81.486792\n",
            "  model = cd_fast.sparse_enet_coordinate_descent(\n",
            "/usr/local/lib/python3.11/dist-packages/sklearn/linear_model/_coordinate_descent.py:656: ConvergenceWarning: Objective did not converge. You might want to increase the number of iterations. Duality gap: 349.59759361535544, tolerance: 81.486792\n",
            "  model = cd_fast.sparse_enet_coordinate_descent(\n",
            "/usr/local/lib/python3.11/dist-packages/sklearn/linear_model/_coordinate_descent.py:656: ConvergenceWarning: Objective did not converge. You might want to increase the number of iterations. Duality gap: 345.1866767728534, tolerance: 81.486792\n",
            "  model = cd_fast.sparse_enet_coordinate_descent(\n",
            "/usr/local/lib/python3.11/dist-packages/sklearn/linear_model/_coordinate_descent.py:656: ConvergenceWarning: Objective did not converge. You might want to increase the number of iterations. Duality gap: 342.79032898226797, tolerance: 81.486792\n",
            "  model = cd_fast.sparse_enet_coordinate_descent(\n",
            "/usr/local/lib/python3.11/dist-packages/sklearn/linear_model/_coordinate_descent.py:656: ConvergenceWarning: Objective did not converge. You might want to increase the number of iterations. Duality gap: 343.7438972312939, tolerance: 81.486792\n",
            "  model = cd_fast.sparse_enet_coordinate_descent(\n",
            "/usr/local/lib/python3.11/dist-packages/sklearn/linear_model/_coordinate_descent.py:656: ConvergenceWarning: Objective did not converge. You might want to increase the number of iterations. Duality gap: 343.89889625741307, tolerance: 81.486792\n",
            "  model = cd_fast.sparse_enet_coordinate_descent(\n",
            "/usr/local/lib/python3.11/dist-packages/sklearn/linear_model/_coordinate_descent.py:656: ConvergenceWarning: Objective did not converge. You might want to increase the number of iterations. Duality gap: 242.49256494366273, tolerance: 77.73831950000002\n",
            "  model = cd_fast.sparse_enet_coordinate_descent(\n",
            "/usr/local/lib/python3.11/dist-packages/sklearn/linear_model/_coordinate_descent.py:656: ConvergenceWarning: Objective did not converge. You might want to increase the number of iterations. Duality gap: 449.40870712392643, tolerance: 77.73831950000002\n",
            "  model = cd_fast.sparse_enet_coordinate_descent(\n",
            "/usr/local/lib/python3.11/dist-packages/sklearn/linear_model/_coordinate_descent.py:656: ConvergenceWarning: Objective did not converge. You might want to increase the number of iterations. Duality gap: 492.5431486017369, tolerance: 77.73831950000002\n",
            "  model = cd_fast.sparse_enet_coordinate_descent(\n",
            "/usr/local/lib/python3.11/dist-packages/sklearn/linear_model/_coordinate_descent.py:656: ConvergenceWarning: Objective did not converge. You might want to increase the number of iterations. Duality gap: 487.1092746601171, tolerance: 77.73831950000002\n",
            "  model = cd_fast.sparse_enet_coordinate_descent(\n",
            "/usr/local/lib/python3.11/dist-packages/sklearn/linear_model/_coordinate_descent.py:656: ConvergenceWarning: Objective did not converge. You might want to increase the number of iterations. Duality gap: 462.6978236411087, tolerance: 77.73831950000002\n",
            "  model = cd_fast.sparse_enet_coordinate_descent(\n",
            "/usr/local/lib/python3.11/dist-packages/sklearn/linear_model/_coordinate_descent.py:656: ConvergenceWarning: Objective did not converge. You might want to increase the number of iterations. Duality gap: 431.6217172209035, tolerance: 77.73831950000002\n",
            "  model = cd_fast.sparse_enet_coordinate_descent(\n",
            "/usr/local/lib/python3.11/dist-packages/sklearn/linear_model/_coordinate_descent.py:656: ConvergenceWarning: Objective did not converge. You might want to increase the number of iterations. Duality gap: 406.4699718504853, tolerance: 77.73831950000002\n",
            "  model = cd_fast.sparse_enet_coordinate_descent(\n",
            "/usr/local/lib/python3.11/dist-packages/sklearn/linear_model/_coordinate_descent.py:656: ConvergenceWarning: Objective did not converge. You might want to increase the number of iterations. Duality gap: 371.68564569351656, tolerance: 77.73831950000002\n",
            "  model = cd_fast.sparse_enet_coordinate_descent(\n",
            "/usr/local/lib/python3.11/dist-packages/sklearn/linear_model/_coordinate_descent.py:656: ConvergenceWarning: Objective did not converge. You might want to increase the number of iterations. Duality gap: 337.7430033215969, tolerance: 77.73831950000002\n",
            "  model = cd_fast.sparse_enet_coordinate_descent(\n",
            "/usr/local/lib/python3.11/dist-packages/sklearn/linear_model/_coordinate_descent.py:656: ConvergenceWarning: Objective did not converge. You might want to increase the number of iterations. Duality gap: 321.1942927096097, tolerance: 77.73831950000002\n",
            "  model = cd_fast.sparse_enet_coordinate_descent(\n",
            "/usr/local/lib/python3.11/dist-packages/sklearn/linear_model/_coordinate_descent.py:656: ConvergenceWarning: Objective did not converge. You might want to increase the number of iterations. Duality gap: 298.7897782646942, tolerance: 77.73831950000002\n",
            "  model = cd_fast.sparse_enet_coordinate_descent(\n",
            "/usr/local/lib/python3.11/dist-packages/sklearn/linear_model/_coordinate_descent.py:656: ConvergenceWarning: Objective did not converge. You might want to increase the number of iterations. Duality gap: 270.2171802067169, tolerance: 77.73831950000002\n",
            "  model = cd_fast.sparse_enet_coordinate_descent(\n",
            "/usr/local/lib/python3.11/dist-packages/sklearn/linear_model/_coordinate_descent.py:656: ConvergenceWarning: Objective did not converge. You might want to increase the number of iterations. Duality gap: 245.001413955928, tolerance: 77.73831950000002\n",
            "  model = cd_fast.sparse_enet_coordinate_descent(\n",
            "/usr/local/lib/python3.11/dist-packages/sklearn/linear_model/_coordinate_descent.py:656: ConvergenceWarning: Objective did not converge. You might want to increase the number of iterations. Duality gap: 221.81849898381915, tolerance: 77.73831950000002\n",
            "  model = cd_fast.sparse_enet_coordinate_descent(\n",
            "/usr/local/lib/python3.11/dist-packages/sklearn/linear_model/_coordinate_descent.py:656: ConvergenceWarning: Objective did not converge. You might want to increase the number of iterations. Duality gap: 205.35075885722108, tolerance: 77.73831950000002\n",
            "  model = cd_fast.sparse_enet_coordinate_descent(\n",
            "/usr/local/lib/python3.11/dist-packages/sklearn/linear_model/_coordinate_descent.py:656: ConvergenceWarning: Objective did not converge. You might want to increase the number of iterations. Duality gap: 192.86614568641016, tolerance: 77.73831950000002\n",
            "  model = cd_fast.sparse_enet_coordinate_descent(\n",
            "/usr/local/lib/python3.11/dist-packages/sklearn/linear_model/_coordinate_descent.py:656: ConvergenceWarning: Objective did not converge. You might want to increase the number of iterations. Duality gap: 181.12809649763585, tolerance: 77.73831950000002\n",
            "  model = cd_fast.sparse_enet_coordinate_descent(\n",
            "/usr/local/lib/python3.11/dist-packages/sklearn/linear_model/_coordinate_descent.py:656: ConvergenceWarning: Objective did not converge. You might want to increase the number of iterations. Duality gap: 180.06795614864677, tolerance: 77.73831950000002\n",
            "  model = cd_fast.sparse_enet_coordinate_descent(\n",
            "/usr/local/lib/python3.11/dist-packages/sklearn/linear_model/_coordinate_descent.py:656: ConvergenceWarning: Objective did not converge. You might want to increase the number of iterations. Duality gap: 177.64193268965937, tolerance: 77.73831950000002\n",
            "  model = cd_fast.sparse_enet_coordinate_descent(\n",
            "/usr/local/lib/python3.11/dist-packages/sklearn/linear_model/_coordinate_descent.py:656: ConvergenceWarning: Objective did not converge. You might want to increase the number of iterations. Duality gap: 188.93504750087595, tolerance: 77.73831950000002\n",
            "  model = cd_fast.sparse_enet_coordinate_descent(\n",
            "/usr/local/lib/python3.11/dist-packages/sklearn/linear_model/_coordinate_descent.py:656: ConvergenceWarning: Objective did not converge. You might want to increase the number of iterations. Duality gap: 257.06561453954964, tolerance: 77.73831950000002\n",
            "  model = cd_fast.sparse_enet_coordinate_descent(\n",
            "/usr/local/lib/python3.11/dist-packages/sklearn/linear_model/_coordinate_descent.py:656: ConvergenceWarning: Objective did not converge. You might want to increase the number of iterations. Duality gap: 351.7530717371519, tolerance: 77.73831950000002\n",
            "  model = cd_fast.sparse_enet_coordinate_descent(\n",
            "/usr/local/lib/python3.11/dist-packages/sklearn/linear_model/_coordinate_descent.py:656: ConvergenceWarning: Objective did not converge. You might want to increase the number of iterations. Duality gap: 429.8747003523131, tolerance: 77.73831950000002\n",
            "  model = cd_fast.sparse_enet_coordinate_descent(\n",
            "/usr/local/lib/python3.11/dist-packages/sklearn/linear_model/_coordinate_descent.py:656: ConvergenceWarning: Objective did not converge. You might want to increase the number of iterations. Duality gap: 471.9483624879995, tolerance: 77.73831950000002\n",
            "  model = cd_fast.sparse_enet_coordinate_descent(\n",
            "/usr/local/lib/python3.11/dist-packages/sklearn/linear_model/_coordinate_descent.py:656: ConvergenceWarning: Objective did not converge. You might want to increase the number of iterations. Duality gap: 478.31085508183605, tolerance: 77.73831950000002\n",
            "  model = cd_fast.sparse_enet_coordinate_descent(\n",
            "/usr/local/lib/python3.11/dist-packages/sklearn/linear_model/_coordinate_descent.py:656: ConvergenceWarning: Objective did not converge. You might want to increase the number of iterations. Duality gap: 479.93457554222186, tolerance: 77.73831950000002\n",
            "  model = cd_fast.sparse_enet_coordinate_descent(\n",
            "/usr/local/lib/python3.11/dist-packages/sklearn/linear_model/_coordinate_descent.py:656: ConvergenceWarning: Objective did not converge. You might want to increase the number of iterations. Duality gap: 471.4791205424717, tolerance: 77.73831950000002\n",
            "  model = cd_fast.sparse_enet_coordinate_descent(\n",
            "/usr/local/lib/python3.11/dist-packages/sklearn/linear_model/_coordinate_descent.py:656: ConvergenceWarning: Objective did not converge. You might want to increase the number of iterations. Duality gap: 451.7943961078672, tolerance: 77.73831950000002\n",
            "  model = cd_fast.sparse_enet_coordinate_descent(\n",
            "/usr/local/lib/python3.11/dist-packages/sklearn/linear_model/_coordinate_descent.py:656: ConvergenceWarning: Objective did not converge. You might want to increase the number of iterations. Duality gap: 418.3565578879643, tolerance: 77.73831950000002\n",
            "  model = cd_fast.sparse_enet_coordinate_descent(\n",
            "/usr/local/lib/python3.11/dist-packages/sklearn/linear_model/_coordinate_descent.py:656: ConvergenceWarning: Objective did not converge. You might want to increase the number of iterations. Duality gap: 394.4844333000292, tolerance: 77.73831950000002\n",
            "  model = cd_fast.sparse_enet_coordinate_descent(\n",
            "/usr/local/lib/python3.11/dist-packages/sklearn/linear_model/_coordinate_descent.py:656: ConvergenceWarning: Objective did not converge. You might want to increase the number of iterations. Duality gap: 369.2582507906445, tolerance: 77.73831950000002\n",
            "  model = cd_fast.sparse_enet_coordinate_descent(\n",
            "/usr/local/lib/python3.11/dist-packages/sklearn/linear_model/_coordinate_descent.py:656: ConvergenceWarning: Objective did not converge. You might want to increase the number of iterations. Duality gap: 344.8100861550338, tolerance: 77.73831950000002\n",
            "  model = cd_fast.sparse_enet_coordinate_descent(\n",
            "/usr/local/lib/python3.11/dist-packages/sklearn/linear_model/_coordinate_descent.py:656: ConvergenceWarning: Objective did not converge. You might want to increase the number of iterations. Duality gap: 339.5569527565349, tolerance: 77.73831950000002\n",
            "  model = cd_fast.sparse_enet_coordinate_descent(\n",
            "/usr/local/lib/python3.11/dist-packages/sklearn/linear_model/_coordinate_descent.py:656: ConvergenceWarning: Objective did not converge. You might want to increase the number of iterations. Duality gap: 352.97626577130177, tolerance: 77.73831950000002\n",
            "  model = cd_fast.sparse_enet_coordinate_descent(\n",
            "/usr/local/lib/python3.11/dist-packages/sklearn/linear_model/_coordinate_descent.py:656: ConvergenceWarning: Objective did not converge. You might want to increase the number of iterations. Duality gap: 353.577256753817, tolerance: 77.73831950000002\n",
            "  model = cd_fast.sparse_enet_coordinate_descent(\n",
            "/usr/local/lib/python3.11/dist-packages/sklearn/linear_model/_coordinate_descent.py:656: ConvergenceWarning: Objective did not converge. You might want to increase the number of iterations. Duality gap: 343.1091743246543, tolerance: 77.73831950000002\n",
            "  model = cd_fast.sparse_enet_coordinate_descent(\n",
            "/usr/local/lib/python3.11/dist-packages/sklearn/linear_model/_coordinate_descent.py:656: ConvergenceWarning: Objective did not converge. You might want to increase the number of iterations. Duality gap: 331.17040441560675, tolerance: 77.73831950000002\n",
            "  model = cd_fast.sparse_enet_coordinate_descent(\n",
            "/usr/local/lib/python3.11/dist-packages/sklearn/linear_model/_coordinate_descent.py:656: ConvergenceWarning: Objective did not converge. You might want to increase the number of iterations. Duality gap: 315.2226120768646, tolerance: 77.73831950000002\n",
            "  model = cd_fast.sparse_enet_coordinate_descent(\n",
            "/usr/local/lib/python3.11/dist-packages/sklearn/linear_model/_coordinate_descent.py:656: ConvergenceWarning: Objective did not converge. You might want to increase the number of iterations. Duality gap: 308.1921542699565, tolerance: 77.73831950000002\n",
            "  model = cd_fast.sparse_enet_coordinate_descent(\n",
            "/usr/local/lib/python3.11/dist-packages/sklearn/linear_model/_coordinate_descent.py:656: ConvergenceWarning: Objective did not converge. You might want to increase the number of iterations. Duality gap: 309.6229677775991, tolerance: 77.73831950000002\n",
            "  model = cd_fast.sparse_enet_coordinate_descent(\n",
            "/usr/local/lib/python3.11/dist-packages/sklearn/linear_model/_coordinate_descent.py:656: ConvergenceWarning: Objective did not converge. You might want to increase the number of iterations. Duality gap: 309.0197112734477, tolerance: 77.73831950000002\n",
            "  model = cd_fast.sparse_enet_coordinate_descent(\n",
            "/usr/local/lib/python3.11/dist-packages/sklearn/linear_model/_coordinate_descent.py:656: ConvergenceWarning: Objective did not converge. You might want to increase the number of iterations. Duality gap: 306.5876455647085, tolerance: 77.73831950000002\n",
            "  model = cd_fast.sparse_enet_coordinate_descent(\n",
            "/usr/local/lib/python3.11/dist-packages/sklearn/linear_model/_coordinate_descent.py:656: ConvergenceWarning: Objective did not converge. You might want to increase the number of iterations. Duality gap: 300.33616798784533, tolerance: 77.73831950000002\n",
            "  model = cd_fast.sparse_enet_coordinate_descent(\n",
            "/usr/local/lib/python3.11/dist-packages/sklearn/linear_model/_coordinate_descent.py:656: ConvergenceWarning: Objective did not converge. You might want to increase the number of iterations. Duality gap: 293.7608286320192, tolerance: 77.73831950000002\n",
            "  model = cd_fast.sparse_enet_coordinate_descent(\n",
            "/usr/local/lib/python3.11/dist-packages/sklearn/linear_model/_coordinate_descent.py:656: ConvergenceWarning: Objective did not converge. You might want to increase the number of iterations. Duality gap: 287.86704110086794, tolerance: 77.73831950000002\n",
            "  model = cd_fast.sparse_enet_coordinate_descent(\n",
            "/usr/local/lib/python3.11/dist-packages/sklearn/linear_model/_coordinate_descent.py:656: ConvergenceWarning: Objective did not converge. You might want to increase the number of iterations. Duality gap: 285.01433685558186, tolerance: 77.73831950000002\n",
            "  model = cd_fast.sparse_enet_coordinate_descent(\n",
            "/usr/local/lib/python3.11/dist-packages/sklearn/linear_model/_coordinate_descent.py:656: ConvergenceWarning: Objective did not converge. You might want to increase the number of iterations. Duality gap: 287.89550818673524, tolerance: 77.73831950000002\n",
            "  model = cd_fast.sparse_enet_coordinate_descent(\n",
            "/usr/local/lib/python3.11/dist-packages/sklearn/linear_model/_coordinate_descent.py:656: ConvergenceWarning: Objective did not converge. You might want to increase the number of iterations. Duality gap: 283.0044861731676, tolerance: 77.73831950000002\n",
            "  model = cd_fast.sparse_enet_coordinate_descent(\n",
            "/usr/local/lib/python3.11/dist-packages/sklearn/linear_model/_coordinate_descent.py:656: ConvergenceWarning: Objective did not converge. You might want to increase the number of iterations. Duality gap: 278.74334968349103, tolerance: 77.73831950000002\n",
            "  model = cd_fast.sparse_enet_coordinate_descent(\n",
            "/usr/local/lib/python3.11/dist-packages/sklearn/linear_model/_coordinate_descent.py:656: ConvergenceWarning: Objective did not converge. You might want to increase the number of iterations. Duality gap: 275.3070919633483, tolerance: 77.73831950000002\n",
            "  model = cd_fast.sparse_enet_coordinate_descent(\n",
            "/usr/local/lib/python3.11/dist-packages/sklearn/linear_model/_coordinate_descent.py:656: ConvergenceWarning: Objective did not converge. You might want to increase the number of iterations. Duality gap: 273.2517258192438, tolerance: 77.73831950000002\n",
            "  model = cd_fast.sparse_enet_coordinate_descent(\n",
            "/usr/local/lib/python3.11/dist-packages/sklearn/linear_model/_coordinate_descent.py:656: ConvergenceWarning: Objective did not converge. You might want to increase the number of iterations. Duality gap: 427.1496206210286, tolerance: 78.50207887500004\n",
            "  model = cd_fast.sparse_enet_coordinate_descent(\n",
            "/usr/local/lib/python3.11/dist-packages/sklearn/linear_model/_coordinate_descent.py:656: ConvergenceWarning: Objective did not converge. You might want to increase the number of iterations. Duality gap: 522.848753661121, tolerance: 78.50207887500004\n",
            "  model = cd_fast.sparse_enet_coordinate_descent(\n",
            "/usr/local/lib/python3.11/dist-packages/sklearn/linear_model/_coordinate_descent.py:656: ConvergenceWarning: Objective did not converge. You might want to increase the number of iterations. Duality gap: 536.9880833672651, tolerance: 78.50207887500004\n",
            "  model = cd_fast.sparse_enet_coordinate_descent(\n",
            "/usr/local/lib/python3.11/dist-packages/sklearn/linear_model/_coordinate_descent.py:656: ConvergenceWarning: Objective did not converge. You might want to increase the number of iterations. Duality gap: 516.9073904113975, tolerance: 78.50207887500004\n",
            "  model = cd_fast.sparse_enet_coordinate_descent(\n",
            "/usr/local/lib/python3.11/dist-packages/sklearn/linear_model/_coordinate_descent.py:656: ConvergenceWarning: Objective did not converge. You might want to increase the number of iterations. Duality gap: 489.3998227796219, tolerance: 78.50207887500004\n",
            "  model = cd_fast.sparse_enet_coordinate_descent(\n",
            "/usr/local/lib/python3.11/dist-packages/sklearn/linear_model/_coordinate_descent.py:656: ConvergenceWarning: Objective did not converge. You might want to increase the number of iterations. Duality gap: 458.49818864860936, tolerance: 78.50207887500004\n",
            "  model = cd_fast.sparse_enet_coordinate_descent(\n",
            "/usr/local/lib/python3.11/dist-packages/sklearn/linear_model/_coordinate_descent.py:656: ConvergenceWarning: Objective did not converge. You might want to increase the number of iterations. Duality gap: 424.3794660533895, tolerance: 78.50207887500004\n",
            "  model = cd_fast.sparse_enet_coordinate_descent(\n",
            "/usr/local/lib/python3.11/dist-packages/sklearn/linear_model/_coordinate_descent.py:656: ConvergenceWarning: Objective did not converge. You might want to increase the number of iterations. Duality gap: 390.6478134453828, tolerance: 78.50207887500004\n",
            "  model = cd_fast.sparse_enet_coordinate_descent(\n",
            "/usr/local/lib/python3.11/dist-packages/sklearn/linear_model/_coordinate_descent.py:656: ConvergenceWarning: Objective did not converge. You might want to increase the number of iterations. Duality gap: 366.34755116508313, tolerance: 78.50207887500004\n",
            "  model = cd_fast.sparse_enet_coordinate_descent(\n",
            "/usr/local/lib/python3.11/dist-packages/sklearn/linear_model/_coordinate_descent.py:656: ConvergenceWarning: Objective did not converge. You might want to increase the number of iterations. Duality gap: 342.356266456125, tolerance: 78.50207887500004\n",
            "  model = cd_fast.sparse_enet_coordinate_descent(\n",
            "/usr/local/lib/python3.11/dist-packages/sklearn/linear_model/_coordinate_descent.py:656: ConvergenceWarning: Objective did not converge. You might want to increase the number of iterations. Duality gap: 317.3870435767094, tolerance: 78.50207887500004\n",
            "  model = cd_fast.sparse_enet_coordinate_descent(\n",
            "/usr/local/lib/python3.11/dist-packages/sklearn/linear_model/_coordinate_descent.py:656: ConvergenceWarning: Objective did not converge. You might want to increase the number of iterations. Duality gap: 292.97728455927427, tolerance: 78.50207887500004\n",
            "  model = cd_fast.sparse_enet_coordinate_descent(\n",
            "/usr/local/lib/python3.11/dist-packages/sklearn/linear_model/_coordinate_descent.py:656: ConvergenceWarning: Objective did not converge. You might want to increase the number of iterations. Duality gap: 279.75588714965124, tolerance: 78.50207887500004\n",
            "  model = cd_fast.sparse_enet_coordinate_descent(\n",
            "/usr/local/lib/python3.11/dist-packages/sklearn/linear_model/_coordinate_descent.py:656: ConvergenceWarning: Objective did not converge. You might want to increase the number of iterations. Duality gap: 268.30183364219374, tolerance: 78.50207887500004\n",
            "  model = cd_fast.sparse_enet_coordinate_descent(\n",
            "/usr/local/lib/python3.11/dist-packages/sklearn/linear_model/_coordinate_descent.py:656: ConvergenceWarning: Objective did not converge. You might want to increase the number of iterations. Duality gap: 256.62507569245463, tolerance: 78.50207887500004\n",
            "  model = cd_fast.sparse_enet_coordinate_descent(\n",
            "/usr/local/lib/python3.11/dist-packages/sklearn/linear_model/_coordinate_descent.py:656: ConvergenceWarning: Objective did not converge. You might want to increase the number of iterations. Duality gap: 254.6120660245324, tolerance: 78.50207887500004\n",
            "  model = cd_fast.sparse_enet_coordinate_descent(\n",
            "/usr/local/lib/python3.11/dist-packages/sklearn/linear_model/_coordinate_descent.py:656: ConvergenceWarning: Objective did not converge. You might want to increase the number of iterations. Duality gap: 248.29154812206252, tolerance: 78.50207887500004\n",
            "  model = cd_fast.sparse_enet_coordinate_descent(\n",
            "/usr/local/lib/python3.11/dist-packages/sklearn/linear_model/_coordinate_descent.py:656: ConvergenceWarning: Objective did not converge. You might want to increase the number of iterations. Duality gap: 239.42065007408746, tolerance: 78.50207887500004\n",
            "  model = cd_fast.sparse_enet_coordinate_descent(\n",
            "/usr/local/lib/python3.11/dist-packages/sklearn/linear_model/_coordinate_descent.py:656: ConvergenceWarning: Objective did not converge. You might want to increase the number of iterations. Duality gap: 251.54262310254853, tolerance: 78.50207887500004\n",
            "  model = cd_fast.sparse_enet_coordinate_descent(\n",
            "/usr/local/lib/python3.11/dist-packages/sklearn/linear_model/_coordinate_descent.py:656: ConvergenceWarning: Objective did not converge. You might want to increase the number of iterations. Duality gap: 293.81795697579764, tolerance: 78.50207887500004\n",
            "  model = cd_fast.sparse_enet_coordinate_descent(\n",
            "/usr/local/lib/python3.11/dist-packages/sklearn/linear_model/_coordinate_descent.py:656: ConvergenceWarning: Objective did not converge. You might want to increase the number of iterations. Duality gap: 344.0363774940779, tolerance: 78.50207887500004\n",
            "  model = cd_fast.sparse_enet_coordinate_descent(\n",
            "/usr/local/lib/python3.11/dist-packages/sklearn/linear_model/_coordinate_descent.py:656: ConvergenceWarning: Objective did not converge. You might want to increase the number of iterations. Duality gap: 414.00738829610964, tolerance: 78.50207887500004\n",
            "  model = cd_fast.sparse_enet_coordinate_descent(\n",
            "/usr/local/lib/python3.11/dist-packages/sklearn/linear_model/_coordinate_descent.py:656: ConvergenceWarning: Objective did not converge. You might want to increase the number of iterations. Duality gap: 437.66392598145285, tolerance: 78.50207887500004\n",
            "  model = cd_fast.sparse_enet_coordinate_descent(\n",
            "/usr/local/lib/python3.11/dist-packages/sklearn/linear_model/_coordinate_descent.py:656: ConvergenceWarning: Objective did not converge. You might want to increase the number of iterations. Duality gap: 433.8088747077836, tolerance: 78.50207887500004\n",
            "  model = cd_fast.sparse_enet_coordinate_descent(\n",
            "/usr/local/lib/python3.11/dist-packages/sklearn/linear_model/_coordinate_descent.py:656: ConvergenceWarning: Objective did not converge. You might want to increase the number of iterations. Duality gap: 414.33875037718644, tolerance: 78.50207887500004\n",
            "  model = cd_fast.sparse_enet_coordinate_descent(\n",
            "/usr/local/lib/python3.11/dist-packages/sklearn/linear_model/_coordinate_descent.py:656: ConvergenceWarning: Objective did not converge. You might want to increase the number of iterations. Duality gap: 403.490132860783, tolerance: 78.50207887500004\n",
            "  model = cd_fast.sparse_enet_coordinate_descent(\n",
            "/usr/local/lib/python3.11/dist-packages/sklearn/linear_model/_coordinate_descent.py:656: ConvergenceWarning: Objective did not converge. You might want to increase the number of iterations. Duality gap: 396.0134884881754, tolerance: 78.50207887500004\n",
            "  model = cd_fast.sparse_enet_coordinate_descent(\n",
            "/usr/local/lib/python3.11/dist-packages/sklearn/linear_model/_coordinate_descent.py:656: ConvergenceWarning: Objective did not converge. You might want to increase the number of iterations. Duality gap: 402.59992222897745, tolerance: 78.50207887500004\n",
            "  model = cd_fast.sparse_enet_coordinate_descent(\n",
            "/usr/local/lib/python3.11/dist-packages/sklearn/linear_model/_coordinate_descent.py:656: ConvergenceWarning: Objective did not converge. You might want to increase the number of iterations. Duality gap: 409.2847273967782, tolerance: 78.50207887500004\n",
            "  model = cd_fast.sparse_enet_coordinate_descent(\n",
            "/usr/local/lib/python3.11/dist-packages/sklearn/linear_model/_coordinate_descent.py:656: ConvergenceWarning: Objective did not converge. You might want to increase the number of iterations. Duality gap: 407.82151654010886, tolerance: 78.50207887500004\n",
            "  model = cd_fast.sparse_enet_coordinate_descent(\n",
            "/usr/local/lib/python3.11/dist-packages/sklearn/linear_model/_coordinate_descent.py:656: ConvergenceWarning: Objective did not converge. You might want to increase the number of iterations. Duality gap: 396.0372109338823, tolerance: 78.50207887500004\n",
            "  model = cd_fast.sparse_enet_coordinate_descent(\n",
            "/usr/local/lib/python3.11/dist-packages/sklearn/linear_model/_coordinate_descent.py:656: ConvergenceWarning: Objective did not converge. You might want to increase the number of iterations. Duality gap: 374.15668016197196, tolerance: 78.50207887500004\n",
            "  model = cd_fast.sparse_enet_coordinate_descent(\n",
            "/usr/local/lib/python3.11/dist-packages/sklearn/linear_model/_coordinate_descent.py:656: ConvergenceWarning: Objective did not converge. You might want to increase the number of iterations. Duality gap: 353.84725395386886, tolerance: 78.50207887500004\n",
            "  model = cd_fast.sparse_enet_coordinate_descent(\n",
            "/usr/local/lib/python3.11/dist-packages/sklearn/linear_model/_coordinate_descent.py:656: ConvergenceWarning: Objective did not converge. You might want to increase the number of iterations. Duality gap: 329.36660073191524, tolerance: 78.50207887500004\n",
            "  model = cd_fast.sparse_enet_coordinate_descent(\n",
            "/usr/local/lib/python3.11/dist-packages/sklearn/linear_model/_coordinate_descent.py:656: ConvergenceWarning: Objective did not converge. You might want to increase the number of iterations. Duality gap: 307.704133768515, tolerance: 78.50207887500004\n",
            "  model = cd_fast.sparse_enet_coordinate_descent(\n",
            "/usr/local/lib/python3.11/dist-packages/sklearn/linear_model/_coordinate_descent.py:656: ConvergenceWarning: Objective did not converge. You might want to increase the number of iterations. Duality gap: 300.816162463223, tolerance: 78.50207887500004\n",
            "  model = cd_fast.sparse_enet_coordinate_descent(\n",
            "/usr/local/lib/python3.11/dist-packages/sklearn/linear_model/_coordinate_descent.py:656: ConvergenceWarning: Objective did not converge. You might want to increase the number of iterations. Duality gap: 285.07372643198505, tolerance: 78.50207887500004\n",
            "  model = cd_fast.sparse_enet_coordinate_descent(\n",
            "/usr/local/lib/python3.11/dist-packages/sklearn/linear_model/_coordinate_descent.py:656: ConvergenceWarning: Objective did not converge. You might want to increase the number of iterations. Duality gap: 277.85575916936614, tolerance: 78.50207887500004\n",
            "  model = cd_fast.sparse_enet_coordinate_descent(\n",
            "/usr/local/lib/python3.11/dist-packages/sklearn/linear_model/_coordinate_descent.py:656: ConvergenceWarning: Objective did not converge. You might want to increase the number of iterations. Duality gap: 273.87902682374624, tolerance: 78.50207887500004\n",
            "  model = cd_fast.sparse_enet_coordinate_descent(\n",
            "/usr/local/lib/python3.11/dist-packages/sklearn/linear_model/_coordinate_descent.py:656: ConvergenceWarning: Objective did not converge. You might want to increase the number of iterations. Duality gap: 262.44038107291635, tolerance: 78.50207887500004\n",
            "  model = cd_fast.sparse_enet_coordinate_descent(\n",
            "/usr/local/lib/python3.11/dist-packages/sklearn/linear_model/_coordinate_descent.py:656: ConvergenceWarning: Objective did not converge. You might want to increase the number of iterations. Duality gap: 250.44838666206306, tolerance: 78.50207887500004\n",
            "  model = cd_fast.sparse_enet_coordinate_descent(\n",
            "/usr/local/lib/python3.11/dist-packages/sklearn/linear_model/_coordinate_descent.py:656: ConvergenceWarning: Objective did not converge. You might want to increase the number of iterations. Duality gap: 243.5460477002216, tolerance: 78.50207887500004\n",
            "  model = cd_fast.sparse_enet_coordinate_descent(\n",
            "/usr/local/lib/python3.11/dist-packages/sklearn/linear_model/_coordinate_descent.py:656: ConvergenceWarning: Objective did not converge. You might want to increase the number of iterations. Duality gap: 242.12908118348787, tolerance: 78.50207887500004\n",
            "  model = cd_fast.sparse_enet_coordinate_descent(\n",
            "/usr/local/lib/python3.11/dist-packages/sklearn/linear_model/_coordinate_descent.py:656: ConvergenceWarning: Objective did not converge. You might want to increase the number of iterations. Duality gap: 239.10968036373743, tolerance: 78.50207887500004\n",
            "  model = cd_fast.sparse_enet_coordinate_descent(\n",
            "/usr/local/lib/python3.11/dist-packages/sklearn/linear_model/_coordinate_descent.py:656: ConvergenceWarning: Objective did not converge. You might want to increase the number of iterations. Duality gap: 234.6896861150217, tolerance: 78.50207887500004\n",
            "  model = cd_fast.sparse_enet_coordinate_descent(\n",
            "/usr/local/lib/python3.11/dist-packages/sklearn/linear_model/_coordinate_descent.py:656: ConvergenceWarning: Objective did not converge. You might want to increase the number of iterations. Duality gap: 232.94336928303346, tolerance: 78.50207887500004\n",
            "  model = cd_fast.sparse_enet_coordinate_descent(\n",
            "/usr/local/lib/python3.11/dist-packages/sklearn/linear_model/_coordinate_descent.py:656: ConvergenceWarning: Objective did not converge. You might want to increase the number of iterations. Duality gap: 231.8504168553045, tolerance: 78.50207887500004\n",
            "  model = cd_fast.sparse_enet_coordinate_descent(\n",
            "/usr/local/lib/python3.11/dist-packages/sklearn/linear_model/_coordinate_descent.py:656: ConvergenceWarning: Objective did not converge. You might want to increase the number of iterations. Duality gap: 235.9746933852457, tolerance: 78.50207887500004\n",
            "  model = cd_fast.sparse_enet_coordinate_descent(\n",
            "/usr/local/lib/python3.11/dist-packages/sklearn/linear_model/_coordinate_descent.py:656: ConvergenceWarning: Objective did not converge. You might want to increase the number of iterations. Duality gap: 239.404503238522, tolerance: 78.50207887500004\n",
            "  model = cd_fast.sparse_enet_coordinate_descent(\n",
            "/usr/local/lib/python3.11/dist-packages/sklearn/linear_model/_coordinate_descent.py:656: ConvergenceWarning: Objective did not converge. You might want to increase the number of iterations. Duality gap: 241.66093987333625, tolerance: 78.50207887500004\n",
            "  model = cd_fast.sparse_enet_coordinate_descent(\n",
            "/usr/local/lib/python3.11/dist-packages/sklearn/linear_model/_coordinate_descent.py:656: ConvergenceWarning: Objective did not converge. You might want to increase the number of iterations. Duality gap: 312.5116523922479, tolerance: 80.6955755\n",
            "  model = cd_fast.sparse_enet_coordinate_descent(\n",
            "/usr/local/lib/python3.11/dist-packages/sklearn/linear_model/_coordinate_descent.py:656: ConvergenceWarning: Objective did not converge. You might want to increase the number of iterations. Duality gap: 489.6857567321349, tolerance: 80.6955755\n",
            "  model = cd_fast.sparse_enet_coordinate_descent(\n",
            "/usr/local/lib/python3.11/dist-packages/sklearn/linear_model/_coordinate_descent.py:656: ConvergenceWarning: Objective did not converge. You might want to increase the number of iterations. Duality gap: 520.8574106412598, tolerance: 80.6955755\n",
            "  model = cd_fast.sparse_enet_coordinate_descent(\n",
            "/usr/local/lib/python3.11/dist-packages/sklearn/linear_model/_coordinate_descent.py:656: ConvergenceWarning: Objective did not converge. You might want to increase the number of iterations. Duality gap: 510.54195726953185, tolerance: 80.6955755\n",
            "  model = cd_fast.sparse_enet_coordinate_descent(\n",
            "/usr/local/lib/python3.11/dist-packages/sklearn/linear_model/_coordinate_descent.py:656: ConvergenceWarning: Objective did not converge. You might want to increase the number of iterations. Duality gap: 482.55382546457986, tolerance: 80.6955755\n",
            "  model = cd_fast.sparse_enet_coordinate_descent(\n",
            "/usr/local/lib/python3.11/dist-packages/sklearn/linear_model/_coordinate_descent.py:656: ConvergenceWarning: Objective did not converge. You might want to increase the number of iterations. Duality gap: 449.73874718613297, tolerance: 80.6955755\n",
            "  model = cd_fast.sparse_enet_coordinate_descent(\n",
            "/usr/local/lib/python3.11/dist-packages/sklearn/linear_model/_coordinate_descent.py:656: ConvergenceWarning: Objective did not converge. You might want to increase the number of iterations. Duality gap: 418.26902316868654, tolerance: 80.6955755\n",
            "  model = cd_fast.sparse_enet_coordinate_descent(\n",
            "/usr/local/lib/python3.11/dist-packages/sklearn/linear_model/_coordinate_descent.py:656: ConvergenceWarning: Objective did not converge. You might want to increase the number of iterations. Duality gap: 385.34033832888235, tolerance: 80.6955755\n",
            "  model = cd_fast.sparse_enet_coordinate_descent(\n",
            "/usr/local/lib/python3.11/dist-packages/sklearn/linear_model/_coordinate_descent.py:656: ConvergenceWarning: Objective did not converge. You might want to increase the number of iterations. Duality gap: 368.0721814185308, tolerance: 80.6955755\n",
            "  model = cd_fast.sparse_enet_coordinate_descent(\n",
            "/usr/local/lib/python3.11/dist-packages/sklearn/linear_model/_coordinate_descent.py:656: ConvergenceWarning: Objective did not converge. You might want to increase the number of iterations. Duality gap: 343.29726300554466, tolerance: 80.6955755\n",
            "  model = cd_fast.sparse_enet_coordinate_descent(\n",
            "/usr/local/lib/python3.11/dist-packages/sklearn/linear_model/_coordinate_descent.py:656: ConvergenceWarning: Objective did not converge. You might want to increase the number of iterations. Duality gap: 311.89879352433127, tolerance: 80.6955755\n",
            "  model = cd_fast.sparse_enet_coordinate_descent(\n",
            "/usr/local/lib/python3.11/dist-packages/sklearn/linear_model/_coordinate_descent.py:656: ConvergenceWarning: Objective did not converge. You might want to increase the number of iterations. Duality gap: 282.8754917977749, tolerance: 80.6955755\n",
            "  model = cd_fast.sparse_enet_coordinate_descent(\n",
            "/usr/local/lib/python3.11/dist-packages/sklearn/linear_model/_coordinate_descent.py:656: ConvergenceWarning: Objective did not converge. You might want to increase the number of iterations. Duality gap: 264.51228771994647, tolerance: 80.6955755\n",
            "  model = cd_fast.sparse_enet_coordinate_descent(\n",
            "/usr/local/lib/python3.11/dist-packages/sklearn/linear_model/_coordinate_descent.py:656: ConvergenceWarning: Objective did not converge. You might want to increase the number of iterations. Duality gap: 255.75574768585648, tolerance: 80.6955755\n",
            "  model = cd_fast.sparse_enet_coordinate_descent(\n",
            "/usr/local/lib/python3.11/dist-packages/sklearn/linear_model/_coordinate_descent.py:656: ConvergenceWarning: Objective did not converge. You might want to increase the number of iterations. Duality gap: 244.63270572118563, tolerance: 80.6955755\n",
            "  model = cd_fast.sparse_enet_coordinate_descent(\n",
            "/usr/local/lib/python3.11/dist-packages/sklearn/linear_model/_coordinate_descent.py:656: ConvergenceWarning: Objective did not converge. You might want to increase the number of iterations. Duality gap: 231.1608037527858, tolerance: 80.6955755\n",
            "  model = cd_fast.sparse_enet_coordinate_descent(\n",
            "/usr/local/lib/python3.11/dist-packages/sklearn/linear_model/_coordinate_descent.py:656: ConvergenceWarning: Objective did not converge. You might want to increase the number of iterations. Duality gap: 233.35485673923176, tolerance: 80.6955755\n",
            "  model = cd_fast.sparse_enet_coordinate_descent(\n",
            "/usr/local/lib/python3.11/dist-packages/sklearn/linear_model/_coordinate_descent.py:656: ConvergenceWarning: Objective did not converge. You might want to increase the number of iterations. Duality gap: 265.5077258857855, tolerance: 80.6955755\n",
            "  model = cd_fast.sparse_enet_coordinate_descent(\n",
            "/usr/local/lib/python3.11/dist-packages/sklearn/linear_model/_coordinate_descent.py:656: ConvergenceWarning: Objective did not converge. You might want to increase the number of iterations. Duality gap: 306.4365394612432, tolerance: 80.6955755\n",
            "  model = cd_fast.sparse_enet_coordinate_descent(\n",
            "/usr/local/lib/python3.11/dist-packages/sklearn/linear_model/_coordinate_descent.py:656: ConvergenceWarning: Objective did not converge. You might want to increase the number of iterations. Duality gap: 350.15684017529384, tolerance: 80.6955755\n",
            "  model = cd_fast.sparse_enet_coordinate_descent(\n",
            "/usr/local/lib/python3.11/dist-packages/sklearn/linear_model/_coordinate_descent.py:656: ConvergenceWarning: Objective did not converge. You might want to increase the number of iterations. Duality gap: 410.6261491583591, tolerance: 80.6955755\n",
            "  model = cd_fast.sparse_enet_coordinate_descent(\n",
            "/usr/local/lib/python3.11/dist-packages/sklearn/linear_model/_coordinate_descent.py:656: ConvergenceWarning: Objective did not converge. You might want to increase the number of iterations. Duality gap: 504.01551150148043, tolerance: 80.6955755\n",
            "  model = cd_fast.sparse_enet_coordinate_descent(\n",
            "/usr/local/lib/python3.11/dist-packages/sklearn/linear_model/_coordinate_descent.py:656: ConvergenceWarning: Objective did not converge. You might want to increase the number of iterations. Duality gap: 551.7439771585668, tolerance: 80.6955755\n",
            "  model = cd_fast.sparse_enet_coordinate_descent(\n",
            "/usr/local/lib/python3.11/dist-packages/sklearn/linear_model/_coordinate_descent.py:656: ConvergenceWarning: Objective did not converge. You might want to increase the number of iterations. Duality gap: 559.5789852522612, tolerance: 80.6955755\n",
            "  model = cd_fast.sparse_enet_coordinate_descent(\n",
            "/usr/local/lib/python3.11/dist-packages/sklearn/linear_model/_coordinate_descent.py:656: ConvergenceWarning: Objective did not converge. You might want to increase the number of iterations. Duality gap: 584.9966500560058, tolerance: 80.6955755\n",
            "  model = cd_fast.sparse_enet_coordinate_descent(\n",
            "/usr/local/lib/python3.11/dist-packages/sklearn/linear_model/_coordinate_descent.py:656: ConvergenceWarning: Objective did not converge. You might want to increase the number of iterations. Duality gap: 556.1495585320827, tolerance: 80.6955755\n",
            "  model = cd_fast.sparse_enet_coordinate_descent(\n",
            "/usr/local/lib/python3.11/dist-packages/sklearn/linear_model/_coordinate_descent.py:656: ConvergenceWarning: Objective did not converge. You might want to increase the number of iterations. Duality gap: 547.1402755866729, tolerance: 80.6955755\n",
            "  model = cd_fast.sparse_enet_coordinate_descent(\n",
            "/usr/local/lib/python3.11/dist-packages/sklearn/linear_model/_coordinate_descent.py:656: ConvergenceWarning: Objective did not converge. You might want to increase the number of iterations. Duality gap: 519.9211784360941, tolerance: 80.6955755\n",
            "  model = cd_fast.sparse_enet_coordinate_descent(\n",
            "/usr/local/lib/python3.11/dist-packages/sklearn/linear_model/_coordinate_descent.py:656: ConvergenceWarning: Objective did not converge. You might want to increase the number of iterations. Duality gap: 482.84678266015544, tolerance: 80.6955755\n",
            "  model = cd_fast.sparse_enet_coordinate_descent(\n",
            "/usr/local/lib/python3.11/dist-packages/sklearn/linear_model/_coordinate_descent.py:656: ConvergenceWarning: Objective did not converge. You might want to increase the number of iterations. Duality gap: 468.01223499732805, tolerance: 80.6955755\n",
            "  model = cd_fast.sparse_enet_coordinate_descent(\n",
            "/usr/local/lib/python3.11/dist-packages/sklearn/linear_model/_coordinate_descent.py:656: ConvergenceWarning: Objective did not converge. You might want to increase the number of iterations. Duality gap: 463.8082334128958, tolerance: 80.6955755\n",
            "  model = cd_fast.sparse_enet_coordinate_descent(\n",
            "/usr/local/lib/python3.11/dist-packages/sklearn/linear_model/_coordinate_descent.py:656: ConvergenceWarning: Objective did not converge. You might want to increase the number of iterations. Duality gap: 441.04270337503476, tolerance: 80.6955755\n",
            "  model = cd_fast.sparse_enet_coordinate_descent(\n",
            "/usr/local/lib/python3.11/dist-packages/sklearn/linear_model/_coordinate_descent.py:656: ConvergenceWarning: Objective did not converge. You might want to increase the number of iterations. Duality gap: 415.8521412546379, tolerance: 80.6955755\n",
            "  model = cd_fast.sparse_enet_coordinate_descent(\n",
            "/usr/local/lib/python3.11/dist-packages/sklearn/linear_model/_coordinate_descent.py:656: ConvergenceWarning: Objective did not converge. You might want to increase the number of iterations. Duality gap: 388.25054771544455, tolerance: 80.6955755\n",
            "  model = cd_fast.sparse_enet_coordinate_descent(\n",
            "/usr/local/lib/python3.11/dist-packages/sklearn/linear_model/_coordinate_descent.py:656: ConvergenceWarning: Objective did not converge. You might want to increase the number of iterations. Duality gap: 356.54785147448456, tolerance: 80.6955755\n",
            "  model = cd_fast.sparse_enet_coordinate_descent(\n",
            "/usr/local/lib/python3.11/dist-packages/sklearn/linear_model/_coordinate_descent.py:656: ConvergenceWarning: Objective did not converge. You might want to increase the number of iterations. Duality gap: 333.9500921944473, tolerance: 80.6955755\n",
            "  model = cd_fast.sparse_enet_coordinate_descent(\n",
            "/usr/local/lib/python3.11/dist-packages/sklearn/linear_model/_coordinate_descent.py:656: ConvergenceWarning: Objective did not converge. You might want to increase the number of iterations. Duality gap: 321.4892838814576, tolerance: 80.6955755\n",
            "  model = cd_fast.sparse_enet_coordinate_descent(\n",
            "/usr/local/lib/python3.11/dist-packages/sklearn/linear_model/_coordinate_descent.py:656: ConvergenceWarning: Objective did not converge. You might want to increase the number of iterations. Duality gap: 308.84405808826705, tolerance: 80.6955755\n",
            "  model = cd_fast.sparse_enet_coordinate_descent(\n",
            "/usr/local/lib/python3.11/dist-packages/sklearn/linear_model/_coordinate_descent.py:656: ConvergenceWarning: Objective did not converge. You might want to increase the number of iterations. Duality gap: 288.64446752493495, tolerance: 80.6955755\n",
            "  model = cd_fast.sparse_enet_coordinate_descent(\n",
            "/usr/local/lib/python3.11/dist-packages/sklearn/linear_model/_coordinate_descent.py:656: ConvergenceWarning: Objective did not converge. You might want to increase the number of iterations. Duality gap: 277.3654671295244, tolerance: 80.6955755\n",
            "  model = cd_fast.sparse_enet_coordinate_descent(\n",
            "/usr/local/lib/python3.11/dist-packages/sklearn/linear_model/_coordinate_descent.py:656: ConvergenceWarning: Objective did not converge. You might want to increase the number of iterations. Duality gap: 269.28351088402997, tolerance: 80.6955755\n",
            "  model = cd_fast.sparse_enet_coordinate_descent(\n",
            "/usr/local/lib/python3.11/dist-packages/sklearn/linear_model/_coordinate_descent.py:656: ConvergenceWarning: Objective did not converge. You might want to increase the number of iterations. Duality gap: 261.4582652318204, tolerance: 80.6955755\n",
            "  model = cd_fast.sparse_enet_coordinate_descent(\n",
            "/usr/local/lib/python3.11/dist-packages/sklearn/linear_model/_coordinate_descent.py:656: ConvergenceWarning: Objective did not converge. You might want to increase the number of iterations. Duality gap: 256.26890554269085, tolerance: 80.6955755\n",
            "  model = cd_fast.sparse_enet_coordinate_descent(\n",
            "/usr/local/lib/python3.11/dist-packages/sklearn/linear_model/_coordinate_descent.py:656: ConvergenceWarning: Objective did not converge. You might want to increase the number of iterations. Duality gap: 250.3159513691553, tolerance: 80.6955755\n",
            "  model = cd_fast.sparse_enet_coordinate_descent(\n",
            "/usr/local/lib/python3.11/dist-packages/sklearn/linear_model/_coordinate_descent.py:656: ConvergenceWarning: Objective did not converge. You might want to increase the number of iterations. Duality gap: 243.9316529264015, tolerance: 80.6955755\n",
            "  model = cd_fast.sparse_enet_coordinate_descent(\n",
            "/usr/local/lib/python3.11/dist-packages/sklearn/linear_model/_coordinate_descent.py:656: ConvergenceWarning: Objective did not converge. You might want to increase the number of iterations. Duality gap: 238.2256770775948, tolerance: 80.6955755\n",
            "  model = cd_fast.sparse_enet_coordinate_descent(\n",
            "/usr/local/lib/python3.11/dist-packages/sklearn/linear_model/_coordinate_descent.py:656: ConvergenceWarning: Objective did not converge. You might want to increase the number of iterations. Duality gap: 234.2461661928719, tolerance: 80.6955755\n",
            "  model = cd_fast.sparse_enet_coordinate_descent(\n",
            "/usr/local/lib/python3.11/dist-packages/sklearn/linear_model/_coordinate_descent.py:656: ConvergenceWarning: Objective did not converge. You might want to increase the number of iterations. Duality gap: 232.4174158204696, tolerance: 80.6955755\n",
            "  model = cd_fast.sparse_enet_coordinate_descent(\n",
            "/usr/local/lib/python3.11/dist-packages/sklearn/linear_model/_coordinate_descent.py:656: ConvergenceWarning: Objective did not converge. You might want to increase the number of iterations. Duality gap: 230.06396218135887, tolerance: 80.6955755\n",
            "  model = cd_fast.sparse_enet_coordinate_descent(\n",
            "/usr/local/lib/python3.11/dist-packages/sklearn/linear_model/_coordinate_descent.py:656: ConvergenceWarning: Objective did not converge. You might want to increase the number of iterations. Duality gap: 227.65038597863895, tolerance: 80.6955755\n",
            "  model = cd_fast.sparse_enet_coordinate_descent(\n",
            "/usr/local/lib/python3.11/dist-packages/sklearn/linear_model/_coordinate_descent.py:656: ConvergenceWarning: Objective did not converge. You might want to increase the number of iterations. Duality gap: 225.41713385447474, tolerance: 80.6955755\n",
            "  model = cd_fast.sparse_enet_coordinate_descent(\n",
            "/usr/local/lib/python3.11/dist-packages/sklearn/linear_model/_coordinate_descent.py:656: ConvergenceWarning: Objective did not converge. You might want to increase the number of iterations. Duality gap: 9371.270402285401, tolerance: 94.71334790000002\n",
            "  model = cd_fast.sparse_enet_coordinate_descent(\n"
          ]
        },
        {
          "output_type": "execute_result",
          "data": {
            "text/plain": [
              "(25.45804622273538,\n",
              " 0.9731209520229246,\n",
              " 513.5581124134144,\n",
              " 0.5763480652853451,\n",
              " 17.00333967656275,\n",
              " 0.9820475782415429,\n",
              " 1003.0365318660366,\n",
              " 0.17256030614029427)"
            ]
          },
          "metadata": {},
          "execution_count": 116
        }
      ],
      "source": [
        "from sklearn.linear_model import LassoCV, RidgeCV\n",
        "from sklearn.model_selection import KFold\n",
        "\n",
        "# Создаем объекты для кросс-валидации с 5 фолдами\n",
        "kf = KFold(n_splits=5)\n",
        "\n",
        "# Задаем сетку значений параметра регуляризации\n",
        "alpha_grid = np.logspace(-4, 2, 100)\n",
        "\n",
        "# Обучаем линейную регрессию с L1-регуляризацией (Lasso)\n",
        "lasso_cv = LassoCV(alphas=alpha_grid, cv=kf)\n",
        "lasso_cv.fit(X_train[:1000], y_train[:1000])\n",
        "\n",
        "# Обучаем линейную регрессию с L2-регуляризацией (Ridge)\n",
        "ridge_cv = RidgeCV(alphas=alpha_grid, cv=kf)\n",
        "ridge_cv.fit(X_train[:1000], y_train[:1000])\n",
        "\n",
        "# Предсказания на обучающей и контрольной выборках для Lasso\n",
        "y_train_pred_lasso = lasso_cv.predict(X_train[:1000])\n",
        "y_test_pred_lasso = lasso_cv.predict(X_test)\n",
        "\n",
        "# Предсказания на обучающей и контрольной выборках для Ridge\n",
        "y_train_pred_ridge = ridge_cv.predict(X_train[:1000])\n",
        "y_test_pred_ridge = ridge_cv.predict(X_test)\n",
        "\n",
        "# Вычисляем MSE и R2 на обучающей и контрольной выборках для Lasso\n",
        "mse_train_lasso = mean_squared_error(y_train[:1000], y_train_pred_lasso)\n",
        "r2_train_lasso = r2_score(y_train[:1000], y_train_pred_lasso)\n",
        "\n",
        "mse_test_lasso = mean_squared_error(y_test, y_test_pred_lasso)\n",
        "r2_test_lasso = r2_score(y_test, y_test_pred_lasso)\n",
        "\n",
        "# Вычисляем MSE и R2 на обучающей и контрольной выборках для Ridge\n",
        "mse_train_ridge = mean_squared_error(y_train[:1000], y_train_pred_ridge)\n",
        "r2_train_ridge = r2_score(y_train[:1000], y_train_pred_ridge)\n",
        "\n",
        "mse_test_ridge = mean_squared_error(y_test, y_test_pred_ridge)\n",
        "r2_test_ridge = r2_score(y_test, y_test_pred_ridge)\n",
        "\n",
        "mse_train_lasso, r2_train_lasso, mse_test_lasso, r2_test_lasso, mse_train_ridge, r2_train_ridge, mse_test_ridge, r2_test_ridge"
      ]
    },
    {
      "cell_type": "markdown",
      "metadata": {
        "id": "SbOavom3oc5f"
      },
      "source": [
        "### Градиентный спуск\n",
        "\n",
        "В предыдущем разделе мы использовали существующие реализации методов обучения линейной регрессии с регуляризацией и без. Тем не менее, подобные реализации, как правило, имеются лишь для ограниченного набора стандартных методов. В частности, при выходе функционала качества за пределы стандартного множества необходимо самостоятельно реализовывать составляющие процесса решения оптимизационной задачи. Именно этому и посвящен данный раздел задания.\n",
        "\n",
        "Пусть необходимо минимизировать следующий функционал (Mean Square Percentage Error — модифицированный [RMSPE](https://www.kaggle.com/c/rossmann-store-sales/details/evaluation)):\n",
        "$$MSPE(\\{x_i, y_i\\}_{i=1}^l, \\, w) = \\frac{1}{l}\\sum_{i=1}^l \\left( \\frac{y_i - \\langle w, x_i \\rangle }{y_i} \\right)^2,$$\n",
        "\n",
        "где $\\{x_i, y_i\\}_{i=1}^l$ — обучающая выборка, $w$ — вектор весов линейной модели. Будем также рассматривать функционал $MSPE$ с L2-регуляризацией:\n",
        "\n",
        "$$MSPE(\\{x_i, y_i\\}_{i=1}^l, \\, w) = \\frac{1}{l}\\sum_{i=1}^l \\left( \\frac{y_i - \\langle w, x_i \\rangle }{y_i} \\right)^2 + ||w||_2^2.$$\n",
        "\n",
        "**19. (0 баллов)** Добавьте к объектам обеих выборок из п. 16 единичный признак."
      ]
    },
    {
      "cell_type": "code",
      "execution_count": 125,
      "metadata": {
        "collapsed": true,
        "id": "SH3xCKD1oc5f",
        "outputId": "99a9f90b-6cff-471d-abd1-c351d3c94edc",
        "colab": {
          "base_uri": "https://localhost:8080/",
          "height": 341
        }
      },
      "outputs": [
        {
          "output_type": "error",
          "ename": "ValueError",
          "evalue": "all the input arrays must have same number of dimensions, but the array at index 0 has 2 dimension(s) and the array at index 1 has 1 dimension(s)",
          "traceback": [
            "\u001b[0;31m---------------------------------------------------------------------------\u001b[0m",
            "\u001b[0;31mValueError\u001b[0m                                Traceback (most recent call last)",
            "\u001b[0;32m<ipython-input-125-1c5b09c21d6f>\u001b[0m in \u001b[0;36m<cell line: 0>\u001b[0;34m()\u001b[0m\n\u001b[1;32m      1\u001b[0m \u001b[0;32mimport\u001b[0m \u001b[0mnumpy\u001b[0m \u001b[0;32mas\u001b[0m \u001b[0mnp\u001b[0m\u001b[0;34m\u001b[0m\u001b[0;34m\u001b[0m\u001b[0m\n\u001b[1;32m      2\u001b[0m \u001b[0;31m# Добавляем единичный признак к обучающей выборке\u001b[0m\u001b[0;34m\u001b[0m\u001b[0;34m\u001b[0m\u001b[0m\n\u001b[0;32m----> 3\u001b[0;31m \u001b[0mX_train_with_ones\u001b[0m \u001b[0;34m=\u001b[0m \u001b[0mnp\u001b[0m\u001b[0;34m.\u001b[0m\u001b[0mhstack\u001b[0m\u001b[0;34m(\u001b[0m\u001b[0;34m(\u001b[0m\u001b[0mnp\u001b[0m\u001b[0;34m.\u001b[0m\u001b[0mones\u001b[0m\u001b[0;34m(\u001b[0m\u001b[0;34m(\u001b[0m\u001b[0mX_train\u001b[0m\u001b[0;34m.\u001b[0m\u001b[0mshape\u001b[0m\u001b[0;34m[\u001b[0m\u001b[0;36m0\u001b[0m\u001b[0;34m]\u001b[0m\u001b[0;34m,\u001b[0m \u001b[0;36m1\u001b[0m\u001b[0;34m)\u001b[0m\u001b[0;34m)\u001b[0m\u001b[0;34m,\u001b[0m \u001b[0mX_train\u001b[0m\u001b[0;34m)\u001b[0m\u001b[0;34m)\u001b[0m\u001b[0;34m\u001b[0m\u001b[0;34m\u001b[0m\u001b[0m\n\u001b[0m\u001b[1;32m      4\u001b[0m \u001b[0;34m\u001b[0m\u001b[0m\n\u001b[1;32m      5\u001b[0m \u001b[0;31m# Добавляем единичный признак к тестовой выборке\u001b[0m\u001b[0;34m\u001b[0m\u001b[0;34m\u001b[0m\u001b[0m\n",
            "\u001b[0;32m/usr/local/lib/python3.11/dist-packages/numpy/core/shape_base.py\u001b[0m in \u001b[0;36mhstack\u001b[0;34m(tup, dtype, casting)\u001b[0m\n\u001b[1;32m    357\u001b[0m         \u001b[0;32mreturn\u001b[0m \u001b[0m_nx\u001b[0m\u001b[0;34m.\u001b[0m\u001b[0mconcatenate\u001b[0m\u001b[0;34m(\u001b[0m\u001b[0marrs\u001b[0m\u001b[0;34m,\u001b[0m \u001b[0;36m0\u001b[0m\u001b[0;34m,\u001b[0m \u001b[0mdtype\u001b[0m\u001b[0;34m=\u001b[0m\u001b[0mdtype\u001b[0m\u001b[0;34m,\u001b[0m \u001b[0mcasting\u001b[0m\u001b[0;34m=\u001b[0m\u001b[0mcasting\u001b[0m\u001b[0;34m)\u001b[0m\u001b[0;34m\u001b[0m\u001b[0;34m\u001b[0m\u001b[0m\n\u001b[1;32m    358\u001b[0m     \u001b[0;32melse\u001b[0m\u001b[0;34m:\u001b[0m\u001b[0;34m\u001b[0m\u001b[0;34m\u001b[0m\u001b[0m\n\u001b[0;32m--> 359\u001b[0;31m         \u001b[0;32mreturn\u001b[0m \u001b[0m_nx\u001b[0m\u001b[0;34m.\u001b[0m\u001b[0mconcatenate\u001b[0m\u001b[0;34m(\u001b[0m\u001b[0marrs\u001b[0m\u001b[0;34m,\u001b[0m \u001b[0;36m1\u001b[0m\u001b[0;34m,\u001b[0m \u001b[0mdtype\u001b[0m\u001b[0;34m=\u001b[0m\u001b[0mdtype\u001b[0m\u001b[0;34m,\u001b[0m \u001b[0mcasting\u001b[0m\u001b[0;34m=\u001b[0m\u001b[0mcasting\u001b[0m\u001b[0;34m)\u001b[0m\u001b[0;34m\u001b[0m\u001b[0;34m\u001b[0m\u001b[0m\n\u001b[0m\u001b[1;32m    360\u001b[0m \u001b[0;34m\u001b[0m\u001b[0m\n\u001b[1;32m    361\u001b[0m \u001b[0;34m\u001b[0m\u001b[0m\n",
            "\u001b[0;31mValueError\u001b[0m: all the input arrays must have same number of dimensions, but the array at index 0 has 2 dimension(s) and the array at index 1 has 1 dimension(s)"
          ]
        }
      ],
      "source": [
        "import numpy as np\n",
        "# Добавляем единичный признак к обучающей выборке\n",
        "X_train_with_ones = np.hstack((np.ones((X_train.shape[0], 1)), X_train))\n",
        "\n",
        "# Добавляем единичный признак к тестовой выборке\n",
        "X_test_with_ones = np.hstack((np.ones((X_test.shape[0], 1)), X_test))"
      ]
    },
    {
      "cell_type": "markdown",
      "metadata": {
        "id": "GFpaCuFHoc5f"
      },
      "source": [
        "**20. (1 балл)** Реализуйте функции, которые вычисляют:\n",
        " * прогнозы линейной модели;\n",
        " * функционал $MSPE$ и его градиент;\n",
        " * регуляризованный $MSPE$ и его градиент."
      ]
    },
    {
      "cell_type": "code",
      "execution_count": null,
      "metadata": {
        "collapsed": true,
        "id": "lBuAEoAeoc5g"
      },
      "outputs": [],
      "source": [
        "# возвращает вектор прогнозов линейной модели с вектором весов w для выборки X\n",
        "def make_pred(X, w):\n",
        "    pass"
      ]
    },
    {
      "cell_type": "code",
      "execution_count": null,
      "metadata": {
        "collapsed": true,
        "id": "nA_sbVFsoc5g"
      },
      "outputs": [],
      "source": [
        "# возвращает значение функционала MSPE для выборки (X, y) и вектора весов w\n",
        "def get_func(w, X, y):\n",
        "    pass"
      ]
    },
    {
      "cell_type": "code",
      "execution_count": null,
      "metadata": {
        "collapsed": true,
        "id": "tECGJB93oc5g"
      },
      "outputs": [],
      "source": [
        "# возвращает градиент функционала MSPE для выборки (X, y) и вектора весов w\n",
        "def get_grad(w, X, y):\n",
        "    pass"
      ]
    },
    {
      "cell_type": "code",
      "execution_count": null,
      "metadata": {
        "collapsed": true,
        "id": "xoQUxA0qoc5g"
      },
      "outputs": [],
      "source": [
        "# возвращает значение регуляризованного функционала MSPE для выборки (X, y) и вектора весов w\n",
        "def get_reg_func(w, X, y):\n",
        "    pass"
      ]
    },
    {
      "cell_type": "code",
      "execution_count": null,
      "metadata": {
        "collapsed": true,
        "id": "YzsiWthAoc5g"
      },
      "outputs": [],
      "source": [
        "# возвращает градиент регуляризованного функционала MSPE для выборки (X, y) и вектора весов w\n",
        "def get_reg_grad(w, X, y):\n",
        "    pass"
      ]
    },
    {
      "cell_type": "markdown",
      "metadata": {
        "id": "S2NKBAmJoc5h"
      },
      "source": [
        "**21. (1 балл)** Реализуйте метод градиентного спуска для описанных функционалов ($MSPE$ и его регуляризованный вариант). Функция должна принимать следующие параметры:\n",
        " - X — матрица \"объект-признак\";\n",
        " - y — вектор целевой переменной;\n",
        " - w0 — начальное значение вектора весов;\n",
        " - step_size — значение темпа обучения;\n",
        " - max_iter — максимальное число итераций;\n",
        " - eps — значение, используемое в критерии останова;\n",
        " - is_reg — бинарный параметр, принимает значение True в случае наличия регуляризации функционала, False — в противном случае.\n",
        "\n",
        "Процесс должен быть остановлен, если выполнено хотя бы одно из следующих условий:\n",
        " - было выполнено заданное количество итераций max_iter;\n",
        " - евклидова норма разности векторов $w$ на соседних итерациях стала меньше, чем eps.\n",
        "\n",
        "Функция должна возвращать полученный в результате оптимизации вектор $w$ и список значений функционала на каждой итерации."
      ]
    },
    {
      "cell_type": "code",
      "execution_count": null,
      "metadata": {
        "collapsed": true,
        "id": "pCZFws74oc5h"
      },
      "outputs": [],
      "source": [
        "def grad_descent(X, y, step_size, max_iter, eps, is_reg):\n",
        "    # Your code here"
      ]
    },
    {
      "cell_type": "markdown",
      "metadata": {
        "id": "uvF5rTEOoc5h"
      },
      "source": [
        "Обучите линейную регрессию с функционалом $MSPE$ на обучающей выборке при помощи метода градиентного спуска и изобразите кривые зависимости значения функционала от номера итерации для различных:\n",
        " * значений размера шага из набора [0.001, 1, 10];\n",
        " * способов начальной инициализации вектора весов (нули, случайные веса).\n",
        "\n",
        "Проанализируйте полученные результаты — влияют ли данные параметры на скорость сходимости и итоговое качество? Если да, то как?"
      ]
    },
    {
      "cell_type": "code",
      "execution_count": null,
      "metadata": {
        "collapsed": true,
        "id": "CieAKylpoc5h"
      },
      "outputs": [],
      "source": [
        "# Your code here"
      ]
    },
    {
      "cell_type": "markdown",
      "metadata": {
        "id": "DNcXYhlhoc5i"
      },
      "source": [
        "**22. (0.5 балла)** Обучите линейную регрессию с функционалом MSPE и его регуляризованным вариантом на обучающей выборке при помощи метода градиентного спуска и изобразите кривые зависимости значения функционала от номера итерации. Исследуйте зависимость скорости сходимости от наличия регуляризации. Обоснуйте, почему так происходит."
      ]
    },
    {
      "cell_type": "code",
      "execution_count": null,
      "metadata": {
        "collapsed": true,
        "id": "_u2IB76ioc5i"
      },
      "outputs": [],
      "source": [
        "# Your code here"
      ]
    },
    {
      "cell_type": "markdown",
      "metadata": {
        "id": "pDcBXfu-oc5i"
      },
      "source": [
        "Метод градиентного спуска может быть весьма трудозатратен в случае большого размера обучающей выборки. Поэтому часто используют метод стохастического градиентного спуска, где на каждой итерации выбирается случайный объект из обучающей выборки и обновление весов происходит только по этому объекту.\n",
        "\n",
        "**23. (1 доп. балл)**  Реализуйте метод стохастического градиентного спуска (SGD) для описанных функционалов ($MSPE$ и его регуляризованный вариант). Функция должна иметь параметры и возвращаемое значение, аналогичные оным функции grad\\_descent из п.21. Кроме того, должен использоваться аналогичный критерий останова."
      ]
    },
    {
      "cell_type": "code",
      "execution_count": null,
      "metadata": {
        "collapsed": true,
        "id": "XwzZyO1noc5i"
      },
      "outputs": [],
      "source": [
        "def sgd(X, y, step_size, max_iter, eps, is_reg):\n",
        "    # Your code here"
      ]
    },
    {
      "cell_type": "markdown",
      "metadata": {
        "id": "co_aG13ooc5i"
      },
      "source": [
        "Обучите линейную регрессию с функционалом $MSPE$ и его регуляризованным вариантом на обучающей выборке при помощи метода стохастического градиентного спуска, подобрав при этом размер шага, при котором метод будет сходиться. Нарисуйте график сходимости. Выведите значения $MSPE, MSE, R^2$ на контрольной выборке."
      ]
    },
    {
      "cell_type": "code",
      "execution_count": null,
      "metadata": {
        "collapsed": true,
        "id": "qzY_igxzoc5j"
      },
      "outputs": [],
      "source": [
        "# Your code here"
      ]
    },
    {
      "cell_type": "markdown",
      "metadata": {
        "id": "Iwb3EamToc5j"
      },
      "source": [
        "**24. (0.5 доп. балла)** Аналогично п.22 исследуйте зависимость скорости сходимости метода SGD от наличия регуляризации. Обоснуйте, почему так происходит."
      ]
    },
    {
      "cell_type": "code",
      "execution_count": null,
      "metadata": {
        "collapsed": true,
        "id": "Ce0LlYggoc5j"
      },
      "outputs": [],
      "source": [
        "# Your code here"
      ]
    },
    {
      "cell_type": "markdown",
      "metadata": {
        "id": "uVDOM4fnoc5j"
      },
      "source": [
        "**25. (0.5 балла)** Обучите стандартную линейную регрессию с функционалом качества MSE на обучающей выборке и выведите значение MSPE полученного решения на контрольной выборке. Как оно соотносится с аналогичным результатом для решения, полученного в п.22? Почему?"
      ]
    },
    {
      "cell_type": "code",
      "execution_count": null,
      "metadata": {
        "collapsed": true,
        "id": "RbyLyPd0oc5j"
      },
      "outputs": [],
      "source": [
        "# Your code here"
      ]
    }
  ],
  "metadata": {
    "kernelspec": {
      "display_name": "Python 2",
      "language": "python",
      "name": "python2"
    },
    "language_info": {
      "codemirror_mode": {
        "name": "ipython",
        "version": 2
      },
      "file_extension": ".py",
      "mimetype": "text/x-python",
      "name": "python",
      "nbconvert_exporter": "python",
      "pygments_lexer": "ipython2",
      "version": "2.7.11"
    },
    "colab": {
      "provenance": [],
      "include_colab_link": true
    }
  },
  "nbformat": 4,
  "nbformat_minor": 0
}