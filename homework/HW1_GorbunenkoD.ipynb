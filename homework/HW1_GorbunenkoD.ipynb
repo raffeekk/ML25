{
 "cells": [
  {
   "cell_type": "markdown",
   "metadata": {
    "id": "lxWlD92Xoc5N"
   },
   "source": [
    "# Машинное обучение, ФКН ВШЭ\n",
    "\n",
    "# Практическое задание 1\n",
    "\n",
    "## Общая информация\n",
    "\n",
    "Дата выдачи: 16.09.2016\n",
    "\n",
    "Срок сдачи: 30.09.2016 23:59MSK\n",
    "\n",
    "### О задании\n",
    "\n",
    "Практическое задание 1 посвящено изучению основных библиотек для анализа данных, а также линейных моделей и методов их обучения. Вы научитесь:\n",
    " * применять библиотеки NumPy и Pandas для осуществления желаемых преобразований;\n",
    " * подготавливать данные для обучения линейных моделей;\n",
    " * обучать линейную, Lasso и Ridge-регрессии при помощи модуля scikit-learn;\n",
    " * реализовывать обычный и стохастический градиентные спуски;\n",
    " * обучать линейную регрессию для произвольного функционала качества.\n",
    "\n",
    "\n",
    "### Оценивание и штрафы\n",
    "\n",
    "Каждая из задач имеет определенную «стоимость» (указана в скобках около задачи). Максимально допустимая оценка за работу — 10 баллов. Кроме того, некоторые из заданий являются опциональными (необязательными), однако за их выполнение можно получить дополнительные баллы, которые позднее будут учитываться при проставлении оценок автоматом по курсу.\n",
    "\n",
    "Сдавать задание после указанного срока сдачи нельзя. При выставлении неполного балла за задание в связи с наличием ошибок на усмотрение проверяющего предусмотрена возможность исправить работу на указанных в ответном письме условиях.\n",
    "\n",
    "Задание выполняется самостоятельно. «Похожие» решения считаются плагиатом и все задействованные студенты (в том числе те, у кого списали) не могут получить за него больше 0 баллов (подробнее о плагиате см. на странице курса). Если вы нашли решение какого-то из заданий (или его часть) в открытом источнике, необходимо указать ссылку на этот источник в отдельном блоке в конце Вашей работы (скорее всего вы будете не единственным, кто это нашел, поэтому чтобы исключить подозрение в плагиате, необходима ссылка на источник).\n",
    "\n",
    "Неэффективная реализация кода может негативно отразиться на оценке.\n",
    "\n",
    "\n",
    "### Формат сдачи\n",
    "Для сдачи задания переименуйте получившийся файл \\*.ipynb в соответствии со следующим форматом: *HW1_Username.ipynb*, где *Username* — Ваша фамилия и инициалы на латинице (например, *HW1_IvanovII.ipynb*). Далее отправьте этот файл на hse.cs.ml+<номер группы>@gmail.com (например, hse.cs.ml+141@gmail.com для студентов группы БПМИ-141)."
   ]
  },
  {
   "cell_type": "markdown",
   "metadata": {
    "id": "-AKBbVjLoc5Q"
   },
   "source": [
    "## Библиотеки для анализа данных\n",
    "\n",
    "### NumPy\n",
    "\n",
    "Во всех заданиях данного раздела запрещено использовать циклы  и list comprehensions. Под вектором и матрицей в данных заданиях понимается одномерный и двумерный numpy.array соответственно."
   ]
  },
  {
   "cell_type": "code",
   "execution_count": 1,
   "metadata": {
    "id": "XkBWnzRKoc5R"
   },
   "outputs": [],
   "source": [
    "import numpy as np"
   ]
  },
  {
   "cell_type": "markdown",
   "metadata": {
    "id": "LmMhJ4Tsoc5S"
   },
   "source": [
    "**1. (0.2 балла)** Реализуйте функцию, возвращающую максимальный элемент в векторе x среди элементов, перед которыми стоит нулевой. Для x = np.array([6, 2, 0, 3, 0, 0, 5, 7, 0]) ответом является 5. Если нулевых элементов нет, функция должна возвращать None.\n"
   ]
  },
  {
   "cell_type": "code",
   "execution_count": 2,
   "metadata": {
    "colab": {
     "base_uri": "https://localhost:8080/"
    },
    "id": "EueggP2qoc5S",
    "outputId": "514bdf11-45b7-4756-c2b0-4e7275572781"
   },
   "outputs": [
    {
     "name": "stdout",
     "output_type": "stream",
     "text": [
      "максимальный элемент в векторе x среди элементов, перед которыми стоит нулевой: 5\n"
     ]
    }
   ],
   "source": [
    "def max_element(arr):\n",
    "    #проверка на нули в массиве\n",
    "    if 0 not in arr:\n",
    "        return None\n",
    "\n",
    "    #поиск индексов нулей\n",
    "    zero_indices = np.where(arr == 0)[0]\n",
    "\n",
    "    #поиск индексов элементов после нулей\n",
    "    next_indices = zero_indices + 1\n",
    "\n",
    "    #фильтр индексов по длине массива\n",
    "    valid_indices = next_indices[next_indices < len(arr)]\n",
    "\n",
    "    #если нет нулей\n",
    "    if len(valid_indices) == 0:\n",
    "        return None\n",
    "\n",
    "    #максимальнон среди нпйденных\n",
    "    return np.max(arr[valid_indices])\n",
    "\n",
    "#вывод\n",
    "x = np.array([6, 2, 0, 3, 0, 0, 5, 7, 0])\n",
    "print(\"максимальный элемент в векторе x среди элементов, перед которыми стоит нулевой:\", max_element(x))"
   ]
  },
  {
   "cell_type": "markdown",
   "metadata": {
    "id": "ev6af8LYoc5T"
   },
   "source": [
    "**2. (0.2 балла)** Реализуйте функцию, принимающую на вход матрицу и некоторое число и возвращающую ближайший к числу элемент матрицы. Например: для X = np.arange(0,10).reshape((2, 5)) и v = 3.6 ответом будет 4."
   ]
  },
  {
   "cell_type": "code",
   "execution_count": 3,
   "metadata": {
    "colab": {
     "base_uri": "https://localhost:8080/"
    },
    "id": "xl21KAqLoc5T",
    "outputId": "9e0023e3-3e85-4cd5-d085-da84c61a3491"
   },
   "outputs": [
    {
     "name": "stdout",
     "output_type": "stream",
     "text": [
      "ближайший к числу 3.6 элемент в матрице:\n",
      " [[0 1 2 3 4]\n",
      " [5 6 7 8 9]]\n",
      "4\n"
     ]
    }
   ],
   "source": [
    "def nearest_value(X, v):\n",
    "    #абсолютная разница между элементом матрицы и v\n",
    "    diff = np.abs(X - v)\n",
    "\n",
    "    #индекс наименьшей разницы\n",
    "    min_index = np.unravel_index(np.argmin(diff), X.shape)\n",
    "\n",
    "    #возврат соответствующего элемента\n",
    "    return X[min_index]\n",
    "\n",
    "#вывод\n",
    "X = np.arange(0, 10).reshape((2, 5))\n",
    "v = 3.6\n",
    "print(\"ближайший к числу\", v, \"элемент в матрице:\\n\", X)\n",
    "print(nearest_value(X, v))  # Output: 4"
   ]
  },
  {
   "cell_type": "markdown",
   "metadata": {
    "id": "ZKi3omGcoc5U"
   },
   "source": [
    "**3. (0.2 балла)** Реализуйте функцию scale(X), которая принимает на вход матрицу и масштабирует каждый ее столбец (вычитает выборочное среднее и делит на стандартное отклонение). Убедитесь, что в функции не будет происходить деления на ноль. Протестируйте на случайной матрице (для её генерации можно использовать, например, функцию [numpy.random.randint](http://docs.scipy.org/doc/numpy/reference/generated/numpy.random.randint.html))."
   ]
  },
  {
   "cell_type": "code",
   "execution_count": 4,
   "metadata": {
    "colab": {
     "base_uri": "https://localhost:8080/"
    },
    "id": "4Oqo_C6_oc5U",
    "outputId": "7a945b36-2bc5-4b4d-942b-18f475ae064d"
   },
   "outputs": [
    {
     "name": "stdout",
     "output_type": "stream",
     "text": [
      "исходная матрица:\n",
      " [[4 6 5 9]\n",
      " [1 5 2 5]\n",
      " [7 4 7 1]\n",
      " [6 1 1 4]\n",
      " [8 8 6 1]]\n",
      "масштабированная матрица:\n",
      " [[-0.48349378  0.51832106  0.34554737  1.68549966]\n",
      " [-1.69222822  0.08638684 -0.95025527  0.33709993]\n",
      " [ 0.72524067 -0.34554737  1.2094158  -1.01129979]\n",
      " [ 0.32232919 -1.64135001 -1.38218948  0.        ]\n",
      " [ 1.12815215  1.38218948  0.77748158 -1.01129979]]\n"
     ]
    }
   ],
   "source": [
    "def scale(X):\n",
    "    #среднее значение каждого столбца\n",
    "    mean = X.mean(axis=0)\n",
    "\n",
    "    #стандартное отклонение каждого столбца\n",
    "    std = X.std(axis=0)\n",
    "\n",
    "    #заменяем стандартные отклонения равные 0 на 1, чтобы не делить на ноль\n",
    "    std[std == 0] = 1\n",
    "\n",
    "    #масштабируем каждый столбец\n",
    "    return (X - mean) / std\n",
    "\n",
    "#вывод\n",
    "X = np.random.randint(0, 10, (5, 4))\n",
    "print(\"исходная матрица:\\n\", X)\n",
    "print(\"масштабированная матрица:\\n\", scale(X))"
   ]
  },
  {
   "cell_type": "markdown",
   "metadata": {
    "id": "9juJ9eKqoc5V"
   },
   "source": [
    "**4. (0.2 балла)** Реализуйте функцию, которая для заданной матрицы находит:\n",
    " - определитель\n",
    " - след\n",
    " - наименьший и наибольший элементы\n",
    " - норму Фробениуса\n",
    " - собственные числа\n",
    " - обратную матрицу\n",
    "\n",
    "Для тестирования сгенерируйте матрицу с элементами из нормального распределения $\\mathcal{N}$(10,1)"
   ]
  },
  {
   "cell_type": "code",
   "execution_count": 5,
   "metadata": {
    "colab": {
     "base_uri": "https://localhost:8080/"
    },
    "id": "KxtCDvqvoc5W",
    "outputId": "9748c35c-93dd-4ffa-97db-49f69ab95cb4"
   },
   "outputs": [
    {
     "name": "stdout",
     "output_type": "stream",
     "text": [
      "матрица:\n",
      " [[ 9.99655396  9.735424    9.33833788 12.54992792 11.58170978]\n",
      " [10.2954858  12.08296827  9.08437871  9.9809002   9.68950869]\n",
      " [10.12640823 10.66126133 11.27775132  9.72259167 10.35309677]\n",
      " [ 9.64065197  8.865174   10.50807305  8.88260822 10.16260586]\n",
      " [11.28714581  9.5752376  10.06440896  8.72414421 10.18973477]]\n",
      "определитель: 103.20181383352248\n",
      "след: 52.4296165411223\n",
      "минимальный элемент: 8.72414421257908\n",
      "максимальный элемент: 12.549927922005933\n",
      "норма Фробениуса: 51.0992904269656\n",
      "собственные числа: [50.88318564+0.j         -0.82953816+0.21677849j -0.82953816-0.21677849j\n",
      "  1.60275361+0.43609201j  1.60275361-0.43609201j]\n",
      "обратная матрица:\n",
      " [[ 0.16657277 -0.48257562  0.72919005 -1.38514435  0.91013401]\n",
      " [-0.2419857   0.57492159 -0.53708524  0.71419772 -0.43825616]\n",
      " [ 0.03450721 -0.54879424  1.15551107 -0.87101829  0.17729526]\n",
      " [ 0.48084321 -0.7061234   1.47173271 -1.87301384  0.49762948]\n",
      " [-0.40288593  1.14090335 -2.70437854  3.32711708 -1.09935853]]\n"
     ]
    }
   ],
   "source": [
    "def get_stats(X):\n",
    "    #проверка на квадратность\n",
    "    if X.shape[0] != X.shape[1]:\n",
    "        raise ValueError(\"Матрица должна быть квадратной!\")\n",
    "\n",
    "    #определитель\n",
    "    det = np.linalg.det(X)\n",
    "\n",
    "    #сумма элементов по диагонали (след)\n",
    "    trace = np.trace(X)\n",
    "\n",
    "    #минимальный и максимальный элементы\n",
    "    min_val = np.min(X)\n",
    "    max_val = np.max(X)\n",
    "\n",
    "    #норма Фробениуса (корень из суммы квадратов всех элементов)\n",
    "    frobenius_norm = np.linalg.norm(X, 'fro')\n",
    "\n",
    "    #собственные числа\n",
    "    eigenvalues = np.linalg.eigvals(X)\n",
    "\n",
    "    #обратная матрица (если есть такаяя)\n",
    "    try:\n",
    "        inv_matrix = np.linalg.inv(X)\n",
    "    except np.linalg.LinAlgError:\n",
    "        inv_matrix = None\n",
    "\n",
    "    return det, trace, min_val, max_val, frobenius_norm, eigenvalues, inv_matrix\n",
    "\n",
    "#вывод\n",
    "X = np.random.normal(10, 1, (5, 5))\n",
    "properties = get_stats(X)\n",
    "\n",
    "print(\"матрица:\\n\", X)\n",
    "print(\"определитель:\", properties[0])\n",
    "print(\"след:\", properties[1])\n",
    "print(\"минимальный элемент:\", properties[2])\n",
    "print(\"максимальный элемент:\", properties[3])\n",
    "print(\"норма Фробениуса:\", properties[4])\n",
    "print(\"собственные числа:\", properties[5])\n",
    "print(\"обратная матрица:\\n\", properties[6])"
   ]
  },
  {
   "cell_type": "markdown",
   "metadata": {
    "id": "hCX_Y0T3oc5X"
   },
   "source": [
    "**5. (0.2 балла)** Повторите 100 раз следующий эксперимент: сгенерируйте две матрицы размера 10×10 из стандартного нормального распределения, перемножьте их (как матрицы) и найдите максимальный элемент. Какое среднее значение по экспериментам у максимальных элементов? 95-процентная квантиль?"
   ]
  },
  {
   "cell_type": "code",
   "execution_count": 6,
   "metadata": {
    "colab": {
     "base_uri": "https://localhost:8080/"
    },
    "id": "cDsSl-bRoc5X",
    "outputId": "e1459a4e-c550-4081-e42d-f65fac93f311"
   },
   "outputs": [
    {
     "name": "stdout",
     "output_type": "stream",
     "text": [
      "среднее значение:  8.663206249641012\n",
      "95-процентная квантиль:  11.556988173328936\n"
     ]
    }
   ],
   "source": [
    "results = []\n",
    "\n",
    "#цикл на повторение\n",
    "for _ in range(100):\n",
    "    #генерация двух случайных матриц 10x10 из стандартного нормального распределения\n",
    "    A = np.random.standard_normal((10, 10))\n",
    "    B = np.random.standard_normal((10, 10))\n",
    "\n",
    "    #перемножаем матрицы\n",
    "    product = A @ B\n",
    "\n",
    "    #поиск максимального элемента\n",
    "    max_element = np.max(product)\n",
    "\n",
    "    #добавляем максимальный элемент с список\n",
    "    results.append(max_element)\n",
    "\n",
    "#среднее значение максимальных элементов\n",
    "mean_value = np.mean(results)\n",
    "\n",
    "#95-процентная квантиль\n",
    "quantile_95 = np.quantile(results, 0.95)\n",
    "\n",
    "#вывод\n",
    "print(\"среднее значение: \", mean_value)\n",
    "print(\"95-процентная квантиль: \", quantile_95)"
   ]
  },
  {
   "cell_type": "markdown",
   "metadata": {
    "id": "yxf7JO-Xoc5X"
   },
   "source": [
    "### Pandas\n",
    "\n",
    "#### Ответьте на вопросы о данных по авиарейсам в США за январь-апрель 2008 года.\n",
    "\n",
    "[Данные](https://www.dropbox.com/s/dvfitn93obn0rql/2008.csv?dl=0) и их [описание](http://stat-computing.org/dataexpo/2009/the-data.html)"
   ]
  },
  {
   "cell_type": "code",
   "execution_count": 7,
   "metadata": {
    "id": "UHNABHjAoc5X"
   },
   "outputs": [],
   "source": [
    "import pandas as pd\n",
    "%matplotlib inline"
   ]
  },
  {
   "cell_type": "markdown",
   "metadata": {
    "id": "mEet2HyZoc5X"
   },
   "source": [
    "**6. (0.3 балла)** Какая из причин отмены рейса (`CancellationCode`) была самой частой? (расшифровки кодов можно найти в описании данных)"
   ]
  },
  {
   "cell_type": "code",
   "execution_count": 8,
   "metadata": {
    "colab": {
     "base_uri": "https://localhost:8080/"
    },
    "id": "9lDPrxh_oc5Z",
    "outputId": "6a4ed525-cd9d-4c5d-c42b-42363b29b205"
   },
   "outputs": [
    {
     "name": "stdout",
     "output_type": "stream",
     "text": [
      "   Year  Month  DayofMonth  DayOfWeek  DepTime  CRSDepTime  ArrTime  \\\n",
      "0  2008      6          18          3   2111.0        2055   2308.0   \n",
      "1  2008      6           4          3   1426.0        1410   1730.0   \n",
      "2  2008      8           3          7   1143.0        1145   1501.0   \n",
      "3  2008      1          23          3   1141.0        1144   1323.0   \n",
      "4  2008      5           4          7    815.0         820   1243.0   \n",
      "\n",
      "   CRSArrTime UniqueCarrier  FlightNum  ... TaxiIn  TaxiOut  Cancelled  \\\n",
      "0        2300            WN        242  ...    3.0      8.0          0   \n",
      "1        1728            XE       2380  ...    4.0     12.0          0   \n",
      "2        1520            WN       1769  ...    4.0      9.0          0   \n",
      "3        1335            OO       3802  ...    4.0     19.0          0   \n",
      "4        1300            WN        399  ...    4.0      8.0          0   \n",
      "\n",
      "   CancellationCode  Diverted  CarrierDelay WeatherDelay NASDelay  \\\n",
      "0               NaN         0           NaN          NaN      NaN   \n",
      "1               NaN         0           NaN          NaN      NaN   \n",
      "2               NaN         0           NaN          NaN      NaN   \n",
      "3               NaN         0           NaN          NaN      NaN   \n",
      "4               NaN         0           NaN          NaN      NaN   \n",
      "\n",
      "   SecurityDelay  LateAircraftDelay  \n",
      "0            NaN                NaN  \n",
      "1            NaN                NaN  \n",
      "2            NaN                NaN  \n",
      "3            NaN                NaN  \n",
      "4            NaN                NaN  \n",
      "\n",
      "[5 rows x 29 columns]\n",
      "самая частая причина: A (563 раз)\n"
     ]
    }
   ],
   "source": [
    "flights = pd.read_csv(\"https://raw.githubusercontent.com/raffeekk/ML25/refs/heads/main/2008.csv\")\n",
    "\n",
    "#вывод первых строк\n",
    "print(flights.head())\n",
    "\n",
    "#коды отмены:\n",
    "#A - Carrier (Авиакомпания)\n",
    "#B - Weather (Погода)\n",
    "#C - NAS (Национальная система управления воздушным движением)\n",
    "#D - Security (Безопасность)\n",
    "\n",
    "#удаление пустых хначений в 'CancellationCode', так как они не влияют на подсчет\n",
    "flights_cleaned = flights.dropna(subset=['CancellationCode'])\n",
    "\n",
    "#количество каждого уникального значения в столбце 'CancellationCode'\n",
    "cancellation_counts = flights_cleaned['CancellationCode'].value_counts()\n",
    "\n",
    "#поиск самого частого кода отмены\n",
    "most_frequent_cancellation_code = cancellation_counts.idxmax()\n",
    "most_frequent_count = cancellation_counts.max()\n",
    "\n",
    "#вывод\n",
    "print(f\"самая частая причина: {most_frequent_cancellation_code} ({most_frequent_count} раз)\")"
   ]
  },
  {
   "cell_type": "markdown",
   "metadata": {
    "id": "l91J-8TMoc5Z"
   },
   "source": [
    "**7. (0.3 балла)** Найдите среднее, минимальное и максимальное расстояние, пройденное самолетом."
   ]
  },
  {
   "cell_type": "code",
   "execution_count": 9,
   "metadata": {
    "colab": {
     "base_uri": "https://localhost:8080/"
    },
    "id": "FAa9nPsIoc5Z",
    "outputId": "9a957d7b-c05d-4702-ab2d-274ca3eb4631"
   },
   "outputs": [
    {
     "name": "stdout",
     "output_type": "stream",
     "text": [
      "среднее расстояние: 724.51 миль\n",
      "минимальное расстояние: 31.00 миль\n",
      "максимальное расстояние: 4962.00 миль\n"
     ]
    }
   ],
   "source": [
    "#удаляем пустые значения в 'Distance'\n",
    "flights_cleaned = flights.dropna(subset=['Distance'])\n",
    "\n",
    "#статистические показатели для столбца 'Distance'\n",
    "distance_stats = {\n",
    "    'среднее': flights_cleaned['Distance'].mean(),\n",
    "    'минимальное': flights_cleaned['Distance'].min(),\n",
    "    'максимальное': flights_cleaned['Distance'].max()\n",
    "}\n",
    "\n",
    "#вывод\n",
    "for stat, value in distance_stats.items():\n",
    "    print(f\"{stat} расстояние: {value:.2f} миль\")"
   ]
  },
  {
   "cell_type": "markdown",
   "metadata": {
    "id": "MM8puyQ9oc5Z"
   },
   "source": [
    "**8. (0.3 балла)** Не выглядит ли подозрительным минимальное пройденное расстояние? В какие дни и на каких рейсах оно было? Какое расстояние было пройдено этими же рейсами в другие дни?"
   ]
  },
  {
   "cell_type": "code",
   "execution_count": 10,
   "metadata": {
    "colab": {
     "base_uri": "https://localhost:8080/",
     "height": 360
    },
    "id": "CDHw_HiVoc5Z",
    "outputId": "821fc837-a28d-4abe-bd0c-18eea7509e2e"
   },
   "outputs": [
    {
     "name": "stdout",
     "output_type": "stream",
     "text": [
      "минимальное расстояние: 31 миль\n",
      "\n",
      "рейсы с минимальным расстоянием:\n"
     ]
    },
    {
     "data": {
      "text/html": [
       "<div>\n",
       "<style scoped>\n",
       "    .dataframe tbody tr th:only-of-type {\n",
       "        vertical-align: middle;\n",
       "    }\n",
       "\n",
       "    .dataframe tbody tr th {\n",
       "        vertical-align: top;\n",
       "    }\n",
       "\n",
       "    .dataframe thead th {\n",
       "        text-align: right;\n",
       "    }\n",
       "</style>\n",
       "<table border=\"1\" class=\"dataframe\">\n",
       "  <thead>\n",
       "    <tr style=\"text-align: right;\">\n",
       "      <th></th>\n",
       "      <th>Year</th>\n",
       "      <th>Month</th>\n",
       "      <th>DayofMonth</th>\n",
       "      <th>FlightNum</th>\n",
       "      <th>UniqueCarrier</th>\n",
       "      <th>Origin</th>\n",
       "      <th>Dest</th>\n",
       "      <th>Distance</th>\n",
       "    </tr>\n",
       "  </thead>\n",
       "  <tbody>\n",
       "    <tr>\n",
       "      <th>1116</th>\n",
       "      <td>2008</td>\n",
       "      <td>12</td>\n",
       "      <td>30</td>\n",
       "      <td>65</td>\n",
       "      <td>AS</td>\n",
       "      <td>WRG</td>\n",
       "      <td>PSG</td>\n",
       "      <td>31</td>\n",
       "    </tr>\n",
       "    <tr>\n",
       "      <th>6958</th>\n",
       "      <td>2008</td>\n",
       "      <td>12</td>\n",
       "      <td>26</td>\n",
       "      <td>65</td>\n",
       "      <td>AS</td>\n",
       "      <td>WRG</td>\n",
       "      <td>PSG</td>\n",
       "      <td>31</td>\n",
       "    </tr>\n",
       "    <tr>\n",
       "      <th>17349</th>\n",
       "      <td>2008</td>\n",
       "      <td>8</td>\n",
       "      <td>18</td>\n",
       "      <td>64</td>\n",
       "      <td>AS</td>\n",
       "      <td>PSG</td>\n",
       "      <td>WRG</td>\n",
       "      <td>31</td>\n",
       "    </tr>\n",
       "    <tr>\n",
       "      <th>27534</th>\n",
       "      <td>2008</td>\n",
       "      <td>3</td>\n",
       "      <td>11</td>\n",
       "      <td>64</td>\n",
       "      <td>AS</td>\n",
       "      <td>PSG</td>\n",
       "      <td>WRG</td>\n",
       "      <td>31</td>\n",
       "    </tr>\n",
       "    <tr>\n",
       "      <th>46082</th>\n",
       "      <td>2008</td>\n",
       "      <td>8</td>\n",
       "      <td>9</td>\n",
       "      <td>65</td>\n",
       "      <td>AS</td>\n",
       "      <td>WRG</td>\n",
       "      <td>PSG</td>\n",
       "      <td>31</td>\n",
       "    </tr>\n",
       "    <tr>\n",
       "      <th>48112</th>\n",
       "      <td>2008</td>\n",
       "      <td>2</td>\n",
       "      <td>28</td>\n",
       "      <td>64</td>\n",
       "      <td>AS</td>\n",
       "      <td>PSG</td>\n",
       "      <td>WRG</td>\n",
       "      <td>31</td>\n",
       "    </tr>\n",
       "  </tbody>\n",
       "</table>\n",
       "</div>"
      ],
      "text/plain": [
       "       Year  Month  DayofMonth  FlightNum UniqueCarrier Origin Dest  Distance\n",
       "1116   2008     12          30         65            AS    WRG  PSG        31\n",
       "6958   2008     12          26         65            AS    WRG  PSG        31\n",
       "17349  2008      8          18         64            AS    PSG  WRG        31\n",
       "27534  2008      3          11         64            AS    PSG  WRG        31\n",
       "46082  2008      8           9         65            AS    WRG  PSG        31\n",
       "48112  2008      2          28         64            AS    PSG  WRG        31"
      ]
     },
     "metadata": {},
     "output_type": "display_data"
    },
    {
     "name": "stdout",
     "output_type": "stream",
     "text": [
      "\n",
      "проверка расстояний для этих рейсов в другие дни:\n",
      "Рейс 65: расстояния в иные дни — [680, 82, 571, 2454, 1005, 581, 1747, 123, 281, 682, 372, 386]\n",
      "Рейс 64: расстояния в иные дни — [533, 680, 2381, 82, 1005, 123, 359, 1747, 372, 883, 571, 414]\n"
     ]
    }
   ],
   "source": [
    "#минимальное расстояние\n",
    "min_distance = flights_cleaned['Distance'].min()\n",
    "\n",
    "#отфильтровка данных, где расстояние равно минимальному\n",
    "min_distance_flights = flights_cleaned[flights_cleaned['Distance'] == min_distance]\n",
    "\n",
    "#вывод\n",
    "print(f\"минимальное расстояние: {min_distance} миль\")\n",
    "print(\"\\nрейсы с минимальным расстоянием:\")\n",
    "display(min_distance_flights[['Year', 'Month', 'DayofMonth', 'FlightNum', 'UniqueCarrier', 'Origin', 'Dest', 'Distance']])\n",
    "\n",
    "#для каждого уникального рейса (FlightNum) проверяем расстояние в другие дни\n",
    "unique_flights = min_distance_flights['FlightNum'].unique()\n",
    "print(\"\\nпроверка расстояний для этих рейсов в другие дни:\")\n",
    "for flight_num in unique_flights:\n",
    "    #берем все записи для данного рейса, кроме тех, где расстояние минимальное\n",
    "    other_days_distances = flights_cleaned[\n",
    "        (flights_cleaned['FlightNum'] == flight_num) & (flights_cleaned['Distance'] != min_distance)\n",
    "    ]['Distance']\n",
    "\n",
    "    if not other_days_distances.empty:\n",
    "        print(f\"Рейс {flight_num}: расстояния в иные дни — {list(other_days_distances.unique())}\")\n",
    "    else:\n",
    "        print(f\"Рейс {flight_num}: нет других записей с этим номером рейса.\")"
   ]
  },
  {
   "cell_type": "markdown",
   "metadata": {},
   "source": [
    "**на мой взгляд - нет**, ничего странного нет, 31 миля это мало, да, но некоторые такси вызывают, чтобы 300 метров проехать"
   ]
  },
  {
   "cell_type": "markdown",
   "metadata": {
    "id": "AtS9yoy3oc5Z"
   },
   "source": [
    "**9. (0.3 балла)** Из какого аэропорта было произведено больше всего вылетов? В каком городе он находится?"
   ]
  },
  {
   "cell_type": "code",
   "execution_count": 11,
   "metadata": {
    "colab": {
     "base_uri": "https://localhost:8080/"
    },
    "id": "ihcxaYz0oc5a",
    "outputId": "52bd6260-386e-43f4-c7fd-d3a09a5c56c6"
   },
   "outputs": [
    {
     "name": "stdout",
     "output_type": "stream",
     "text": [
      "аэропорт: ATL (4134 вылетов)\n",
      "город: Atlanta\n"
     ]
    }
   ],
   "source": [
    "#количество вылетов для каждого аэропорта\n",
    "departure_counts = flights['Origin'].value_counts()\n",
    "\n",
    "#аэропорт с максимальным количеством вылетов\n",
    "most_flights_airport = departure_counts.idxmax()\n",
    "most_flights_count = departure_counts.max()\n",
    "\n",
    "print(f\"аэропорт: {most_flights_airport} ({most_flights_count} вылетов)\")\n",
    "\n",
    "#дополнительные данные об аэропортах\n",
    "airports = pd.read_csv(\"https://raw.githubusercontent.com/jpatokal/openflights/master/data/airports.dat\",\n",
    "                       header=None,\n",
    "                       names=['AirportID', 'Name', 'City', 'Country', 'IATA', 'ICAO', 'Latitude', 'Longitude',\n",
    "                              'Altitude', 'Timezone', 'DST', 'TzDatabaseTimezone', 'Type', 'Source'])\n",
    "\n",
    "#фильтровка данных для поиска города для найденного аэропорта\n",
    "airport_info = airports[airports['IATA'] == most_flights_airport]\n",
    "\n",
    "#вывод\n",
    "if not airport_info.empty:\n",
    "    city = airport_info['City'].values[0]\n",
    "    print(f\"город: {city}\")\n",
    "else:\n",
    "    print(\"информация об аэропорте не найдена.\")"
   ]
  },
  {
   "cell_type": "markdown",
   "metadata": {
    "id": "3P22MB1ioc5a"
   },
   "source": [
    "**10. (0.3 балла)** Найдите для каждого аэропорта среднее время полета (`AirTime`) по всем вылетевшим из него рейсам. Какой аэропорт имеет наибольшее значение этого показателя?"
   ]
  },
  {
   "cell_type": "code",
   "execution_count": 12,
   "metadata": {
    "colab": {
     "base_uri": "https://localhost:8080/"
    },
    "id": "sqX9uycaoc5a",
    "outputId": "4896ff1a-f146-4884-e896-65a760ecf083"
   },
   "outputs": [
    {
     "name": "stdout",
     "output_type": "stream",
     "text": [
      "аэропорт с наибольшим средним временем: SJU\n",
      "среднее время полета: 205.20 минут\n"
     ]
    }
   ],
   "source": [
    "#удаляем строки с пустыми значениями в 'AirTime' и 'Origin'\n",
    "flights_cleaned = flights.dropna(subset=['AirTime', 'Origin'])\n",
    "\n",
    "#группируем по аэропорту отправления, вычисляем среднее время полета\n",
    "average_airtime_by_airport = flights_cleaned.groupby('Origin')['AirTime'].mean()\n",
    "\n",
    "#находим аэропорт с максимальным средним временем полета\n",
    "airport_with_max_airtime = average_airtime_by_airport.idxmax()\n",
    "max_average_airtime = average_airtime_by_airport.max()\n",
    "\n",
    "#вывод\n",
    "print(f\"аэропорт с наибольшим средним временем: {airport_with_max_airtime}\")\n",
    "print(f\"среднее время полета: {max_average_airtime:.2f} минут\")"
   ]
  },
  {
   "cell_type": "markdown",
   "metadata": {
    "id": "7B96EWcQoc5a"
   },
   "source": [
    "**11. (0.5 балла)** Найдите аэропорт, у которого наибольшая доля задержанных (`DepDelay > 0`) рейсов. Исключите при этом из рассмотрения аэропорты, из которых было отправлено меньше 1000 рейсов (используйте функцию `filter` после `groupby`)."
   ]
  },
  {
   "cell_type": "code",
   "execution_count": 13,
   "metadata": {
    "colab": {
     "base_uri": "https://localhost:8080/"
    },
    "id": "lYEuK70Foc5b",
    "outputId": "7e833b90-b394-4e57-8b24-9139be5d9ca4"
   },
   "outputs": [
    {
     "name": "stdout",
     "output_type": "stream",
     "text": [
      "аэропорт с наибольшей долей задержек: EWR\n",
      "доля задержек: 52.87%\n"
     ]
    }
   ],
   "source": [
    "#удаляем строки с пропущенными значениями в столбцах 'DepDelay'\n",
    "flights_cleaned = flights.dropna(subset=['DepDelay'])\n",
    "\n",
    "#добавляем столбец, указывающий, был ли рейс задержан, используя .loc\n",
    "flights_cleaned = flights_cleaned.copy()  # Создаем явную копию, чтобы избежать предупреждения\n",
    "flights_cleaned.loc[:, 'IsDelayed'] = flights_cleaned['DepDelay'] > 0\n",
    "\n",
    "#группируем данные по аэропорту отправления и считаем общее количество рейсов и количество задержанных рейсов\n",
    "delay_stats = flights_cleaned.groupby('Origin').agg(\n",
    "    TotalFlights=('DepDelay', 'count'),\n",
    "    DelayedFlights=('IsDelayed', 'sum')\n",
    ")\n",
    "\n",
    "#доля задержанных рейсов\n",
    "delay_stats['DelayRatio'] = delay_stats['DelayedFlights'] / delay_stats['TotalFlights']\n",
    "\n",
    "#отфильтровываем аэропорты с менее чем 1000 вылетами\n",
    "delay_stats_filtered = delay_stats[delay_stats['TotalFlights'] >= 1000]\n",
    "\n",
    "#аэропорт с максимальной долей задержек\n",
    "airport_with_max_delay_ratio = delay_stats_filtered['DelayRatio'].idxmax()\n",
    "max_delay_ratio = delay_stats_filtered['DelayRatio'].max()\n",
    "\n",
    "#вывод\n",
    "print(f\"аэропорт с наибольшей долей задержек: {airport_with_max_delay_ratio}\")\n",
    "print(f\"доля задержек: {max_delay_ratio:.2%}\")"
   ]
  },
  {
   "cell_type": "markdown",
   "metadata": {
    "id": "JYkbVtz2oc5b"
   },
   "source": [
    "## Линейная регрессия\n",
    "\n",
    "В этой части мы разберемся с линейной регрессией, способами её обучения и измерением качества ее прогнозов.\n",
    "\n",
    "Будем рассматривать датасет из предыдущей части задания для предсказания времени задержки отправления рейса в минутах (DepDelay). Отметим, что под задержкой подразумевается не только опоздание рейса относительно планируемого времени вылета, но и отправление до планируемого времени.\n",
    "\n",
    "### Подготовка данных\n",
    "\n",
    "**12. (0.5 балла)** Считайте выборку из файла при помощи функции pd.read_csv и ответьте на следующие вопросы:\n",
    "   - Имеются ли в данных пропущенные значения?\n",
    "   - Сколько всего пропущенных элементов в таблице \"объект-признак\"?\n",
    "   - Сколько объектов имеют хотя бы один пропуск?\n",
    "   - Сколько признаков имеют хотя бы одно пропущенное значение?"
   ]
  },
  {
   "cell_type": "code",
   "execution_count": 14,
   "metadata": {
    "colab": {
     "base_uri": "https://localhost:8080/"
    },
    "id": "ddnl-wuLoc5b",
    "outputId": "c36b69cd-4d29-4517-87a9-81407e611eb5",
    "scrolled": true
   },
   "outputs": [
    {
     "name": "stdout",
     "output_type": "stream",
     "text": [
      "имеются ли пропущенные значения?  True\n",
      "общее количество пропущенных элементов: 355215\n",
      "количество объектов с хотя бы одним пропуском: 70000\n",
      "количество признаков с пропущенными значениями: 16\n",
      "признаки с пропущенными значениями: ['DepTime', 'ArrTime', 'TailNum', 'ActualElapsedTime', 'CRSElapsedTime', 'AirTime', 'ArrDelay', 'DepDelay', 'TaxiIn', 'TaxiOut', 'CancellationCode', 'CarrierDelay', 'WeatherDelay', 'NASDelay', 'SecurityDelay', 'LateAircraftDelay']\n"
     ]
    }
   ],
   "source": [
    "#пропущенные значени в датасете\n",
    "print(\"имеются ли пропущенные значения? \", flights.isnull().values.any())\n",
    "\n",
    "#общее количество пропущенных элементов в таблице\n",
    "total_missing_values = flights.isnull().sum().sum()\n",
    "print(f\"общее количество пропущенных элементов: {total_missing_values}\")\n",
    "\n",
    "#количество объектов (строк), имеющих хотя бы один пропуск\n",
    "rows_with_missing = flights[flights.isnull().any(axis=1)]\n",
    "print(f\"количество объектов с хотя бы одним пропуском: {len(rows_with_missing)}\")\n",
    "\n",
    "#количество признаков (столбцов), имеющих хотя бы одно пропущенное значение\n",
    "columns_with_missing = flights.columns[flights.isnull().any()]\n",
    "print(f\"количество признаков с пропущенными значениями: {len(columns_with_missing)}\")\n",
    "print(f\"признаки с пропущенными значениями: {list(columns_with_missing)}\")"
   ]
  },
  {
   "cell_type": "markdown",
   "metadata": {
    "id": "yfpYsYgwoc5b"
   },
   "source": [
    "Как вы понимаете, также не имеет смысла рассматривать при решении поставленной задачи объекты с пропущенным значением целевой переменной. В связи с этим ответьте на следующие вопросы и выполните соответствующие действия:\n",
    "- Имеются ли пропущенные значения в целевой переменной?\n",
    "- Проанализируйте объекты с пропущенными значениями целевой переменной. Чем вызвано это явление? Что их объединяет? Можно ли в связи с этим, на ваш взгляд, исключить какие-то признаки из рассмотрения? Обоснуйте свою точку зрения.\n",
    "\n",
    "Исключите из выборки объекты **с пропущенным значением целевой переменной и со значением целевой переменной, равным 0**, а также при необходимости исключите признаки в соответствии с вашим ответом на последний вопрос из списка и выделите целевую переменную в отдельный вектор, исключив её из матрицы \"объект-признак\"."
   ]
  },
  {
   "cell_type": "code",
   "execution_count": 15,
   "metadata": {
    "colab": {
     "base_uri": "https://localhost:8080/",
     "height": 434
    },
    "id": "PQJTcd4Soc5b",
    "outputId": "a8d52f40-a895-447b-8318-c247955a0c50"
   },
   "outputs": [
    {
     "name": "stdout",
     "output_type": "stream",
     "text": [
      "пропущенных значений: 1399\n",
      "\n",
      "анализ объектов с пропущенными значениями:\n"
     ]
    },
    {
     "data": {
      "text/html": [
       "<div>\n",
       "<style scoped>\n",
       "    .dataframe tbody tr th:only-of-type {\n",
       "        vertical-align: middle;\n",
       "    }\n",
       "\n",
       "    .dataframe tbody tr th {\n",
       "        vertical-align: top;\n",
       "    }\n",
       "\n",
       "    .dataframe thead th {\n",
       "        text-align: right;\n",
       "    }\n",
       "</style>\n",
       "<table border=\"1\" class=\"dataframe\">\n",
       "  <thead>\n",
       "    <tr style=\"text-align: right;\">\n",
       "      <th></th>\n",
       "      <th>Year</th>\n",
       "      <th>Month</th>\n",
       "      <th>DayofMonth</th>\n",
       "      <th>DayOfWeek</th>\n",
       "      <th>DepTime</th>\n",
       "      <th>CRSDepTime</th>\n",
       "      <th>ArrTime</th>\n",
       "      <th>CRSArrTime</th>\n",
       "      <th>FlightNum</th>\n",
       "      <th>ActualElapsedTime</th>\n",
       "      <th>...</th>\n",
       "      <th>Distance</th>\n",
       "      <th>TaxiIn</th>\n",
       "      <th>TaxiOut</th>\n",
       "      <th>Cancelled</th>\n",
       "      <th>Diverted</th>\n",
       "      <th>CarrierDelay</th>\n",
       "      <th>WeatherDelay</th>\n",
       "      <th>NASDelay</th>\n",
       "      <th>SecurityDelay</th>\n",
       "      <th>LateAircraftDelay</th>\n",
       "    </tr>\n",
       "  </thead>\n",
       "  <tbody>\n",
       "    <tr>\n",
       "      <th>count</th>\n",
       "      <td>1399.0</td>\n",
       "      <td>1399.000000</td>\n",
       "      <td>1399.000000</td>\n",
       "      <td>1399.000000</td>\n",
       "      <td>0.0</td>\n",
       "      <td>1399.000000</td>\n",
       "      <td>0.0</td>\n",
       "      <td>1399.000000</td>\n",
       "      <td>1399.000000</td>\n",
       "      <td>0.0</td>\n",
       "      <td>...</td>\n",
       "      <td>1399.000000</td>\n",
       "      <td>0.0</td>\n",
       "      <td>0.0</td>\n",
       "      <td>1399.0</td>\n",
       "      <td>1399.0</td>\n",
       "      <td>0.0</td>\n",
       "      <td>0.0</td>\n",
       "      <td>0.0</td>\n",
       "      <td>0.0</td>\n",
       "      <td>0.0</td>\n",
       "    </tr>\n",
       "    <tr>\n",
       "      <th>mean</th>\n",
       "      <td>2008.0</td>\n",
       "      <td>5.646891</td>\n",
       "      <td>15.562545</td>\n",
       "      <td>3.987848</td>\n",
       "      <td>NaN</td>\n",
       "      <td>1379.989993</td>\n",
       "      <td>NaN</td>\n",
       "      <td>1543.809149</td>\n",
       "      <td>2789.937098</td>\n",
       "      <td>NaN</td>\n",
       "      <td>...</td>\n",
       "      <td>585.818442</td>\n",
       "      <td>NaN</td>\n",
       "      <td>NaN</td>\n",
       "      <td>1.0</td>\n",
       "      <td>0.0</td>\n",
       "      <td>NaN</td>\n",
       "      <td>NaN</td>\n",
       "      <td>NaN</td>\n",
       "      <td>NaN</td>\n",
       "      <td>NaN</td>\n",
       "    </tr>\n",
       "    <tr>\n",
       "      <th>std</th>\n",
       "      <td>0.0</td>\n",
       "      <td>3.705114</td>\n",
       "      <td>8.585107</td>\n",
       "      <td>2.018653</td>\n",
       "      <td>NaN</td>\n",
       "      <td>462.847110</td>\n",
       "      <td>NaN</td>\n",
       "      <td>480.819451</td>\n",
       "      <td>2131.389377</td>\n",
       "      <td>NaN</td>\n",
       "      <td>...</td>\n",
       "      <td>461.874840</td>\n",
       "      <td>NaN</td>\n",
       "      <td>NaN</td>\n",
       "      <td>0.0</td>\n",
       "      <td>0.0</td>\n",
       "      <td>NaN</td>\n",
       "      <td>NaN</td>\n",
       "      <td>NaN</td>\n",
       "      <td>NaN</td>\n",
       "      <td>NaN</td>\n",
       "    </tr>\n",
       "    <tr>\n",
       "      <th>min</th>\n",
       "      <td>2008.0</td>\n",
       "      <td>1.000000</td>\n",
       "      <td>1.000000</td>\n",
       "      <td>1.000000</td>\n",
       "      <td>NaN</td>\n",
       "      <td>50.000000</td>\n",
       "      <td>NaN</td>\n",
       "      <td>2.000000</td>\n",
       "      <td>5.000000</td>\n",
       "      <td>NaN</td>\n",
       "      <td>...</td>\n",
       "      <td>31.000000</td>\n",
       "      <td>NaN</td>\n",
       "      <td>NaN</td>\n",
       "      <td>1.0</td>\n",
       "      <td>0.0</td>\n",
       "      <td>NaN</td>\n",
       "      <td>NaN</td>\n",
       "      <td>NaN</td>\n",
       "      <td>NaN</td>\n",
       "      <td>NaN</td>\n",
       "    </tr>\n",
       "    <tr>\n",
       "      <th>25%</th>\n",
       "      <td>2008.0</td>\n",
       "      <td>2.000000</td>\n",
       "      <td>9.000000</td>\n",
       "      <td>2.000000</td>\n",
       "      <td>NaN</td>\n",
       "      <td>1000.000000</td>\n",
       "      <td>NaN</td>\n",
       "      <td>1145.000000</td>\n",
       "      <td>895.000000</td>\n",
       "      <td>NaN</td>\n",
       "      <td>...</td>\n",
       "      <td>256.000000</td>\n",
       "      <td>NaN</td>\n",
       "      <td>NaN</td>\n",
       "      <td>1.0</td>\n",
       "      <td>0.0</td>\n",
       "      <td>NaN</td>\n",
       "      <td>NaN</td>\n",
       "      <td>NaN</td>\n",
       "      <td>NaN</td>\n",
       "      <td>NaN</td>\n",
       "    </tr>\n",
       "    <tr>\n",
       "      <th>50%</th>\n",
       "      <td>2008.0</td>\n",
       "      <td>5.000000</td>\n",
       "      <td>15.000000</td>\n",
       "      <td>4.000000</td>\n",
       "      <td>NaN</td>\n",
       "      <td>1420.000000</td>\n",
       "      <td>NaN</td>\n",
       "      <td>1605.000000</td>\n",
       "      <td>2309.000000</td>\n",
       "      <td>NaN</td>\n",
       "      <td>...</td>\n",
       "      <td>448.000000</td>\n",
       "      <td>NaN</td>\n",
       "      <td>NaN</td>\n",
       "      <td>1.0</td>\n",
       "      <td>0.0</td>\n",
       "      <td>NaN</td>\n",
       "      <td>NaN</td>\n",
       "      <td>NaN</td>\n",
       "      <td>NaN</td>\n",
       "      <td>NaN</td>\n",
       "    </tr>\n",
       "    <tr>\n",
       "      <th>75%</th>\n",
       "      <td>2008.0</td>\n",
       "      <td>9.000000</td>\n",
       "      <td>22.000000</td>\n",
       "      <td>6.000000</td>\n",
       "      <td>NaN</td>\n",
       "      <td>1755.000000</td>\n",
       "      <td>NaN</td>\n",
       "      <td>1940.000000</td>\n",
       "      <td>4444.000000</td>\n",
       "      <td>NaN</td>\n",
       "      <td>...</td>\n",
       "      <td>761.000000</td>\n",
       "      <td>NaN</td>\n",
       "      <td>NaN</td>\n",
       "      <td>1.0</td>\n",
       "      <td>0.0</td>\n",
       "      <td>NaN</td>\n",
       "      <td>NaN</td>\n",
       "      <td>NaN</td>\n",
       "      <td>NaN</td>\n",
       "      <td>NaN</td>\n",
       "    </tr>\n",
       "    <tr>\n",
       "      <th>max</th>\n",
       "      <td>2008.0</td>\n",
       "      <td>12.000000</td>\n",
       "      <td>31.000000</td>\n",
       "      <td>7.000000</td>\n",
       "      <td>NaN</td>\n",
       "      <td>2359.000000</td>\n",
       "      <td>NaN</td>\n",
       "      <td>2359.000000</td>\n",
       "      <td>7794.000000</td>\n",
       "      <td>NaN</td>\n",
       "      <td>...</td>\n",
       "      <td>2704.000000</td>\n",
       "      <td>NaN</td>\n",
       "      <td>NaN</td>\n",
       "      <td>1.0</td>\n",
       "      <td>0.0</td>\n",
       "      <td>NaN</td>\n",
       "      <td>NaN</td>\n",
       "      <td>NaN</td>\n",
       "      <td>NaN</td>\n",
       "      <td>NaN</td>\n",
       "    </tr>\n",
       "  </tbody>\n",
       "</table>\n",
       "<p>8 rows × 24 columns</p>\n",
       "</div>"
      ],
      "text/plain": [
       "         Year        Month   DayofMonth    DayOfWeek  DepTime   CRSDepTime  \\\n",
       "count  1399.0  1399.000000  1399.000000  1399.000000      0.0  1399.000000   \n",
       "mean   2008.0     5.646891    15.562545     3.987848      NaN  1379.989993   \n",
       "std       0.0     3.705114     8.585107     2.018653      NaN   462.847110   \n",
       "min    2008.0     1.000000     1.000000     1.000000      NaN    50.000000   \n",
       "25%    2008.0     2.000000     9.000000     2.000000      NaN  1000.000000   \n",
       "50%    2008.0     5.000000    15.000000     4.000000      NaN  1420.000000   \n",
       "75%    2008.0     9.000000    22.000000     6.000000      NaN  1755.000000   \n",
       "max    2008.0    12.000000    31.000000     7.000000      NaN  2359.000000   \n",
       "\n",
       "       ArrTime   CRSArrTime    FlightNum  ActualElapsedTime  ...     Distance  \\\n",
       "count      0.0  1399.000000  1399.000000                0.0  ...  1399.000000   \n",
       "mean       NaN  1543.809149  2789.937098                NaN  ...   585.818442   \n",
       "std        NaN   480.819451  2131.389377                NaN  ...   461.874840   \n",
       "min        NaN     2.000000     5.000000                NaN  ...    31.000000   \n",
       "25%        NaN  1145.000000   895.000000                NaN  ...   256.000000   \n",
       "50%        NaN  1605.000000  2309.000000                NaN  ...   448.000000   \n",
       "75%        NaN  1940.000000  4444.000000                NaN  ...   761.000000   \n",
       "max        NaN  2359.000000  7794.000000                NaN  ...  2704.000000   \n",
       "\n",
       "       TaxiIn  TaxiOut  Cancelled  Diverted  CarrierDelay  WeatherDelay  \\\n",
       "count     0.0      0.0     1399.0    1399.0           0.0           0.0   \n",
       "mean      NaN      NaN        1.0       0.0           NaN           NaN   \n",
       "std       NaN      NaN        0.0       0.0           NaN           NaN   \n",
       "min       NaN      NaN        1.0       0.0           NaN           NaN   \n",
       "25%       NaN      NaN        1.0       0.0           NaN           NaN   \n",
       "50%       NaN      NaN        1.0       0.0           NaN           NaN   \n",
       "75%       NaN      NaN        1.0       0.0           NaN           NaN   \n",
       "max       NaN      NaN        1.0       0.0           NaN           NaN   \n",
       "\n",
       "       NASDelay  SecurityDelay  LateAircraftDelay  \n",
       "count       0.0            0.0                0.0  \n",
       "mean        NaN            NaN                NaN  \n",
       "std         NaN            NaN                NaN  \n",
       "min         NaN            NaN                NaN  \n",
       "25%         NaN            NaN                NaN  \n",
       "50%         NaN            NaN                NaN  \n",
       "75%         NaN            NaN                NaN  \n",
       "max         NaN            NaN                NaN  \n",
       "\n",
       "[8 rows x 24 columns]"
      ]
     },
     "metadata": {},
     "output_type": "display_data"
    },
    {
     "name": "stdout",
     "output_type": "stream",
     "text": [
      "\n",
      "Размерность X: (63404, 28)\n",
      "Размерность y: (63404,)\n"
     ]
    }
   ],
   "source": [
    "#проверка пропущенных значений в целевой переменной\n",
    "target_variable = 'DepDelay'\n",
    "missing_in_target = flights[target_variable].isnull().sum()\n",
    "print(f\"пропущенных значений: {missing_in_target}\")\n",
    "\n",
    "#анализ объектов с пропущенными значениями\n",
    "flights_with_missing_target = flights[flights[target_variable].isnull()]\n",
    "print(\"\\nанализ объектов с пропущенными значениями:\")\n",
    "display(flights_with_missing_target.describe())\n",
    "\n",
    "#исключаем объекты с пропущенным значением целевой переменной\n",
    "flights_cleaned = flights.dropna(subset=[target_variable])\n",
    "\n",
    "#исключаем объекты со значением целевой переменной, равным 0\n",
    "flights_cleaned = flights_cleaned[flights_cleaned[target_variable] != 0]\n",
    "\n",
    "#выделяем целевую переменную в вектор\n",
    "y = flights_cleaned[target_variable]\n",
    "X = flights_cleaned.drop(columns=[target_variable])\n",
    "\n",
    "print(f\"\\nРазмерность X: {X.shape}\")\n",
    "print(f\"Размерность y: {y.shape}\")"
   ]
  },
  {
   "cell_type": "markdown",
   "metadata": {
    "id": "X9MaOSN1oc5b"
   },
   "source": [
    "**13. (0.5 балла)** Обратите внимание, что признаки DepTime, CRSDepTime, ArrTime, CRSArrTime приведены в формате hhmm, в связи с чем будет не вполне корректно рассматривать их как вещественные.\n",
    "\n",
    "Преобразуйте каждый признак FeatureName из указанных в пару новых признаков FeatureName\\_Hour, FeatureName\\_Minute, разделив каждое из значений на часы и минуты. Не забудьте при этом исключить исходный признак из выборки. В случае, если значение признака отсутствует, значения двух новых признаков, его заменяющих, также должны отсутствовать.\n",
    "\n",
    "Например, признак DepTime необходимо заменить на пару признаков DepTime_Hour, DepTime_Minute. При этом, например, значение 155 исходного признака будет преобразовано в значения 1 и 55 признаков DepTime_Hour, DepTime_Minute соответственно."
   ]
  },
  {
   "cell_type": "code",
   "execution_count": 16,
   "metadata": {
    "colab": {
     "base_uri": "https://localhost:8080/",
     "height": 253
    },
    "id": "uRF1kmkxoc5b",
    "outputId": "cb0deefe-254c-4823-cf74-c269543eb70d"
   },
   "outputs": [
    {
     "data": {
      "text/html": [
       "<div>\n",
       "<style scoped>\n",
       "    .dataframe tbody tr th:only-of-type {\n",
       "        vertical-align: middle;\n",
       "    }\n",
       "\n",
       "    .dataframe tbody tr th {\n",
       "        vertical-align: top;\n",
       "    }\n",
       "\n",
       "    .dataframe thead th {\n",
       "        text-align: right;\n",
       "    }\n",
       "</style>\n",
       "<table border=\"1\" class=\"dataframe\">\n",
       "  <thead>\n",
       "    <tr style=\"text-align: right;\">\n",
       "      <th></th>\n",
       "      <th>Year</th>\n",
       "      <th>Month</th>\n",
       "      <th>DayofMonth</th>\n",
       "      <th>DayOfWeek</th>\n",
       "      <th>UniqueCarrier</th>\n",
       "      <th>FlightNum</th>\n",
       "      <th>TailNum</th>\n",
       "      <th>ActualElapsedTime</th>\n",
       "      <th>CRSElapsedTime</th>\n",
       "      <th>AirTime</th>\n",
       "      <th>...</th>\n",
       "      <th>SecurityDelay</th>\n",
       "      <th>LateAircraftDelay</th>\n",
       "      <th>DepTime_Hour</th>\n",
       "      <th>DepTime_Minute</th>\n",
       "      <th>CRSDepTime_Hour</th>\n",
       "      <th>CRSDepTime_Minute</th>\n",
       "      <th>ArrTime_Hour</th>\n",
       "      <th>ArrTime_Minute</th>\n",
       "      <th>CRSArrTime_Hour</th>\n",
       "      <th>CRSArrTime_Minute</th>\n",
       "    </tr>\n",
       "  </thead>\n",
       "  <tbody>\n",
       "    <tr>\n",
       "      <th>0</th>\n",
       "      <td>2008</td>\n",
       "      <td>6</td>\n",
       "      <td>18</td>\n",
       "      <td>3</td>\n",
       "      <td>WN</td>\n",
       "      <td>242</td>\n",
       "      <td>N699SW</td>\n",
       "      <td>57.0</td>\n",
       "      <td>65.0</td>\n",
       "      <td>46.0</td>\n",
       "      <td>...</td>\n",
       "      <td>NaN</td>\n",
       "      <td>NaN</td>\n",
       "      <td>21.0</td>\n",
       "      <td>11.0</td>\n",
       "      <td>20.0</td>\n",
       "      <td>55.0</td>\n",
       "      <td>23.0</td>\n",
       "      <td>8.0</td>\n",
       "      <td>23.0</td>\n",
       "      <td>0.0</td>\n",
       "    </tr>\n",
       "    <tr>\n",
       "      <th>1</th>\n",
       "      <td>2008</td>\n",
       "      <td>6</td>\n",
       "      <td>4</td>\n",
       "      <td>3</td>\n",
       "      <td>XE</td>\n",
       "      <td>2380</td>\n",
       "      <td>N15980</td>\n",
       "      <td>124.0</td>\n",
       "      <td>138.0</td>\n",
       "      <td>108.0</td>\n",
       "      <td>...</td>\n",
       "      <td>NaN</td>\n",
       "      <td>NaN</td>\n",
       "      <td>14.0</td>\n",
       "      <td>26.0</td>\n",
       "      <td>14.0</td>\n",
       "      <td>10.0</td>\n",
       "      <td>17.0</td>\n",
       "      <td>30.0</td>\n",
       "      <td>17.0</td>\n",
       "      <td>28.0</td>\n",
       "    </tr>\n",
       "    <tr>\n",
       "      <th>2</th>\n",
       "      <td>2008</td>\n",
       "      <td>8</td>\n",
       "      <td>3</td>\n",
       "      <td>7</td>\n",
       "      <td>WN</td>\n",
       "      <td>1769</td>\n",
       "      <td>N464WN</td>\n",
       "      <td>138.0</td>\n",
       "      <td>155.0</td>\n",
       "      <td>125.0</td>\n",
       "      <td>...</td>\n",
       "      <td>NaN</td>\n",
       "      <td>NaN</td>\n",
       "      <td>11.0</td>\n",
       "      <td>43.0</td>\n",
       "      <td>11.0</td>\n",
       "      <td>45.0</td>\n",
       "      <td>15.0</td>\n",
       "      <td>1.0</td>\n",
       "      <td>15.0</td>\n",
       "      <td>20.0</td>\n",
       "    </tr>\n",
       "    <tr>\n",
       "      <th>3</th>\n",
       "      <td>2008</td>\n",
       "      <td>1</td>\n",
       "      <td>23</td>\n",
       "      <td>3</td>\n",
       "      <td>OO</td>\n",
       "      <td>3802</td>\n",
       "      <td>N465SW</td>\n",
       "      <td>102.0</td>\n",
       "      <td>111.0</td>\n",
       "      <td>79.0</td>\n",
       "      <td>...</td>\n",
       "      <td>NaN</td>\n",
       "      <td>NaN</td>\n",
       "      <td>11.0</td>\n",
       "      <td>41.0</td>\n",
       "      <td>11.0</td>\n",
       "      <td>44.0</td>\n",
       "      <td>13.0</td>\n",
       "      <td>23.0</td>\n",
       "      <td>13.0</td>\n",
       "      <td>35.0</td>\n",
       "    </tr>\n",
       "    <tr>\n",
       "      <th>4</th>\n",
       "      <td>2008</td>\n",
       "      <td>5</td>\n",
       "      <td>4</td>\n",
       "      <td>7</td>\n",
       "      <td>WN</td>\n",
       "      <td>399</td>\n",
       "      <td>N489WN</td>\n",
       "      <td>148.0</td>\n",
       "      <td>160.0</td>\n",
       "      <td>136.0</td>\n",
       "      <td>...</td>\n",
       "      <td>NaN</td>\n",
       "      <td>NaN</td>\n",
       "      <td>8.0</td>\n",
       "      <td>15.0</td>\n",
       "      <td>8.0</td>\n",
       "      <td>20.0</td>\n",
       "      <td>12.0</td>\n",
       "      <td>43.0</td>\n",
       "      <td>13.0</td>\n",
       "      <td>0.0</td>\n",
       "    </tr>\n",
       "  </tbody>\n",
       "</table>\n",
       "<p>5 rows × 33 columns</p>\n",
       "</div>"
      ],
      "text/plain": [
       "   Year  Month  DayofMonth  DayOfWeek UniqueCarrier  FlightNum TailNum  \\\n",
       "0  2008      6          18          3            WN        242  N699SW   \n",
       "1  2008      6           4          3            XE       2380  N15980   \n",
       "2  2008      8           3          7            WN       1769  N464WN   \n",
       "3  2008      1          23          3            OO       3802  N465SW   \n",
       "4  2008      5           4          7            WN        399  N489WN   \n",
       "\n",
       "   ActualElapsedTime  CRSElapsedTime  AirTime  ...  SecurityDelay  \\\n",
       "0               57.0            65.0     46.0  ...            NaN   \n",
       "1              124.0           138.0    108.0  ...            NaN   \n",
       "2              138.0           155.0    125.0  ...            NaN   \n",
       "3              102.0           111.0     79.0  ...            NaN   \n",
       "4              148.0           160.0    136.0  ...            NaN   \n",
       "\n",
       "   LateAircraftDelay DepTime_Hour DepTime_Minute  CRSDepTime_Hour  \\\n",
       "0                NaN         21.0           11.0             20.0   \n",
       "1                NaN         14.0           26.0             14.0   \n",
       "2                NaN         11.0           43.0             11.0   \n",
       "3                NaN         11.0           41.0             11.0   \n",
       "4                NaN          8.0           15.0              8.0   \n",
       "\n",
       "   CRSDepTime_Minute  ArrTime_Hour  ArrTime_Minute CRSArrTime_Hour  \\\n",
       "0               55.0          23.0             8.0            23.0   \n",
       "1               10.0          17.0            30.0            17.0   \n",
       "2               45.0          15.0             1.0            15.0   \n",
       "3               44.0          13.0            23.0            13.0   \n",
       "4               20.0          12.0            43.0            13.0   \n",
       "\n",
       "   CRSArrTime_Minute  \n",
       "0                0.0  \n",
       "1               28.0  \n",
       "2               20.0  \n",
       "3               35.0  \n",
       "4                0.0  \n",
       "\n",
       "[5 rows x 33 columns]"
      ]
     },
     "metadata": {},
     "output_type": "display_data"
    }
   ],
   "source": [
    "#разделение времени на часы и минуты\n",
    "def split_time(df, column_name):\n",
    "    #новые столбцы для часов и минут\n",
    "    df[f\"{column_name}_Hour\"] = np.where(\n",
    "        df[column_name].notnull(),\n",
    "        df[column_name] // 100,  # Целочисленное деление для получения часа\n",
    "        np.nan  # Пропуск для NaN значений\n",
    "    )\n",
    "    df[f\"{column_name}_Minute\"] = np.where(\n",
    "        df[column_name].notnull(),\n",
    "        df[column_name] % 100,  # Остаток от деления для получения минут\n",
    "        np.nan  # Пропуск для NaN значений\n",
    "    )\n",
    "    #удаление исходного столбца\n",
    "    df.drop(columns=[column_name], inplace=True)\n",
    "\n",
    "#применяяем функцию\n",
    "time_columns = ['DepTime', 'CRSDepTime', 'ArrTime', 'CRSArrTime']\n",
    "for col in time_columns:\n",
    "    if col in flights.columns:\n",
    "        split_time(flights, col)\n",
    "\n",
    "#вывод\n",
    "display(flights.head())"
   ]
  },
  {
   "cell_type": "markdown",
   "metadata": {
    "id": "X1A-O0Uloc5b"
   },
   "source": [
    "**14. (0.5 балла)** Некоторые из признаков, отличных от целевой переменной, могут оказывать чересчур значимое влияние на прогноз, поскольку по своему смыслу содержат большую долю информации о значении целевой переменной. Изучите описание датасета и исключите признаки, сильно коррелирующие с ответами. Ваш выбор признаков для исключения из выборки обоснуйте. Кроме того, исключите признаки TailNum и Year."
   ]
  },
  {
   "cell_type": "code",
   "execution_count": 17,
   "metadata": {
    "colab": {
     "base_uri": "https://localhost:8080/"
    },
    "id": "M416-PyEoc5b",
    "outputId": "b529a44e-b307-4046-886f-06c81cef6366"
   },
   "outputs": [
    {
     "name": "stdout",
     "output_type": "stream",
     "text": [
      "признаки после исключения:\n",
      "['Month', 'DayofMonth', 'DayOfWeek', 'UniqueCarrier', 'FlightNum', 'AirTime', 'DepDelay', 'Origin', 'Dest', 'Distance', 'TaxiIn', 'TaxiOut', 'Cancelled', 'CancellationCode', 'Diverted', 'CarrierDelay', 'WeatherDelay', 'NASDelay', 'SecurityDelay', 'LateAircraftDelay', 'DepTime_Hour', 'DepTime_Minute', 'CRSDepTime_Hour', 'CRSDepTime_Minute', 'ArrTime_Hour', 'ArrTime_Minute', 'CRSArrTime_Hour', 'CRSArrTime_Minute']\n"
     ]
    }
   ],
   "source": [
    "#признаки для исключения\n",
    "features_to_drop = ['ArrDelay', 'ActualElapsedTime', 'CRSElapsedTime', 'TailNum', 'Year']\n",
    "\n",
    "#проверяем наличие этих признаков в датасете и исключаем их\n",
    "flights_cleaned = flights.drop(columns=features_to_drop, errors='ignore')\n",
    "\n",
    "#вывод\n",
    "print(\"признаки после исключения:\")\n",
    "print(flights_cleaned.columns.tolist())"
   ]
  },
  {
   "cell_type": "markdown",
   "metadata": {},
   "source": [
    "**TailNum, Year** - исключены по заданию\n",
    "\n",
    "**ArrDelay, ActualElapsedTime, CRSElapsedTime** - во многих случаях полностью составляют целевую переменную (суммарно и с пересечениями) и имеют много пропусков"
   ]
  },
  {
   "cell_type": "markdown",
   "metadata": {
    "id": "hdTQpJDooc5b"
   },
   "source": [
    "**15. (1 балл)** Приведем данные к виду, пригодному для обучения линейных моделей. Для этого вещественные признаки надо отмасштабировать, а категориальные — привести к числовому виду. Также надо устранить пропуски в данных."
   ]
  },
  {
   "cell_type": "markdown",
   "metadata": {
    "id": "14MO8SgQoc5c"
   },
   "source": [
    "В первую очередь поймем, зачем необходимо применять масштабирование. Следующие ячейки с кодом построят гистограммы для 3 вещественных признаков выборки."
   ]
  },
  {
   "cell_type": "code",
   "execution_count": 18,
   "metadata": {
    "colab": {
     "base_uri": "https://localhost:8080/"
    },
    "id": "shzZ8TgO0toH",
    "outputId": "ec2e39e6-1444-473a-e82b-709c5cd9ee41"
   },
   "outputs": [
    {
     "name": "stdout",
     "output_type": "stream",
     "text": [
      "размерность преобразованных данных: (70000, 638)\n"
     ]
    }
   ],
   "source": [
    "import pandas as pd\n",
    "import numpy as np\n",
    "from sklearn.preprocessing import StandardScaler\n",
    "from sklearn.impute import SimpleImputer\n",
    "from sklearn.compose import ColumnTransformer\n",
    "from sklearn.pipeline import Pipeline\n",
    "from sklearn.preprocessing import OneHotEncoder\n",
    "\n",
    "#загрузка данных (у меня почему-то все ломается, если их тут не загружать, хотя они уже подгружены вообще-то)\n",
    "flights = pd.read_csv(\"https://raw.githubusercontent.com/raffeekk/ML25/refs/heads/main/2008.csv\")\n",
    "\n",
    "#исключаем целевую переменную и предыдущие исключения\n",
    "features_to_drop = ['ArrDelay', 'ActualElapsedTime', 'CRSElapsedTime', 'TailNum', 'Year', 'DepDelay']\n",
    "X = flights.drop(columns=features_to_drop, errors='ignore')\n",
    "y = flights['DepDelay']\n",
    "\n",
    "#делим признаки на вещественные и категориальные\n",
    "numeric_features = X.select_dtypes(include=['float64', 'int64']).columns.tolist()\n",
    "categorical_features = X.select_dtypes(include=['object']).columns.tolist()\n",
    "\n",
    "#создаем трансформеры для обработки данных\n",
    "numeric_transformer = Pipeline(steps=[\n",
    "    ('imputer', SimpleImputer(strategy='median')),  # Заполняем пропуски медианой\n",
    "    ('scaler', StandardScaler())  # Стандартизация\n",
    "])\n",
    "\n",
    "categorical_transformer = Pipeline(steps=[\n",
    "    ('imputer', SimpleImputer(strategy='most_frequent')),  # Заполняем пропуски наиболее частым значением\n",
    "    ('onehot', OneHotEncoder(handle_unknown='ignore'))  # One-hot encoding\n",
    "])\n",
    "\n",
    "#объединяем трансформеры\n",
    "preprocessor = ColumnTransformer(\n",
    "    transformers=[\n",
    "        ('num', numeric_transformer, numeric_features),\n",
    "        ('cat', categorical_transformer, categorical_features)\n",
    "    ])\n",
    "\n",
    "#применяем преобразования\n",
    "X_prepared = preprocessor.fit_transform(X)\n",
    "\n",
    "#вывод\n",
    "print(f\"размерность преобразованных данных: {X_prepared.shape}\")"
   ]
  },
  {
   "cell_type": "code",
   "execution_count": 19,
   "metadata": {
    "colab": {
     "base_uri": "https://localhost:8080/",
     "height": 447
    },
    "id": "j1ky9b24oc5c",
    "outputId": "80c9989f-3a2f-41ea-d6a9-77713c623073",
    "scrolled": true
   },
   "outputs": [
    {
     "data": {
      "text/plain": [
       "<Axes: >"
      ]
     },
     "execution_count": 19,
     "metadata": {},
     "output_type": "execute_result"
    },
    {
     "data": {
      "image/png": "[encoded data removed]",
      "text/plain": [
       "<Figure size 640x480 with 1 Axes>"
      ]
     },
     "metadata": {},
     "output_type": "display_data"
    }
   ],
   "source": [
    "X['DepTime'].hist(bins=20)"
   ]
  },
  {
   "cell_type": "code",
   "execution_count": 20,
   "metadata": {
    "colab": {
     "base_uri": "https://localhost:8080/",
     "height": 447
    },
    "id": "vkd3bNTUoc5c",
    "outputId": "5e121e16-6e14-42b2-ff94-0681988c4275"
   },
   "outputs": [
    {
     "data": {
      "text/plain": [
       "<Axes: >"
      ]
     },
     "execution_count": 20,
     "metadata": {},
     "output_type": "execute_result"
    },
    {
     "data": {
      "image/png": "[encoded data removed]",
      "text/plain": [
       "<Figure size 640x480 with 1 Axes>"
      ]
     },
     "metadata": {},
     "output_type": "display_data"
    }
   ],
   "source": [
    "X['TaxiIn'].hist(bins=20)"
   ]
  },
  {
   "cell_type": "code",
   "execution_count": 21,
   "metadata": {
    "colab": {
     "base_uri": "https://localhost:8080/",
     "height": 447
    },
    "id": "4WacABy9oc5c",
    "outputId": "a84835fa-aa9f-4074-eee2-3bf05bef0c1f"
   },
   "outputs": [
    {
     "data": {
      "text/plain": [
       "<Axes: >"
      ]
     },
     "execution_count": 21,
     "metadata": {},
     "output_type": "execute_result"
    },
    {
     "data": {
      "image/png": "[encoded data removed]",
      "text/plain": [
       "<Figure size 640x480 with 1 Axes>"
      ]
     },
     "metadata": {},
     "output_type": "display_data"
    }
   ],
   "source": [
    "X['FlightNum'].hist(bins=20)"
   ]
  },
  {
   "cell_type": "markdown",
   "metadata": {
    "id": "A7m_Saedoc5d"
   },
   "source": [
    "Некоторые из признаков в нашем датасете являются категориальными. Типичным подходом к работе с ними является бинарное, или [one-hot-кодирование](https://en.wikipedia.org/wiki/One-hot).\n",
    "\n",
    "Реализуйте функцию transform_data, которая принимает на вход DataFrame с признаками и выполняет следующие шаги:\n",
    "1. Замена пропущенных значений на нули для вещественных признаков и на строки 'nan' для категориальных.\n",
    "2. Масштабирование вещественных признаков с помощью [StandardScaler](http://scikit-learn.org/stable/modules/generated/sklearn.preprocessing.StandardScaler.html).\n",
    "3. One-hot-кодирование категориальных признаков с помощью [DictVectorizer](http://scikit-learn.org/stable/modules/generated/sklearn.feature_extraction.DictVectorizer.html) или функции [pd.get_dummies](http://pandas.pydata.org/pandas-docs/stable/generated/pandas.get_dummies.html).\n",
    "\n",
    "Метод должен возвращать преобразованный DataFrame, который должна состоять из масштабированных вещественных признаков и закодированных категориальных (исходные признаки должны быть исключены из выборки)."
   ]
  },
  {
   "cell_type": "code",
   "execution_count": 22,
   "metadata": {
    "id": "vUnccH2Xoc5d"
   },
   "outputs": [],
   "source": [
    "from sklearn.feature_extraction import DictVectorizer\n",
    "\n",
    "def transform_data(data):\n",
    "    #копируем, чтобы не изменять исходник\n",
    "    data_transformed = data.copy()\n",
    "\n",
    "    #делим признаки на вещественные и категориальные\n",
    "    numeric_features = data_transformed.select_dtypes(include=['float64', 'int64']).columns.tolist()\n",
    "    categorical_features = data_transformed.select_dtypes(include=['object']).columns.tolist()\n",
    "\n",
    "    #1.замена пропущенных значений\n",
    "    #для вещественных признаков заменяем NaN на 0\n",
    "    data_transformed[numeric_features] = data_transformed[numeric_features].fillna(0)\n",
    "    #для категориальных признаков заменяем NaN на строку 'nan'\n",
    "    data_transformed[categorical_features] = data_transformed[categorical_features].fillna('nan')\n",
    "\n",
    "    #2.масштабирование вещественных признаков\n",
    "    scaler = StandardScaler()\n",
    "    data_transformed[numeric_features] = scaler.fit_transform(data_transformed[numeric_features])\n",
    "\n",
    "    #3.One-hot-кодирование категориальных признаков\n",
    "    if len(categorical_features) > 0:\n",
    "        #преобразуем категориальные признаки в словарь для DictVectorizer\n",
    "        categorical_data = data_transformed[categorical_features].to_dict(orient='records')\n",
    "\n",
    "        #применяем DictVectorizer\n",
    "        vec = DictVectorizer(sparse=False)\n",
    "        categorical_encoded = vec.fit_transform(categorical_data)\n",
    "\n",
    "        #создаем DataFrame для закодированных категориальных признаков\n",
    "        categorical_encoded_df = pd.DataFrame(\n",
    "            categorical_encoded,\n",
    "            columns=vec.get_feature_names_out(),\n",
    "            index=data_transformed.index\n",
    "        )\n",
    "\n",
    "        #удаляем исходные категориальные признаки\n",
    "        data_transformed.drop(columns=categorical_features, inplace=True)\n",
    "\n",
    "        #добавляем закодированные категориальные признаки\n",
    "        data_transformed = pd.concat([data_transformed, categorical_encoded_df], axis=1)\n",
    "\n",
    "    return data_transformed"
   ]
  },
  {
   "cell_type": "markdown",
   "metadata": {
    "id": "-83piV95oc5d"
   },
   "source": [
    "Примените функцию transform_data к данным. Сколько признаков получилось после преобразования?"
   ]
  },
  {
   "cell_type": "code",
   "execution_count": 23,
   "metadata": {
    "colab": {
     "base_uri": "https://localhost:8080/"
    },
    "id": "ZgOJ_Gxooc5d",
    "outputId": "80a5d768-3dc1-4c6d-bb8e-2d042272160c"
   },
   "outputs": [
    {
     "name": "stdout",
     "output_type": "stream",
     "text": [
      "размерность преобразованных данных: (70000, 639)\n",
      "количество признаков после преобразования: 639\n"
     ]
    }
   ],
   "source": [
    "#исключаем\n",
    "features_to_drop = ['ArrDelay', 'ActualElapsedTime', 'CRSElapsedTime', 'TailNum', 'Year', 'DepDelay']\n",
    "X = flights.drop(columns=features_to_drop, errors='ignore')\n",
    "\n",
    "#применяем функцию\n",
    "X_transformed = transform_data(X)\n",
    "\n",
    "#вывод\n",
    "print(f\"размерность преобразованных данных: {X_transformed.shape}\")\n",
    "print(f\"количество признаков после преобразования: {X_transformed.shape[1]}\")"
   ]
  },
  {
   "cell_type": "markdown",
   "metadata": {
    "id": "9hUy8cS4oc5d"
   },
   "source": [
    "**16. (0.5 балла)** Разбейте выборку и вектор целевой переменной на обучение и контроль в отношении 70/30 (для этого можно использовать, например, функцию [train_test_split](http://scikit-learn.org/stable/modules/generated/sklearn.cross_validation.train_test_split.html))."
   ]
  },
  {
   "cell_type": "code",
   "execution_count": 24,
   "metadata": {
    "colab": {
     "base_uri": "https://localhost:8080/"
    },
    "id": "KVx6OaIqoc5e",
    "outputId": "b6d33b35-28e1-428e-cf91-a86b438c5d98"
   },
   "outputs": [
    {
     "name": "stdout",
     "output_type": "stream",
     "text": [
      "размер обучающей выборки (X_train): (49000, 639)\n",
      "размер тестовой выборки (X_test): (21000, 639)\n",
      "размер вектора целевой переменной для обучающей выборки (y_train): (49000,)\n",
      "размер вектора целевой переменной для тестовой выборки (y_test): (21000,)\n"
     ]
    }
   ],
   "source": [
    "from sklearn.model_selection import train_test_split\n",
    "\n",
    "#разбиваем данные на обучающую и тестовую выборки\n",
    "X_train, X_test, y_train, y_test = train_test_split(\n",
    "    X_transformed,  #матрица признаков после преобразования\n",
    "    y,              #вектор целевой переменной\n",
    "    test_size=0.3,  #30% данных для тестовой выборки\n",
    "    random_state=42 #фиксируем случайность для воспроизводимости результатов\n",
    ")\n",
    "\n",
    "#вывод\n",
    "print(f\"размер обучающей выборки (X_train): {X_train.shape}\")\n",
    "print(f\"размер тестовой выборки (X_test): {X_test.shape}\")\n",
    "print(f\"размер вектора целевой переменной для обучающей выборки (y_train): {y_train.shape}\")\n",
    "print(f\"размер вектора целевой переменной для тестовой выборки (y_test): {y_test.shape}\")"
   ]
  },
  {
   "cell_type": "markdown",
   "metadata": {
    "id": "4TTN5ccJoc5f"
   },
   "source": [
    "### Scikit-learn\n",
    "\n",
    "<img src = \"https://pp.vk.me/c4534/u35727827/93547647/x_d31c4463.jpg\">\n",
    "Теперь, когда мы привели данные к пригодному виду, попробуем решить задачу при помощи метода наименьших квадратов. Напомним, что данный метод заключается в оптимизации функционала $MSE$:\n",
    "\n",
    "$$MSE(X, y) = \\frac{1}{l} \\sum_{i=1}^l (<w, x_i> - y_i)^2 \\to \\min_{w},$$\n",
    "\n",
    "где $\\{ (x_i, y_i ) \\}_{i=1}^l$ — обучающая выборка, состоящая из $l$ пар объект-ответ.\n",
    "\n",
    "Заметим, что решение данной задачи уже реализовано в модуле sklearn в виде класса [LinearRegression](http://scikit-learn.org/stable/modules/generated/sklearn.linear_model.LinearRegression.html#sklearn.linear_model.LinearRegression).\n",
    "\n",
    "**17. (0.5 балла)** Обучите линейную регрессию на 1000 объектах из обучающей выборки и выведите значения $MSE$ и $R^2$ на этой подвыборке и контрольной выборке (итого 4 различных числа). Проинтерпретируйте полученный результат — насколько качественные прогнозы строит полученная модель? Какие проблемы наблюдаются в модели?\n",
    "\n",
    "**Подсказка**: изучите значения полученных коэффициентов $w$, сохраненных в атрибуте coef_ объекта LinearRegression."
   ]
  },
  {
   "cell_type": "code",
   "execution_count": 25,
   "metadata": {
    "colab": {
     "base_uri": "https://localhost:8080/",
     "height": 468
    },
    "id": "k-aN4ILooc5f",
    "outputId": "8273639b-281e-4c0f-efbf-426dee85186e"
   },
   "outputs": [
    {
     "name": "stdout",
     "output_type": "stream",
     "text": [
      "MSE на обучающей подвыборке: 44.05\n",
      "R^2 на обучающей подвыборке: 0.96\n",
      "MSE на тестовой выборке: 429341321032112348470444032.00\n",
      "R^2 на тестовой выборке: -334727032455523249160192.00\n",
      "\n",
      "наиболее значимые коэффициенты:\n"
     ]
    },
    {
     "data": {
      "text/html": [
       "<div>\n",
       "<style scoped>\n",
       "    .dataframe tbody tr th:only-of-type {\n",
       "        vertical-align: middle;\n",
       "    }\n",
       "\n",
       "    .dataframe tbody tr th {\n",
       "        vertical-align: top;\n",
       "    }\n",
       "\n",
       "    .dataframe thead th {\n",
       "        text-align: right;\n",
       "    }\n",
       "</style>\n",
       "<table border=\"1\" class=\"dataframe\">\n",
       "  <thead>\n",
       "    <tr style=\"text-align: right;\">\n",
       "      <th></th>\n",
       "      <th>Feature</th>\n",
       "      <th>Coefficient</th>\n",
       "    </tr>\n",
       "  </thead>\n",
       "  <tbody>\n",
       "    <tr>\n",
       "      <th>12</th>\n",
       "      <td>Cancelled</td>\n",
       "      <td>-1.758031e+14</td>\n",
       "    </tr>\n",
       "    <tr>\n",
       "      <th>19</th>\n",
       "      <td>CancellationCode=A</td>\n",
       "      <td>8.963372e+13</td>\n",
       "    </tr>\n",
       "    <tr>\n",
       "      <th>24</th>\n",
       "      <td>Dest=ABI</td>\n",
       "      <td>7.947349e+13</td>\n",
       "    </tr>\n",
       "    <tr>\n",
       "      <th>22</th>\n",
       "      <td>CancellationCode=nan</td>\n",
       "      <td>-4.008905e+13</td>\n",
       "    </tr>\n",
       "    <tr>\n",
       "      <th>23</th>\n",
       "      <td>Dest=ABE</td>\n",
       "      <td>3.944282e+13</td>\n",
       "    </tr>\n",
       "    <tr>\n",
       "      <th>26</th>\n",
       "      <td>Dest=ABY</td>\n",
       "      <td>1.585705e+13</td>\n",
       "    </tr>\n",
       "    <tr>\n",
       "      <th>31</th>\n",
       "      <td>Dest=ADK</td>\n",
       "      <td>9.547116e+12</td>\n",
       "    </tr>\n",
       "    <tr>\n",
       "      <th>30</th>\n",
       "      <td>Dest=ACY</td>\n",
       "      <td>8.085487e+12</td>\n",
       "    </tr>\n",
       "    <tr>\n",
       "      <th>629</th>\n",
       "      <td>UniqueCarrier=HA</td>\n",
       "      <td>-7.982347e+12</td>\n",
       "    </tr>\n",
       "    <tr>\n",
       "      <th>633</th>\n",
       "      <td>UniqueCarrier=OO</td>\n",
       "      <td>-7.982347e+12</td>\n",
       "    </tr>\n",
       "  </tbody>\n",
       "</table>\n",
       "</div>"
      ],
      "text/plain": [
       "                  Feature   Coefficient\n",
       "12              Cancelled -1.758031e+14\n",
       "19     CancellationCode=A  8.963372e+13\n",
       "24               Dest=ABI  7.947349e+13\n",
       "22   CancellationCode=nan -4.008905e+13\n",
       "23               Dest=ABE  3.944282e+13\n",
       "26               Dest=ABY  1.585705e+13\n",
       "31               Dest=ADK  9.547116e+12\n",
       "30               Dest=ACY  8.085487e+12\n",
       "629      UniqueCarrier=HA -7.982347e+12\n",
       "633      UniqueCarrier=OO -7.982347e+12"
      ]
     },
     "metadata": {},
     "output_type": "display_data"
    }
   ],
   "source": [
    "from sklearn.linear_model import LinearRegression\n",
    "from sklearn.metrics import mean_squared_error, r2_score\n",
    "\n",
    "#проверка на NaN в данных\n",
    "#сброс индексов для синхронизации X_train и y_train\n",
    "X_train_reset = X_train.reset_index(drop=True)\n",
    "y_train_reset = y_train.reset_index(drop=True)\n",
    "\n",
    "#маска для удаления строк с NaN в y_train\n",
    "non_nan_indices_train = ~np.isnan(y_train_reset)\n",
    "\n",
    "#применяем маску\n",
    "X_train_clean = X_train_reset[non_nan_indices_train]\n",
    "y_train_clean = y_train_reset[non_nan_indices_train]\n",
    "\n",
    "#используем только первые 1000 объектов из очищенной обучающей выборки, больше тыщу лет считает\n",
    "X_train_subset = X_train_clean[:1000]\n",
    "y_train_subset = y_train_clean[:1000]\n",
    "\n",
    "#проврка тестовую выборку\n",
    "#сброс индексов для синхронизации\n",
    "X_test_reset = X_test.reset_index(drop=True)\n",
    "y_test_reset = y_test.reset_index(drop=True)\n",
    "\n",
    "#создаем маску для удаления строк с NaN в y_test\n",
    "non_nan_indices_test = ~np.isnan(y_test_reset)\n",
    "\n",
    "#применяем маску\n",
    "X_test_clean = X_test_reset[non_nan_indices_test]\n",
    "y_test_clean = y_test_reset[non_nan_indices_test]\n",
    "\n",
    "#создаем и обучаем модель линейной регрессии\n",
    "model = LinearRegression()\n",
    "model.fit(X_train_subset, y_train_subset)\n",
    "\n",
    "#предсказания на обучающей подвыборке и тестовой выборке\n",
    "y_train_pred = model.predict(X_train_subset)\n",
    "y_test_pred = model.predict(X_test_clean)\n",
    "\n",
    "#есть ли NaN в предсказаниях\n",
    "if np.any(np.isnan(y_test_pred)):\n",
    "    print(\"Внимание: Предсказания модели содержат NaN. Заменяем их на 0.\")\n",
    "    y_test_pred = np.nan_to_num(y_test_pred)\n",
    "\n",
    "#вычисляем MSE и R^2\n",
    "mse_train = mean_squared_error(y_train_subset, y_train_pred)\n",
    "r2_train = r2_score(y_train_subset, y_train_pred)\n",
    "\n",
    "mse_test = mean_squared_error(y_test_clean, y_test_pred)\n",
    "r2_test = r2_score(y_test_clean, y_test_pred)\n",
    "\n",
    "#вывод\n",
    "print(f\"MSE на обучающей подвыборке: {mse_train:.2f}\")\n",
    "print(f\"R^2 на обучающей подвыборке: {r2_train:.2f}\")\n",
    "print(f\"MSE на тестовой выборке: {mse_test:.2f}\")\n",
    "print(f\"R^2 на тестовой выборке: {r2_test:.2f}\")\n",
    "\n",
    "#анализ коэффициентов модели\n",
    "coefficients = pd.DataFrame({\n",
    "    'Feature': X_train_subset.columns,\n",
    "    'Coefficient': model.coef_\n",
    "}).sort_values(by='Coefficient', key=abs, ascending=False)\n",
    "\n",
    "print(\"\\nнаиболее значимые коэффициенты:\")\n",
    "display(coefficients.head(10))"
   ]
  },
  {
   "cell_type": "markdown",
   "metadata": {
    "collapsed": true,
    "id": "foQxn51Coc5f",
    "jupyter": {
     "outputs_hidden": true
    }
   },
   "source": [
    "[Текст ссылки](https://)Для решения описанных вами в предыдущем пункте проблем используем L1- или L2-регуляризацию, тем самым получив Lasso и Ridge регрессии соответственно и изменив оптимизационную задачу одним из следующих образов:\n",
    "$$MSE_{L1}(X, y) = \\frac{1}{l} \\sum_{i=1}^l (<w, x_i> - y_i)^2 + \\alpha ||w||_1 \\to \\min_{w},$$\n",
    "$$MSE_{L2}(X, y) = \\frac{1}{l} \\sum_{i=1}^l (<w, x_i> - y_i)^2 + \\alpha ||w||_2^2 \\to \\min_{w},$$\n",
    "\n",
    "где $\\alpha$ — коэффициент регуляризации. Один из способов его подбора заключается в переборе некоторого количества значений и оценке качества на кросс-валидации для каждого из них, после чего выбирается значение, для которого было получено наилучшее качество.\n",
    "\n",
    "**18. (0.5 балла)** Обучите линейные регрессии с L1- и L2-регуляризатором, подобрав лучшее значение параметра регуляризации из списка alpha_grid при помощи кросс-валидации c 5 фолдами на тех же 1000 объектах, что и в п.17. Выведите значения $MSE$ и $R^2$ на обучающей и контрольной выборках. Удалось ли решить указанные вами ранее проблемы?\n",
    "\n",
    "Для выполнения данного задания вам могут понадобиться реализованные в библиотеке объекты [LassoCV](http://scikit-learn.org/stable/modules/generated/sklearn.linear_model.LassoCV.html), [RidgeCV](http://scikit-learn.org/stable/modules/generated/sklearn.linear_model.RidgeCV.html) и [KFold](http://scikit-learn.org/stable/modules/generated/sklearn.cross_validation.KFold.html).\n"
   ]
  },
  {
   "cell_type": "code",
   "execution_count": 26,
   "metadata": {
    "colab": {
     "base_uri": "https://localhost:8080/"
    },
    "id": "trpQwS67oc5f",
    "outputId": "e6f4860f-4f6d-40b9-fcab-2397be3f9d11"
   },
   "outputs": [
    {
     "name": "stdout",
     "output_type": "stream",
     "text": [
      "Лучшее значение alpha для Lasso: 0.1\n",
      "\n",
      "метрики для Lasso:\n",
      "MSE на обучающей подвыборке: 74.26\n",
      "R^2 на обучающей подвыборке: 0.93\n",
      "MSE на тестовой выборке: 94.82\n",
      "R^2 на тестовой выборке: 0.93\n",
      "\n",
      "Лучшее значение alpha для Ridge: 10.0\n",
      "\n",
      "метрики для Ridge:\n",
      "MSE на обучающей подвыборке: 60.40\n",
      "R^2 на обучающей подвыборке: 0.94\n",
      "MSE на тестовой выборке: 91.57\n",
      "R^2 на тестовой выборке: 0.93\n"
     ]
    }
   ],
   "source": [
    "from sklearn.linear_model import LassoCV, RidgeCV\n",
    "from sklearn.metrics import mean_squared_error, r2_score\n",
    "\n",
    "#удаляем строки с пропущенными значениями в y_test и соответствующие строки в X_test\n",
    "non_nan_indices_test = ~np.isnan(y_test)  #индексы, где y_test не содержит NaN\n",
    "X_test_clean = X_test[non_nan_indices_test]\n",
    "y_test_clean = y_test[non_nan_indices_test]\n",
    "\n",
    "#причина та же самая\n",
    "X_train_subset = X_train_clean[:1000]\n",
    "y_train_subset = y_train_clean[:1000]\n",
    "\n",
    "#сетка значений alpha для поиска оптимального параметра регуляризации\n",
    "alpha_grid = [0.01, 0.1, 1, 10, 100]\n",
    "\n",
    "#1.LassoCV (L1-регуляризация)\n",
    "lasso_cv = LassoCV(alphas=alpha_grid, cv=5, random_state=42)\n",
    "lasso_cv.fit(X_train_subset, y_train_subset)\n",
    "\n",
    "#лучшее значение alpha для Lasso\n",
    "best_alpha_lasso = lasso_cv.alpha_\n",
    "print(f\"Лучшее значение alpha для Lasso: {best_alpha_lasso}\")\n",
    "\n",
    "#предсказания на обучающей подвыборке и очищенной тестовой выборке\n",
    "y_train_pred_lasso = lasso_cv.predict(X_train_subset)\n",
    "y_test_pred_lasso = lasso_cv.predict(X_test_clean)\n",
    "\n",
    "#есть ли NaN в предсказаниях\n",
    "if np.any(np.isnan(y_test_pred_lasso)):\n",
    "    print(\"Внимание: Предсказания Lasso содержат NaN. Заменяем их на 0.\")\n",
    "    y_test_pred_lasso = np.nan_to_num(y_test_pred_lasso)\n",
    "\n",
    "#метрики для Lasso\n",
    "mse_train_lasso = mean_squared_error(y_train_subset, y_train_pred_lasso)\n",
    "r2_train_lasso = r2_score(y_train_subset, y_train_pred_lasso)\n",
    "\n",
    "mse_test_lasso = mean_squared_error(y_test_clean, y_test_pred_lasso)\n",
    "r2_test_lasso = r2_score(y_test_clean, y_test_pred_lasso)\n",
    "\n",
    "print(\"\\nметрики для Lasso:\")\n",
    "print(f\"MSE на обучающей подвыборке: {mse_train_lasso:.2f}\")\n",
    "print(f\"R^2 на обучающей подвыборке: {r2_train_lasso:.2f}\")\n",
    "print(f\"MSE на тестовой выборке: {mse_test_lasso:.2f}\")\n",
    "print(f\"R^2 на тестовой выборке: {r2_test_lasso:.2f}\")\n",
    "\n",
    "#2.RidgeCV (L2-регуляризация)\n",
    "ridge_cv = RidgeCV(alphas=alpha_grid, cv=5)\n",
    "ridge_cv.fit(X_train_subset, y_train_subset)\n",
    "\n",
    "#лучшее значение alpha для Ridge\n",
    "best_alpha_ridge = ridge_cv.alpha_\n",
    "print(f\"\\nЛучшее значение alpha для Ridge: {best_alpha_ridge}\")\n",
    "\n",
    "#предсказания на обучающей подвыборке и очищенной тестовой выборке\n",
    "y_train_pred_ridge = ridge_cv.predict(X_train_subset)\n",
    "y_test_pred_ridge = ridge_cv.predict(X_test_clean)\n",
    "\n",
    "#есть ли NaN в предсказаниях\n",
    "if np.any(np.isnan(y_test_pred_ridge)):\n",
    "    print(\"Внимание: Предсказания Ridge содержат NaN. Заменяем их на 0.\")\n",
    "    y_test_pred_ridge = np.nan_to_num(y_test_pred_ridge)\n",
    "\n",
    "#метрики для Ridge\n",
    "mse_train_ridge = mean_squared_error(y_train_subset, y_train_pred_ridge)\n",
    "r2_train_ridge = r2_score(y_train_subset, y_train_pred_ridge)\n",
    "\n",
    "mse_test_ridge = mean_squared_error(y_test_clean, y_test_pred_ridge)\n",
    "r2_test_ridge = r2_score(y_test_clean, y_test_pred_ridge)\n",
    "\n",
    "print(\"\\nметрики для Ridge:\")\n",
    "print(f\"MSE на обучающей подвыборке: {mse_train_ridge:.2f}\")\n",
    "print(f\"R^2 на обучающей подвыборке: {r2_train_ridge:.2f}\")\n",
    "print(f\"MSE на тестовой выборке: {mse_test_ridge:.2f}\")\n",
    "print(f\"R^2 на тестовой выборке: {r2_test_ridge:.2f}\")"
   ]
  },
  {
   "cell_type": "markdown",
   "metadata": {
    "id": "SbOavom3oc5f"
   },
   "source": [
    "### Градиентный спуск\n",
    "\n",
    "В предыдущем разделе мы использовали существующие реализации методов обучения линейной регрессии с регуляризацией и без. Тем не менее, подобные реализации, как правило, имеются лишь для ограниченного набора стандартных методов. В частности, при выходе функционала качества за пределы стандартного множества необходимо самостоятельно реализовывать составляющие процесса решения оптимизационной задачи. Именно этому и посвящен данный раздел задания.\n",
    "\n",
    "Пусть необходимо минимизировать следующий функционал (Mean Square Percentage Error — модифицированный [RMSPE](https://www.kaggle.com/c/rossmann-store-sales/details/evaluation)):\n",
    "$$MSPE(\\{x_i, y_i\\}_{i=1}^l, \\, w) = \\frac{1}{l}\\sum_{i=1}^l \\left( \\frac{y_i - \\langle w, x_i \\rangle }{y_i} \\right)^2,$$\n",
    "\n",
    "где $\\{x_i, y_i\\}_{i=1}^l$ — обучающая выборка, $w$ — вектор весов линейной модели. Будем также рассматривать функционал $MSPE$ с L2-регуляризацией:\n",
    "\n",
    "$$MSPE(\\{x_i, y_i\\}_{i=1}^l, \\, w) = \\frac{1}{l}\\sum_{i=1}^l \\left( \\frac{y_i - \\langle w, x_i \\rangle }{y_i} \\right)^2 + ||w||_2^2.$$\n",
    "\n",
    "**19. (0 баллов)** Добавьте к объектам обеих выборок из п. 16 единичный признак."
   ]
  },
  {
   "cell_type": "code",
   "execution_count": 27,
   "metadata": {
    "colab": {
     "base_uri": "https://localhost:8080/"
    },
    "id": "SH3xCKD1oc5f",
    "outputId": "f2d03163-7fa7-4bc7-de87-5afed4c74ad3"
   },
   "outputs": [
    {
     "name": "stdout",
     "output_type": "stream",
     "text": [
      "размерность обучающей выборки до добавления единичного признака: (49000, 639)\n",
      "размерность тестовой выборки до добавления единичного признака: (21000, 639)\n",
      "\\размерность обучающей выборки после добавления единичного признака: (49000, 640)\n",
      "размерность тестовой выборки после добавления единичного признака: (21000, 640)\n"
     ]
    }
   ],
   "source": [
    "#размерности данных до добавления единичного признака\n",
    "print(f\"размерность обучающей выборки до добавления единичного признака: {X_train.shape}\")\n",
    "print(f\"размерность тестовой выборки до добавления единичного признака: {X_test.shape}\")\n",
    "\n",
    "#добавляем единичный признак к обучающей выборке\n",
    "X_train_with_bias = np.hstack([np.ones((X_train.shape[0], 1)), X_train])\n",
    "\n",
    "#добавляем единичный признак к тестовой выборке\n",
    "X_test_with_bias = np.hstack([np.ones((X_test.shape[0], 1)), X_test])\n",
    "\n",
    "#размерности после добавления единичного признака\n",
    "print(f\"\\размерность обучающей выборки после добавления единичного признака: {X_train_with_bias.shape}\")\n",
    "print(f\"размерность тестовой выборки после добавления единичного признака: {X_test_with_bias.shape}\")"
   ]
  },
  {
   "cell_type": "markdown",
   "metadata": {
    "id": "GFpaCuFHoc5f"
   },
   "source": [
    "**20. (1 балл)** Реализуйте функции, которые вычисляют:\n",
    " * прогнозы линейной модели;\n",
    " * функционал $MSPE$ и его градиент;\n",
    " * регуляризованный $MSPE$ и его градиент."
   ]
  },
  {
   "cell_type": "code",
   "execution_count": 28,
   "metadata": {
    "id": "lBuAEoAeoc5g"
   },
   "outputs": [],
   "source": [
    "#вектор прогнозов линейной модели с вектором весов w для выборки X\n",
    "def make_pred(X, w):\n",
    "    return np.dot(X, w)"
   ]
  },
  {
   "cell_type": "code",
   "execution_count": 29,
   "metadata": {
    "id": "nA_sbVFsoc5g"
   },
   "outputs": [],
   "source": [
    "#значение функционала MSPE для выборки (X, y) и вектора весов w\n",
    "def get_func(w, X, y):\n",
    "    predictions = make_pred(X, w)\n",
    "    errors = np.where(y == 0, 0, (predictions - y) / y)\n",
    "    mspe = np.mean(errors ** 2)\n",
    "    return mspe"
   ]
  },
  {
   "cell_type": "code",
   "execution_count": 30,
   "metadata": {
    "id": "tECGJB93oc5g"
   },
   "outputs": [],
   "source": [
    "#градиент функционала MSPE для выборки (X, y) и вектора весов w\n",
    "def get_grad(w, X, y):\n",
    "    predictions = make_pred(X, w)\n",
    "    errors = np.where(y == 0, 0, (predictions - y) / y)\n",
    "    grad = (2 / len(y)) * np.dot(X.T, errors)\n",
    "    return grad"
   ]
  },
  {
   "cell_type": "code",
   "execution_count": 31,
   "metadata": {
    "id": "xoQUxA0qoc5g"
   },
   "outputs": [],
   "source": [
    "#значение регуляризованного функционала MSPE для выборки (X, y) и вектора весов w\n",
    "def get_reg_func(w, X, y, lambda_):\n",
    "    mspe = get_func(w, X, y)\n",
    "    reg_term = lambda_ * np.sum(w ** 2) #регуляризационный член\n",
    "    return mspe + reg_term"
   ]
  },
  {
   "cell_type": "code",
   "execution_count": 32,
   "metadata": {
    "id": "YzsiWthAoc5g"
   },
   "outputs": [],
   "source": [
    "#градиент регуляризованного функционала MSPE для выборки (X, y) и вектора весов w\n",
    "def get_reg_grad(w, X, y, lambda_):\n",
    "    grad = get_grad(w, X, y)\n",
    "    reg_grad = 2 * lambda_ * w #градиент регуляризационного члена\n",
    "    return grad + reg_grad"
   ]
  },
  {
   "cell_type": "markdown",
   "metadata": {
    "id": "S2NKBAmJoc5h"
   },
   "source": [
    "**21. (1 балл)** Реализуйте метод градиентного спуска для описанных функционалов ($MSPE$ и его регуляризованный вариант). Функция должна принимать следующие параметры:\n",
    " - X — матрица \"объект-признак\";\n",
    " - y — вектор целевой переменной;\n",
    " - w0 — начальное значение вектора весов;\n",
    " - step_size — значение темпа обучения;\n",
    " - max_iter — максимальное число итераций;\n",
    " - eps — значение, используемое в критерии останова;\n",
    " - is_reg — бинарный параметр, принимает значение True в случае наличия регуляризации функционала, False — в противном случае.\n",
    "\n",
    "Процесс должен быть остановлен, если выполнено хотя бы одно из следующих условий:\n",
    " - было выполнено заданное количество итераций max_iter;\n",
    " - евклидова норма разности векторов $w$ на соседних итерациях стала меньше, чем eps.\n",
    "\n",
    "Функция должна возвращать полученный в результате оптимизации вектор $w$ и список значений функционала на каждой итерации."
   ]
  },
  {
   "cell_type": "code",
   "execution_count": 33,
   "metadata": {
    "id": "pCZFws74oc5h"
   },
   "outputs": [],
   "source": [
    "import numpy as np\n",
    "\n",
    "def grad_descent(X, y, step_size, max_iter, eps, is_reg=False, lambda_=0.1):\n",
    "    #метода градиентного спуска для минимизации MSPE или регуляризованного MSPE\n",
    "    #инициализируем вектор весов нулями\n",
    "    w = np.zeros(X.shape[1])\n",
    "    func_values = []\n",
    "\n",
    "    for i in range(max_iter):\n",
    "        #вычисляем значение функционала и его градиент\n",
    "        if is_reg:\n",
    "            func_value = get_reg_func(w, X, y, lambda_)\n",
    "            grad = get_reg_grad(w, X, y, lambda_)\n",
    "        else:\n",
    "            func_value = get_func(w, X, y)\n",
    "            grad = get_grad(w, X, y)\n",
    "\n",
    "        #сохраняем значение функционала на текущей итерации\n",
    "        func_values.append(func_value)\n",
    "\n",
    "        #клиппирование градиента для предотвращения переполнения\n",
    "        grad = np.clip(grad, -1e6, 1e6)  # Ограничиваем значения градиента\n",
    "\n",
    "        #обновляем вектор весов\n",
    "        w_new = w - step_size * grad\n",
    "\n",
    "        #проверяем критерий останова\n",
    "        if np.linalg.norm(w_new - w) < eps:\n",
    "            break\n",
    "\n",
    "        #обновляем вектор весов\n",
    "        w = w_new\n",
    "    #возврат\n",
    "    return w, func_values"
   ]
  },
  {
   "cell_type": "markdown",
   "metadata": {
    "id": "uvF5rTEOoc5h"
   },
   "source": [
    "Обучите линейную регрессию с функционалом $MSPE$ на обучающей выборке при помощи метода градиентного спуска и изобразите кривые зависимости значения функционала от номера итерации для различных:\n",
    " * значений размера шага из набора [0.001, 1, 10];\n",
    " * способов начальной инициализации вектора весов (нули, случайные веса).\n",
    "\n",
    "Проанализируйте полученные результаты — влияют ли данные параметры на скорость сходимости и итоговое качество? Если да, то как?"
   ]
  },
  {
   "cell_type": "code",
   "execution_count": 34,
   "metadata": {
    "colab": {
     "base_uri": "https://localhost:8080/",
     "height": 564
    },
    "id": "CieAKylpoc5h",
    "outputId": "eeb5fba2-a97c-48e4-f75b-c04c86b454c6"
   },
   "outputs": [
    {
     "data": {
      "image/png": "[encoded data removed]",
      "text/plain": [
       "<Figure size 1000x600 with 1 Axes>"
      ]
     },
     "metadata": {},
     "output_type": "display_data"
    }
   ],
   "source": [
    "import matplotlib.pyplot as plt\n",
    "\n",
    "#построение графиков\n",
    "def plot_func_values(func_values, title):\n",
    "    plt.figure(figsize=(10, 6))\n",
    "    for values in func_values:\n",
    "        plt.plot(values['func_values'], label=f\"Step size = {values['step_size']}, Init = {values['init']}\")\n",
    "    plt.title(title)\n",
    "    plt.xlabel(\"Iteration\")\n",
    "    plt.ylabel(\"MSPE\")\n",
    "    plt.legend()\n",
    "    plt.grid(True)\n",
    "    plt.show()\n",
    "\n",
    "#параметры эксперимента\n",
    "step_sizes = [0.001, 1, 10]  # Размеры шага\n",
    "initializations = ['zeros', 'random']  # Способы инициализации весов\n",
    "max_iter = 500  # Максимальное количество итераций\n",
    "eps = 1e-6     # Точность останова\n",
    "\n",
    "#результаты\n",
    "results = []\n",
    "\n",
    "#проверка на совпадение размерностей X_train_with_bias и y_train_clean\n",
    "#сброс индексов для синхронизации данных\n",
    "X_train_with_bias = np.hstack([np.ones((X_train_clean.shape[0], 1)), X_train_clean.values])\n",
    "y_train_clean = y_train_clean.reset_index(drop=True)\n",
    "\n",
    "if X_train_with_bias.shape[0] != y_train_clean.shape[0]:\n",
    "    raise ValueError(f\"Размерности X_train_with_bias ({X_train_with_bias.shape[0]}) и y_train_clean ({y_train_clean.shape[0]}) не совпадают!\")\n",
    "\n",
    "#цикл по всем комбинациям параметров\n",
    "for step_size in step_sizes:\n",
    "    for init in initializations:\n",
    "        #инициализация весов\n",
    "        if init == 'zeros':\n",
    "            w0 = np.zeros(X_train_with_bias.shape[1])\n",
    "        elif init == 'random':\n",
    "            w0 = np.random.randn(X_train_with_bias.shape[1])\n",
    "\n",
    "        #обучение модели без регуляризации\n",
    "        try:\n",
    "            w_opt, func_values = grad_descent(\n",
    "                X=X_train_with_bias,\n",
    "                y=y_train_clean,\n",
    "                step_size=step_size,\n",
    "                max_iter=max_iter,\n",
    "                eps=eps,\n",
    "                is_reg=False\n",
    "            )\n",
    "\n",
    "            #добавляем результаты\n",
    "            results.append({\n",
    "                'step_size': step_size,\n",
    "                'init': init,\n",
    "                'func_values': func_values\n",
    "            })\n",
    "        except Exception as e:\n",
    "            print(f\"Ошибка при step_size={step_size}, init={init}: {e}\")\n",
    "\n",
    "#вывод\n",
    "plot_func_values(results, \"MSPE vs Iteration (Different Step Sizes and Initializations)\")"
   ]
  },
  {
   "cell_type": "markdown",
   "metadata": {
    "id": "DNcXYhlhoc5i"
   },
   "source": [
    "**22. (0.5 балла)** Обучите линейную регрессию с функционалом MSPE и его регуляризованным вариантом на обучающей выборке при помощи метода градиентного спуска и изобразите кривые зависимости значения функционала от номера итерации. Исследуйте зависимость скорости сходимости от наличия регуляризации. Обоснуйте, почему так происходит."
   ]
  },
  {
   "cell_type": "code",
   "execution_count": 35,
   "metadata": {
    "colab": {
     "base_uri": "https://localhost:8080/",
     "height": 599
    },
    "id": "_u2IB76ioc5i",
    "outputId": "7db3886d-3908-474e-d206-fe2f888a74c9"
   },
   "outputs": [
    {
     "name": "stdout",
     "output_type": "stream",
     "text": [
      "Обучение модели без регуляризации...\n",
      "Обучение модели с регуляризацией...\n"
     ]
    },
    {
     "data": {
      "image/png": "[encoded data removed]",
      "text/plain": [
       "<Figure size 1000x600 with 1 Axes>"
      ]
     },
     "metadata": {},
     "output_type": "display_data"
    }
   ],
   "source": [
    "#параметры эксперимента\n",
    "step_size = 0.1          #шаг\n",
    "max_iter = 500           #максимальное количество итераций\n",
    "eps = 1e-6               #точность\n",
    "lambda_ = 0.1            #коэффициент регуляризации\n",
    "\n",
    "#инициализация весов нулями\n",
    "w0 = np.zeros(X_train_with_bias.shape[1])\n",
    "\n",
    "#обучение модели без регуляризации\n",
    "print(\"Обучение модели без регуляризации...\")\n",
    "w_opt_no_reg, func_values_no_reg = grad_descent(\n",
    "    X=X_train_with_bias,\n",
    "    y=y_train_clean,\n",
    "    step_size=step_size,\n",
    "    max_iter=max_iter,\n",
    "    eps=eps,\n",
    "    is_reg=False\n",
    ")\n",
    "\n",
    "#с регуляризацией\n",
    "print(\"Обучение модели с регуляризацией...\")\n",
    "w_opt_reg, func_values_reg = grad_descent(\n",
    "    X=X_train_with_bias,\n",
    "    y=y_train_clean,\n",
    "    step_size=step_size,\n",
    "    max_iter=max_iter,\n",
    "    eps=eps,\n",
    "    is_reg=True,\n",
    "    lambda_=lambda_\n",
    ")\n",
    "\n",
    "#вывод\n",
    "plt.figure(figsize=(10, 6))\n",
    "plt.plot(func_values_no_reg, label=\"Без регуляризации\")\n",
    "plt.plot(func_values_reg, label=f\"С регуляризацией ($lambda = {lambda_}$)\")\n",
    "plt.title(\"Зависимость MSPE от номера итерации\")\n",
    "plt.xlabel(\"Iteration\")\n",
    "plt.ylabel(\"MSPE\")\n",
    "plt.legend()\n",
    "plt.grid(True)\n",
    "plt.show()"
   ]
  },
  {
   "cell_type": "markdown",
   "metadata": {
    "id": "pDcBXfu-oc5i"
   },
   "source": [
    "Метод градиентного спуска может быть весьма трудозатратен в случае большого размера обучающей выборки. Поэтому часто используют метод стохастического градиентного спуска, где на каждой итерации выбирается случайный объект из обучающей выборки и обновление весов происходит только по этому объекту.\n",
    "\n",
    "**23. (1 доп. балл)**  Реализуйте метод стохастического градиентного спуска (SGD) для описанных функционалов ($MSPE$ и его регуляризованный вариант). Функция должна иметь параметры и возвращаемое значение, аналогичные оным функции grad\\_descent из п.21. Кроме того, должен использоваться аналогичный критерий останова."
   ]
  },
  {
   "cell_type": "code",
   "execution_count": null,
   "metadata": {
    "id": "XwzZyO1noc5i"
   },
   "outputs": [],
   "source": []
  },
  {
   "cell_type": "markdown",
   "metadata": {
    "id": "co_aG13ooc5i"
   },
   "source": [
    "Обучите линейную регрессию с функционалом $MSPE$ и его регуляризованным вариантом на обучающей выборке при помощи метода стохастического градиентного спуска, подобрав при этом размер шага, при котором метод будет сходиться. Нарисуйте график сходимости. Выведите значения $MSPE, MSE, R^2$ на контрольной выборке."
   ]
  },
  {
   "cell_type": "code",
   "execution_count": null,
   "metadata": {
    "colab": {
     "base_uri": "https://localhost:8080/",
     "height": 1000
    },
    "id": "qzY_igxzoc5j",
    "outputId": "9c7b92d3-8119-4cc3-f18b-8198e7cb42c8"
   },
   "outputs": [],
   "source": []
  },
  {
   "cell_type": "markdown",
   "metadata": {
    "id": "Iwb3EamToc5j"
   },
   "source": [
    "**24. (0.5 доп. балла)** Аналогично п.22 исследуйте зависимость скорости сходимости метода SGD от наличия регуляризации. Обоснуйте, почему так происходит."
   ]
  },
  {
   "cell_type": "code",
   "execution_count": null,
   "metadata": {
    "colab": {
     "base_uri": "https://localhost:8080/",
     "height": 633
    },
    "id": "Ce0LlYggoc5j",
    "outputId": "6662afcc-2c69-412b-b2d7-abe8be80c7c8"
   },
   "outputs": [],
   "source": []
  },
  {
   "cell_type": "markdown",
   "metadata": {
    "id": "uVDOM4fnoc5j"
   },
   "source": [
    "**25. (0.5 балла)** Обучите стандартную линейную регрессию с функционалом качества MSE на обучающей выборке и выведите значение MSPE полученного решения на контрольной выборке. Как оно соотносится с аналогичным результатом для решения, полученного в п.22? Почему?"
   ]
  },
  {
   "cell_type": "code",
   "execution_count": null,
   "metadata": {
    "colab": {
     "base_uri": "https://localhost:8080/",
     "height": 408
    },
    "id": "RbyLyPd0oc5j",
    "outputId": "b3d101a6-c772-4483-8c00-5ea95d16f45d"
   },
   "outputs": [],
   "source": []
  }
 ],
 "metadata": {
  "colab": {
   "include_colab_link": true,
   "provenance": [],
   "toc_visible": true
  },
  "kernelspec": {
   "display_name": "Python 3 (ipykernel)",
   "language": "python",
   "name": "python3"
  },
  "language_info": {
   "codemirror_mode": {
    "name": "ipython",
    "version": 3
   },
   "file_extension": ".py",
   "mimetype": "text/x-python",
   "name": "python",
   "nbconvert_exporter": "python",
   "pygments_lexer": "ipython3",
   "version": "3.11.7"
  }
 },
 "nbformat": 4,
 "nbformat_minor": 4
}
