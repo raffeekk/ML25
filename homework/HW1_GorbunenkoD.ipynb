{
 "cells": [
  {
   "cell_type": "markdown",
   "metadata": {},
   "source": [
    "# Машинное обучение, ФКН ВШЭ\n",
    "\n",
    "# Практическое задание 1\n",
    "\n",
    "## Общая информация\n",
    "\n",
    "Дата выдачи: 16.09.2016\n",
    "\n",
    "Срок сдачи: 30.09.2016 23:59MSK\n",
    "\n",
    "### О задании\n",
    "\n",
    "Практическое задание 1 посвящено изучению основных библиотек для анализа данных, а также линейных моделей и методов их обучения. Вы научитесь:\n",
    " * применять библиотеки NumPy и Pandas для осуществления желаемых преобразований;\n",
    " * подготавливать данные для обучения линейных моделей;\n",
    " * обучать линейную, Lasso и Ridge-регрессии при помощи модуля scikit-learn;\n",
    " * реализовывать обычный и стохастический градиентные спуски;\n",
    " * обучать линейную регрессию для произвольного функционала качества.\n",
    " \n",
    "\n",
    "### Оценивание и штрафы\n",
    "\n",
    "Каждая из задач имеет определенную «стоимость» (указана в скобках около задачи). Максимально допустимая оценка за работу — 10 баллов. Кроме того, некоторые из заданий являются опциональными (необязательными), однако за их выполнение можно получить дополнительные баллы, которые позднее будут учитываться при проставлении оценок автоматом по курсу.\n",
    "\n",
    "Сдавать задание после указанного срока сдачи нельзя. При выставлении неполного балла за задание в связи с наличием ошибок на усмотрение проверяющего предусмотрена возможность исправить работу на указанных в ответном письме условиях.\n",
    "\n",
    "Задание выполняется самостоятельно. «Похожие» решения считаются плагиатом и все задействованные студенты (в том числе те, у кого списали) не могут получить за него больше 0 баллов (подробнее о плагиате см. на странице курса). Если вы нашли решение какого-то из заданий (или его часть) в открытом источнике, необходимо указать ссылку на этот источник в отдельном блоке в конце Вашей работы (скорее всего вы будете не единственным, кто это нашел, поэтому чтобы исключить подозрение в плагиате, необходима ссылка на источник). \n",
    "\n",
    "Неэффективная реализация кода может негативно отразиться на оценке.\n",
    "\n",
    "\n",
    "### Формат сдачи\n",
    "Для сдачи задания переименуйте получившийся файл \\*.ipynb в соответствии со следующим форматом: *HW1_Username.ipynb*, где *Username* — Ваша фамилия и инициалы на латинице (например, *HW1_IvanovII.ipynb*). Далее отправьте этот файл на hse.cs.ml+<номер группы>@gmail.com (например, hse.cs.ml+141@gmail.com для студентов группы БПМИ-141)."
   ]
  },
  {
   "cell_type": "markdown",
   "metadata": {},
   "source": [
    "## Библиотеки для анализа данных\n",
    "\n",
    "### NumPy\n",
    "\n",
    "Во всех заданиях данного раздела запрещено использовать циклы  и list comprehensions. Под вектором и матрицей в данных заданиях понимается одномерный и двумерный numpy.array соответственно."
   ]
  },
  {
   "cell_type": "code",
   "execution_count": 1,
   "metadata": {
    "collapsed": false
   },
   "outputs": [],
   "source": [
    "import numpy as np\n",
    "import pandas as pd\n",
    "%matplotlib inline\n",
    "import math\n",
    "from sklearn import preprocessing, feature_extraction, cross_validation, linear_model, metrics, feature_extraction\n",
    "import matplotlib\n"
   ]
  },
  {
   "cell_type": "code",
   "execution_count": null,
   "metadata": {
    "collapsed": true
   },
   "outputs": [],
   "source": [
    "import sklearn."
   ]
  },
  {
   "cell_type": "markdown",
   "metadata": {},
   "source": [
    "**1. (0.2 балла)** Реализуйте функцию, возвращающую максимальный элемент в векторе x среди элементов, перед которыми стоит нулевой. Для x = np.array([6, 2, 0, 3, 0, 0, 5, 7, 0]) ответом является 5. Если нулевых элементов нет, функция должна возвращать None.\n"
   ]
  },
  {
   "cell_type": "code",
   "execution_count": 10,
   "metadata": {
    "collapsed": false
   },
   "outputs": [],
   "source": [
    "def max_element(arr):\n",
    "    modified = np.nonzero(a == 0)[0]\n",
    "    if not len(modified):\n",
    "        return None\n",
    "    modified += 1\n",
    "    if modified[-1] == len(arr):\n",
    "        modified = modified[:-1]\n",
    "    return np.amax(arr[modified])\n"
   ]
  },
  {
   "cell_type": "code",
   "execution_count": 2,
   "metadata": {
    "collapsed": false
   },
   "outputs": [
    {
     "name": "stdout",
     "output_type": "stream",
     "text": [
      "1\n",
      "3\n",
      "5\n"
     ]
    }
   ],
   "source": [
    "for i in range(1, 6, 2):\n",
    "    print(i)"
   ]
  },
  {
   "cell_type": "markdown",
   "metadata": {},
   "source": [
    "**2. (0.2 балла)** Реализуйте функцию, принимающую на вход матрицу и некоторое число и возвращающую ближайший к числу элемент матрицы. Например: для X = np.arange(0,10).reshape((2, 5)) и v = 3.6 ответом будет 4."
   ]
  },
  {
   "cell_type": "code",
   "execution_count": 12,
   "metadata": {
    "collapsed": false
   },
   "outputs": [],
   "source": [
    "\n",
    "def nearest_value(X, v):\n",
    "    Y = X - v\n",
    "    coordinate = np.argmin(np.absolute(Y))\n",
    "    return X.flatten()[coordinate]\n",
    "# DONE"
   ]
  },
  {
   "cell_type": "code",
   "execution_count": 13,
   "metadata": {
    "collapsed": false
   },
   "outputs": [
    {
     "name": "stdout",
     "output_type": "stream",
     "text": [
      "-3\n"
     ]
    }
   ],
   "source": [
    "X = np.arange(-10,0).reshape((2, 5))\n",
    "v = -2.51\n",
    "print(nearest_value(X, v))"
   ]
  },
  {
   "cell_type": "markdown",
   "metadata": {},
   "source": [
    "**3. (0.2 балла)** Реализуйте функцию scale(X), которая принимает на вход матрицу и масштабирует каждый ее столбец (вычитает выборочное среднее и делит на стандартное отклонение). Убедитесь, что в функции не будет происходить деления на ноль. Протестируйте на случайной матрице (для её генерации можно использовать, например, функцию [numpy.random.randint](http://docs.scipy.org/doc/numpy/reference/generated/numpy.random.randint.html))."
   ]
  },
  {
   "cell_type": "code",
   "execution_count": 14,
   "metadata": {
    "collapsed": false
   },
   "outputs": [
    {
     "name": "stdout",
     "output_type": "stream",
     "text": [
      "[[58 43]\n",
      " [82 58]]\n",
      "[[ 1.   -2.25]\n",
      " [ 4.2  -1.  ]]\n"
     ]
    }
   ],
   "source": [
    "def scale(X):\n",
    "    stds = X.std(axis=1)\n",
    "    if len(np.nonzero(stds==0)[0]):\n",
    "        return \"DIVISION BY ZERO!!!\"\n",
    "    means = X.mean(axis=1)\n",
    "    Y = X - means\n",
    "    Y /= stds\n",
    "    return Y\n",
    "\n",
    "sample_matrix = np.array([np.random.randint(0, 100, 2) for i in range(2)])\n",
    "\n",
    "print(sample_matrix)\n",
    "print(scale(sample_matrix))\n"
   ]
  },
  {
   "cell_type": "markdown",
   "metadata": {},
   "source": [
    "**4. (0.2 балла)** Реализуйте функцию, которая для заданной матрицы находит:\n",
    " - определитель\n",
    " - след\n",
    " - наименьший и наибольший элементы\n",
    " - норму Фробениуса\n",
    " - собственные числа\n",
    " - обратную матрицу\n",
    "\n",
    "Для тестирования сгенерируйте матрицу с элементами из нормального распределения $\\mathcal{N}$(10,1)"
   ]
  },
  {
   "cell_type": "code",
   "execution_count": 15,
   "metadata": {
    "collapsed": false
   },
   "outputs": [
    {
     "name": "stdout",
     "output_type": "stream",
     "text": [
      "[[ 12.22633628  10.6569353 ]\n",
      " [ 12.29863501  10.45754958]]\n",
      "DET:  -3.20823962068\n",
      "TRACE:  22.6838858662\n",
      "MAX:  12.2986350083\n",
      "MIN:  10.4575495829\n",
      "MATRIX NORM:  22.8838444142\n",
      "EIGENVALS:  [ 22.82444741  -0.14056155]\n",
      "INVERSE:  [[-3.25959118  3.3217392 ]\n",
      " [ 3.83345275 -3.81091743]]\n"
     ]
    }
   ],
   "source": [
    "def get_stats(X):\n",
    "    print(\"DET: \", np.linalg.det(X))\n",
    "    print(\"TRACE: \", np.trace(X))\n",
    "    print(\"MAX: \", X.max())\n",
    "    print(\"MIN: \", X.min())\n",
    "    print(\"MATRIX NORM: \", np.linalg.norm(X))\n",
    "    print(\"EIGENVALS: \", np.linalg.eig(X)[0])\n",
    "    print(\"INVERSE: \", np.linalg.inv(X))\n",
    "    # Your code here\n",
    "    \n",
    "X = np.array([np.random.normal(10, 1, 2) for i in range(2)])\n",
    "print(X)\n",
    "get_stats(X)"
   ]
  },
  {
   "cell_type": "markdown",
   "metadata": {},
   "source": [
    "**5. (0.2 балла)** Повторите 100 раз следующий эксперимент: сгенерируйте две матрицы размера 10×10 из стандартного нормального распределения, перемножьте их (как матрицы) и найдите максимальный элемент. Какое среднее значение по экспериментам у максимальных элементов? 95-процентная квантиль?"
   ]
  },
  {
   "cell_type": "code",
   "execution_count": 16,
   "metadata": {
    "collapsed": false
   },
   "outputs": [
    {
     "name": "stdout",
     "output_type": "stream",
     "text": [
      "MEAN:  8.20189377787\n",
      "95% quantile:  11.8869156564\n"
     ]
    }
   ],
   "source": [
    "max_vals = np.array([])\n",
    "for exp_num in range(100):\n",
    "    X = np.array([np.random.normal(0, 1, 10) for i in range(10)])\n",
    "    Y = np.array([np.random.normal(0, 1, 10) for i in range(10)])\n",
    "    max_vals = np.append(max_vals, [np.dot(X, Y).max()])\n",
    "\n",
    "print(\"MEAN: \", max_vals.mean())\n",
    "print(\"95% quantile: \", np.percentile(max_vals, 95))\n",
    "    "
   ]
  },
  {
   "cell_type": "markdown",
   "metadata": {},
   "source": [
    "### Pandas\n",
    "\n",
    "![](https://metrouk2.files.wordpress.com/2015/10/panda.jpg)\n",
    "\n",
    "#### Ответьте на вопросы о данных по авиарейсам в США за январь-апрель 2008 года.\n",
    "\n",
    "[Данные](https://www.dropbox.com/s/dvfitn93obn0rql/2008.csv?dl=0) и их [описание](http://stat-computing.org/dataexpo/2009/the-data.html)"
   ]
  },
  {
   "cell_type": "code",
   "execution_count": 1,
   "metadata": {
    "collapsed": true
   },
   "outputs": [],
   "source": [
    "import pandas as pd\n",
    "%matplotlib inline"
   ]
  },
  {
   "cell_type": "markdown",
   "metadata": {},
   "source": [
    "**6. (0.3 балла)** Какая из причин отмены рейса (`CancellationCode`) была самой частой? (расшифровки кодов можно найти в описании данных)"
   ]
  },
  {
   "cell_type": "code",
   "execution_count": 10,
   "metadata": {
    "collapsed": true
   },
   "outputs": [],
   "source": [
    "pass_data = pd.read_csv('2008.csv')"
   ]
  },
  {
   "cell_type": "code",
   "execution_count": 11,
   "metadata": {
    "collapsed": false
   },
   "outputs": [
    {
     "data": {
      "text/plain": [
       "CancellationCode\n",
       "A    563\n",
       "B    549\n",
       "C    299\n",
       "Name: Cancelled, dtype: int64"
      ]
     },
     "execution_count": 11,
     "metadata": {},
     "output_type": "execute_result"
    }
   ],
   "source": [
    "grouped = pass_data.groupby(\"CancellationCode\")\n",
    "grouped.sum()[\"Cancelled\"]"
   ]
  },
  {
   "cell_type": "markdown",
   "metadata": {},
   "source": [
    "ответ \"carrier\""
   ]
  },
  {
   "cell_type": "markdown",
   "metadata": {},
   "source": [
    "**7. (0.3 балла)** Найдите среднее, минимальное и максимальное расстояние, пройденное самолетом."
   ]
  },
  {
   "cell_type": "code",
   "execution_count": 12,
   "metadata": {
    "collapsed": false
   },
   "outputs": [
    {
     "name": "stdout",
     "output_type": "stream",
     "text": [
      "MAX =  4962\n",
      "MIN =  31\n",
      "MEAN =  724.5082571428571\n"
     ]
    }
   ],
   "source": [
    "print(\"MAX = \", pass_data[\"Distance\"].max())\n",
    "print(\"MIN = \", pass_data[\"Distance\"].min())\n",
    "print(\"MEAN = \", pass_data[\"Distance\"].mean())"
   ]
  },
  {
   "cell_type": "markdown",
   "metadata": {},
   "source": [
    "**8. (0.3 балла)** Не выглядит ли подозрительным минимальное пройденное расстояние? В какие дни и на каких рейсах оно было? Какое расстояние было пройдено этими же рейсами в другие дни?"
   ]
  },
  {
   "cell_type": "markdown",
   "metadata": {
    "collapsed": true
   },
   "source": [
    "Нет, не выглядит. Наш патриарх чтоб двести метров пройти в машину садится. А тут 31 миля. Я уже ничему не удивляюсь."
   ]
  },
  {
   "cell_type": "code",
   "execution_count": 13,
   "metadata": {
    "collapsed": false
   },
   "outputs": [
    {
     "name": "stdout",
     "output_type": "stream",
     "text": [
      "Подозрительные:\n",
      "       FlightNum  Month  DayofMonth\n",
      "1116          65     12          30\n",
      "6958          65     12          26\n",
      "17349         64      8          18\n",
      "27534         64      3          11\n",
      "46082         65      8           9\n",
      "48112         64      2          28 \n",
      "\n",
      "Они же в другие дни:\n",
      "FLIGHT #  65 \n",
      "        Distance  Month  DayofMonth\n",
      "501         533      3          20\n",
      "1389        680      3          13\n",
      "2619       2381      5          23\n",
      "3869         82      7           1\n",
      "4025       1005      6          15\n",
      "4466        123      6          29\n",
      "6778        359      7          12\n",
      "7891       2381      4           6\n",
      "7977       1747      7           9\n",
      "8448        123      2          10\n",
      "9615        533      1           4\n",
      "10833       372      3          31\n",
      "12352      1747      1          14\n",
      "12980        82      8           6\n",
      "13155      1747      7           2\n",
      "21304      1005      5          13\n",
      "24750       680      8          21\n",
      "25671       533      1          15\n",
      "26323      1005     12          15\n",
      "29801       123      4          23\n",
      "30053        82      1           4\n",
      "31375      1005      3          30\n",
      "31629       883      7          19\n",
      "32242        82      9          23\n",
      "33769      1747     12           7\n",
      "41044      1747      3          30\n",
      "43353       571      8          29\n",
      "44649       571      9          14\n",
      "44810        82      2          12\n",
      "48020      1005     11           1\n",
      "55053       123      3          31\n",
      "58530       571      1          16\n",
      "61164       680      9          14\n",
      "63028      1747      1          22\n",
      "64319       414      5           3\n",
      "67172       533      3          22 \n",
      "\n",
      "FLIGHT #  64 \n",
      "        Distance  Month  DayofMonth\n",
      "501         533      3          20\n",
      "1389        680      3          13\n",
      "2619       2381      5          23\n",
      "3869         82      7           1\n",
      "4025       1005      6          15\n",
      "4466        123      6          29\n",
      "6778        359      7          12\n",
      "7891       2381      4           6\n",
      "7977       1747      7           9\n",
      "8448        123      2          10\n",
      "9615        533      1           4\n",
      "10833       372      3          31\n",
      "12352      1747      1          14\n",
      "12980        82      8           6\n",
      "13155      1747      7           2\n",
      "21304      1005      5          13\n",
      "24750       680      8          21\n",
      "25671       533      1          15\n",
      "26323      1005     12          15\n",
      "29801       123      4          23\n",
      "30053        82      1           4\n",
      "31375      1005      3          30\n",
      "31629       883      7          19\n",
      "32242        82      9          23\n",
      "33769      1747     12           7\n",
      "41044      1747      3          30\n",
      "43353       571      8          29\n",
      "44649       571      9          14\n",
      "44810        82      2          12\n",
      "48020      1005     11           1\n",
      "55053       123      3          31\n",
      "58530       571      1          16\n",
      "61164       680      9          14\n",
      "63028      1747      1          22\n",
      "64319       414      5           3\n",
      "67172       533      3          22 \n",
      "\n"
     ]
    }
   ],
   "source": [
    "susp_flight_info = pass_data[pass_data.Distance == 31][[\"FlightNum\", \"Month\", \"DayofMonth\"]]\n",
    "susp_flight_nums = susp_flight_info[\"FlightNum\"].unique()\n",
    "print(\"Подозрительные:\")\n",
    "print(susp_flight_info, \"\\n\")\n",
    "print(\"Они же в другие дни:\")\n",
    "for flight in susp_flight_nums:\n",
    "        print(\"FLIGHT # \", flight, \"\\n\", pass_data[(pass_data['FlightNum'] == susp_flight_nums[1]) &\n",
    "                                                                   (pass_data['Distance'] != 31)][['Distance', 'Month', 'DayofMonth']], \"\\n\")"
   ]
  },
  {
   "cell_type": "markdown",
   "metadata": {},
   "source": [
    "**9. (0.3 балла)** Из какого аэропорта было произведено больше всего вылетов? В каком городе он находится?"
   ]
  },
  {
   "cell_type": "code",
   "execution_count": 14,
   "metadata": {
    "collapsed": false
   },
   "outputs": [
    {
     "name": "stdout",
     "output_type": "stream",
     "text": [
      "ATL находится в городе  ['Atlanta']\n"
     ]
    }
   ],
   "source": [
    "IATA_code = pass_data.groupby('Origin').size().argmax()\n",
    "airports = pd.read_csv('airports.csv') # http://stat-computing.org/dataexpo/2009/supplemental-data.html\n",
    "print(IATA_code, \"находится в городе \", airports[airports['iata'] == IATA_code]['city'].values)"
   ]
  },
  {
   "cell_type": "markdown",
   "metadata": {},
   "source": [
    "**10. (0.3 балла)** Найдите для каждого аэропорта среднее время полета (`AirTime`) по всем вылетевшим из него рейсам. Какой аэропорт имеет наибольшее значение этого показателя?"
   ]
  },
  {
   "cell_type": "code",
   "execution_count": 15,
   "metadata": {
    "collapsed": false
   },
   "outputs": [
    {
     "name": "stdout",
     "output_type": "stream",
     "text": [
      "Аэропорт с интентификатором  SJU\n"
     ]
    }
   ],
   "source": [
    "time_mean = pass_data[['Origin', 'AirTime' ]].groupby('Origin').mean()\n",
    "print(\"Аэропорт с интентификатором \", time_mean['AirTime'].argmax())"
   ]
  },
  {
   "cell_type": "markdown",
   "metadata": {},
   "source": [
    "**11. (0.5 балла)** Найдите аэропорт, у которого наибольшая доля задержанных (`DepDelay > 0`) рейсов. Исключите при этом из рассмотрения аэропорты, из которых было отправлено меньше 1000 рейсов (используйте функцию `filter` после `groupby`)."
   ]
  },
  {
   "cell_type": "code",
   "execution_count": 22,
   "metadata": {
    "collapsed": false
   },
   "outputs": [
    {
     "name": "stdout",
     "output_type": "stream",
     "text": [
      "Origin\n",
      "ATL    1738\n",
      "BOS     376\n",
      "BWI     467\n",
      "CLT     498\n",
      "DEN    1063\n",
      "DFW    1283\n",
      "DTW     569\n",
      "EWR     710\n",
      "IAH     841\n",
      "JFK     444\n",
      "LAS     779\n",
      "LAX     859\n",
      "LGA     358\n",
      "MCO     537\n",
      "MSP     459\n",
      "ORD    1649\n",
      "PHL     432\n",
      "PHX     858\n",
      "SEA     495\n",
      "SFO     557\n",
      "SLC     424\n",
      "dtype: int64\n",
      "Origin\n",
      "ATL    4078\n",
      "BOS    1128\n",
      "BWI    1018\n",
      "CLT    1229\n",
      "DEN    2353\n",
      "DFW    2730\n",
      "DTW    1588\n",
      "EWR    1343\n",
      "IAH    1770\n",
      "JFK    1172\n",
      "LAS    1773\n",
      "LAX    2063\n",
      "LGA    1114\n",
      "MCO    1324\n",
      "MSP    1233\n",
      "ORD    3391\n",
      "PHL    1007\n",
      "PHX    2010\n",
      "SEA    1114\n",
      "SFO    1371\n",
      "SLC    1313\n",
      "dtype: int64 \n",
      "это аэропорт # 8\n"
     ]
    }
   ],
   "source": [
    "all_airports = pass_data[pass_data['Cancelled'] != 1][['Origin', 'DepDelay']].groupby('Origin').filter(lambda x: len(x) > 1000)\n",
    "delays_in_airports = all_airports[all_airports['DepDelay'] > 0].groupby('Origin')\n",
    "# print(delays_in_airports.size())\n",
    "dell_aip = np.array(delays_in_airports.size())\n",
    "all_aip = np.array(all_airports.groupby('Origin').size())\n",
    "id_max_in_parts = (dell_aip / all_aip).argmax()\n",
    "print(all_airports.groupby('Origin').size(), \"\\nэто аэропорт #\", id_max_in_parts + 1)"
   ]
  },
  {
   "cell_type": "markdown",
   "metadata": {},
   "source": [
    "EWR вообщем"
   ]
  },
  {
   "cell_type": "markdown",
   "metadata": {},
   "source": [
    "## Линейная регрессия\n",
    "\n",
    "В этой части мы разберемся с линейной регрессией, способами её обучения и измерением качества ее прогнозов. \n",
    "\n",
    "Будем рассматривать датасет из предыдущей части задания для предсказания времени задержки отправления рейса в минутах (DepDelay). Отметим, что под задержкой подразумевается не только опоздание рейса относительно планируемого времени вылета, но и отправление до планируемого времени.\n",
    "\n",
    "### Подготовка данных\n",
    "\n",
    "**12. (0.5 балла)** Считайте выборку из файла при помощи функции pd.read_csv и ответьте на следующие вопросы:\n",
    "   - Имеются ли в данных пропущенные значения?\n",
    "   - Сколько всего пропущенных элементов в таблице \"объект-признак\"?\n",
    "   - Сколько объектов имеют хотя бы один пропуск?\n",
    "   - Сколько признаков имеют хотя бы одно пропущенное значение?"
   ]
  },
  {
   "cell_type": "code",
   "execution_count": 164,
   "metadata": {
    "collapsed": false,
    "scrolled": true
   },
   "outputs": [
    {
     "name": "stdout",
     "output_type": "stream",
     "text": [
      "Пропущенные значения имеются: True\n",
      "В таблице объект-признак пропущено 355215 значений\n",
      "70000 объектов имеют хотя бы 1 пропуск\n",
      "16 признаков имеют хотя бы 1 пропуск\n"
     ]
    }
   ],
   "source": [
    "pass_data = pd.read_csv('2008.csv')\n",
    "print(\"Пропущенные значения имеются:\", pass_data.isnull().values.any())\n",
    "print(\"В таблице объект-признак пропущено\", pass_data.isnull().values.sum(), \"значений\")\n",
    "print(np.count_nonzero(np.array(pass_data.isnull().values.sum(axis=1))), \"объектов имеют хотя бы 1 пропуск\")\n",
    "print(np.count_nonzero(np.array(pass_data.isnull().values.sum(axis=0))), \"признаков имеют хотя бы 1 пропуск\")\n"
   ]
  },
  {
   "cell_type": "markdown",
   "metadata": {},
   "source": [
    "Как вы понимаете, также не имеет смысла рассматривать при решении поставленной задачи объекты с пропущенным значением целевой переменной. В связи с этим ответьте на следующие вопросы и выполните соответствующие действия:\n",
    "- Имеются ли пропущенные значения в целевой переменной? **ДА**\n",
    "- Проанализируйте объекты с пропущенными значениями целевой переменной. Чем вызвано это явление? Что их объединяет? Можно ли в связи с этим, на ваш взгляд, исключить какие-то признаки из рассмотрения? Обоснуйте свою точку зрения.\n",
    "\n",
    "Исключите из выборки объекты **с пропущенным значением целевой переменной и со значением целевой переменной, равным 0**, а также при необходимости исключите признаки в соответствии с вашим ответом на последний вопрос из списка и выделите целевую переменную в отдельный вектор, исключив её из матрицы \"объект-признак\"."
   ]
  },
  {
   "cell_type": "raw",
   "metadata": {},
   "source": [
    "Явление вызвано тем, что рейсы отменены. Они все имеют значение 1 признака Cancelled и некоторую букву в CancellationCode, в то всемя как остальные нет. В связи с этим можно удалить оба этих признака (они имеют смысл только для объектов с нулевым значением цел. переменной(выбросов))."
   ]
  },
  {
   "cell_type": "code",
   "execution_count": 165,
   "metadata": {
    "collapsed": false
   },
   "outputs": [],
   "source": [
    "pass_data = pass_data[(~pass_data['DepDelay'].isnull())]\n",
    "pass_data = pass_data[(pass_data['DepDelay'] != 0)]\n",
    "pass_data = pass_data.reset_index()\n",
    "pass_data = pass_data.drop('index', 1)\n",
    "pass_data = pass_data.drop('Cancelled', 1)\n",
    "pass_data = pass_data.drop('CancellationCode', 1)\n"
   ]
  },
  {
   "cell_type": "markdown",
   "metadata": {},
   "source": [
    "**Важно** В задании 15 функция transform_data() должна на выходе выполнить pd.concat() матрицы X и её закодированных категориальных признаков. Мой комп не может в такую операцию, какая-то проблема с RAM (Видимо ее не достаточно, python говорит memory error). Я не исключаю того что мог накосячить в самой функции, и обработать данные как-то криво, однако, разные эксперименты не подтвердили этого факта. Вообщем, дальше я буду действовать со случайным сэмплом из 10000 объектов, чтобы не терять зря время."
   ]
  },
  {
   "cell_type": "code",
   "execution_count": 166,
   "metadata": {
    "collapsed": false,
    "scrolled": true
   },
   "outputs": [],
   "source": [
    "# pass_data.corr()"
   ]
  },
  {
   "cell_type": "code",
   "execution_count": 167,
   "metadata": {
    "collapsed": true
   },
   "outputs": [],
   "source": [
    "#это можно убрать и игнорировать написанное выше.\n",
    "pass_data = pass_data[35000:45000]   #можно sample(10000) однако мои коментарии тогда не сработают=\\[]\n",
    "pass_data = pass_data.reset_index()\n",
    "pass_data = pass_data.drop('index', 1)"
   ]
  },
  {
   "cell_type": "code",
   "execution_count": 168,
   "metadata": {
    "collapsed": false
   },
   "outputs": [],
   "source": [
    "Y = pass_data['DepDelay']\n",
    "pass_data = pass_data.drop('DepDelay', 1)\n",
    "# Y.head()"
   ]
  },
  {
   "cell_type": "markdown",
   "metadata": {},
   "source": [
    "**13. (0.5 балла)** Обратите внимание, что признаки DepTime, CRSDepTime, ArrTime, CRSArrTime приведены в формате hhmm, в связи с чем будет не вполне корректно рассматривать их как вещественные.\n",
    "\n",
    "Преобразуйте каждый признак FeatureName из указанных в пару новых признаков FeatureName\\_Hour, FeatureName\\_Minute, разделив каждое из значений на часы и минуты. Не забудьте при этом исключить исходный признак из выборки. В случае, если значение признака отсутствует, значения двух новых признаков, его заменяющих, также должны отсутствовать. \n",
    "\n",
    "Например, признак DepTime необходимо заменить на пару признаков DepTime_Hour, DepTime_Minute. При этом, например, значение 155 исходного признака будет преобразовано в значения 1 и 55 признаков DepTime_Hour, DepTime_Minute соответственно."
   ]
  },
  {
   "cell_type": "code",
   "execution_count": 169,
   "metadata": {
    "collapsed": false,
    "scrolled": true
   },
   "outputs": [],
   "source": [
    "def get_hour(timeval):\n",
    "    if math.isnan(timeval): \n",
    "        return np.nan\n",
    "    else:\n",
    "        str_hour = str(int(timeval))[:-2]\n",
    "        if str_hour == '':\n",
    "            return np.nan # аномальное время вылета(hhmm записано двухзначно)\n",
    "        else:\n",
    "            return int(str(int(timeval))[:-2])\n",
    "    \n",
    "\n",
    "def get_min(timeval):\n",
    "    if math.isnan(timeval): \n",
    "        return np.nan\n",
    "    else:\n",
    "        \n",
    "        str_timeval = str(int(timeval))\n",
    "#         print(str_timeval[len(str_timeval) - 2:])\n",
    "        return int(str_timeval[len(str_timeval) - 2:])\n",
    "\n",
    "\n",
    "def split_time_features(column_name, pass_data):\n",
    "#     print(column_name)\n",
    "    hours = pass_data[column_name].apply(get_hour)\n",
    "    mins = pass_data[column_name].apply(get_min)\n",
    "    pass_data[column_name + '_Hour'] = hours\n",
    "    pass_data[column_name + '_Minute'] = mins\n",
    "    pass_data = pass_data.drop(column_name, 1)\n",
    "    return pass_data\n",
    "\n",
    "\n",
    "pass_data = split_time_features('DepTime', pass_data)\n",
    "pass_data = split_time_features('CRSDepTime', pass_data)\n",
    "pass_data = split_time_features('ArrTime', pass_data)\n",
    "pass_data = split_time_features('CRSArrTime', pass_data)\n",
    "    \n"
   ]
  },
  {
   "cell_type": "markdown",
   "metadata": {},
   "source": [
    "**14. (0.5 балла)** Некоторые из признаков, отличных от целевой переменной, могут оказывать чересчур значимое влияние на прогноз, поскольку по своему смыслу содержат большую долю информации о значении целевой переменной. Изучите описание датасета и исключите признаки, сильно коррелирующие с ответами. Ваш выбор признаков для исключения из выборки обоснуйте. Кроме того, исключите признаки TailNum и Year."
   ]
  },
  {
   "cell_type": "code",
   "execution_count": 170,
   "metadata": {
    "collapsed": false
   },
   "outputs": [],
   "source": [
    "# Исключены по заданию\n",
    "pass_data = pass_data.drop(['TailNum', 'Year'], 1)\n",
    "# Исключены потому что во многих случаях полностью составляют целевую переменную (суммарно и с пересечениями) и имеют много пропусков. \n",
    "pass_data = pass_data.drop(['CarrierDelay', 'WeatherDelay', 'NASDelay', 'SecurityDelay', 'LateAircraftDelay'] , 1)\n",
    "\n",
    "pass_data = pass_data.drop('ArrDelay', 1) #вообще тут кореляция очень большая 0.93 с depdelay (изучал результат corr())\n",
    "\n",
    "\n",
    "pd.options.display.max_columns = 100\n",
    "# pass_data\n"
   ]
  },
  {
   "cell_type": "markdown",
   "metadata": {},
   "source": [
    "**15. (1 балл)** Приведем данные к виду, пригодному для обучения линейных моделей. Для этого вещественные признаки надо отмасштабировать, а категориальные — привести к числовому виду. Также надо устранить пропуски в данных."
   ]
  },
  {
   "cell_type": "markdown",
   "metadata": {},
   "source": [
    "В первую очередь поймем, зачем необходимо применять масштабирование. Следующие ячейки с кодом построят гистограммы для 3 вещественных признаков выборки."
   ]
  },
  {
   "cell_type": "code",
   "execution_count": 171,
   "metadata": {
    "collapsed": true
   },
   "outputs": [],
   "source": [
    "pass_data[['Distance', 'Diverted', 'DepTime_Minute', 'CRSDepTime_Minute', 'CRSArrTime_Minute']] = pass_data[['Distance', 'Diverted', 'DepTime_Minute', 'CRSDepTime_Minute', 'CRSArrTime_Minute']].astype(float)\n",
    "pass_data[['Month', 'DayofMonth', 'DayOfWeek', 'FlightNum']] = pass_data[['Month', 'DayofMonth', 'DayOfWeek', 'FlightNum']].astype(object)"
   ]
  },
  {
   "cell_type": "code",
   "execution_count": 172,
   "metadata": {
    "collapsed": false
   },
   "outputs": [
    {
     "data": {
      "text/plain": [
       "<matplotlib.axes._subplots.AxesSubplot at 0x7fd835d4dac8>"
      ]
     },
     "execution_count": 172,
     "metadata": {},
     "output_type": "execute_result"
    },
    {
     "data": {
      "image/png": "[encoded data removed]",
      "text/plain": [
       "<matplotlib.figure.Figure at 0x7fd835e3a6a0>"
      ]
     },
     "metadata": {},
     "output_type": "display_data"
    }
   ],
   "source": [
    "X = pass_data\n",
    "X['DepTime_Hour'].hist(bins=20)"
   ]
  },
  {
   "cell_type": "code",
   "execution_count": 173,
   "metadata": {
    "collapsed": false,
    "scrolled": true
   },
   "outputs": [
    {
     "data": {
      "text/plain": [
       "<matplotlib.axes._subplots.AxesSubplot at 0x7fd835d62b00>"
      ]
     },
     "execution_count": 173,
     "metadata": {},
     "output_type": "execute_result"
    },
    {
     "data": {
      "image/png": "[encoded data removed]",
      "text/plain": [
       "<matplotlib.figure.Figure at 0x7fd83607e1d0>"
      ]
     },
     "metadata": {},
     "output_type": "display_data"
    }
   ],
   "source": [
    "X['TaxiIn'].hist(bins=20)"
   ]
  },
  {
   "cell_type": "code",
   "execution_count": 174,
   "metadata": {
    "collapsed": false
   },
   "outputs": [
    {
     "data": {
      "text/plain": [
       "<matplotlib.axes._subplots.AxesSubplot at 0x7fd835ced668>"
      ]
     },
     "execution_count": 174,
     "metadata": {},
     "output_type": "execute_result"
    },
    {
     "data": {
      "image/png": "[encoded data removed]",
      "text/plain": [
       "<matplotlib.figure.Figure at 0x7fd835c93748>"
      ]
     },
     "metadata": {},
     "output_type": "display_data"
    }
   ],
   "source": [
    "X['FlightNum'].hist(bins=20)"
   ]
  },
  {
   "cell_type": "markdown",
   "metadata": {},
   "source": [
    "Какую проблему вы наблюдаете на этих графиках? Как масштабирование поможет её исправить?"
   ]
  },
  {
   "cell_type": "raw",
   "metadata": {},
   "source": [
    "Характеристики принимают очень разные значения(по масштабу), TaxiIn  ~10, Dephours в основном от 6 до 20, flightnum вообще тысячи (на несколько порядков выше). Таким образом большие числа забьют маленькие и будут составлять большую часть в регрессии(Возникнут проблемы с функционалом ошибки). Масштабирование нормализует порядки значений и все features будут находиться рядом с нулем."
   ]
  },
  {
   "cell_type": "markdown",
   "metadata": {},
   "source": [
    "Некоторые из признаков в нашем датасете являются категориальными. Типичным подходом к работе с ними является бинарное, или [one-hot-кодирование](https://en.wikipedia.org/wiki/One-hot).\n",
    "\n",
    "Реализуйте функцию transform_data, которая принимает на вход DataFrame с признаками и выполняет следующие шаги:\n",
    "1. Замена пропущенных значений на нули для вещественных признаков и на строки 'nan' для категориальных.\n",
    "2. Масштабирование вещественных признаков с помощью [StandardScaler](http://scikit-learn.org/stable/modules/generated/sklearn.preprocessing.StandardScaler.html).\n",
    "3. One-hot-кодирование категориальных признаков с помощью [DictVectorizer](http://scikit-learn.org/stable/modules/generated/sklearn.feature_extraction.DictVectorizer.html) или функции [pd.get_dummies](http://pandas.pydata.org/pandas-docs/stable/generated/pandas.get_dummies.html).\n",
    "\n",
    "Метод должен возвращать преобразованный DataFrame, который должна состоять из масштабированных вещественных признаков и закодированных категориальных (исходные признаки должны быть исключены из выборки)."
   ]
  },
  {
   "cell_type": "code",
   "execution_count": 175,
   "metadata": {
    "collapsed": true
   },
   "outputs": [],
   "source": [
    "def transform_data(data):\n",
    "    data_features_mask = (data.dtypes == 'object').values #objects\n",
    "    label_enc = preprocessing.LabelEncoder()\n",
    "    for feature in data.columns[data_features_mask]:\n",
    "        data[feature] = data[feature].fillna('nan')\n",
    "        data[feature] = label_enc.fit_transform(data[feature])\n",
    "        \n",
    "    OneHot = preprocessing.OneHotEncoder(sparse=False)\n",
    "    data_np = OneHot.fit_transform(data[data.columns[data_features_mask]])\n",
    "    data_pd = pd.DataFrame(data=data_np)\n",
    "        \n",
    "    for feature in data.columns[data_features_mask]:\n",
    "        data = data.drop(feature, 1)\n",
    "\n",
    "    data_features_mask = (data.dtypes == 'float64').values #floats\n",
    "    for feature in data.columns[data_features_mask]:\n",
    "        data[feature] = data[feature].fillna(0)\n",
    "        data[feature] = preprocessing.StandardScaler().fit_transform(data[feature].reshape(-1,1))\n",
    "    \n",
    "    return pd.concat([data, data_pd], axis=1)\n",
    "            \n",
    "    \n",
    "    # Your code here"
   ]
  },
  {
   "cell_type": "markdown",
   "metadata": {},
   "source": [
    "Примените функцию transform_data к данным. Сколько признаков получилось после преобразования?"
   ]
  },
  {
   "cell_type": "code",
   "execution_count": 176,
   "metadata": {
    "collapsed": false
   },
   "outputs": [
    {
     "name": "stdout",
     "output_type": "stream",
     "text": [
      "4982 признаков\n"
     ]
    }
   ],
   "source": [
    "X = transform_data(X)\n",
    "print(X.columns.size, \"признаков\")\n"
   ]
  },
  {
   "cell_type": "markdown",
   "metadata": {},
   "source": [
    "**16. (0.5 балла)** Разбейте выборку и вектор целевой переменной на обучение и контроль в отношении 70/30 (для этого можно использовать, например, функцию [train_test_split](http://scikit-learn.org/stable/modules/generated/sklearn.cross_validation.train_test_split.html)). "
   ]
  },
  {
   "cell_type": "code",
   "execution_count": 177,
   "metadata": {
    "collapsed": false
   },
   "outputs": [],
   "source": [
    "X_train, X_test, Y_train, Y_test = cross_validation.train_test_split(X, Y, test_size=0.3, random_state=17)"
   ]
  },
  {
   "cell_type": "markdown",
   "metadata": {},
   "source": [
    "### Scikit-learn\n",
    "\n",
    "<img src = \"https://pp.vk.me/c4534/u35727827/93547647/x_d31c4463.jpg\">\n",
    "Теперь, когда мы привели данные к пригодному виду, попробуем решить задачу при помощи метода наименьших квадратов. Напомним, что данный метод заключается в оптимизации функционала $MSE$:\n",
    "\n",
    "$$MSE(X, y) = \\frac{1}{l} \\sum_{i=1}^l (<w, x_i> - y_i)^2 \\to \\min_{w},$$\n",
    "\n",
    "где $\\{ (x_i, y_i ) \\}_{i=1}^l$ — обучающая выборка, состоящая из $l$ пар объект-ответ.\n",
    "\n",
    "Заметим, что решение данной задачи уже реализовано в модуле sklearn в виде класса [LinearRegression](http://scikit-learn.org/stable/modules/generated/sklearn.linear_model.LinearRegression.html#sklearn.linear_model.LinearRegression).\n",
    "\n",
    "**17. (0.5 балла)** Обучите линейную регрессию на 1000 объектах из обучающей выборки и выведите значения $MSE$ и $R^2$ на этой подвыборке и контрольной выборке (итого 4 различных числа). Проинтерпретируйте полученный результат — насколько качественные прогнозы строит полученная модель? Какие проблемы наблюдаются в модели?\n",
    "\n",
    "**Подсказка**: изучите значения полученных коэффициентов $w$, сохраненных в атрибуте coef_ объекта LinearRegression."
   ]
  },
  {
   "cell_type": "code",
   "execution_count": 111,
   "metadata": {
    "collapsed": false,
    "scrolled": true
   },
   "outputs": [
    {
     "name": "stdout",
     "output_type": "stream",
     "text": [
      "6.19728874114e-25 1.0\n",
      "4597.00570941 -2.39236052903\n"
     ]
    }
   ],
   "source": [
    "Regr_model = linear_model.LinearRegression().fit(X_train[3000:4000], Y_train[3000:4000])\n",
    "# print(Regr_model.coef_)\n",
    "Train_prediction = Regr_model.predict(X_train[3000:4000])\n",
    "Test_prediction = Regr_model.predict(X_test)\n",
    "print(metrics.mean_squared_error(Y_train[3000:4000], Train_prediction), metrics.r2_score(Y_train[3000:4000], Train_prediction))\n",
    "print(metrics.mean_squared_error(Y_test, Test_prediction), metrics.r2_score(Y_test, Test_prediction))\n"
   ]
  },
  {
   "cell_type": "raw",
   "metadata": {},
   "source": [
    "R^2 находится далековато от единицы. По эксперимeнтам (я напомню, что работаю с 10000 случайной выборкой из исходных данных, поэтому результаты разнятся) можно сказать что средний квадрат отклонения от ответа ~ 4500. Значит предсказание происходит с точностью примерно +-67 минут, что плохо). Получается модель плохая и прогнозы не точные.\n",
    "проблема: В векторе coef_ содержатся довольно большие веса (+ она сложная(много весов)), потому что элементов гораздо меньше чем признаков и есть корелирующие признаки. Модель переобучается."
   ]
  },
  {
   "cell_type": "code",
   "execution_count": 112,
   "metadata": {
    "collapsed": false
   },
   "outputs": [],
   "source": [
    "# np.set_printoptions(threshold=np.nan)\n",
    "# print(Regr_model.coef_)\n"
   ]
  },
  {
   "cell_type": "markdown",
   "metadata": {
    "collapsed": true
   },
   "source": [
    "Для решения описанных вами в предыдущем пункте проблем используем L1- или L2-регуляризацию, тем самым получив Lasso и Ridge регрессии соответственно и изменив оптимизационную задачу одним из следующих образов:\n",
    "$$MSE_{L1}(X, y) = \\frac{1}{l} \\sum_{i=1}^l (<w, x_i> - y_i)^2 + \\alpha ||w||_1 \\to \\min_{w},$$\n",
    "$$MSE_{L2}(X, y) = \\frac{1}{l} \\sum_{i=1}^l (<w, x_i> - y_i)^2 + \\alpha ||w||_2^2 \\to \\min_{w},$$\n",
    "\n",
    "где $\\alpha$ — коэффициент регуляризации. Один из способов его подбора заключается в переборе некоторого количества значений и оценке качества на кросс-валидации для каждого из них, после чего выбирается значение, для которого было получено наилучшее качество.\n",
    "\n",
    "**18. (0.5 балла)** Обучите линейные регрессии с L1- и L2-регуляризатором, подобрав лучшее значение параметра регуляризации из списка alpha_grid при помощи кросс-валидации c 5 фолдами на тех же 1000 объектах, что и в п.17. Выведите значения $MSE$ и $R^2$ на обучающей и контрольной выборках. Удалось ли решить указанные вами ранее проблемы?\n",
    "\n",
    "Для выполнения данного задания вам могут понадобиться реализованные в библиотеке объекты [LassoCV](http://scikit-learn.org/stable/modules/generated/sklearn.linear_model.LassoCV.html), [RidgeCV](http://scikit-learn.org/stable/modules/generated/sklearn.linear_model.RidgeCV.html) и [KFold](http://scikit-learn.org/stable/modules/generated/sklearn.cross_validation.KFold.html).\n"
   ]
  },
  {
   "cell_type": "code",
   "execution_count": 113,
   "metadata": {
    "collapsed": false
   },
   "outputs": [
    {
     "name": "stdout",
     "output_type": "stream",
     "text": [
      "841.130743012 0.119304730065\n",
      "1270.20411544 0.062652827203\n"
     ]
    }
   ],
   "source": [
    "Lasso_model = linear_model.LassoCV(cv=5, n_alphas=10, n_jobs=2, max_iter=200000)\n",
    "Lasso_model.fit(X_train[3000:4000], Y_train[3000:4000])\n",
    "# print(Lasso_model.mse_path_)\n",
    "# print(np.array(Lasso_model.mse_path_).mean(axis=1))\n",
    "\n",
    "# print(Lasso_model.alphas_)\n",
    "Train_prediction = Lasso_model.predict(X_train[3000:4000])\n",
    "Test_prediction = Lasso_model.predict(X_test)\n",
    "print(metrics.mean_squared_error(Y_train[3000:4000], Train_prediction), metrics.r2_score(Y_train[3000:4000], Train_prediction))\n",
    "print(metrics.mean_squared_error(Y_test, Test_prediction), metrics.r2_score(Y_test, Test_prediction))"
   ]
  },
  {
   "cell_type": "code",
   "execution_count": 114,
   "metadata": {
    "collapsed": false
   },
   "outputs": [
    {
     "name": "stdout",
     "output_type": "stream",
     "text": [
      "519.68356929 0.455871913922\n",
      "1196.43482555 0.117090877344\n"
     ]
    }
   ],
   "source": [
    "Ridge_model = linear_model.RidgeCV(cv=5)\n",
    "Ridge_model.fit(X_train[3000:4000], Y_train[3000:4000])\n",
    "# print(Lasso_model.mse_path_)\n",
    "# print(np.array(Lasso_model.mse_path_).mean(axis=1))\n",
    "\n",
    "# print(Lasso_model.alphas_)\n",
    "Train_prediction = Ridge_model.predict(X_train[3000:4000])\n",
    "Test_prediction = Ridge_model.predict(X_test)\n",
    "print(metrics.mean_squared_error(Y_train[3000:4000], Train_prediction), metrics.r2_score(Y_train[3000:4000], Train_prediction))\n",
    "print(metrics.mean_squared_error(Y_test, Test_prediction), metrics.r2_score(Y_test, Test_prediction))"
   ]
  },
  {
   "cell_type": "code",
   "execution_count": 96,
   "metadata": {
    "collapsed": false
   },
   "outputs": [],
   "source": [
    "# print(Lasso_model.coef_)\n",
    "# Решить проблему весов удалось, так как мы штрафовали модель за большую норму вектора весов. Веса многих признаков обнулились.\n",
    "# результаты на тестах подросли, кореляция приблизилась к единице, хотя попрежнему очень мала. MSE уменьшилась в ~4 Рааза.\n"
   ]
  },
  {
   "cell_type": "markdown",
   "metadata": {},
   "source": [
    "### Градиентный спуск\n",
    "\n",
    "В предыдущем разделе мы использовали существующие реализации методов обучения линейной регрессии с регуляризацией и без. Тем не менее, подобные реализации, как правило, имеются лишь для ограниченного набора стандартных методов. В частности, при выходе функционала качества за пределы стандартного множества необходимо самостоятельно реализовывать составляющие процесса решения оптимизационной задачи. Именно этому и посвящен данный раздел задания.\n",
    "\n",
    "Пусть необходимо минимизировать следующий функционал (Mean Square Percentage Error — модифицированный [RMSPE](https://www.kaggle.com/c/rossmann-store-sales/details/evaluation)):\n",
    "$$MSPE(\\{x_i, y_i\\}_{i=1}^l, \\, w) = \\frac{1}{l}\\sum_{i=1}^l \\left( \\frac{y_i - \\langle w, x_i \\rangle }{y_i} \\right)^2,$$\n",
    "\n",
    "где $\\{x_i, y_i\\}_{i=1}^l$ — обучающая выборка, $w$ — вектор весов линейной модели. Будем также рассматривать функционал $MSPE$ с L2-регуляризацией:\n",
    "\n",
    "$$MSPE(\\{x_i, y_i\\}_{i=1}^l, \\, w) = \\frac{1}{l}\\sum_{i=1}^l \\left( \\frac{y_i - \\langle w, x_i \\rangle }{y_i} \\right)^2 + ||w||_2^2.$$\n",
    "\n",
    "**19. (0.5 баллов)** Добавьте к объектам обеих выборок из п. 16 единичный признак."
   ]
  },
  {
   "cell_type": "code",
   "execution_count": 178,
   "metadata": {
    "collapsed": false,
    "scrolled": true
   },
   "outputs": [],
   "source": [
    "X_train_for_regr = X_train\n",
    "X_test_for_regr = X_test\n",
    "X_train = X_train.assign(bias = 1)\n",
    "X_test = X_test.assign(bias = 1)"
   ]
  },
  {
   "cell_type": "markdown",
   "metadata": {},
   "source": [
    "**20. (1 балл)** Реализуйте функции, которые вычисляют:\n",
    " * прогнозы линейной модели;\n",
    " * функционал $MSPE$ и его градиент;\n",
    " * регуляризованный $MSPE$ и его градиент."
   ]
  },
  {
   "cell_type": "code",
   "execution_count": 179,
   "metadata": {
    "collapsed": true
   },
   "outputs": [],
   "source": [
    "# возвращает вектор прогнозов линейной модели с вектором весов w для выборки X\n",
    "def make_pred(X, w):\n",
    "    return X.dot(w)\n",
    "#     pass"
   ]
  },
  {
   "cell_type": "code",
   "execution_count": 180,
   "metadata": {
    "collapsed": true
   },
   "outputs": [],
   "source": [
    "# возвращает значение функционала MSPE для выборки (X, y) и вектора весов w\n",
    "def get_func(w, X, y):\n",
    "    l = y.shape[0]\n",
    "    return np.sum(((y - make_pred(X, w)) / y) ** 2) / l\n",
    "#     pass"
   ]
  },
  {
   "cell_type": "code",
   "execution_count": 181,
   "metadata": {
    "collapsed": true
   },
   "outputs": [],
   "source": [
    "# возвращает градиент функционала MSPE для выборки (X, y) и вектора весов w\n",
    "def get_grad(w, X, y):\n",
    "    l = y.shape[0]\n",
    "    return (2 * (X.T.dot(X).dot(w) - X.T.dot(y)) / (y.T.dot(y))) / l"
   ]
  },
  {
   "cell_type": "code",
   "execution_count": 182,
   "metadata": {
    "collapsed": true
   },
   "outputs": [],
   "source": [
    "# возвращает значение регуляризованного функционала MSPE для выборки (X, y) и вектора весов w\n",
    "def get_reg_func(w, X, y):\n",
    "    return get_func(w, X, y) + (w.T.dot(w)) ** 2"
   ]
  },
  {
   "cell_type": "code",
   "execution_count": 183,
   "metadata": {
    "collapsed": true
   },
   "outputs": [],
   "source": [
    "# возвращает градиент регуляризованного функционала MSPE для выборки (X, y) и вектора весов w\n",
    "def get_reg_grad(w, X, y):\n",
    "    return get_grad(w, X, y) + 2 * w    "
   ]
  },
  {
   "cell_type": "markdown",
   "metadata": {},
   "source": [
    "**21. (1 балл)** Реализуйте метод градиентного спуска для описанных функционалов ($MSPE$ и его регуляризованный вариант). Функция должна принимать следующие параметры:\n",
    " - X — матрица \"объект-признак\";\n",
    " - y — вектор целевой переменной;\n",
    " - w0 — начальное значение вектора весов;\n",
    " - step_size — значение темпа обучения;\n",
    " - max_iter — максимальное число итераций;\n",
    " - eps — значение, используемое в критерии останова;\n",
    " - is_reg — бинарный параметр, принимает значение True в случае наличия регуляризации функционала, False — в противном случае.\n",
    " \n",
    "Процесс должен быть остановлен, если выполнено хотя бы одно из следующих условий:\n",
    " - было выполнено заданное количество итераций max_iter;\n",
    " - евклидова норма разности векторов $w$ на соседних итерациях стала меньше, чем eps.\n",
    "\n",
    "Функция должна возвращать полученный в результате оптимизации вектор $w$ и список значений функционала на каждой итерации."
   ]
  },
  {
   "cell_type": "code",
   "execution_count": 184,
   "metadata": {
    "collapsed": true
   },
   "outputs": [],
   "source": [
    "def grad_descent(X, y, w0, step_size, max_iter, eps, is_reg):\n",
    "    Q_vals = []\n",
    "    w_k = w0\n",
    "    w_kp1 = w0\n",
    "    for i in range(max_iter):\n",
    "        w_k = w_kp1\n",
    "        w_kp1 = w_k - step_size * (get_reg_grad(w_k, X, y) if is_reg else get_grad(w_k, X, y))\n",
    "        Q_vals.append(get_reg_func(w_kp1, X, y) if is_reg else get_func(w_kp1, X, y))\n",
    "        if np.linalg.norm(w_k - w_kp1) < eps: break\n",
    "    return w_kp1, Q_vals\n",
    "    # Your code here"
   ]
  },
  {
   "cell_type": "markdown",
   "metadata": {},
   "source": [
    "Обучите линейную регрессию с функционалом $MSPE$ на обучающей выборке при помощи метода градиентного спуска и изобразите кривые зависимости значения функционала от номера итерации для различных:\n",
    " * значений размера шага из набора [0.001, 1, 10];\n",
    " * способов начальной инициализации вектора весов (нули, случайные веса).\n",
    "\n",
    "Проанализируйте полученные результаты — влияют ли данные параметры на скорость сходимости и итоговое качество? Если да, то как?"
   ]
  },
  {
   "cell_type": "code",
   "execution_count": 185,
   "metadata": {
    "collapsed": true
   },
   "outputs": [],
   "source": [
    "w = np.array(np.random.randint(-100, 100, X_train.shape[1]))\n",
    "iters_count = 10 # Можно поменять на 500-1000 тогда сходимость будет нагляднее. Но впринципе и так ясно где круче наклон кривой"
   ]
  },
  {
   "cell_type": "code",
   "execution_count": 123,
   "metadata": {
    "collapsed": false,
    "scrolled": true
   },
   "outputs": [],
   "source": [
    "w_res_1, Q_vals_1 = grad_descent(X_train, Y_train, w, step_size=0.001, max_iter=iters_count, eps=0.000001, is_reg=False)\n",
    "w_res_2, Q_vals_2 = grad_descent(X_train, Y_train, w, step_size=1, max_iter=iters_count, eps=0.000001, is_reg=False)\n",
    "w_res_3, Q_vals_3 = grad_descent(X_train, Y_train, w, step_size=10, max_iter=iters_count, eps=0.000001, is_reg=False)"
   ]
  },
  {
   "cell_type": "code",
   "execution_count": 124,
   "metadata": {
    "collapsed": false
   },
   "outputs": [
    {
     "data": {
      "text/plain": [
       "[<matplotlib.lines.Line2D at 0x7fd8364d4b38>]"
      ]
     },
     "execution_count": 124,
     "metadata": {},
     "output_type": "execute_result"
    },
    {
     "data": {
      "image/png": "[encoded data removed]",
      "text/plain": [
       "<matplotlib.figure.Figure at 0x7fd836597908>"
      ]
     },
     "metadata": {},
     "output_type": "display_data"
    }
   ],
   "source": [
    "matplotlib.pyplot.figure(figsize=(12, 5))\n",
    "matplotlib.pyplot.subplot(131)\n",
    "matplotlib.pyplot.plot([i for i in range(len(Q_vals_1))], Q_vals_1, label=\"data1\") #blue\n",
    "matplotlib.pyplot.legend = \"sdsd\"\n",
    "matplotlib.pyplot.subplot(132)\n",
    "matplotlib.pyplot.plot([i for i in range(len(Q_vals_2))], Q_vals_2) #green\n",
    "matplotlib.pyplot.legend = \"sdsd\"\n",
    "matplotlib.pyplot.subplot(133)\n",
    "matplotlib.pyplot.plot([i for i in range(len(Q_vals_3))], Q_vals_3) #red"
   ]
  },
  {
   "cell_type": "markdown",
   "metadata": {},
   "source": [
    "Судя по графикам выбор шага значительно влияет на скорость сходимости. Например 0.001 очень мало, сходится медленно. 1 и 10 соизмеримы по скорости, можно получить хороший результат даже за 10 итераций (но 1 лучше, сходимость от итераций быстрее)."
   ]
  },
  {
   "cell_type": "code",
   "execution_count": 128,
   "metadata": {
    "collapsed": true
   },
   "outputs": [],
   "source": [
    "w_0 = np.array([0 for i in range(X_train.shape[1])])\n",
    "w_res_zeros_like_3, Q_vals_zeros_like_3 = grad_descent(X_train, Y_train, w_0, step_size=1, max_iter=iters_count, eps=0.000001, is_reg=False)"
   ]
  },
  {
   "cell_type": "code",
   "execution_count": 129,
   "metadata": {
    "collapsed": false
   },
   "outputs": [
    {
     "data": {
      "text/plain": [
       "[<matplotlib.lines.Line2D at 0x7fd8361ad780>]"
      ]
     },
     "execution_count": 129,
     "metadata": {},
     "output_type": "execute_result"
    },
    {
     "data": {
      "image/png": "[encoded data removed]",
      "text/plain": [
       "<matplotlib.figure.Figure at 0x7fd836248a90>"
      ]
     },
     "metadata": {},
     "output_type": "display_data"
    }
   ],
   "source": [
    "matplotlib.pyplot.figure(figsize=(12, 5))\n",
    "matplotlib.pyplot.subplot(121)\n",
    "matplotlib.pyplot.plot([i for i in range(len(Q_vals_2))], Q_vals_2, label=\"data1\") #blue\n",
    "matplotlib.pyplot.legend = \"sdsd\"\n",
    "matplotlib.pyplot.subplot(122)\n",
    "matplotlib.pyplot.plot([i for i in range(len(Q_vals_zeros_like_3))], Q_vals_zeros_like_3) #green"
   ]
  },
  {
   "cell_type": "markdown",
   "metadata": {},
   "source": [
    "С нулей спуск работает хуже. Тоесть он вообще расходится в ряде случаев. Все зависит от того насколько близко к минимуму находится точка 0(получислось что мы перескочили минимум). На данных графиках получилось что сходимость лучше у случайных чисел."
   ]
  },
  {
   "cell_type": "markdown",
   "metadata": {},
   "source": [
    "**22. (0.5 балла)** Обучите линейную регрессию с функционалом MSPE и его регуляризованным вариантом на обучающей выборке при помощи метода градиентного спуска и изобразите кривые зависимости значения функционала от номера итерации. Исследуйте зависимость скорости сходимости от наличия регуляризации. Обоснуйте, почему так происходит."
   ]
  },
  {
   "cell_type": "code",
   "execution_count": 130,
   "metadata": {
    "collapsed": false
   },
   "outputs": [],
   "source": [
    "# w = np.array(np.random.randint(-2, 2, X_train.shape[1]))\n",
    "w = np.array(np.random.randint(-100, 100, X_train.shape[1]))\n",
    "\n",
    "w_res_1, Q_vals_1 = grad_descent(X_train, Y_train, w, step_size=0.001, max_iter=10, eps=0.000001, is_reg=False)\n",
    "w_res_2, Q_vals_2 = grad_descent(X_train, Y_train, w, step_size=0.001, max_iter=10, eps=0.000001, is_reg=True)"
   ]
  },
  {
   "cell_type": "code",
   "execution_count": 131,
   "metadata": {
    "collapsed": false
   },
   "outputs": [
    {
     "data": {
      "text/plain": [
       "[<matplotlib.lines.Line2D at 0x7fd83610a518>]"
      ]
     },
     "execution_count": 131,
     "metadata": {},
     "output_type": "execute_result"
    },
    {
     "data": {
      "image/png": "[encoded data removed]",
      "text/plain": [
       "<matplotlib.figure.Figure at 0x7fd8361490b8>"
      ]
     },
     "metadata": {},
     "output_type": "display_data"
    }
   ],
   "source": [
    "matplotlib.pyplot.figure(figsize=(12, 5))\n",
    "matplotlib.pyplot.subplot(121)\n",
    "matplotlib.pyplot.plot([i for i in range(len(Q_vals_1))], Q_vals_1, label=\"data1\") #blue\n",
    "matplotlib.pyplot.legend = \"sdsd\"\n",
    "matplotlib.pyplot.subplot(122)\n",
    "matplotlib.pyplot.plot([i for i in range(len(Q_vals_2))], Q_vals_2) #green"
   ]
  },
  {
   "cell_type": "raw",
   "metadata": {
    "collapsed": false
   },
   "source": [
    "При step_size = 0.001 регуляриованный спуск сходится, в то время как для сходимости обычного этого значения шага явно  недостаточно. Таким образом можно сказать что скорость сходимости растет в зависимости от наличия регуляризатора (при прочих равных)"
   ]
  },
  {
   "cell_type": "markdown",
   "metadata": {},
   "source": [
    "Метод градиентного спуска может быть весьма трудозатратен в случае большого размера обучающей выборки. Поэтому часто используют метод стохастического градиентного спуска, где на каждой итерации выбирается случайный объект из обучающей выборки и обновление весов происходит только по этому объекту. \n",
    "\n",
    "**23. (1 доп. балл)**  Реализуйте метод стохастического градиентного спуска (SGD) для описанных функционалов ($MSPE$ и его регуляризованный вариант). Функция должна иметь параметры и возвращаемое значение, аналогичные оным функции grad\\_descent из п.21. Кроме того, должен использоваться аналогичный критерий останова."
   ]
  },
  {
   "cell_type": "code",
   "execution_count": 161,
   "metadata": {
    "collapsed": true
   },
   "outputs": [],
   "source": [
    "# возвращает градиент функционала MSPE для выборки (X, y) и вектора весов w\n",
    "def get_grad_for_sgd(w, X, y):\n",
    "#     print(w.shape, X.shape, y.shape)\n",
    "    return 2 * (X.T.dot(X) * w - X.T * y) / (y * y) # l = 1\n",
    "\n",
    "def get_reg_grad_for_sgd(w, X, y):\n",
    "    return get_grad_for_sgd(w, X, y) + 2 * w\n",
    "    "
   ]
  },
  {
   "cell_type": "code",
   "execution_count": 162,
   "metadata": {
    "collapsed": true
   },
   "outputs": [],
   "source": [
    "def sgd(X, y, w0, step_size, max_iter, eps, is_reg):\n",
    "    Q_vals = []\n",
    "    w_k = w0\n",
    "    w_kp1 = w0\n",
    "    for i in range(max_iter):\n",
    "        x_idx = X.sample(1)\n",
    "        w_k = w_kp1\n",
    "        print(get_grad_for_sgd(w_k, X.loc[x_idx.index], y.loc[x_idx.index]).shape)\n",
    "        w_kp1 = w_k - step_size * (get_reg_grad_for_sgd(w_k, X.loc[x_idx.index], y.loc[x_idx.index]) if is_reg else get_grad_for_sgd(w_k, X.loc[x_idx.index], y.loc[x_idx.index]))\n",
    "        Q_vals.append(get_reg_func(w_kp1, X.loc[x_idx.index], y.loc[x_idx.index]) if is_reg else get_func(w_kp1, X.loc[x_idx.index], y.loc[x_idx.index]))\n",
    "        if np.linalg.norm(w_k - w_kp1) < eps: break\n",
    "    return w_kp1, Q_vals\n",
    "    # Your code here"
   ]
  },
  {
   "cell_type": "code",
   "execution_count": 163,
   "metadata": {
    "collapsed": false,
    "scrolled": true
   },
   "outputs": [
    {
     "name": "stdout",
     "output_type": "stream",
     "text": [
      "(4983,)\n"
     ]
    },
    {
     "name": "stderr",
     "output_type": "stream",
     "text": [
      "/home/wamkelekile/Storage/anaconda3/lib/python3.5/site-packages/pandas/indexes/base.py:2482: RuntimeWarning: unorderable types: str() > int(), sort order is undefined for incomparable objects\n",
      "  return this.join(other, how=how, return_indexers=return_indexers)\n"
     ]
    },
    {
     "name": "stdout",
     "output_type": "stream",
     "text": [
      "(4983, 4983)\n",
      "(4983, 4983)\n",
      "(4983, 4983)\n",
      "(4983, 4983)\n"
     ]
    },
    {
     "name": "stderr",
     "output_type": "stream",
     "text": [
      "/home/wamkelekile/Storage/anaconda3/lib/python3.5/site-packages/pandas/indexes/base.py:2482: RuntimeWarning: unorderable types: str() < int(), sort order is undefined for incomparable objects\n",
      "  return this.join(other, how=how, return_indexers=return_indexers)\n",
      "/home/wamkelekile/Storage/anaconda3/lib/python3.5/site-packages/pandas/indexes/base.py:2482: RuntimeWarning: unorderable types: int() > str(), sort order is undefined for incomparable objects\n",
      "  return this.join(other, how=how, return_indexers=return_indexers)\n"
     ]
    },
    {
     "name": "stdout",
     "output_type": "stream",
     "text": [
      "(4983, 4984)\n"
     ]
    },
    {
     "name": "stderr",
     "output_type": "stream",
     "text": [
      "/home/wamkelekile/Storage/anaconda3/lib/python3.5/site-packages/pandas/core/generic.py:4205: RuntimeWarning: unorderable types: str() < int(), sort order is undefined for incomparable objects\n",
      "  other.columns, how=join, level=level, return_indexers=True)\n"
     ]
    },
    {
     "name": "stdout",
     "output_type": "stream",
     "text": [
      "(4983, 4985)\n",
      "(4983, 4986)\n",
      "(4983, 4986)\n",
      "(4983, 4987)\n",
      "(4983, 4987)\n"
     ]
    }
   ],
   "source": [
    "w = np.array(np.random.randint(-100, 100, X_train.shape[1]))\n",
    "print(w.shape)\n",
    "w_res_2, Q_vals_2 = sgd(X_train, Y_train, w, step_size=10, max_iter=iters_count, eps=0.001, is_reg=False)"
   ]
  },
  {
   "cell_type": "markdown",
   "metadata": {},
   "source": [
    "дедлайны"
   ]
  },
  {
   "cell_type": "markdown",
   "metadata": {},
   "source": [
    "Обучите линейную регрессию с функционалом $MSPE$ и его регуляризованным вариантом на обучающей выборке при помощи метода стохастического градиентного спуска, подобрав при этом размер шага, при котором метод будет сходиться. Нарисуйте график сходимости. Выведите значения $MSPE, MSE, R^2$ на контрольной выборке."
   ]
  },
  {
   "cell_type": "markdown",
   "metadata": {},
   "source": [
    "не получается подобрать шаг, метод расходится очень быстро."
   ]
  },
  {
   "cell_type": "markdown",
   "metadata": {},
   "source": [
    "**24. (0.5 доп. балла)** Аналогично п.22 исследуйте зависимость скорости сходимости метода SGD от наличия регуляризации. Обоснуйте, почему так происходит."
   ]
  },
  {
   "cell_type": "code",
   "execution_count": null,
   "metadata": {
    "collapsed": true
   },
   "outputs": [],
   "source": [
    "# Your code here"
   ]
  },
  {
   "cell_type": "markdown",
   "metadata": {},
   "source": [
    "**25. (0.5 балла)** Обучите стандартную линейную регрессию с функционалом качества MSE на обучающей выборке и выведите значение MSPE полученного решения на контрольной выборке. Как оно соотносится с аналогичным результатом для решения, полученного в п.22? Почему?"
   ]
  },
  {
   "cell_type": "code",
   "execution_count": 132,
   "metadata": {
    "collapsed": true
   },
   "outputs": [],
   "source": [
    "Regr_model = linear_model.LinearRegression().fit(X_train_for_regr, Y_train) \n"
   ]
  },
  {
   "cell_type": "code",
   "execution_count": 133,
   "metadata": {
    "collapsed": false
   },
   "outputs": [
    {
     "name": "stdout",
     "output_type": "stream",
     "text": [
      "1.7482782754249858e+25\n"
     ]
    }
   ],
   "source": [
    "# print(Regr_model.coef_)\n",
    "print(get_func(Regr_model.coef_, X_test_for_regr, Y_test)) # MSPE модели обученной на MSE"
   ]
  },
  {
   "cell_type": "code",
   "execution_count": 137,
   "metadata": {
    "collapsed": false
   },
   "outputs": [
    {
     "name": "stdout",
     "output_type": "stream",
     "text": [
      "8432.453857877783\n"
     ]
    }
   ],
   "source": [
    "w = np.array(np.random.randint(-100, 100, X_train.shape[1]))\n",
    "w_res_1, Q_vals_1 = grad_descent(X_train, Y_train, w, step_size=1, max_iter=iters_count, eps=0.000001, is_reg=False)\n",
    "print(get_func(w_res_1, X_test, Y_test)) # MSPE которое было в п 22 "
   ]
  },
  {
   "cell_type": "raw",
   "metadata": {},
   "source": [
    "Модель, обученная на MSE, дает значение MSPE сильно больше чем MSPE обученной градиентным спуском. Связано это с тем, что обучалась она на другом функционале. Тоесть минимизируя отклонение мы, вообще говоря, не минимизируем его долю в ответе (случай mspe)."
   ]
  },
  {
   "cell_type": "markdown",
   "metadata": {},
   "source": [
    "Здесь вы можете поделиться своими мыслями по поводу этого задания."
   ]
  },
  {
   "cell_type": "markdown",
   "metadata": {
    "collapsed": true
   },
   "source": [
    "Вообще, я умаялся."
   ]
  },
  {
   "cell_type": "markdown",
   "metadata": {},
   "source": [
    "А здесь — вставить вашу любимую картинку."
   ]
  },
  {
   "cell_type": "markdown",
   "metadata": {
    "collapsed": true
   },
   "source": [
    "![](https://s-media-cache-ak0.pinimg.com/originals/7b/02/86/7b028635a5c7db2796111ce67ee8fcb0.png)"
   ]
  }
 ],
 "metadata": {
  "anaconda-cloud": {},
  "kernelspec": {
   "display_name": "Python [Root]",
   "language": "python",
   "name": "Python [Root]"
  },
  "language_info": {
   "codemirror_mode": {
    "name": "ipython",
    "version": 3
   },
   "file_extension": ".py",
   "mimetype": "text/x-python",
   "name": "python",
   "nbconvert_exporter": "python",
   "pygments_lexer": "ipython3",
   "version": "3.5.2"
  }
 },
 "nbformat": 4,
 "nbformat_minor": 0
}
