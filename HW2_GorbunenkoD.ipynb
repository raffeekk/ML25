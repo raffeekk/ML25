{
 "cells": [
  {
   "cell_type": "markdown",
   "metadata": {},
   "source": [
    "# Машинное обучение, ФКН ВШЭ\n",
    "\n",
    "# Практическое задание 2\n",
    "\n",
    "## Общая информация\n",
    "\n",
    "Дата выдачи: 11.10.2016\n",
    "\n",
    "Срок сдачи: 24.10.2016 23:59MSK\n",
    "\n",
    "### О задании\n",
    "На сайтах для поиска работы можно найти сотни тысяч объявлений, каждое из которых состоит из пространного описания вакансии и предлагаемой зарплаты. Есть ли связь между описанием и зарплатой? Существуют ли определенные слова, которые наиболее сильно характеризуют зарплату? Можно ли найти другие информативные факторы? Вам предстоит ответить на эти вопросы, проанализировав выборку объявлений о работе в Великобритании.\n",
    "\n",
    "Практическое задание 2 посвящено работе с текстовыми данными и категориальными признаками и задачам бинарной классификации. Вы научитесь:\n",
    " * работать с категориальными признаками;\n",
    " * строить вещественные представления текстовых данных;\n",
    " * обучать и строить прогнозы линейных классификаторов при помощи scikit-learn и Vowpal Wabbit;\n",
    " * тестировать модели и проводить оценку качества в задачах бинарной классификации.\n",
    "\n",
    "\n",
    "### Оценивание и штрафы\n",
    "\n",
    "Каждая из задач имеет определенную «стоимость» (указана в скобках около задачи). Максимально допустимая оценка за работу — 10 баллов. Кроме того, некоторые из заданий являются опциональными (необязательными), однако за их выполнение можно получить дополнительные баллы, которые позднее будут учитываться при проставлении оценок автоматом по курсу.\n",
    "\n",
    "Сдавать задание после указанного срока сдачи нельзя. При выставлении неполного балла за задание в связи с наличием ошибок на усмотрение проверяющего предусмотрена возможность исправить работу на указанных в ответном письме условиях.\n",
    "\n",
    "Задание выполняется самостоятельно. «Похожие» решения считаются плагиатом и все задействованные студенты (в том числе те, у кого списали) не могут получить за него больше 0 баллов (подробнее о плагиате см. на странице курса). Если вы нашли решение какого-то из заданий (или его часть) в открытом источнике, необходимо указать ссылку на этот источник в отдельном блоке в конце Вашей работы (скорее всего вы будете не единственным, кто это нашел, поэтому чтобы исключить подозрение в плагиате, необходима ссылка на источник).\n",
    "\n",
    "Неэффективная реализация кода может негативно отразиться на оценке.\n",
    "\n",
    "### Формат сдачи\n",
    "Для сдачи задания переименуйте получившийся файл \\*.ipynb в соответствии со следующим форматом: *HW2_Username.ipynb*, где *Username* — Ваша фамилия и инициалы на латинице (например, *HW2_IvanovII.ipynb*). Далее отправьте этот файл на hse.cs.ml+<номер группы>@gmail.com (например, hse.cs.ml+141@gmail.com для студентов группы БПМИ-141)."
   ]
  },
  {
   "cell_type": "markdown",
   "metadata": {},
   "source": [
    "## Данные\n",
    "\n",
    "Как было упомянуто ранее, в рамках данного задания мы будем решать задачу бинарной классификации для предсказания уровня заработной платы по тексту объявления о вакансии на примере набора данных с соревнования [Adzuna - Job Salary Prediction](https://www.kaggle.com/c/job-salary-prediction). Для начала пройдите по [ссылке](https://www.kaggle.com/c/job-salary-prediction/data) и скачайте файл Train_rev1 (при необходимости, зарегистрируйтесь на Kaggle).\n",
    "\n",
    "Посмотрим на данные в файле и загрузим их в DataFrame:"
   ]
  },
  {
   "cell_type": "code",
   "execution_count": 63,
   "metadata": {
    "collapsed": false,
    "scrolled": true
   },
   "outputs": [
    {
     "name": "stdout",
     "output_type": "stream",
     "text": [
      "Populating the interactive namespace from numpy and matplotlib\n"
     ]
    },
    {
     "name": "stderr",
     "output_type": "stream",
     "text": [
      "/home/ubuntu/miniconda/lib/python2.7/site-packages/IPython/core/magics/pylab.py:161: UserWarning: pylab import has clobbered these variables: ['hstack', 'median']\n",
      "`%matplotlib` prevents importing * from pylab and numpy\n",
      "  \"\\n`%matplotlib` prevents importing * from pylab and numpy\"\n"
     ]
    }
   ],
   "source": [
    "%pylab inline\n",
    "\n",
    "import numpy as np\n",
    "import pandas as pd\n",
    "%matplotlib inline\n",
    "import math\n",
    "from sklearn import preprocessing, feature_extraction, linear_model, metrics, feature_extraction, model_selection\n",
    "import matplotlib\n",
    "from scipy.sparse import hstack, csr"
   ]
  },
  {
   "cell_type": "code",
   "execution_count": 64,
   "metadata": {
    "collapsed": false,
    "scrolled": false
   },
   "outputs": [
    {
     "name": "stdout",
     "output_type": "stream",
     "text": [
      "Id,Title,FullDescription,LocationRaw,LocationNormalized,ContractType,ContractTime,Company,Category,SalaryRaw,SalaryNormalized,SourceName\r",
      "\r\n",
      "12612628,Engineering Systems Analyst,\"Engineering Systems Analyst Dorking Surrey Salary ****K Our client is located in Dorking, Surrey and are looking for Engineering Systems Analyst our client provides specialist software development Keywords Mathematical Modelling, Risk Analysis, System Modelling, Optimisation, MISER, PIONEEER Engineering Systems Analyst Dorking Surrey Salary ****K\",\"Dorking, Surrey, Surrey\",Dorking,,permanent,Gregory Martin International,Engineering Jobs,20000 - 30000/annum 20-30K,25000,cv-library.co.uk\r",
      "\r\n"
     ]
    }
   ],
   "source": [
    "# print first 2 rows from Train_rev1.csv\n",
    "!head -n 2 Train_rev1.csv"
   ]
  },
  {
   "cell_type": "code",
   "execution_count": 149,
   "metadata": {
    "collapsed": false
   },
   "outputs": [
    {
     "name": "stdout",
     "output_type": "stream",
     "text": [
      "(244768, 12)\n"
     ]
    },
    {
     "data": {
      "text/html": [
       "<div>\n",
       "<table border=\"1\" class=\"dataframe\">\n",
       "  <thead>\n",
       "    <tr style=\"text-align: right;\">\n",
       "      <th></th>\n",
       "      <th>Id</th>\n",
       "      <th>Title</th>\n",
       "      <th>FullDescription</th>\n",
       "      <th>LocationRaw</th>\n",
       "      <th>LocationNormalized</th>\n",
       "      <th>ContractType</th>\n",
       "      <th>ContractTime</th>\n",
       "      <th>Company</th>\n",
       "      <th>Category</th>\n",
       "      <th>SalaryRaw</th>\n",
       "      <th>SalaryNormalized</th>\n",
       "      <th>SourceName</th>\n",
       "    </tr>\n",
       "  </thead>\n",
       "  <tbody>\n",
       "    <tr>\n",
       "      <th>0</th>\n",
       "      <td>12612628</td>\n",
       "      <td>Engineering Systems Analyst</td>\n",
       "      <td>Engineering Systems Analyst Dorking Surrey Sal...</td>\n",
       "      <td>Dorking, Surrey, Surrey</td>\n",
       "      <td>Dorking</td>\n",
       "      <td>NaN</td>\n",
       "      <td>permanent</td>\n",
       "      <td>Gregory Martin International</td>\n",
       "      <td>Engineering Jobs</td>\n",
       "      <td>20000 - 30000/annum 20-30K</td>\n",
       "      <td>25000</td>\n",
       "      <td>cv-library.co.uk</td>\n",
       "    </tr>\n",
       "    <tr>\n",
       "      <th>1</th>\n",
       "      <td>12612830</td>\n",
       "      <td>Stress Engineer Glasgow</td>\n",
       "      <td>Stress Engineer Glasgow Salary **** to **** We...</td>\n",
       "      <td>Glasgow, Scotland, Scotland</td>\n",
       "      <td>Glasgow</td>\n",
       "      <td>NaN</td>\n",
       "      <td>permanent</td>\n",
       "      <td>Gregory Martin International</td>\n",
       "      <td>Engineering Jobs</td>\n",
       "      <td>25000 - 35000/annum 25-35K</td>\n",
       "      <td>30000</td>\n",
       "      <td>cv-library.co.uk</td>\n",
       "    </tr>\n",
       "    <tr>\n",
       "      <th>2</th>\n",
       "      <td>12612844</td>\n",
       "      <td>Modelling and simulation analyst</td>\n",
       "      <td>Mathematical Modeller / Simulation Analyst / O...</td>\n",
       "      <td>Hampshire, South East, South East</td>\n",
       "      <td>Hampshire</td>\n",
       "      <td>NaN</td>\n",
       "      <td>permanent</td>\n",
       "      <td>Gregory Martin International</td>\n",
       "      <td>Engineering Jobs</td>\n",
       "      <td>20000 - 40000/annum 20-40K</td>\n",
       "      <td>30000</td>\n",
       "      <td>cv-library.co.uk</td>\n",
       "    </tr>\n",
       "    <tr>\n",
       "      <th>3</th>\n",
       "      <td>12613049</td>\n",
       "      <td>Engineering Systems Analyst / Mathematical Mod...</td>\n",
       "      <td>Engineering Systems Analyst / Mathematical Mod...</td>\n",
       "      <td>Surrey, South East, South East</td>\n",
       "      <td>Surrey</td>\n",
       "      <td>NaN</td>\n",
       "      <td>permanent</td>\n",
       "      <td>Gregory Martin International</td>\n",
       "      <td>Engineering Jobs</td>\n",
       "      <td>25000 - 30000/annum 25K-30K negotiable</td>\n",
       "      <td>27500</td>\n",
       "      <td>cv-library.co.uk</td>\n",
       "    </tr>\n",
       "    <tr>\n",
       "      <th>4</th>\n",
       "      <td>12613647</td>\n",
       "      <td>Pioneer, Miser Engineering Systems Analyst</td>\n",
       "      <td>Pioneer, Miser  Engineering Systems Analyst Do...</td>\n",
       "      <td>Surrey, South East, South East</td>\n",
       "      <td>Surrey</td>\n",
       "      <td>NaN</td>\n",
       "      <td>permanent</td>\n",
       "      <td>Gregory Martin International</td>\n",
       "      <td>Engineering Jobs</td>\n",
       "      <td>20000 - 30000/annum 20-30K</td>\n",
       "      <td>25000</td>\n",
       "      <td>cv-library.co.uk</td>\n",
       "    </tr>\n",
       "  </tbody>\n",
       "</table>\n",
       "</div>"
      ],
      "text/plain": [
       "         Id                                              Title  \\\n",
       "0  12612628                        Engineering Systems Analyst   \n",
       "1  12612830                            Stress Engineer Glasgow   \n",
       "2  12612844                   Modelling and simulation analyst   \n",
       "3  12613049  Engineering Systems Analyst / Mathematical Mod...   \n",
       "4  12613647         Pioneer, Miser Engineering Systems Analyst   \n",
       "\n",
       "                                     FullDescription  \\\n",
       "0  Engineering Systems Analyst Dorking Surrey Sal...   \n",
       "1  Stress Engineer Glasgow Salary **** to **** We...   \n",
       "2  Mathematical Modeller / Simulation Analyst / O...   \n",
       "3  Engineering Systems Analyst / Mathematical Mod...   \n",
       "4  Pioneer, Miser  Engineering Systems Analyst Do...   \n",
       "\n",
       "                         LocationRaw LocationNormalized ContractType  \\\n",
       "0            Dorking, Surrey, Surrey            Dorking          NaN   \n",
       "1        Glasgow, Scotland, Scotland            Glasgow          NaN   \n",
       "2  Hampshire, South East, South East          Hampshire          NaN   \n",
       "3     Surrey, South East, South East             Surrey          NaN   \n",
       "4     Surrey, South East, South East             Surrey          NaN   \n",
       "\n",
       "  ContractTime                       Company          Category  \\\n",
       "0    permanent  Gregory Martin International  Engineering Jobs   \n",
       "1    permanent  Gregory Martin International  Engineering Jobs   \n",
       "2    permanent  Gregory Martin International  Engineering Jobs   \n",
       "3    permanent  Gregory Martin International  Engineering Jobs   \n",
       "4    permanent  Gregory Martin International  Engineering Jobs   \n",
       "\n",
       "                                SalaryRaw  SalaryNormalized        SourceName  \n",
       "0              20000 - 30000/annum 20-30K             25000  cv-library.co.uk  \n",
       "1              25000 - 35000/annum 25-35K             30000  cv-library.co.uk  \n",
       "2              20000 - 40000/annum 20-40K             30000  cv-library.co.uk  \n",
       "3  25000 - 30000/annum 25K-30K negotiable             27500  cv-library.co.uk  \n",
       "4              20000 - 30000/annum 20-30K             25000  cv-library.co.uk  "
      ]
     },
     "execution_count": 149,
     "metadata": {},
     "output_type": "execute_result"
    }
   ],
   "source": [
    "df = pd.read_csv('Train_rev1.csv', sep=',')\n",
    "print df.shape\n",
    "df.head()"
   ]
  },
  {
   "cell_type": "markdown",
   "metadata": {},
   "source": [
    "В оригинальной постановке предлагается рассматривать признак SalaryNormalized как целевой и решать задачу регрессии, однако в рамках данного задания мы сведём её к задаче бинарной классификации, разделив объекты на 2 группы: объявления о вакансиях с низкой и высокой зарплатами соответственно.\n",
    "\n",
    "<img src = \"http://salt.uaa.alaska.edu/kath/kti/mean_median2.gif\">\n",
    "\n",
    "В качестве порога разбиения объектов на группы будем рассматривать медиану признака SalaryNormalized. Заметим, что таким образом мы автоматически получим задачу классификации со сбалансированными классами:"
   ]
  },
  {
   "cell_type": "code",
   "execution_count": 150,
   "metadata": {
    "collapsed": false
   },
   "outputs": [
    {
     "data": {
      "image/png": "[encoded data removed]",
      "text/plain": [
       "<matplotlib.figure.Figure at 0x7f9d46ff2250>"
      ]
     },
     "metadata": {},
     "output_type": "display_data"
    }
   ],
   "source": [
    "# salary histogramm\n",
    "median = np.median(df['SalaryNormalized'])\n",
    "\n",
    "figsize(16,8)\n",
    "plt.hist(df['SalaryNormalized'], bins=50)\n",
    "plt.axvline(median, c='r')\n",
    "plt.xlabel('salary', fontsize=20)\n",
    "plt.ylabel('count', fontsize=20)\n",
    "plt.grid()"
   ]
  },
  {
   "cell_type": "markdown",
   "metadata": {},
   "source": [
    "Осуществим последние шаги по подготовке датасета:\n",
    "- бинаризуем признак SalaryNomalized по описанному ранее порогу;\n",
    "- исключим из выборки признак SalaryRaw, чтобы устранить утечку целевой переменной в признаки."
   ]
  },
  {
   "cell_type": "code",
   "execution_count": 151,
   "metadata": {
    "collapsed": false
   },
   "outputs": [
    {
     "data": {
      "text/html": [
       "<div>\n",
       "<table border=\"1\" class=\"dataframe\">\n",
       "  <thead>\n",
       "    <tr style=\"text-align: right;\">\n",
       "      <th></th>\n",
       "      <th>Id</th>\n",
       "      <th>Title</th>\n",
       "      <th>FullDescription</th>\n",
       "      <th>LocationRaw</th>\n",
       "      <th>LocationNormalized</th>\n",
       "      <th>ContractType</th>\n",
       "      <th>ContractTime</th>\n",
       "      <th>Company</th>\n",
       "      <th>Category</th>\n",
       "      <th>SalaryNormalized</th>\n",
       "      <th>SourceName</th>\n",
       "    </tr>\n",
       "  </thead>\n",
       "  <tbody>\n",
       "    <tr>\n",
       "      <th>0</th>\n",
       "      <td>12612628</td>\n",
       "      <td>Engineering Systems Analyst</td>\n",
       "      <td>Engineering Systems Analyst Dorking Surrey Sal...</td>\n",
       "      <td>Dorking, Surrey, Surrey</td>\n",
       "      <td>Dorking</td>\n",
       "      <td>NaN</td>\n",
       "      <td>permanent</td>\n",
       "      <td>Gregory Martin International</td>\n",
       "      <td>Engineering Jobs</td>\n",
       "      <td>0</td>\n",
       "      <td>cv-library.co.uk</td>\n",
       "    </tr>\n",
       "    <tr>\n",
       "      <th>1</th>\n",
       "      <td>12612830</td>\n",
       "      <td>Stress Engineer Glasgow</td>\n",
       "      <td>Stress Engineer Glasgow Salary **** to **** We...</td>\n",
       "      <td>Glasgow, Scotland, Scotland</td>\n",
       "      <td>Glasgow</td>\n",
       "      <td>NaN</td>\n",
       "      <td>permanent</td>\n",
       "      <td>Gregory Martin International</td>\n",
       "      <td>Engineering Jobs</td>\n",
       "      <td>0</td>\n",
       "      <td>cv-library.co.uk</td>\n",
       "    </tr>\n",
       "    <tr>\n",
       "      <th>2</th>\n",
       "      <td>12612844</td>\n",
       "      <td>Modelling and simulation analyst</td>\n",
       "      <td>Mathematical Modeller / Simulation Analyst / O...</td>\n",
       "      <td>Hampshire, South East, South East</td>\n",
       "      <td>Hampshire</td>\n",
       "      <td>NaN</td>\n",
       "      <td>permanent</td>\n",
       "      <td>Gregory Martin International</td>\n",
       "      <td>Engineering Jobs</td>\n",
       "      <td>0</td>\n",
       "      <td>cv-library.co.uk</td>\n",
       "    </tr>\n",
       "    <tr>\n",
       "      <th>3</th>\n",
       "      <td>12613049</td>\n",
       "      <td>Engineering Systems Analyst / Mathematical Mod...</td>\n",
       "      <td>Engineering Systems Analyst / Mathematical Mod...</td>\n",
       "      <td>Surrey, South East, South East</td>\n",
       "      <td>Surrey</td>\n",
       "      <td>NaN</td>\n",
       "      <td>permanent</td>\n",
       "      <td>Gregory Martin International</td>\n",
       "      <td>Engineering Jobs</td>\n",
       "      <td>0</td>\n",
       "      <td>cv-library.co.uk</td>\n",
       "    </tr>\n",
       "    <tr>\n",
       "      <th>4</th>\n",
       "      <td>12613647</td>\n",
       "      <td>Pioneer, Miser Engineering Systems Analyst</td>\n",
       "      <td>Pioneer, Miser  Engineering Systems Analyst Do...</td>\n",
       "      <td>Surrey, South East, South East</td>\n",
       "      <td>Surrey</td>\n",
       "      <td>NaN</td>\n",
       "      <td>permanent</td>\n",
       "      <td>Gregory Martin International</td>\n",
       "      <td>Engineering Jobs</td>\n",
       "      <td>0</td>\n",
       "      <td>cv-library.co.uk</td>\n",
       "    </tr>\n",
       "  </tbody>\n",
       "</table>\n",
       "</div>"
      ],
      "text/plain": [
       "         Id                                              Title  \\\n",
       "0  12612628                        Engineering Systems Analyst   \n",
       "1  12612830                            Stress Engineer Glasgow   \n",
       "2  12612844                   Modelling and simulation analyst   \n",
       "3  12613049  Engineering Systems Analyst / Mathematical Mod...   \n",
       "4  12613647         Pioneer, Miser Engineering Systems Analyst   \n",
       "\n",
       "                                     FullDescription  \\\n",
       "0  Engineering Systems Analyst Dorking Surrey Sal...   \n",
       "1  Stress Engineer Glasgow Salary **** to **** We...   \n",
       "2  Mathematical Modeller / Simulation Analyst / O...   \n",
       "3  Engineering Systems Analyst / Mathematical Mod...   \n",
       "4  Pioneer, Miser  Engineering Systems Analyst Do...   \n",
       "\n",
       "                         LocationRaw LocationNormalized ContractType  \\\n",
       "0            Dorking, Surrey, Surrey            Dorking          NaN   \n",
       "1        Glasgow, Scotland, Scotland            Glasgow          NaN   \n",
       "2  Hampshire, South East, South East          Hampshire          NaN   \n",
       "3     Surrey, South East, South East             Surrey          NaN   \n",
       "4     Surrey, South East, South East             Surrey          NaN   \n",
       "\n",
       "  ContractTime                       Company          Category  \\\n",
       "0    permanent  Gregory Martin International  Engineering Jobs   \n",
       "1    permanent  Gregory Martin International  Engineering Jobs   \n",
       "2    permanent  Gregory Martin International  Engineering Jobs   \n",
       "3    permanent  Gregory Martin International  Engineering Jobs   \n",
       "4    permanent  Gregory Martin International  Engineering Jobs   \n",
       "\n",
       "   SalaryNormalized        SourceName  \n",
       "0                 0  cv-library.co.uk  \n",
       "1                 0  cv-library.co.uk  \n",
       "2                 0  cv-library.co.uk  \n",
       "3                 0  cv-library.co.uk  \n",
       "4                 0  cv-library.co.uk  "
      ]
     },
     "execution_count": 151,
     "metadata": {},
     "output_type": "execute_result"
    }
   ],
   "source": [
    "df['SalaryNormalized'] = (df['SalaryNormalized'] > median).astype(int)\n",
    "df.drop('SalaryRaw', axis=1, inplace=True)\n",
    "df.head()"
   ]
  },
  {
   "cell_type": "markdown",
   "metadata": {},
   "source": [
    "#### 1. (0 баллов) Разбейте получившуюся выборку на обучающую и контрольную в соотношении 70/30 с использованием перемешивания объектов.\n",
    "\n",
    "При разбиении используйте значение параметра random_state=42."
   ]
  },
  {
   "cell_type": "code",
   "execution_count": 152,
   "metadata": {
    "collapsed": true
   },
   "outputs": [],
   "source": [
    "df = df.reindex(np.random.permutation(df.index))"
   ]
  },
  {
   "cell_type": "code",
   "execution_count": 153,
   "metadata": {
    "collapsed": false
   },
   "outputs": [],
   "source": [
    "y = df[\"SalaryNormalized\"]\n",
    "# y.head()"
   ]
  },
  {
   "cell_type": "code",
   "execution_count": 154,
   "metadata": {
    "collapsed": false
   },
   "outputs": [],
   "source": [
    "df.drop(\"SalaryNormalized\", axis=1, inplace=True)\n",
    "X_train, X_test, y_train, y_test = model_selection.train_test_split(df, y, test_size=0.3, random_state=42)"
   ]
  },
  {
   "cell_type": "code",
   "execution_count": 155,
   "metadata": {
    "collapsed": false,
    "scrolled": true
   },
   "outputs": [],
   "source": [
    "# print X_train.shape, y_test.shape\n",
    "y_train = y_train.reset_index()\n",
    "y_test = y_test.reset_index()"
   ]
  },
  {
   "cell_type": "markdown",
   "metadata": {},
   "source": [
    "## Векторизация\n",
    "\n",
    "Как правило, модели, используемые в машинном обучении, применяются в предположении, что матрица \"объект-признак\" является вещественнозначной. Поэтому при работе с категориальными признаками и текстами сперва их необходимо привести к вещественному виду.\n",
    "\n",
    "Заметим, что в нашей задаче есть признаки, являющиеся текстами произвольной природы (Title, FullDescription), и категориальные признаки, принимающие ограниченное число значений (ContractType, Category и др.).\n",
    "\n",
    "Самый простой и понятный способ преобразования текстовых данных — векторизация. В этом случае для каждого слова, встречающегося в некотором набре текстов мы создаём отдельный новый признак, который будет равен $1$, когда слово встречается в заданном объекте, и $0$ – в противном случае.\n",
    "\n",
    "#### 2. (0.5 балла) Создайте текстовое описание объектов обучающей и контрольной выборок, объединив значения всех признаков каждого объекта выборки через символы пробела. После этого получите признаковое описание объектов, осуществив векторизацию получившихся текстов при помощи [CountVectorizer](http://scikit-learn.org/stable/modules/generated/sklearn.feature_extraction.text.CountVectorizer.html), обучив его на обучающей выборке и применив на контрольной."
   ]
  },
  {
   "cell_type": "code",
   "execution_count": 156,
   "metadata": {
    "collapsed": false,
    "scrolled": true
   },
   "outputs": [],
   "source": [
    "X_train = X_train.replace(np.nan, ' ', regex=True)\n",
    "X_test = X_test.replace(np.nan, ' ', regex=True)\n",
    "\n",
    "X_train[\"Desc\"] = X_train[\"Title\"] + \" \" + X_train[\"FullDescription\"] + \" \" + X_train[\"LocationRaw\"] + \" \" + X_train[\"LocationNormalized\"] + \" \" + X_train[\"ContractType\"] + \" \" + X_train[\"ContractTime\"] + \" \" + X_train[\"Company\"] + \" \" + X_train[\"Category\"]\n",
    "X_test[\"Desc\"] = X_test[\"Title\"] + \" \" + X_test[\"FullDescription\"] + \" \" + X_test[\"LocationRaw\"] + \" \" + X_test[\"LocationNormalized\"] + \" \" + X_test[\"ContractType\"] + \" \" + X_test[\"ContractTime\"] + \" \" + X_test[\"Company\"] + \" \" + X_test[\"Category\"]"
   ]
  },
  {
   "cell_type": "code",
   "execution_count": 157,
   "metadata": {
    "collapsed": false,
    "scrolled": true
   },
   "outputs": [
    {
     "name": "stdout",
     "output_type": "stream",
     "text": [
      "CPU times: user 45.5 s, sys: 340 ms, total: 45.8 s\n",
      "Wall time: 45.8 s\n"
     ]
    }
   ],
   "source": [
    "%%time\n",
    "vectorizer = feature_extraction.text.CountVectorizer(binary=True)\n",
    "X_train_bag = vectorizer.fit_transform(X_train[\"Desc\"])\n"
   ]
  },
  {
   "cell_type": "code",
   "execution_count": 158,
   "metadata": {
    "collapsed": false
   },
   "outputs": [
    {
     "data": {
      "text/plain": [
       "<171337x169080 sparse matrix of type '<type 'numpy.int64'>'\n",
       "\twith 25239728 stored elements in Compressed Sparse Row format>"
      ]
     },
     "execution_count": 158,
     "metadata": {},
     "output_type": "execute_result"
    }
   ],
   "source": [
    "X_train_bag"
   ]
  },
  {
   "cell_type": "code",
   "execution_count": 159,
   "metadata": {
    "collapsed": false
   },
   "outputs": [
    {
     "name": "stdout",
     "output_type": "stream",
     "text": [
      "CPU times: user 20.3 s, sys: 43.8 ms, total: 20.3 s\n",
      "Wall time: 20.3 s\n"
     ]
    }
   ],
   "source": [
    "%%time\n",
    "X_test_bag = vectorizer.transform(X_test[\"Desc\"])\n",
    "# X_test_bag\n",
    "# df[7:10]"
   ]
  },
  {
   "cell_type": "markdown",
   "metadata": {},
   "source": [
    "#### 3. (1.5 балла) Обучите следующие модели на обучающей выборке:\n",
    " - [логистическую регрессию](http://scikit-learn.org/stable/modules/generated/sklearn.linear_model.LogisticRegression.html) из модуля sklearn с параметрами по умолчанию;\n",
    " - логистическую регрессию при помощи Vowpal Wabbit с параметрами по умолчанию."
   ]
  },
  {
   "cell_type": "code",
   "execution_count": 160,
   "metadata": {
    "collapsed": false
   },
   "outputs": [
    {
     "name": "stdout",
     "output_type": "stream",
     "text": [
      "CPU times: user 15min 10s, sys: 42 s, total: 15min 52s\n",
      "Wall time: 2min\n"
     ]
    }
   ],
   "source": [
    "%%time\n",
    "lr = linear_model.LogisticRegression(n_jobs=16)\n",
    "lr = lr.fit(X_train_bag, y_train[\"SalaryNormalized\"])"
   ]
  },
  {
   "cell_type": "code",
   "execution_count": 161,
   "metadata": {
    "collapsed": false
   },
   "outputs": [],
   "source": [
    "prob_pred_lr = lr.predict_proba(X_test_bag)\n",
    "class_pred_lr = lr.predict(X_test_bag)"
   ]
  },
  {
   "cell_type": "code",
   "execution_count": 162,
   "metadata": {
    "collapsed": false
   },
   "outputs": [],
   "source": [
    "def build_vw_data(filename, X_vect, y):\n",
    "    f = open(filename, \"w\")\n",
    "    for i in range(X_vect.shape[0]):\n",
    "        vw_raw = str(1 if y.loc[i][\"SalaryNormalized\"] else -1) + \" |features\"\n",
    "        for feature in range(X_vect.indptr[i], X_vect.indptr[i+1]):\n",
    "            vw_raw += \" \" + str(X_vect.indices[feature]) + \":\" + str(float(X_vect.data[feature]))\n",
    "        vw_raw += \"\\n\"\n",
    "        f.write(vw_raw)\n",
    "    f.close()"
   ]
  },
  {
   "cell_type": "code",
   "execution_count": 163,
   "metadata": {
    "collapsed": false
   },
   "outputs": [
    {
     "name": "stdout",
     "output_type": "stream",
     "text": [
      "CPU times: user 3min 32s, sys: 878 ms, total: 3min 33s\n",
      "Wall time: 3min 32s\n"
     ]
    }
   ],
   "source": [
    "%%time\n",
    "build_vw_data(\"train.vw\", X_train_bag, y_train)\n",
    "build_vw_data(\"test.vw\", X_test_bag, y_test)\n"
   ]
  },
  {
   "cell_type": "code",
   "execution_count": 177,
   "metadata": {
    "collapsed": false,
    "scrolled": true
   },
   "outputs": [
    {
     "name": "stdout",
     "output_type": "stream",
     "text": [
      "final_regressor = solution.vw\n",
      "Num weight bits = 18\n",
      "learning rate = 0.5\n",
      "initial_t = 0\n",
      "power_t = 0.5\n",
      "using no cache\n",
      "Reading datafile = train.vw\n",
      "num sources = 1\n",
      "average  since         example        example  current  current  current\n",
      "loss     last          counter         weight    label  predict features\n",
      "0.693147 0.693147            1            1.0   1.0000   0.0000      166\n",
      "0.562375 0.431603            2            2.0   1.0000   0.6167      144\n",
      "0.755681 0.948988            4            4.0  -1.0000   0.5485      147\n",
      "0.773917 0.792153            8            8.0  -1.0000   0.0104      161\n",
      "0.730096 0.686274           16           16.0   1.0000   0.0372      155\n",
      "0.708426 0.686757           32           32.0   1.0000   0.3150      152\n",
      "0.691267 0.674108           64           64.0  -1.0000  -0.1901       97\n",
      "0.616030 0.540793          128          128.0   1.0000   0.1891      138\n",
      "0.597382 0.578735          256          256.0  -1.0000  -1.5284      188\n",
      "0.546139 0.494896          512          512.0  -1.0000  -2.0680      179\n",
      "0.525734 0.505328         1024         1024.0  -1.0000  -1.2239      271\n",
      "0.474858 0.423982         2048         2048.0  -1.0000  -0.7227       81\n",
      "0.452951 0.431045         4096         4096.0  -1.0000   0.3077      178\n",
      "0.434293 0.415635         8192         8192.0  -1.0000  -0.4300       99\n",
      "0.409364 0.384434        16384        16384.0  -1.0000  -1.4933       98\n",
      "0.390765 0.372166        32768        32768.0  -1.0000  -0.5942      116\n",
      "0.373089 0.355413        65536        65536.0   1.0000   0.2475      100\n",
      "0.356710 0.340331       131072       131072.0   1.0000   1.9741      158\n",
      "\n",
      "finished run\n",
      "number of examples per pass = 171337\n",
      "passes used = 1\n",
      "weighted example sum = 171337.000000\n",
      "weighted label sum = -5653.000000\n",
      "average loss = 0.351081\n",
      "best constant = -0.066011\n",
      "best constant's loss = 0.692603\n",
      "total feature number = 25411065\n",
      "CPU times: user 41.8 ms, sys: 36.8 ms, total: 78.7 ms\n",
      "Wall time: 2.42 s\n"
     ]
    }
   ],
   "source": [
    "%%time\n",
    "!vw -d train.vw --loss_function=logistic --readable_model solution.txt -f solution.vw"
   ]
  },
  {
   "cell_type": "code",
   "execution_count": 165,
   "metadata": {
    "collapsed": false,
    "scrolled": true
   },
   "outputs": [
    {
     "name": "stdout",
     "output_type": "stream",
     "text": [
      "only testing\n",
      "predictions = probs.vw\n",
      "Num weight bits = 18\n",
      "learning rate = 0.5\n",
      "initial_t = 0\n",
      "power_t = 0.5\n",
      "using no cache\n",
      "Reading datafile = test.vw\n",
      "num sources = 1\n",
      "average  since         example        example  current  current  current\n",
      "loss     last          counter         weight    label  predict features\n",
      "7.209320 7.209320            1            1.0  -1.0000   0.0245      116\n",
      "5.652769 4.096219            2            2.0  -1.0000   0.0464       55\n",
      "5.567798 5.482826            4            4.0   1.0000   0.9492      164\n",
      "3.158350 0.748902            8            8.0   1.0000   0.7961      191\n",
      "4.464632 5.770914           16           16.0  -1.0000   0.3514      133\n",
      "8.234938 12.005243           32           32.0   1.0000   0.5734      225\n",
      "6.524411 4.813884           64           64.0  -1.0000   0.5713      137\n",
      "6.345851 6.167291          128          128.0   1.0000   0.6126      182\n",
      "5.256483 4.167115          256          256.0  -1.0000   0.7095       97\n",
      "5.315632 5.374781          512          512.0  -1.0000   0.1777       41\n",
      "5.391279 5.466926         1024         1024.0   1.0000   0.9960      197\n",
      "5.489805 5.588332         2048         2048.0   1.0000   0.9011      154\n",
      "5.206152 4.922498         4096         4096.0  -1.0000   0.4286      146\n",
      "5.204687 5.203223         8192         8192.0  -1.0000   0.0139      146\n",
      "5.257136 5.309584        16384        16384.0   1.0000   0.9044      127\n",
      "5.271163 5.285189        32768        32768.0   1.0000   0.3307      171\n",
      "5.300873 5.330583        65536        65536.0   1.0000   0.9869       90\n",
      "\n",
      "finished run\n",
      "number of examples per pass = 73431\n",
      "passes used = 1\n",
      "weighted example sum = 73431.000000\n",
      "weighted label sum = -1957.000000\n",
      "average loss = 5.304026\n",
      "best constant = -0.026651\n",
      "best constant's loss = 0.999290\n",
      "total feature number = 10869963\n"
     ]
    }
   ],
   "source": [
    "!vw -d test.vw -t -i solution.vw --link=logistic -p probs.vw"
   ]
  },
  {
   "cell_type": "code",
   "execution_count": 166,
   "metadata": {
    "collapsed": false,
    "scrolled": true
   },
   "outputs": [
    {
     "name": "stdout",
     "output_type": "stream",
     "text": [
      "only testing\n",
      "predictions = pred.vw\n",
      "Num weight bits = 18\n",
      "learning rate = 0.5\n",
      "initial_t = 0\n",
      "power_t = 0.5\n",
      "using no cache\n",
      "Reading datafile = test.vw\n",
      "num sources = 1\n",
      "average  since         example        example  current  current  current\n",
      "loss     last          counter         weight    label  predict features\n",
      "0.000000 0.000000            1            1.0  -1.0000  -1.0000      116\n",
      "0.000000 0.000000            2            2.0  -1.0000  -1.0000       55\n",
      "0.000000 0.000000            4            4.0   1.0000   1.0000      164\n",
      "0.125000 0.250000            8            8.0   1.0000   1.0000      191\n",
      "0.187500 0.250000           16           16.0  -1.0000  -1.0000      133\n",
      "0.125000 0.062500           32           32.0   1.0000   1.0000      225\n",
      "0.156250 0.187500           64           64.0  -1.0000   1.0000      137\n",
      "0.132812 0.109375          128          128.0   1.0000   1.0000      182\n",
      "0.136719 0.140625          256          256.0  -1.0000   1.0000       97\n",
      "0.119141 0.101562          512          512.0  -1.0000  -1.0000       41\n",
      "0.133789 0.148438         1024         1024.0   1.0000   1.0000      197\n",
      "0.136719 0.139648         2048         2048.0   1.0000   1.0000      154\n",
      "0.133789 0.130859         4096         4096.0  -1.0000  -1.0000      146\n",
      "0.134521 0.135254         8192         8192.0  -1.0000  -1.0000      146\n",
      "0.138000 0.141479        16384        16384.0   1.0000   1.0000      127\n",
      "0.139191 0.140381        32768        32768.0   1.0000  -1.0000      171\n",
      "0.138443 0.137695        65536        65536.0   1.0000   1.0000       90\n",
      "\n",
      "finished run\n",
      "number of examples per pass = 73431\n",
      "passes used = 1\n",
      "weighted example sum = 73431.000000\n",
      "weighted label sum = -1957.000000\n",
      "average loss = 0.138851\n",
      "best constant = -0.026651\n",
      "best constant's loss = 0.999290\n",
      "total feature number = 10869963\n"
     ]
    }
   ],
   "source": [
    "!vw -d test.vw -t -i solution.vw --binary -p pred.vw "
   ]
  },
  {
   "cell_type": "markdown",
   "metadata": {},
   "source": [
    "#### 4. (0.5 балла) Вычислите значения ROC-AUC, [F-меры](http://scikit-learn.org/stable/modules/generated/sklearn.metrics.f1_score.html), а также постройте [матрицу ошибок](http://scikit-learn.org/stable/modules/generated/sklearn.metrics.confusion_matrix.html) для каждой из построенных в п. 3 моделей на контрольной выборке. Сравните построенные модели по качеству их работы."
   ]
  },
  {
   "cell_type": "code",
   "execution_count": 167,
   "metadata": {
    "collapsed": false
   },
   "outputs": [
    {
     "name": "stdout",
     "output_type": "stream",
     "text": [
      "AUC-ROC: 0.943194169311\n",
      "F-measure: 0.871273541973\n",
      "[[33127  4567]\n",
      " [ 4626 31111]]\n"
     ]
    }
   ],
   "source": [
    "#sklearn\n",
    "print \"AUC-ROC:\", metrics.roc_auc_score(y_test[\"SalaryNormalized\"], prob_pred_lr[:,1])\n",
    "print \"F-measure:\", metrics.f1_score(y_test[\"SalaryNormalized\"], class_pred_lr)\n",
    "print metrics.confusion_matrix(y_test[\"SalaryNormalized\"], class_pred_lr)"
   ]
  },
  {
   "cell_type": "code",
   "execution_count": 168,
   "metadata": {
    "collapsed": false
   },
   "outputs": [
    {
     "name": "stdout",
     "output_type": "stream",
     "text": [
      "AUC-ROC: 0.935708526826\n",
      "F-measure: 0.856276958642\n",
      "[[32862  4832]\n",
      " [ 5364 30373]]\n"
     ]
    }
   ],
   "source": [
    "#vw\n",
    "prob_pred_vw = pd.read_csv(\"probs.vw\", names=[\"PROB\"], header=None)\n",
    "class_pred_vw = pd.read_csv(\"pred.vw\", header=None, names=[\"PRED\"])\n",
    "class_pred_vw.ix[class_pred_vw.PRED == -1, \"PRED\"] = 0\n",
    "print \"AUC-ROC:\", metrics.roc_auc_score(y_test[\"SalaryNormalized\"], prob_pred_vw)\n",
    "print \"F-measure:\", metrics.f1_score(y_test[\"SalaryNormalized\"], class_pred_vw)\n",
    "print metrics.confusion_matrix(y_test[\"SalaryNormalized\"], class_pred_vw)"
   ]
  },
  {
   "cell_type": "markdown",
   "metadata": {},
   "source": [
    "Оба результата очень хорошие. Метрика AUC-ROC оценивает приятнее F-меры, так что если уж показывать боссу результат, то использовать её. По всем показателям логистическая регрессия лучше обучилась у sklearn. В том числе и ошибок FP FN меньше дал на тестовой выборке sklearn. Вообще vw тоже норм, учитывая скорость обучения, результаты получились отличные. "
   ]
  },
  {
   "cell_type": "markdown",
   "metadata": {},
   "source": [
    "#### 5. (1 балл) Отсортируйте веса признаков для модели логистической регрессии из scikit-learn, полученной в п. 2. Какие слова из встречающихся в выборке имеют наибольшее/наименьшее влияние на значение целевой переменной? Проинтерпретируйте полученный результат."
   ]
  },
  {
   "cell_type": "code",
   "execution_count": 147,
   "metadata": {
    "collapsed": true
   },
   "outputs": [],
   "source": [
    "def get_sorted_words(coefs, word_names):\n",
    "    pos_weights = []\n",
    "    neg_weights = []\n",
    "    for i in range(coefs.shape[1]):\n",
    "        pos_weights.append([i, coefs[0][i]]) if coefs[0][i] > 0 else neg_weights.append([i, coefs[0][i]])\n",
    "\n",
    "    pos_weights = sorted(pos_weights, key=lambda x: x[1]) #по возрастанию веса\n",
    "    neg_weights = sorted(neg_weights, key=lambda x: -x[1]) #по убыванию веса\n",
    "\n",
    "\n",
    "    print \"САМЫЕ весомые вверх:\\n\"\n",
    "    for i in range(20):\n",
    "        print word_names[pos_weights[- i - 1][0]]\n",
    "\n",
    "    print \"САМЫЕ весомые вниз:\\n\"\n",
    "    for i in range(20):\n",
    "        print word_names[neg_weights[- i - 1][0]]\n",
    "\n",
    "    print \"САМЫЕ не весомые вверх и вниз:\\n\"\n",
    "    for i in range(10):\n",
    "        print word_names[pos_weights[i][0]], \">up\"\n",
    "        print word_names[neg_weights[i][0]], \"<down\"\n",
    "\n",
    "\n",
    "    "
   ]
  },
  {
   "cell_type": "code",
   "execution_count": 148,
   "metadata": {
    "collapsed": false
   },
   "outputs": [
    {
     "name": "stdout",
     "output_type": "stream",
     "text": [
      "САМЫЕ весомые вверх:\n",
      "\n",
      "a24\n",
      "optometrist\n",
      "noreen\n",
      "nhsd\n",
      "rca\n",
      "offender\n",
      "hcpc\n",
      "aura\n",
      "interestfree\n",
      "judge\n",
      "synopsis\n",
      "apl\n",
      "gscc\n",
      "mcx\n",
      "denote\n",
      "webrecruit\n",
      "nikky\n",
      "keyaccountmanager_job\n",
      "hypermill\n",
      "coping\n",
      "САМЫЕ весомые вниз:\n",
      "\n",
      "bv\n",
      "studentship\n",
      "ktp\n",
      "mentored\n",
      "phocas\n",
      "iqpc\n",
      "omar\n",
      "pune\n",
      "surrounds\n",
      "mller\n",
      "cpcs\n",
      "pthr\n",
      "jobsitnmark\n",
      "expose\n",
      "bistro\n",
      "jamesfosterkvrecruitment\n",
      "reidliquidpersonnel\n",
      "guard\n",
      "allocator\n",
      "mikaela\n",
      "САМЫЕ не весомые вверх и вниз:\n",
      "\n",
      "nvqassessorhealthandsocialcarenorthwest >up\n",
      "poisonous <down\n",
      "cleaneratwinsfordindustrialestate_job >up\n",
      "juniorsousrequiredfor <down\n",
      "quinplex >up\n",
      "rosettehotelinchichester <down\n",
      "etworks >up\n",
      "combpany <down\n",
      "iscovery >up\n",
      "1565 <down\n",
      "ligible >up\n",
      "bishopswood <down\n",
      "mpto >up\n",
      "cashup <down\n",
      "applicationdevelopmentmanager_job >up\n",
      "cholmeley <down\n",
      "reverted >up\n",
      "highgateschool <down\n",
      "stockgrove >up\n",
      "highlyconsultative <down\n"
     ]
    }
   ],
   "source": [
    "get_sorted_words(lr.coef_, vectorizer.get_feature_names())"
   ]
  },
  {
   "cell_type": "markdown",
   "metadata": {},
   "source": [
    "Результаты получились логичные. Зарплату значительно повышают разные начальники, менеджеры, судьи, hcpс(Health and Care Professions Council), вообщем специалисты. Понижают слова вроде бистро, помошник, стажер, сторож, клерк и прочие. Незначительное влияние имеют \"битые\" слова и общеупотребимые, обычно не несущие никакой конкретики, а так же прилагательные(они обычно употребляются во всех объявлениях независимо от зарплаты)."
   ]
  },
  {
   "cell_type": "markdown",
   "metadata": {},
   "source": [
    "#### 6. (0.5 доп. балла) Отсортируйте веса признаков для модели логистической регрессии, полученной в п. 2 при помощи Vowpal Wabbit. Какие слова из встречающихся в выборке имеют наибольшее/наименьшее влияние на значение целевой переменной? Проинтерпретирйте полученный результат."
   ]
  },
  {
   "cell_type": "code",
   "execution_count": 182,
   "metadata": {
    "collapsed": false
   },
   "outputs": [],
   "source": [
    "sol = pd.read_csv(\"solution.txt\", sep=\":\", skiprows=11, header=None, names=[\"id\", \"w\"])"
   ]
  },
  {
   "cell_type": "code",
   "execution_count": 184,
   "metadata": {
    "collapsed": false
   },
   "outputs": [
    {
     "name": "stdout",
     "output_type": "stream",
     "text": [
      "САМЫЕ весомые вверх:\n",
      "\n",
      "optometrist\n",
      "hcpc\n",
      "locum\n",
      "london\n",
      "manager\n",
      "lawyer\n",
      "dba\n",
      "solicitor\n",
      "director\n",
      "senior\n",
      "gmc\n",
      "jobg8\n",
      "lecturer\n",
      "aca\n",
      "smsts\n",
      "pqe\n",
      "head\n",
      "realstaffing\n",
      "recrutiment\n",
      "avp\n",
      "САМЫЕ весомые вниз:\n",
      "\n",
      "assistant\n",
      "partie\n",
      "graduate\n",
      "cleaner\n",
      "labourer\n",
      "cpcs\n",
      "aat\n",
      "graduates\n",
      "coordinator\n",
      "de\n",
      "administrator\n",
      "clerk\n",
      "nvq\n",
      "commis\n",
      "junior\n",
      "adecco\n",
      "operative\n",
      "tacho\n",
      "paralegal\n",
      "unloading\n",
      "САМЫЕ не весомые вверх и вниз:\n",
      "\n",
      "sectorthis >up\n",
      "rotalocation <down\n",
      "unreal >up\n",
      "turnerandtownsend <down\n",
      "arisen >up\n",
      "highlyfocused <down\n",
      "stevedores >up\n",
      "bonusan <down\n",
      "indemand >up\n",
      "connect4 <down\n",
      "beer >up\n",
      "tecnician <down\n",
      "specificationthe >up\n",
      "acess <down\n",
      "alsager >up\n",
      "mysqlhtml <down\n",
      "ageing >up\n",
      "jobsharing <down\n",
      "eecs >up\n",
      "downturns <down\n"
     ]
    }
   ],
   "source": [
    "get_sorted_words(np.array([sol[\"w\"]]), vectorizer.get_feature_names())"
   ]
  },
  {
   "cell_type": "markdown",
   "metadata": {},
   "source": [
    "Тут поменьше мусора, но результат вцелом очень похож на предыдущий.\n",
    "manager\n",
    "lawyer\n",
    "solicitor\n",
    "director\n",
    "senior pomidor\n",
    "gmc\n",
    "lecturer\n",
    "тут и директор и мееджер и дженерал моторс, все эти слова имеют высокое влияние на классификацию 1.\n",
    "Разная прислуга, асистенты вроде assistant, планктон (clerk commis), выпускники получают, занятые частично (unloading, partie) имеют маленькую зарплату.\n",
    "Редкие слова имеют вес около нуля.\n",
    "Интерестно, в каком контексте употреблялось слово пиво? Погляжу на досуге... "
   ]
  },
  {
   "cell_type": "markdown",
   "metadata": {},
   "source": [
    "## TF-IDF\n",
    "\n",
    "Ещё один способ работы с текстовыми данными — [TF-IDF](https://en.wikipedia.org/wiki/Tf–idf) (**T**erm **F**requency–**I**nverse **D**ocument **F**requency). Рассмотрим коллекцию текстов $D$.  Для каждого уникального слова $t$ из документа $d \\in D$ вычислим следующие величины:\n",
    "\n",
    "1. Term Frequency – количество вхождений слова в отношении к общему числу слов в тексте:\n",
    "$$\\text{tf}(t, d) = \\frac{n_{td}}{\\sum_{t \\in d} n_{td}},$$\n",
    "где $n_{td}$ — количество вхождений слова $t$ в текст $d$.\n",
    "1. Inverse Document Frequency\n",
    "$$\\text{idf}(t, D) = \\log \\frac{\\left| D \\right|}{\\left| \\{d\\in D: t \\in d\\} \\right|},$$\n",
    "где $\\left| \\{d\\in D: t \\in d\\} \\right|$ – количество текстов в коллекции, содержащих слово $t$.\n",
    "\n",
    "Тогда для каждой пары (слово, текст) $(t, d)$ вычислим величину:\n",
    "$$\\text{tf-idf}(t,d, D) = \\text{tf}(t, d)\\cdot \\text{idf}(t, D).$$\n",
    "\n",
    "Отметим, что значение $\\text{tf}(t, d)$ корректируется для часто встречающихся общеупотребимых слов при помощи значения $\\text{idf}(t, D).$\n",
    "\n",
    "Признаковым описанием одного объекта $d \\in D$ будет вектор $\\bigg(\\text{tf-idf}(t,d, D)\\bigg)_{t\\in V}$, где $V$ – словарь всех слов, встречающихся в коллекции $D$.\n",
    "\n",
    "#### 7. (0.5 балла) Создайте текстовое описание объектов обучающей и контрольной выборок, объединив значения всех признаков каждого объекта выборки через символы пробела. После этого получите признаковое описание объектов, вычислив вектор tf-idf для каждого объекта помощи [TfidfVectorizer](http://scikit-learn.org/stable/modules/generated/sklearn.feature_extraction.text.TfidfVectorizer.html), обучив его на обучающей выборке и применив на контрольной."
   ]
  },
  {
   "cell_type": "code",
   "execution_count": 88,
   "metadata": {
    "collapsed": false
   },
   "outputs": [
    {
     "name": "stdout",
     "output_type": "stream",
     "text": [
      "CPU times: user 1min 6s, sys: 548 ms, total: 1min 7s\n",
      "Wall time: 1min 6s\n"
     ]
    }
   ],
   "source": [
    "%%time\n",
    "tfidf_vectorizer = feature_extraction.text.TfidfVectorizer()\n",
    "X_train_tfidf = tfidf_vectorizer.fit_transform(X_train[\"Desc\"])\n",
    "X_test_tfidf = tfidf_vectorizer.transform(X_test[\"Desc\"])"
   ]
  },
  {
   "cell_type": "markdown",
   "metadata": {},
   "source": [
    "#### 8. (0 баллов) Обучите следующие модели на обучающей выборке:\n",
    "- [логистическую регрессию](http://scikit-learn.org/stable/modules/generated/sklearn.linear_model.LogisticRegression.html) из модуля sklearn с параметрами по умолчанию;\n",
    "- логистическую регрессию при помощи Vowpal Wabbit с параметрами по умолчанию."
   ]
  },
  {
   "cell_type": "code",
   "execution_count": 89,
   "metadata": {
    "collapsed": false,
    "scrolled": true
   },
   "outputs": [
    {
     "name": "stdout",
     "output_type": "stream",
     "text": [
      "CPU times: user 1min 58s, sys: 5.5 s, total: 2min 4s\n",
      "Wall time: 15.8 s\n"
     ]
    }
   ],
   "source": [
    "%%time\n",
    "lr_tfidf = linear_model.LogisticRegression(n_jobs=16)\n",
    "lr_tfidf = lr_tfidf.fit(X_train_tfidf, y_train[\"SalaryNormalized\"])\n",
    "\n",
    "prob_pred_lr_tfidf = lr_tfidf.predict_proba(X_test_tfidf)\n",
    "class_pred_lr_tfidf = lr_tfidf.predict(X_test_tfidf)"
   ]
  },
  {
   "cell_type": "code",
   "execution_count": 90,
   "metadata": {
    "collapsed": false
   },
   "outputs": [
    {
     "name": "stdout",
     "output_type": "stream",
     "text": [
      "CPU times: user 3min 39s, sys: 1.76 s, total: 3min 41s\n",
      "Wall time: 3min 39s\n"
     ]
    }
   ],
   "source": [
    "%%time\n",
    "build_vw_data(\"train_tfidf.vw\", X_train_tfidf, y_train)\n",
    "build_vw_data(\"test_tfidf.vw\", X_test_tfidf, y_test)"
   ]
  },
  {
   "cell_type": "code",
   "execution_count": 178,
   "metadata": {
    "collapsed": false
   },
   "outputs": [
    {
     "name": "stdout",
     "output_type": "stream",
     "text": [
      "final_regressor = solution_tfidf.vw\n",
      "Num weight bits = 18\n",
      "learning rate = 0.5\n",
      "initial_t = 0\n",
      "power_t = 0.5\n",
      "using no cache\n",
      "Reading datafile = train_tfidf.vw\n",
      "num sources = 1\n",
      "average  since         example        example  current  current  current\n",
      "loss     last          counter         weight    label  predict features\n",
      "0.693147 0.693147            1            1.0  -1.0000   0.0000      185\n",
      "0.641500 0.589852            2            2.0  -1.0000  -0.2185      136\n",
      "0.769773 0.898046            4            4.0  -1.0000  -0.3530      121\n",
      "0.711979 0.654185            8            8.0   1.0000   0.0507      197\n",
      "0.641785 0.571591           16           16.0   1.0000   1.3538      209\n",
      "0.677175 0.712566           32           32.0   1.0000   0.4920      153\n",
      "0.663551 0.649927           64           64.0  -1.0000  -0.2396       98\n",
      "0.621380 0.579209          128          128.0  -1.0000   1.0144      116\n",
      "0.595383 0.569385          256          256.0  -1.0000   0.0189      134\n",
      "0.570422 0.545462          512          512.0  -1.0000   1.8498      262\n",
      "0.545331 0.520239         1024         1024.0  -1.0000  -2.7749      111\n",
      "0.516952 0.488573         2048         2048.0  -1.0000  -1.2368       99\n",
      "0.480581 0.444210         4096         4096.0   1.0000   0.1888      147\n",
      "0.450423 0.420266         8192         8192.0  -1.0000  -2.3376       66\n",
      "0.416314 0.382205        16384        16384.0   1.0000   0.0440      150\n",
      "0.393658 0.371001        32768        32768.0  -1.0000   0.4836      215\n",
      "0.370742 0.347826        65536        65536.0  -1.0000  -2.0516      109\n",
      "0.347515 0.324288       131072       131072.0  -1.0000  -0.8299       79\n",
      "\n",
      "finished run\n",
      "number of examples per pass = 171337\n",
      "passes used = 1\n",
      "weighted example sum = 171337.000000\n",
      "weighted label sum = -5347.000000\n",
      "average loss = 0.339540\n",
      "best constant = -0.062435\n",
      "best constant's loss = 0.692660\n",
      "total feature number = 25441339\n",
      "CPU times: user 86.7 ms, sys: 53.6 ms, total: 140 ms\n",
      "Wall time: 5.59 s\n"
     ]
    }
   ],
   "source": [
    "%%time\n",
    "!vw -d train_tfidf.vw --loss_function=logistic --readable_model solution_tfidf.txt -f solution_tfidf.vw"
   ]
  },
  {
   "cell_type": "code",
   "execution_count": 92,
   "metadata": {
    "collapsed": false
   },
   "outputs": [
    {
     "name": "stdout",
     "output_type": "stream",
     "text": [
      "only testing\n",
      "predictions = probs_tfidf.vw\n",
      "Num weight bits = 18\n",
      "learning rate = 0.5\n",
      "initial_t = 0\n",
      "power_t = 0.5\n",
      "using no cache\n",
      "Reading datafile = test_tfidf.vw\n",
      "num sources = 1\n",
      "average  since         example        example  current  current  current\n",
      "loss     last          counter         weight    label  predict features\n",
      "0.089809 0.089809            1            1.0  -1.0000   0.2142       30\n",
      "0.058670 0.027531            2            2.0   1.0000   0.7624      188\n",
      "2.617105 5.175540            4            4.0   1.0000   0.9630      252\n",
      "5.082897 7.548689            8            8.0  -1.0000   0.0023      205\n",
      "3.629958 2.177018           16           16.0   1.0000   0.8646      148\n",
      "3.215963 2.801968           32           32.0   1.0000   0.6696      153\n",
      "3.168265 3.120567           64           64.0  -1.0000   0.0537       40\n",
      "3.348703 3.529141          128          128.0  -1.0000   0.0596      197\n",
      "4.203251 5.057798          256          256.0  -1.0000   0.0701      165\n",
      "4.344501 4.485752          512          512.0   1.0000   0.6555      138\n",
      "4.403375 4.462249         1024         1024.0  -1.0000   0.0480      105\n",
      "4.448658 4.493940         2048         2048.0  -1.0000   0.2825      146\n",
      "4.501932 4.555207         4096         4096.0  -1.0000   0.1647      325\n",
      "4.503592 4.505252         8192         8192.0   1.0000   0.9498      144\n",
      "4.479460 4.455327        16384        16384.0   1.0000   0.7925      147\n",
      "4.448530 4.417601        32768        32768.0  -1.0000   0.3021      142\n",
      "4.440825 4.433119        65536        65536.0   1.0000   0.7795      214\n",
      "\n",
      "finished run\n",
      "number of examples per pass = 73431\n",
      "passes used = 1\n",
      "weighted example sum = 73431.000000\n",
      "weighted label sum = -2263.000000\n",
      "average loss = 4.449066\n",
      "best constant = -0.030818\n",
      "best constant's loss = 0.999050\n",
      "total feature number = 10839185\n"
     ]
    }
   ],
   "source": [
    "!vw -d test_tfidf.vw -t -i solution_tfidf.vw --link=logistic -p probs_tfidf.vw"
   ]
  },
  {
   "cell_type": "code",
   "execution_count": 93,
   "metadata": {
    "collapsed": false
   },
   "outputs": [
    {
     "name": "stdout",
     "output_type": "stream",
     "text": [
      "only testing\n",
      "predictions = pred_tfidf.vw\n",
      "Num weight bits = 18\n",
      "learning rate = 0.5\n",
      "initial_t = 0\n",
      "power_t = 0.5\n",
      "using no cache\n",
      "Reading datafile = test_tfidf.vw\n",
      "num sources = 1\n",
      "average  since         example        example  current  current  current\n",
      "loss     last          counter         weight    label  predict features\n",
      "0.000000 0.000000            1            1.0  -1.0000  -1.0000       30\n",
      "0.000000 0.000000            2            2.0   1.0000   1.0000      188\n",
      "0.250000 0.500000            4            4.0   1.0000   1.0000      252\n",
      "0.250000 0.250000            8            8.0  -1.0000  -1.0000      205\n",
      "0.125000 0.000000           16           16.0   1.0000   1.0000      148\n",
      "0.093750 0.062500           32           32.0   1.0000   1.0000      153\n",
      "0.140625 0.187500           64           64.0  -1.0000  -1.0000       40\n",
      "0.156250 0.171875          128          128.0  -1.0000  -1.0000      197\n",
      "0.144531 0.132812          256          256.0  -1.0000  -1.0000      165\n",
      "0.146484 0.148438          512          512.0   1.0000   1.0000      138\n",
      "0.130859 0.115234         1024         1024.0  -1.0000  -1.0000      105\n",
      "0.129883 0.128906         2048         2048.0  -1.0000  -1.0000      146\n",
      "0.133545 0.137207         4096         4096.0  -1.0000  -1.0000      325\n",
      "0.131226 0.128906         8192         8192.0   1.0000   1.0000      144\n",
      "0.129639 0.128052        16384        16384.0   1.0000   1.0000      147\n",
      "0.127136 0.124634        32768        32768.0  -1.0000  -1.0000      142\n",
      "0.127258 0.127380        65536        65536.0   1.0000   1.0000      214\n",
      "\n",
      "finished run\n",
      "number of examples per pass = 73431\n",
      "passes used = 1\n",
      "weighted example sum = 73431.000000\n",
      "weighted label sum = -2263.000000\n",
      "average loss = 0.127371\n",
      "best constant = -0.030818\n",
      "best constant's loss = 0.999050\n",
      "total feature number = 10839185\n"
     ]
    }
   ],
   "source": [
    "!vw -d test_tfidf.vw -t -i solution_tfidf.vw --binary -p pred_tfidf.vw "
   ]
  },
  {
   "cell_type": "markdown",
   "metadata": {},
   "source": [
    "#### 9. (0.5 балла) Вычислите значения ROC-AUC, [F-меры](http://scikit-learn.org/stable/modules/generated/sklearn.metrics.f1_score.html), а также постройте [матрицу ошибок](http://scikit-learn.org/stable/modules/generated/sklearn.metrics.confusion_matrix.html) для каждой из построенных в п. 8 моделей на контрольной выборке. Сравните построенные модели по качеству их работы."
   ]
  },
  {
   "cell_type": "code",
   "execution_count": 94,
   "metadata": {
    "collapsed": false
   },
   "outputs": [
    {
     "name": "stdout",
     "output_type": "stream",
     "text": [
      "AUC-ROC: 0.940866177403\n",
      "F-measure: 0.863874052739\n",
      "[[32802  5045]\n",
      " [ 4691 30893]]\n"
     ]
    }
   ],
   "source": [
    "#sklearn\n",
    "print \"AUC-ROC:\", metrics.roc_auc_score(y_test[\"SalaryNormalized\"], prob_pred_lr_tfidf[:,1])\n",
    "print \"F-measure:\", metrics.f1_score(y_test[\"SalaryNormalized\"], class_pred_lr_tfidf)\n",
    "print metrics.confusion_matrix(y_test[\"SalaryNormalized\"], class_pred_lr_tfidf)"
   ]
  },
  {
   "cell_type": "code",
   "execution_count": 95,
   "metadata": {
    "collapsed": false
   },
   "outputs": [
    {
     "name": "stdout",
     "output_type": "stream",
     "text": [
      "AUC-ROC: 0.944941134584\n",
      "F-measure: 0.868856826372\n",
      "[[33095  4752]\n",
      " [ 4601 30983]]\n"
     ]
    }
   ],
   "source": [
    "#vw\n",
    "prob_pred_vw_tfidf = pd.read_csv(\"probs_tfidf.vw\", names=[\"PROB\"], header=None)\n",
    "class_pred_vw_tfidf = pd.read_csv(\"pred_tfidf.vw\", header=None, names=[\"PRED\"])\n",
    "class_pred_vw_tfidf.ix[class_pred_vw_tfidf.PRED == -1, \"PRED\"] = 0\n",
    "print \"AUC-ROC:\", metrics.roc_auc_score(y_test[\"SalaryNormalized\"], prob_pred_vw_tfidf)\n",
    "print \"F-measure:\", metrics.f1_score(y_test[\"SalaryNormalized\"], class_pred_vw_tfidf)\n",
    "print metrics.confusion_matrix(y_test[\"SalaryNormalized\"], class_pred_vw_tfidf)"
   ]
  },
  {
   "cell_type": "markdown",
   "metadata": {},
   "source": [
    "vw модель показала лучший результат по всем метрикам. И площадь и гармоническое среднее pres и rec незначительно выше у модели vw. Ошибок FP FN так же меньше у vw."
   ]
  },
  {
   "cell_type": "markdown",
   "metadata": {},
   "source": [
    "#### 10. (0.5 балла) Сравните значения метрик из п. 9 со значениями, полученными в п. 5, и сравните соответствующие модели по качеству из работы.\n",
    "\n",
    "**Ответ**:"
   ]
  },
  {
   "cell_type": "markdown",
   "metadata": {},
   "source": [
    "В случае sklearn бинарная векторизация сработала чуть лучше чем tf-idf кодирование по всем метрикам.\n",
    "В случае vw ситуация обратная: показатели по всем метрикам при tf-idf кодировании здесь лучше.\n",
    "Разница вцелом соизмерима для всех случаев - auc-roc и f-мера отличаются на ~10-15 тысячных. Количество ошибок плавает от 200 до 600, что вцелом незначительно, учитывая количество правильных ответов и размер выборки вцелом.\n",
    "Таким образом, для бинарной векторизации лучше работает модель sklearn, vw же пригодится при tf-idf кодировании признаков."
   ]
  },
  {
   "cell_type": "markdown",
   "metadata": {},
   "source": [
    "#### 11. (1 балл) Отсортируйте веса признаков для модели sclearn. Какие слова из встречающихся в выборке имеют наибольшее/наименьшее влияние на значение целевой переменной? Проинтерпретирйте полученный результат."
   ]
  },
  {
   "cell_type": "code",
   "execution_count": 96,
   "metadata": {
    "collapsed": false
   },
   "outputs": [
    {
     "name": "stdout",
     "output_type": "stream",
     "text": [
      "САМЫЕ весомые вверх:\n",
      "\n",
      "optometrist\n",
      "director\n",
      "manager\n",
      "senior\n",
      "head\n",
      "london\n",
      "locum\n",
      "hcpc\n",
      "leadership\n",
      "lead\n",
      "САМЫЕ весомые вниз:\n",
      "\n",
      "assistant\n",
      "graduate\n",
      "junior\n",
      "nvq\n",
      "administrator\n",
      "aat\n",
      "assistants\n",
      "telephone\n",
      "partie\n",
      "technician\n",
      "САМЫЕ не весомые вверх и вниз:\n",
      "\n",
      "parttimeadminassistant_job >up\n",
      "nonscheduled <down\n",
      "unaware >up\n",
      "administrationreceptionistaccountsassistant_job <down\n",
      "accountsassistantadministrationassistantparttime_job >up\n",
      "lcci <down\n",
      "itops >up\n",
      "twitter <down\n",
      "standardswith >up\n",
      "outbased <down\n",
      "tmtseniorstrategymanager_job >up\n",
      "esh <down\n",
      "adminassistant_job >up\n",
      "accountsassistantledgerclerksagecroydon <down\n",
      "principalservicemanagerservicedirector_job >up\n",
      "cousldon <down\n",
      "mcap >up\n",
      "backings <down\n",
      "mobileenabled >up\n",
      "recruitmentmulti <down\n"
     ]
    }
   ],
   "source": [
    "get_sorted_words(lr_tfidf.coef_, tfidf_vectorizer.get_feature_names())"
   ]
  },
  {
   "cell_type": "markdown",
   "metadata": {},
   "source": [
    "Все из по той же схеме: лондон(дороговато там), синьер, главный, директор - имеют большой вес при определении положительного класса.\n",
    "Помошник, джуниор, стажировка, телефон, выпускник - увеличивают расстояние от положительного класса.\n",
    "Всякий мусор и слова, которые редко встречаются, имеют незначительное влияние, как и в прошлый раз."
   ]
  },
  {
   "cell_type": "markdown",
   "metadata": {},
   "source": [
    "#### 12. (0.5 доп. балла) Отсортируйте веса признаков для модели логистической регрессии, полученной в п. 8 при помощи Vowpal Wabbit. Какие слова из встречающихся в выборке имеют наибольшее/наименьшее влияние на значение целевой переменной? Проинтерпретирйте полученный результат."
   ]
  },
  {
   "cell_type": "code",
   "execution_count": 186,
   "metadata": {
    "collapsed": false
   },
   "outputs": [
    {
     "name": "stdout",
     "output_type": "stream",
     "text": [
      "САМЫЕ весомые вверх:\n",
      "\n",
      "quqlification\n",
      "strictlylegal\n",
      "strictly_legal\n",
      "spectacle\n",
      "cvbar\n",
      "unloved\n",
      "underappreciated\n",
      "technicalsalesmanagerpigmentsfillerstosurfacecoatings_job\n",
      "plastice\n",
      "atrsolutions\n",
      "porto\n",
      "dsfrecruitmentrac\n",
      "yasminpeoplewithchemistry\n",
      "lipman\n",
      "gibsonnoirconsulting\n",
      "navisionjobs\n",
      "simonbath\n",
      "clarkredsnappergroup\n",
      "braga\n",
      "nigelfrank\n",
      "САМЫЕ весомые вниз:\n",
      "\n",
      "hearingcareflamehealth\n",
      "spoton\n",
      "yearscoring\n",
      "spkcfl\n",
      "_6\n",
      "stanforth\n",
      "vintageinn\n",
      "airmonitoring\n",
      "vehiclepurchasercarsales_job\n",
      "fortyeight\n",
      "dripping\n",
      "drizzling\n",
      "msonormal\n",
      "margintop\n",
      "marginright\n",
      "_24\n",
      "_2\n",
      "dvds\n",
      "assistant\n",
      "emberpubanddining\n",
      "САМЫЕ не весомые вверх и вниз:\n",
      "\n",
      "assay >up\n",
      "papdale <down\n",
      "kieran >up\n",
      "horizontal <down\n",
      "jobco >up\n",
      "electricial <down\n",
      "sweat >up\n",
      "autocoding <down\n",
      "bentleyjenrick >up\n",
      "certcii <down\n",
      "dd2 >up\n",
      "forth <down\n",
      "yep >up\n",
      "mrc <down\n",
      "psa >up\n",
      "herfordshire <down\n",
      "nonstock >up\n",
      "gyfrifol <down\n",
      "publicise >up\n",
      "shade <down\n"
     ]
    }
   ],
   "source": [
    "sol_tf_idf = pd.read_csv(\"solution_tfidf.txt\", sep=\":\", skiprows=11, header=None, names=[\"id\", \"w\"])\n",
    "get_sorted_words(np.array([sol_tf_idf[\"w\"]]), tfidf_vectorizer.get_feature_names())"
   ]
  },
  {
   "cell_type": "markdown",
   "metadata": {},
   "source": [
    "Снова видим суперлегальных менеджеров и, правда, много новых слов, которые редко встречаются, однако, их объявления  имеют высокую вероятность большой зарплаты.\n",
    "Сильно понижают вероятность слова assistant и 45(видно слишком старый)\n",
    "Слабое влияние имеют слова общеупотребляемые, бесполезные для классификации.\n",
    "Вообще это самый <strike>неадекватный</strike> интересный вывод этого задания из всех четырех, возможно что-то съехало, пора сдаваться.\n",
    "\n"
   ]
  },
  {
   "cell_type": "markdown",
   "metadata": {},
   "source": [
    "## Счётчики\n",
    "\n",
    "Ранее в рамках данного задания при построении моделей мы объединяли значения всех признаков в единую строку, что предполагает равноправность всех признаков. Однако заметим, что в этом случае мы допускаем потерю информации: слово \"Glasgow\" может по-разному влиять на зарплату, если оно находится в названии объявления и в геолокации. Чтобы устранить этот недостаток, при создании текстового описания объекта будем объединять только значения признаков Title и FullDescription, а остальные будем рассматривать как категориальные. При этом с полученным текстовым описанием объекта будем работать, как раньше (при помощи векторизации или tf-idf), а для кодирования категориальных признаков используем **счётчики**.\n",
    "\n",
    "Идея этого метода состоит в том, чтобы заменить значение категориального признака на вероятность того, что объект с данным значением признака относится к положительному классу. Опишем эту идею более формально. Пусть у нас есть выборка $X = \\{ (x_i, y_i) \\}_{i=1}^l,$ и $j$-ый признак принимает значения из множества $U_j = \\{ u_{jn}\\}_{n=1}^{N_j},$ где $N_j$ — количество различных значений $j$-ого признака. Пусть $x_{ij} = u_{jn},$ тогда заменим значения $j$-ого категориального признака объекта $x_i$ на следующую оценку: \n",
    "$$\\hat{P}(y_i=+1|x_{ij}=u_{jn}) = \\frac{\\sum_{m=1}^l \\left[ x_{mj} = u_{jn} \\right] \\left[ y_m = +1 \\right]}{\\sum_{m=1}^l \\left[ x_{mj} = u_{jn} \\right]}.$$\n",
    "\n",
    "Однако заметим, что при таком способе формирования счётчиков мы учитываем в формуле для объекта $x_i$ его метку $y_i$, тем самым вносим информацию об ответе в признаки. Чтобы устранить этот недостаток, при вычислении счётчика будем исключать из рассмотрения текущий объект, т.е. рассматривать следующую оценку:\n",
    "$$\\hat{P}(y_i=+1|X_{ij}=u_{jn}) = \\frac{\\sum_{m=1, \\\\ m \\ne i}^l \\left[ x_{mj} = u_{jn} \\right] \\left[ y_m = +1 \\right]}{\\sum_{m=1, \\\\ m \\ne i}^l \\left[ x_{mj} = u_{jn} \\right]},$$\n",
    "\n",
    "#### 13. (0.5 балла) Создайте текстовое описание объектов обучающей и контрольной выборок, объединив значения признаков Title и FullDescription каждого объекта выборки через символ пробела, после чего перейдите к признаковому описанию объектов, вычислив вектор tf-idf аналогично п. 7."
   ]
  },
  {
   "cell_type": "code",
   "execution_count": 119,
   "metadata": {
    "collapsed": true
   },
   "outputs": [],
   "source": [
    "X_train = X_train.fillna('nan')\n",
    "X_test = X_test.fillna('nan')\n",
    "df = df.fillna('nan')"
   ]
  },
  {
   "cell_type": "code",
   "execution_count": 99,
   "metadata": {
    "collapsed": false
   },
   "outputs": [
    {
     "name": "stdout",
     "output_type": "stream",
     "text": [
      "CPU times: user 1min 3s, sys: 364 ms, total: 1min 3s\n",
      "Wall time: 1min 3s\n"
     ]
    }
   ],
   "source": [
    "%%time\n",
    "X_train[\"Desc\"] = X_train[\"Title\"] + \" \" + X_train[\"FullDescription\"]\n",
    "X_test[\"Desc\"] = X_test[\"Title\"] + \" \" + X_test[\"FullDescription\"]\n",
    "num_tfidf_vectorizer = feature_extraction.text.TfidfVectorizer()\n",
    "X_train_num_tfidf = num_tfidf_vectorizer.fit_transform(X_train[\"Desc\"])\n",
    "X_test_num_tfidf = num_tfidf_vectorizer.transform(X_test[\"Desc\"])"
   ]
  },
  {
   "cell_type": "markdown",
   "metadata": {},
   "source": [
    "#### 14. (1 балл) Закодируйте категориальные признаки (все, кроме Title и FullDescription) при помощи [one-hot encoding](http://scikit-learn.org/stable/modules/generated/sklearn.preprocessing.OneHotEncoder.html), после чего обучите логистическую регрессию (при помощи scikit-learn или Vowpal Wabbit) на обучающей выборке. Вычислите значения ROC-AUC, [F-меры](http://scikit-learn.org/stable/modules/generated/sklearn.metrics.f1_score.html), а также постройте [матрицу ошибок](http://scikit-learn.org/stable/modules/generated/sklearn.metrics.confusion_matrix.html) для полученной модели на контрольной выборке. "
   ]
  },
  {
   "cell_type": "code",
   "execution_count": 120,
   "metadata": {
    "collapsed": false
   },
   "outputs": [],
   "source": [
    "df[\"Desc\"] = 0"
   ]
  },
  {
   "cell_type": "code",
   "execution_count": 121,
   "metadata": {
    "collapsed": false
   },
   "outputs": [
    {
     "data": {
      "text/html": [
       "<div>\n",
       "<table border=\"1\" class=\"dataframe\">\n",
       "  <thead>\n",
       "    <tr style=\"text-align: right;\">\n",
       "      <th></th>\n",
       "      <th>Id</th>\n",
       "      <th>Title</th>\n",
       "      <th>FullDescription</th>\n",
       "      <th>LocationRaw</th>\n",
       "      <th>LocationNormalized</th>\n",
       "      <th>ContractType</th>\n",
       "      <th>ContractTime</th>\n",
       "      <th>Company</th>\n",
       "      <th>Category</th>\n",
       "      <th>SourceName</th>\n",
       "    </tr>\n",
       "  </thead>\n",
       "  <tbody>\n",
       "    <tr>\n",
       "      <th>174861</th>\n",
       "      <td>71435627</td>\n",
       "      <td>Digital Marketing Manager</td>\n",
       "      <td>The Digital Marketing Manager is responsible f...</td>\n",
       "      <td>Birmingham West Midlands (County) West Midlands</td>\n",
       "      <td>UK</td>\n",
       "      <td>nan</td>\n",
       "      <td>permanent</td>\n",
       "      <td>Michael Page Marketing</td>\n",
       "      <td>PR, Advertising &amp; Marketing Jobs</td>\n",
       "      <td>totaljobs.com</td>\n",
       "    </tr>\n",
       "  </tbody>\n",
       "</table>\n",
       "</div>"
      ],
      "text/plain": [
       "              Id                      Title  \\\n",
       "174861  71435627  Digital Marketing Manager   \n",
       "\n",
       "                                          FullDescription  \\\n",
       "174861  The Digital Marketing Manager is responsible f...   \n",
       "\n",
       "                                            LocationRaw LocationNormalized  \\\n",
       "174861  Birmingham West Midlands (County) West Midlands                 UK   \n",
       "\n",
       "       ContractType ContractTime                 Company  \\\n",
       "174861          nan    permanent  Michael Page Marketing   \n",
       "\n",
       "                                Category     SourceName  \n",
       "174861  PR, Advertising & Marketing Jobs  totaljobs.com  "
      ]
     },
     "execution_count": 121,
     "metadata": {},
     "output_type": "execute_result"
    }
   ],
   "source": [
    "X_test.head(1)"
   ]
  },
  {
   "cell_type": "code",
   "execution_count": 122,
   "metadata": {
    "collapsed": false
   },
   "outputs": [
    {
     "data": {
      "text/plain": [
       "(73431, 10)"
      ]
     },
     "execution_count": 122,
     "metadata": {},
     "output_type": "execute_result"
    }
   ],
   "source": [
    "X_test.shape"
   ]
  },
  {
   "cell_type": "code",
   "execution_count": 123,
   "metadata": {
    "collapsed": false
   },
   "outputs": [
    {
     "data": {
      "text/plain": [
       "(244768, 11)"
      ]
     },
     "execution_count": 123,
     "metadata": {},
     "output_type": "execute_result"
    }
   ],
   "source": [
    "df.shape"
   ]
  },
  {
   "cell_type": "code",
   "execution_count": 125,
   "metadata": {
    "collapsed": false,
    "scrolled": true
   },
   "outputs": [
    {
     "name": "stdout",
     "output_type": "stream",
     "text": [
      "CPU times: user 250 ms, sys: 80 µs, total: 250 ms\n",
      "Wall time: 249 ms\n"
     ]
    }
   ],
   "source": [
    "%%time\n",
    "data_features_mask = [False, False, False, True, True, True, True, True, True, True, False]\n",
    "# X_train = X_train.fillna('nan')\n",
    "# X_test = X_test.fillna('nan')\n",
    "# df = df.fillna('nan')\n",
    "label_enc = preprocessing.LabelEncoder()\n",
    "for feature in df.columns[data_features_mask]:\n",
    "    df[feature] = label_enc.fit_transform(df[feature])\n",
    "    X_train[feature] = label_enc.transform(X_train[feature])\n",
    "    X_test[feature] = label_enc.transform(X_test[feature])\n",
    "\n"
   ]
  },
  {
   "cell_type": "code",
   "execution_count": 126,
   "metadata": {
    "collapsed": false
   },
   "outputs": [
    {
     "name": "stderr",
     "output_type": "stream",
     "text": [
      "/home/ubuntu/miniconda/lib/python2.7/site-packages/pandas/indexes/base.py:1404: VisibleDeprecationWarning: boolean index did not match indexed array along dimension 0; dimension is 10 but corresponding boolean dimension is 11\n",
      "  result = getitem(key)\n"
     ]
    }
   ],
   "source": [
    "OneHot = preprocessing.OneHotEncoder()\n",
    "OneHot.fit(df[df.columns[data_features_mask]])\n",
    "X_train_onehot_s_mtx = OneHot.transform(X_train[X_train.columns[data_features_mask]])\n",
    "X_test_onehot_s_mtx = OneHot.transform(X_test[X_test.columns[data_features_mask]])"
   ]
  },
  {
   "cell_type": "code",
   "execution_count": 127,
   "metadata": {
    "collapsed": false
   },
   "outputs": [
    {
     "name": "stdout",
     "output_type": "stream",
     "text": [
      "CPU times: user 7min 47s, sys: 21.2 s, total: 8min 8s\n",
      "Wall time: 1min 11s\n"
     ]
    }
   ],
   "source": [
    "%%time\n",
    "\n",
    "\n",
    "lr_tfidf_mixed_onehot = linear_model.LogisticRegression(n_jobs=16)\n",
    "lr_tfidf_mixed_onehot.fit(hstack((X_train_num_tfidf, X_train_onehot_s_mtx)), y_train[\"SalaryNormalized\"])\n",
    "\n",
    "prob_pred_lr_tfidf_mixed_onehot = lr_tfidf_mixed_onehot.predict_proba(hstack((X_test_num_tfidf, X_test_onehot_s_mtx)))\n",
    "class_pred_lr_tfidf_mixed_onehot = lr_tfidf_mixed_onehot.predict(hstack((X_test_num_tfidf, X_test_onehot_s_mtx)))"
   ]
  },
  {
   "cell_type": "code",
   "execution_count": 128,
   "metadata": {
    "collapsed": false
   },
   "outputs": [
    {
     "name": "stdout",
     "output_type": "stream",
     "text": [
      "AUC-ROC: 0.834544651967\n",
      "F-measure: 0.748389795065\n",
      "[[28542  9273]\n",
      " [ 8775 26841]]\n"
     ]
    }
   ],
   "source": [
    "#sklearn\n",
    "print \"AUC-ROC:\", metrics.roc_auc_score(y_test[\"SalaryNormalized\"], prob_pred_lr_tfidf_mixed_onehot[:,1])\n",
    "print \"F-measure:\", metrics.f1_score(y_test[\"SalaryNormalized\"], class_pred_lr_tfidf_mixed_onehot)\n",
    "print metrics.confusion_matrix(y_test[\"SalaryNormalized\"], class_pred_lr_tfidf_mixed_onehot)"
   ]
  },
  {
   "cell_type": "markdown",
   "metadata": {},
   "source": [
    "#### 15. (2 балла) Для выборки, полученной в п. 13, закодируйте категориальные признаки (все, кроме Title и FullDescription) при помощи счётчиков, после чего обучите логистическую регрессию (при помощи scikit-learn или Vowpal Wabbit) на обучающей выборке. Вычислите значения ROC-AUC, [F-меры](http://scikit-learn.org/stable/modules/generated/sklearn.metrics.f1_score.html), а также постройте [матрицу ошибок](http://scikit-learn.org/stable/modules/generated/sklearn.metrics.confusion_matrix.html) для полученной модели на контрольной выборке. \n",
    "\n",
    "Уделите внимание оптимальности вычисления счётчиков!"
   ]
  },
  {
   "cell_type": "code",
   "execution_count": 129,
   "metadata": {
    "collapsed": false
   },
   "outputs": [],
   "source": [
    "X_train = X_train.reset_index()"
   ]
  },
  {
   "cell_type": "code",
   "execution_count": 130,
   "metadata": {
    "collapsed": false
   },
   "outputs": [],
   "source": [
    "X_test = X_test.reset_index()"
   ]
  },
  {
   "cell_type": "code",
   "execution_count": 131,
   "metadata": {
    "collapsed": false
   },
   "outputs": [
    {
     "data": {
      "text/html": [
       "<div>\n",
       "<table border=\"1\" class=\"dataframe\">\n",
       "  <thead>\n",
       "    <tr style=\"text-align: right;\">\n",
       "      <th></th>\n",
       "      <th>index</th>\n",
       "      <th>Id</th>\n",
       "      <th>Title</th>\n",
       "      <th>FullDescription</th>\n",
       "      <th>LocationRaw</th>\n",
       "      <th>LocationNormalized</th>\n",
       "      <th>ContractType</th>\n",
       "      <th>ContractTime</th>\n",
       "      <th>Company</th>\n",
       "      <th>Category</th>\n",
       "      <th>SourceName</th>\n",
       "    </tr>\n",
       "  </thead>\n",
       "  <tbody>\n",
       "    <tr>\n",
       "      <th>0</th>\n",
       "      <td>198646</td>\n",
       "      <td>71848687</td>\n",
       "      <td>Sales Executive</td>\n",
       "      <td>Would you like to work for one of the nations ...</td>\n",
       "      <td>17602</td>\n",
       "      <td>2448</td>\n",
       "      <td>1</td>\n",
       "      <td>2</td>\n",
       "      <td>4905</td>\n",
       "      <td>23</td>\n",
       "      <td>159</td>\n",
       "    </tr>\n",
       "  </tbody>\n",
       "</table>\n",
       "</div>"
      ],
      "text/plain": [
       "    index        Id            Title  \\\n",
       "0  198646  71848687  Sales Executive   \n",
       "\n",
       "                                     FullDescription  LocationRaw  \\\n",
       "0  Would you like to work for one of the nations ...        17602   \n",
       "\n",
       "   LocationNormalized  ContractType  ContractTime  Company  Category  \\\n",
       "0                2448             1             2     4905        23   \n",
       "\n",
       "   SourceName  \n",
       "0         159  "
      ]
     },
     "execution_count": 131,
     "metadata": {},
     "output_type": "execute_result"
    }
   ],
   "source": [
    "X_train.head(1)"
   ]
  },
  {
   "cell_type": "code",
   "execution_count": 132,
   "metadata": {
    "collapsed": true
   },
   "outputs": [],
   "source": [
    "X_train[\"target\"] = y_train[\"SalaryNormalized\"]"
   ]
  },
  {
   "cell_type": "code",
   "execution_count": 133,
   "metadata": {
    "collapsed": true
   },
   "outputs": [],
   "source": [
    "X_test[\"target\"] = y_test[\"SalaryNormalized\"]"
   ]
  },
  {
   "cell_type": "code",
   "execution_count": 135,
   "metadata": {
    "collapsed": false
   },
   "outputs": [],
   "source": [
    "def set_feature_probs(feature, X, feature_count):\n",
    "    adt_mtx = np.array([[(X[X[feature] == i].shape[0] - 1), (X[(X[feature] == i) & (X[\"target\"])].shape[0]), 0] for i in range(feature_count + 1)], dtype=float) # i|количество прин i - 1|колич +1 \n",
    "    for i in adt_mtx:\n",
    "        if i[0] == 0:\n",
    "            i[2] = 0\n",
    "            i[0] = 9999999999999990\n",
    "        else:\n",
    "            i[2] = (i[1] / i[0])\n",
    "    X[feature] = X.apply(lambda x: adt_mtx[x[feature]][2] - ((1 / adt_mtx[x[feature]][0]) if x[\"target\"] else 0), axis = 1)\n",
    "    return X[feature]"
   ]
  },
  {
   "cell_type": "code",
   "execution_count": 136,
   "metadata": {
    "collapsed": true
   },
   "outputs": [],
   "source": [
    "features_s = [\"LocationRaw\", \"LocationNormalized\", \"ContractType\", \"ContractTime\", \"Company\", \"Category\", \"SourceName\"]"
   ]
  },
  {
   "cell_type": "code",
   "execution_count": 137,
   "metadata": {
    "collapsed": false
   },
   "outputs": [
    {
     "name": "stdout",
     "output_type": "stream",
     "text": [
      "CPU times: user 3min 5s, sys: 356 ms, total: 3min 6s\n",
      "Wall time: 3min 5s\n"
     ]
    }
   ],
   "source": [
    "%%time\n",
    "for feature in features_s:\n",
    "    X_train[feature] = set_feature_probs(feature, X_train, df[feature].max())"
   ]
  },
  {
   "cell_type": "code",
   "execution_count": 138,
   "metadata": {
    "collapsed": false
   },
   "outputs": [
    {
     "name": "stdout",
     "output_type": "stream",
     "text": [
      "CPU times: user 1min 59s, sys: 176 ms, total: 1min 59s\n",
      "Wall time: 1min 59s\n"
     ]
    }
   ],
   "source": [
    "%%time\n",
    "for feature in features_s:\n",
    "    X_test[feature] = set_feature_probs(feature, X_test, df[feature].max())"
   ]
  },
  {
   "cell_type": "code",
   "execution_count": 139,
   "metadata": {
    "collapsed": false
   },
   "outputs": [
    {
     "data": {
      "text/html": [
       "<div>\n",
       "<table border=\"1\" class=\"dataframe\">\n",
       "  <thead>\n",
       "    <tr style=\"text-align: right;\">\n",
       "      <th></th>\n",
       "      <th>index</th>\n",
       "      <th>Id</th>\n",
       "      <th>Title</th>\n",
       "      <th>FullDescription</th>\n",
       "      <th>LocationRaw</th>\n",
       "      <th>LocationNormalized</th>\n",
       "      <th>ContractType</th>\n",
       "      <th>ContractTime</th>\n",
       "      <th>Company</th>\n",
       "      <th>Category</th>\n",
       "      <th>SourceName</th>\n",
       "      <th>target</th>\n",
       "    </tr>\n",
       "  </thead>\n",
       "  <tbody>\n",
       "    <tr>\n",
       "      <th>0</th>\n",
       "      <td>174861</td>\n",
       "      <td>71435627</td>\n",
       "      <td>Digital Marketing Manager</td>\n",
       "      <td>The Digital Marketing Manager is responsible f...</td>\n",
       "      <td>0.487059</td>\n",
       "      <td>0.482243</td>\n",
       "      <td>0.518541</td>\n",
       "      <td>0.538404</td>\n",
       "      <td>0.7</td>\n",
       "      <td>0.556101</td>\n",
       "      <td>0.437591</td>\n",
       "      <td>1</td>\n",
       "    </tr>\n",
       "  </tbody>\n",
       "</table>\n",
       "</div>"
      ],
      "text/plain": [
       "    index        Id                      Title  \\\n",
       "0  174861  71435627  Digital Marketing Manager   \n",
       "\n",
       "                                     FullDescription  LocationRaw  \\\n",
       "0  The Digital Marketing Manager is responsible f...     0.487059   \n",
       "\n",
       "   LocationNormalized  ContractType  ContractTime  Company  Category  \\\n",
       "0            0.482243      0.518541      0.538404      0.7  0.556101   \n",
       "\n",
       "   SourceName  target  \n",
       "0    0.437591       1  "
      ]
     },
     "execution_count": 139,
     "metadata": {},
     "output_type": "execute_result"
    }
   ],
   "source": [
    "X_test.head(1)"
   ]
  },
  {
   "cell_type": "code",
   "execution_count": 140,
   "metadata": {
    "collapsed": false
   },
   "outputs": [],
   "source": [
    "X_train_num_num_s_mtx = X_train[features_s].to_sparse()"
   ]
  },
  {
   "cell_type": "code",
   "execution_count": 141,
   "metadata": {
    "collapsed": true
   },
   "outputs": [],
   "source": [
    "X_test_num_num_s_mtx = X_test[features_s].to_sparse()"
   ]
  },
  {
   "cell_type": "code",
   "execution_count": 142,
   "metadata": {
    "collapsed": false
   },
   "outputs": [],
   "source": [
    "X_train_num_num_s_mtx = csr.csr_matrix(X_train_num_num_s_mtx)"
   ]
  },
  {
   "cell_type": "code",
   "execution_count": 143,
   "metadata": {
    "collapsed": true
   },
   "outputs": [],
   "source": [
    "X_test_num_num_s_mtx = csr.csr_matrix(X_test_num_num_s_mtx)"
   ]
  },
  {
   "cell_type": "code",
   "execution_count": 144,
   "metadata": {
    "collapsed": false
   },
   "outputs": [
    {
     "name": "stdout",
     "output_type": "stream",
     "text": [
      "CPU times: user 3min 20s, sys: 8.71 s, total: 3min 29s\n",
      "Wall time: 37.5 s\n"
     ]
    }
   ],
   "source": [
    "%%time\n",
    "lr_tfidf_mixed_num = linear_model.LogisticRegression(n_jobs=16)\n",
    "lr_tfidf_mixed_num.fit(hstack((X_train_num_tfidf, X_train_num_num_s_mtx)), y_train[\"SalaryNormalized\"])\n",
    "\n",
    "prob_pred_lr_tfidf_mixed_num = lr_tfidf_mixed_num.predict_proba(hstack((X_test_num_tfidf, X_test_num_num_s_mtx)))\n",
    "class_pred_lr_tfidf_mixed_num = lr_tfidf_mixed_num.predict(hstack((X_test_num_tfidf, X_test_num_num_s_mtx)))"
   ]
  },
  {
   "cell_type": "code",
   "execution_count": 145,
   "metadata": {
    "collapsed": false
   },
   "outputs": [
    {
     "name": "stdout",
     "output_type": "stream",
     "text": [
      "AUC-ROC: 0.810118086837\n",
      "F-measure: 0.724921485313\n",
      "[[28568  9247]\n",
      " [10110 25506]]\n"
     ]
    }
   ],
   "source": [
    "#sklearn\n",
    "print \"AUC-ROC:\", metrics.roc_auc_score(y_test[\"SalaryNormalized\"], prob_pred_lr_tfidf_mixed_num[:,1])\n",
    "print \"F-measure:\", metrics.f1_score(y_test[\"SalaryNormalized\"], class_pred_lr_tfidf_mixed_num)\n",
    "print metrics.confusion_matrix(y_test[\"SalaryNormalized\"], class_pred_lr_tfidf_mixed_num)"
   ]
  },
  {
   "cell_type": "markdown",
   "metadata": {},
   "source": [
    "#### 16. (0.5 балла) Сравните значения метрик из п. 15 со значениями, полученными в п. 14, и сделайте вывод о качестве классификации для каждого из методов кодирования категориальных признаков.\n",
    "\n",
    "**Ответ:**"
   ]
  },
  {
   "cell_type": "markdown",
   "metadata": {},
   "source": [
    "Кодирование с onehot показало лучшее качество по всем метрикам в сравнении с моей реалиацией счетчиков. Отличие AUC-ROC и f-мера ниже на 1-2 сотых, что может быть связано не только с самим методом, но и с тем что кодирование производилось согласно всей выборке. В то время как мои счетчики устанавливались независимо для обучения и теста. Так можно сделать благодаря размерам и высокой сбалансированности выборок, не без потерь, конечно.\n",
    "При использовании счетчиков, классификатор стал много ошибаться определяя положительные объекты как отрицательные.\n",
    "На основе полученных результатов можно сделать вывод о том, что tf-idf + onehot кодирование работает для нашей задачи классификации лучше чем tf-idf + счетчики. "
   ]
  },
  {
   "cell_type": "markdown",
   "metadata": {},
   "source": [
    "## Подбор гиперпараметров\n",
    "\n",
    "#### 17. (1.5 доп. балла) Разбейте обучающую выборку на обучающую и валидационную в отношении 80/20. Для выборки, полученной в п. 13, подберите оптимальное количество фолдов, используемое при кодировании категориальных признаков (всех, кроме Title и FullDescription), путём оптимизации значения accuracy на валидационной выборке. Используйте следующие модели, аналогично также подобрав оптимальные значения указанных гиперпараметров:\n",
    "- логистическую регрессию из модуля sklearn с подбором коэффициента регуляризации;\n",
    "- логистическую регрессию при помощи Vowpal Wabbit с подбором следующих гиперпараметров:\n",
    "    - коэффициент регуляризации (--l2);\n",
    "    - количество эпох (--passes);\n",
    "    - длина градиентного шага (-l);\n",
    "    - длина N-грамм (--ngram)."
   ]
  },
  {
   "cell_type": "code",
   "execution_count": null,
   "metadata": {
    "collapsed": true
   },
   "outputs": [],
   "source": [
    "# Your code here"
   ]
  },
  {
   "cell_type": "markdown",
   "metadata": {},
   "source": [
    "#### 18. (0.5 доп. балла) Обучите указанные выше модели на обучающей выборке для оптимальных значений гиперпараметров, найденных в п. 17, после чего для каждой из моделей вычислите значения ROC-AUC, F-меры, а также постройте матрицу ошибок на контрольной выборке. Как качество классификации при помощи полученных в данном разделе моделей соотносится с моделями, полученными в предыдущих разделах?"
   ]
  },
  {
   "cell_type": "code",
   "execution_count": null,
   "metadata": {
    "collapsed": true
   },
   "outputs": [],
   "source": [
    "# Your code here"
   ]
  },
  {
   "cell_type": "markdown",
   "metadata": {},
   "source": [
    "Здесь вы можете поделиться своими мыслями по поводу этого задания."
   ]
  },
  {
   "cell_type": "raw",
   "metadata": {},
   "source": []
  },
  {
   "cell_type": "markdown",
   "metadata": {},
   "source": [
    "А здесь — вставить вашу вторую любимую картинку."
   ]
  },
  {
   "cell_type": "raw",
   "metadata": {},
   "source": [
    "Каникулы беззз картинок, в след раз вставлю 2"
   ]
  }
 ],
 "metadata": {
  "anaconda-cloud": {},
  "kernelspec": {
   "display_name": "Python [Root]",
   "language": "python",
   "name": "Python [Root]"
  },
  "language_info": {
   "codemirror_mode": {
    "name": "ipython",
    "version": 3
   },
   "file_extension": ".py",
   "mimetype": "text/x-python",
   "name": "python",
   "nbconvert_exporter": "python",
   "pygments_lexer": "ipython3",
   "version": "3.5.2"
  }
 },
 "nbformat": 4,
 "nbformat_minor": 0
}
